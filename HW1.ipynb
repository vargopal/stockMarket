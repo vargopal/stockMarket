{
 "cells": [
  {
   "attachments": {},
   "cell_type": "markdown",
   "id": "e10ccbd3",
   "metadata": {},
   "source": [
    "Homework 1 was worked on by Varun Gopal and Tyler Dixon."
   ]
  },
  {
   "cell_type": "markdown",
   "id": "suitable-north",
   "metadata": {},
   "source": [
    "# Homework 1"
   ]
  },
  {
   "cell_type": "code",
   "execution_count": 138,
   "id": "629fca8e-717a-4881-b23e-4e2252defe6e",
   "metadata": {},
   "outputs": [],
   "source": [
    "import numpy as np\n",
    "import pandas as pd\n",
    "\n",
    "pd.options.display.max_rows = 20"
   ]
  },
  {
   "cell_type": "markdown",
   "id": "aerial-clearance",
   "metadata": {},
   "source": [
    "## Getting stock data"
   ]
  },
  {
   "cell_type": "markdown",
   "id": "transparent-solution",
   "metadata": {},
   "source": [
    "We can use `yfinance` to download historical price data from Yahoo! Finance. This package is not part of the standard python library, so you'll have to [install it](https://pypi.org/project/yfinance/) if you haven't previously done so."
   ]
  },
  {
   "cell_type": "code",
   "execution_count": 139,
   "id": "6f737fcd-0c60-43f6-a199-bf0e0eeaa6f5",
   "metadata": {},
   "outputs": [],
   "source": [
    "import yfinance as yf"
   ]
  },
  {
   "cell_type": "markdown",
   "id": "40a0036d-d78d-40d7-bdb1-650938efd93f",
   "metadata": {},
   "source": [
    "Here's an example of downloading data for multiple tickers:"
   ]
  },
  {
   "cell_type": "code",
   "execution_count": 140,
   "id": "23681c20-29a9-402f-9929-2eecb7c65dea",
   "metadata": {},
   "outputs": [
    {
     "name": "stdout",
     "output_type": "stream",
     "text": [
      "[*********************100%***********************]  4 of 4 completed\n"
     ]
    },
    {
     "data": {
      "text/html": [
       "<div>\n",
       "<style scoped>\n",
       "    .dataframe tbody tr th:only-of-type {\n",
       "        vertical-align: middle;\n",
       "    }\n",
       "\n",
       "    .dataframe tbody tr th {\n",
       "        vertical-align: top;\n",
       "    }\n",
       "\n",
       "    .dataframe thead th {\n",
       "        text-align: right;\n",
       "    }\n",
       "</style>\n",
       "<table border=\"1\" class=\"dataframe\">\n",
       "  <thead>\n",
       "    <tr style=\"text-align: right;\">\n",
       "      <th></th>\n",
       "      <th>AMZN</th>\n",
       "      <th>GE</th>\n",
       "      <th>PFE</th>\n",
       "      <th>TSLA</th>\n",
       "    </tr>\n",
       "    <tr>\n",
       "      <th>Date</th>\n",
       "      <th></th>\n",
       "      <th></th>\n",
       "      <th></th>\n",
       "      <th></th>\n",
       "    </tr>\n",
       "  </thead>\n",
       "  <tbody>\n",
       "    <tr>\n",
       "      <th>2013-01-02</th>\n",
       "      <td>12.8655</td>\n",
       "      <td>103.887459</td>\n",
       "      <td>17.030144</td>\n",
       "      <td>2.357333</td>\n",
       "    </tr>\n",
       "    <tr>\n",
       "      <th>2013-01-03</th>\n",
       "      <td>12.9240</td>\n",
       "      <td>102.719116</td>\n",
       "      <td>16.990707</td>\n",
       "      <td>2.318000</td>\n",
       "    </tr>\n",
       "    <tr>\n",
       "      <th>2013-01-04</th>\n",
       "      <td>12.9575</td>\n",
       "      <td>103.205910</td>\n",
       "      <td>17.063004</td>\n",
       "      <td>2.293333</td>\n",
       "    </tr>\n",
       "    <tr>\n",
       "      <th>2013-01-07</th>\n",
       "      <td>13.4230</td>\n",
       "      <td>102.865150</td>\n",
       "      <td>17.076157</td>\n",
       "      <td>2.289333</td>\n",
       "    </tr>\n",
       "    <tr>\n",
       "      <th>2013-01-08</th>\n",
       "      <td>13.3190</td>\n",
       "      <td>101.745468</td>\n",
       "      <td>17.102442</td>\n",
       "      <td>2.245333</td>\n",
       "    </tr>\n",
       "  </tbody>\n",
       "</table>\n",
       "</div>"
      ],
      "text/plain": [
       "               AMZN          GE        PFE      TSLA\n",
       "Date                                                \n",
       "2013-01-02  12.8655  103.887459  17.030144  2.357333\n",
       "2013-01-03  12.9240  102.719116  16.990707  2.318000\n",
       "2013-01-04  12.9575  103.205910  17.063004  2.293333\n",
       "2013-01-07  13.4230  102.865150  17.076157  2.289333\n",
       "2013-01-08  13.3190  101.745468  17.102442  2.245333"
      ]
     },
     "execution_count": 140,
     "metadata": {},
     "output_type": "execute_result"
    }
   ],
   "source": [
    "px = yf.download(tickers=['AMZN', 'PFE', 'GE', 'TSLA'],\n",
    "                   interval='1d',\n",
    "                   start='2013-01-01',\n",
    "                   end='2023-03-01')\n",
    "\n",
    "px = px['Adj Close']\n",
    "\n",
    "px.head()"
   ]
  },
  {
   "cell_type": "markdown",
   "id": "plastic-reserve",
   "metadata": {},
   "source": [
    "One way to plot prices is to create an index by initializing each price to 1, like so:"
   ]
  },
  {
   "cell_type": "code",
   "execution_count": 141,
   "id": "qualified-leone",
   "metadata": {},
   "outputs": [
    {
     "data": {
      "text/plain": [
       "<AxesSubplot:xlabel='Date'>"
      ]
     },
     "execution_count": 141,
     "metadata": {},
     "output_type": "execute_result"
    },
    {
     "data": {
      "image/png": "[encoded data removed]",
      "text/plain": [
       "<Figure size 864x576 with 1 Axes>"
      ]
     },
     "metadata": {
      "needs_background": "light"
     },
     "output_type": "display_data"
    }
   ],
   "source": [
    "(px / px.iloc[0]).plot(figsize=(12,8), grid=True)"
   ]
  },
  {
   "cell_type": "markdown",
   "id": "legal-basis",
   "metadata": {},
   "source": [
    "Tesla's huge return makes it hard to see the performance of the other stocks here. Change the graph so that the scale on the y-axis is in logs. (You can do this without modifying the data; you just need to use an argument to the `plot` function.)"
   ]
  },
  {
   "cell_type": "code",
   "execution_count": 142,
   "id": "38d30a20-fdfc-49ba-a001-055089b90a21",
   "metadata": {},
   "outputs": [
    {
     "data": {
      "image/png": "[encoded data removed]",
      "text/plain": [
       "<Figure size 864x576 with 1 Axes>"
      ]
     },
     "metadata": {
      "needs_background": "light"
     },
     "output_type": "display_data"
    }
   ],
   "source": [
    "(px / px.iloc[0]).plot(figsize=(12,8), grid=True).set_yscale('log')"
   ]
  },
  {
   "cell_type": "markdown",
   "id": "laden-mustang",
   "metadata": {},
   "source": [
    "Calculate a daily return series for each stock using these prices."
   ]
  },
  {
   "cell_type": "code",
   "execution_count": 143,
   "id": "a4a27eb9-b587-46f5-bacb-56b7142067e6",
   "metadata": {},
   "outputs": [
    {
     "data": {
      "text/html": [
       "<div>\n",
       "<style scoped>\n",
       "    .dataframe tbody tr th:only-of-type {\n",
       "        vertical-align: middle;\n",
       "    }\n",
       "\n",
       "    .dataframe tbody tr th {\n",
       "        vertical-align: top;\n",
       "    }\n",
       "\n",
       "    .dataframe thead th {\n",
       "        text-align: right;\n",
       "    }\n",
       "</style>\n",
       "<table border=\"1\" class=\"dataframe\">\n",
       "  <thead>\n",
       "    <tr style=\"text-align: right;\">\n",
       "      <th></th>\n",
       "      <th>AMZN</th>\n",
       "      <th>GE</th>\n",
       "      <th>PFE</th>\n",
       "      <th>TSLA</th>\n",
       "    </tr>\n",
       "    <tr>\n",
       "      <th>Date</th>\n",
       "      <th></th>\n",
       "      <th></th>\n",
       "      <th></th>\n",
       "      <th></th>\n",
       "    </tr>\n",
       "  </thead>\n",
       "  <tbody>\n",
       "    <tr>\n",
       "      <th>2013-01-03</th>\n",
       "      <td>0.004547</td>\n",
       "      <td>-0.011246</td>\n",
       "      <td>-0.002316</td>\n",
       "      <td>-0.016685</td>\n",
       "    </tr>\n",
       "    <tr>\n",
       "      <th>2013-01-04</th>\n",
       "      <td>0.002592</td>\n",
       "      <td>0.004739</td>\n",
       "      <td>0.004255</td>\n",
       "      <td>-0.010642</td>\n",
       "    </tr>\n",
       "    <tr>\n",
       "      <th>2013-01-07</th>\n",
       "      <td>0.035925</td>\n",
       "      <td>-0.003302</td>\n",
       "      <td>0.000771</td>\n",
       "      <td>-0.001744</td>\n",
       "    </tr>\n",
       "    <tr>\n",
       "      <th>2013-01-08</th>\n",
       "      <td>-0.007748</td>\n",
       "      <td>-0.010885</td>\n",
       "      <td>0.001539</td>\n",
       "      <td>-0.019220</td>\n",
       "    </tr>\n",
       "    <tr>\n",
       "      <th>2013-01-09</th>\n",
       "      <td>-0.000113</td>\n",
       "      <td>0.002392</td>\n",
       "      <td>0.017295</td>\n",
       "      <td>-0.001187</td>\n",
       "    </tr>\n",
       "  </tbody>\n",
       "</table>\n",
       "</div>"
      ],
      "text/plain": [
       "                AMZN        GE       PFE      TSLA\n",
       "Date                                              \n",
       "2013-01-03  0.004547 -0.011246 -0.002316 -0.016685\n",
       "2013-01-04  0.002592  0.004739  0.004255 -0.010642\n",
       "2013-01-07  0.035925 -0.003302  0.000771 -0.001744\n",
       "2013-01-08 -0.007748 -0.010885  0.001539 -0.019220\n",
       "2013-01-09 -0.000113  0.002392  0.017295 -0.001187"
      ]
     },
     "execution_count": 143,
     "metadata": {},
     "output_type": "execute_result"
    }
   ],
   "source": [
    "px_ret = px.pct_change().dropna()\n",
    "px_ret.head()"
   ]
  },
  {
   "cell_type": "markdown",
   "id": "alpha-metropolitan",
   "metadata": {},
   "source": [
    "Use the `.describe()` method to calculate summary statistics on returns. Do the statistics look reasonable? Give a couple examples of what gives you confidence that these make sense."
   ]
  },
  {
   "cell_type": "code",
   "execution_count": 144,
   "id": "da3dddea-467a-4240-8a42-6a3d7073f606",
   "metadata": {},
   "outputs": [
    {
     "data": {
      "text/html": [
       "<div>\n",
       "<style scoped>\n",
       "    .dataframe tbody tr th:only-of-type {\n",
       "        vertical-align: middle;\n",
       "    }\n",
       "\n",
       "    .dataframe tbody tr th {\n",
       "        vertical-align: top;\n",
       "    }\n",
       "\n",
       "    .dataframe thead th {\n",
       "        text-align: right;\n",
       "    }\n",
       "</style>\n",
       "<table border=\"1\" class=\"dataframe\">\n",
       "  <thead>\n",
       "    <tr style=\"text-align: right;\">\n",
       "      <th></th>\n",
       "      <th>AMZN</th>\n",
       "      <th>GE</th>\n",
       "      <th>PFE</th>\n",
       "      <th>TSLA</th>\n",
       "    </tr>\n",
       "  </thead>\n",
       "  <tbody>\n",
       "    <tr>\n",
       "      <th>count</th>\n",
       "      <td>2556.000000</td>\n",
       "      <td>2556.000000</td>\n",
       "      <td>2556.000000</td>\n",
       "      <td>2556.000000</td>\n",
       "    </tr>\n",
       "    <tr>\n",
       "      <th>mean</th>\n",
       "      <td>0.000992</td>\n",
       "      <td>0.000142</td>\n",
       "      <td>0.000435</td>\n",
       "      <td>0.002402</td>\n",
       "    </tr>\n",
       "    <tr>\n",
       "      <th>std</th>\n",
       "      <td>0.020664</td>\n",
       "      <td>0.021073</td>\n",
       "      <td>0.013851</td>\n",
       "      <td>0.036243</td>\n",
       "    </tr>\n",
       "    <tr>\n",
       "      <th>min</th>\n",
       "      <td>-0.140494</td>\n",
       "      <td>-0.151592</td>\n",
       "      <td>-0.077346</td>\n",
       "      <td>-0.210628</td>\n",
       "    </tr>\n",
       "    <tr>\n",
       "      <th>25%</th>\n",
       "      <td>-0.008605</td>\n",
       "      <td>-0.008570</td>\n",
       "      <td>-0.006263</td>\n",
       "      <td>-0.014902</td>\n",
       "    </tr>\n",
       "    <tr>\n",
       "      <th>50%</th>\n",
       "      <td>0.001071</td>\n",
       "      <td>0.000000</td>\n",
       "      <td>0.000000</td>\n",
       "      <td>0.001389</td>\n",
       "    </tr>\n",
       "    <tr>\n",
       "      <th>75%</th>\n",
       "      <td>0.011176</td>\n",
       "      <td>0.008605</td>\n",
       "      <td>0.006999</td>\n",
       "      <td>0.019245</td>\n",
       "    </tr>\n",
       "    <tr>\n",
       "      <th>max</th>\n",
       "      <td>0.141311</td>\n",
       "      <td>0.147299</td>\n",
       "      <td>0.108552</td>\n",
       "      <td>0.243951</td>\n",
       "    </tr>\n",
       "  </tbody>\n",
       "</table>\n",
       "</div>"
      ],
      "text/plain": [
       "              AMZN           GE          PFE         TSLA\n",
       "count  2556.000000  2556.000000  2556.000000  2556.000000\n",
       "mean      0.000992     0.000142     0.000435     0.002402\n",
       "std       0.020664     0.021073     0.013851     0.036243\n",
       "min      -0.140494    -0.151592    -0.077346    -0.210628\n",
       "25%      -0.008605    -0.008570    -0.006263    -0.014902\n",
       "50%       0.001071     0.000000     0.000000     0.001389\n",
       "75%       0.011176     0.008605     0.006999     0.019245\n",
       "max       0.141311     0.147299     0.108552     0.243951"
      ]
     },
     "execution_count": 144,
     "metadata": {},
     "output_type": "execute_result"
    }
   ],
   "source": [
    "px_ret.describe()"
   ]
  },
  {
   "attachments": {},
   "cell_type": "markdown",
   "id": "2231be82",
   "metadata": {},
   "source": [
    "Why do they look reasonable? Work on that"
   ]
  },
  {
   "attachments": {},
   "cell_type": "markdown",
   "id": "5901f0c9-0770-4f20-b1a7-b4e07af2340f",
   "metadata": {},
   "source": [
    "The first big indicator is that the median of daily returns is 0. This means that it is just as likely to have a daily loss as it would have a gain.\n",
    "\n",
    "\n",
    "Now calculate the correlation matrix for these returns. This should just be one line of code!"
   ]
  },
  {
   "cell_type": "code",
   "execution_count": 145,
   "id": "dfe8d98c-fd1c-4eae-9a73-7d35378c7c47",
   "metadata": {},
   "outputs": [
    {
     "data": {
      "text/html": [
       "<div>\n",
       "<style scoped>\n",
       "    .dataframe tbody tr th:only-of-type {\n",
       "        vertical-align: middle;\n",
       "    }\n",
       "\n",
       "    .dataframe tbody tr th {\n",
       "        vertical-align: top;\n",
       "    }\n",
       "\n",
       "    .dataframe thead th {\n",
       "        text-align: right;\n",
       "    }\n",
       "</style>\n",
       "<table border=\"1\" class=\"dataframe\">\n",
       "  <thead>\n",
       "    <tr style=\"text-align: right;\">\n",
       "      <th></th>\n",
       "      <th>AMZN</th>\n",
       "      <th>GE</th>\n",
       "      <th>PFE</th>\n",
       "      <th>TSLA</th>\n",
       "    </tr>\n",
       "  </thead>\n",
       "  <tbody>\n",
       "    <tr>\n",
       "      <th>AMZN</th>\n",
       "      <td>1.000000</td>\n",
       "      <td>0.243290</td>\n",
       "      <td>0.234329</td>\n",
       "      <td>0.371136</td>\n",
       "    </tr>\n",
       "    <tr>\n",
       "      <th>GE</th>\n",
       "      <td>0.243290</td>\n",
       "      <td>1.000000</td>\n",
       "      <td>0.287196</td>\n",
       "      <td>0.215416</td>\n",
       "    </tr>\n",
       "    <tr>\n",
       "      <th>PFE</th>\n",
       "      <td>0.234329</td>\n",
       "      <td>0.287196</td>\n",
       "      <td>1.000000</td>\n",
       "      <td>0.123169</td>\n",
       "    </tr>\n",
       "    <tr>\n",
       "      <th>TSLA</th>\n",
       "      <td>0.371136</td>\n",
       "      <td>0.215416</td>\n",
       "      <td>0.123169</td>\n",
       "      <td>1.000000</td>\n",
       "    </tr>\n",
       "  </tbody>\n",
       "</table>\n",
       "</div>"
      ],
      "text/plain": [
       "          AMZN        GE       PFE      TSLA\n",
       "AMZN  1.000000  0.243290  0.234329  0.371136\n",
       "GE    0.243290  1.000000  0.287196  0.215416\n",
       "PFE   0.234329  0.287196  1.000000  0.123169\n",
       "TSLA  0.371136  0.215416  0.123169  1.000000"
      ]
     },
     "execution_count": 145,
     "metadata": {},
     "output_type": "execute_result"
    }
   ],
   "source": [
    "px_ret.corr()"
   ]
  },
  {
   "cell_type": "markdown",
   "id": "other-newton",
   "metadata": {},
   "source": [
    "This function takes a DataFrame and returns a “long” DataFrame of pairwise correlations:"
   ]
  },
  {
   "cell_type": "code",
   "execution_count": 146,
   "id": "satellite-photography",
   "metadata": {},
   "outputs": [],
   "source": [
    "def pairwise_corr(df):\n",
    "    corrs = df.corr()\n",
    "    corrs = corrs.unstack().reset_index()\n",
    "    corrs.columns = ['tic1', 'tic2', 'corr']\n",
    "    corrs = corrs[corrs['corr']<1]\n",
    "    return corrs"
   ]
  },
  {
   "attachments": {},
   "cell_type": "markdown",
   "id": "98833c9f",
   "metadata": {},
   "source": [
    "Purpose of next two boxes of code are just to get a better understanding of the indexes by including the perfect correlation values as well."
   ]
  },
  {
   "cell_type": "code",
   "execution_count": 147,
   "id": "8594125d",
   "metadata": {},
   "outputs": [],
   "source": [
    "def pairwise_corr_full(df):\n",
    "    corrs = df.corr()\n",
    "    corrs = corrs.unstack().reset_index()\n",
    "    corrs.columns = ['tic1', 'tic2', 'corr']\n",
    "    return corrs"
   ]
  },
  {
   "cell_type": "code",
   "execution_count": 148,
   "id": "d22de39f",
   "metadata": {},
   "outputs": [
    {
     "data": {
      "text/html": [
       "<div>\n",
       "<style scoped>\n",
       "    .dataframe tbody tr th:only-of-type {\n",
       "        vertical-align: middle;\n",
       "    }\n",
       "\n",
       "    .dataframe tbody tr th {\n",
       "        vertical-align: top;\n",
       "    }\n",
       "\n",
       "    .dataframe thead th {\n",
       "        text-align: right;\n",
       "    }\n",
       "</style>\n",
       "<table border=\"1\" class=\"dataframe\">\n",
       "  <thead>\n",
       "    <tr style=\"text-align: right;\">\n",
       "      <th></th>\n",
       "      <th>tic1</th>\n",
       "      <th>tic2</th>\n",
       "      <th>corr</th>\n",
       "    </tr>\n",
       "  </thead>\n",
       "  <tbody>\n",
       "    <tr>\n",
       "      <th>0</th>\n",
       "      <td>AMZN</td>\n",
       "      <td>AMZN</td>\n",
       "      <td>1.000000</td>\n",
       "    </tr>\n",
       "    <tr>\n",
       "      <th>1</th>\n",
       "      <td>AMZN</td>\n",
       "      <td>GE</td>\n",
       "      <td>0.243290</td>\n",
       "    </tr>\n",
       "    <tr>\n",
       "      <th>2</th>\n",
       "      <td>AMZN</td>\n",
       "      <td>PFE</td>\n",
       "      <td>0.234329</td>\n",
       "    </tr>\n",
       "    <tr>\n",
       "      <th>3</th>\n",
       "      <td>AMZN</td>\n",
       "      <td>TSLA</td>\n",
       "      <td>0.371136</td>\n",
       "    </tr>\n",
       "    <tr>\n",
       "      <th>4</th>\n",
       "      <td>GE</td>\n",
       "      <td>AMZN</td>\n",
       "      <td>0.243290</td>\n",
       "    </tr>\n",
       "    <tr>\n",
       "      <th>5</th>\n",
       "      <td>GE</td>\n",
       "      <td>GE</td>\n",
       "      <td>1.000000</td>\n",
       "    </tr>\n",
       "    <tr>\n",
       "      <th>6</th>\n",
       "      <td>GE</td>\n",
       "      <td>PFE</td>\n",
       "      <td>0.287196</td>\n",
       "    </tr>\n",
       "    <tr>\n",
       "      <th>7</th>\n",
       "      <td>GE</td>\n",
       "      <td>TSLA</td>\n",
       "      <td>0.215416</td>\n",
       "    </tr>\n",
       "    <tr>\n",
       "      <th>8</th>\n",
       "      <td>PFE</td>\n",
       "      <td>AMZN</td>\n",
       "      <td>0.234329</td>\n",
       "    </tr>\n",
       "    <tr>\n",
       "      <th>9</th>\n",
       "      <td>PFE</td>\n",
       "      <td>GE</td>\n",
       "      <td>0.287196</td>\n",
       "    </tr>\n",
       "    <tr>\n",
       "      <th>10</th>\n",
       "      <td>PFE</td>\n",
       "      <td>PFE</td>\n",
       "      <td>1.000000</td>\n",
       "    </tr>\n",
       "    <tr>\n",
       "      <th>11</th>\n",
       "      <td>PFE</td>\n",
       "      <td>TSLA</td>\n",
       "      <td>0.123169</td>\n",
       "    </tr>\n",
       "    <tr>\n",
       "      <th>12</th>\n",
       "      <td>TSLA</td>\n",
       "      <td>AMZN</td>\n",
       "      <td>0.371136</td>\n",
       "    </tr>\n",
       "    <tr>\n",
       "      <th>13</th>\n",
       "      <td>TSLA</td>\n",
       "      <td>GE</td>\n",
       "      <td>0.215416</td>\n",
       "    </tr>\n",
       "    <tr>\n",
       "      <th>14</th>\n",
       "      <td>TSLA</td>\n",
       "      <td>PFE</td>\n",
       "      <td>0.123169</td>\n",
       "    </tr>\n",
       "    <tr>\n",
       "      <th>15</th>\n",
       "      <td>TSLA</td>\n",
       "      <td>TSLA</td>\n",
       "      <td>1.000000</td>\n",
       "    </tr>\n",
       "  </tbody>\n",
       "</table>\n",
       "</div>"
      ],
      "text/plain": [
       "    tic1  tic2      corr\n",
       "0   AMZN  AMZN  1.000000\n",
       "1   AMZN    GE  0.243290\n",
       "2   AMZN   PFE  0.234329\n",
       "3   AMZN  TSLA  0.371136\n",
       "4     GE  AMZN  0.243290\n",
       "5     GE    GE  1.000000\n",
       "6     GE   PFE  0.287196\n",
       "7     GE  TSLA  0.215416\n",
       "8    PFE  AMZN  0.234329\n",
       "9    PFE    GE  0.287196\n",
       "10   PFE   PFE  1.000000\n",
       "11   PFE  TSLA  0.123169\n",
       "12  TSLA  AMZN  0.371136\n",
       "13  TSLA    GE  0.215416\n",
       "14  TSLA   PFE  0.123169\n",
       "15  TSLA  TSLA  1.000000"
      ]
     },
     "execution_count": 148,
     "metadata": {},
     "output_type": "execute_result"
    }
   ],
   "source": [
    "pairwise_corr_full(px_ret)"
   ]
  },
  {
   "cell_type": "markdown",
   "id": "former-nutrition",
   "metadata": {},
   "source": [
    "Call this function with the returns data. Does the number of rows in the result make sense? Why?\n",
    "\n",
    "Hint: Pay close attention to the index here!"
   ]
  },
  {
   "cell_type": "code",
   "execution_count": 149,
   "id": "a0f9ac26-6af8-442c-b219-0bf507e783ff",
   "metadata": {},
   "outputs": [
    {
     "data": {
      "text/html": [
       "<div>\n",
       "<style scoped>\n",
       "    .dataframe tbody tr th:only-of-type {\n",
       "        vertical-align: middle;\n",
       "    }\n",
       "\n",
       "    .dataframe tbody tr th {\n",
       "        vertical-align: top;\n",
       "    }\n",
       "\n",
       "    .dataframe thead th {\n",
       "        text-align: right;\n",
       "    }\n",
       "</style>\n",
       "<table border=\"1\" class=\"dataframe\">\n",
       "  <thead>\n",
       "    <tr style=\"text-align: right;\">\n",
       "      <th></th>\n",
       "      <th>tic1</th>\n",
       "      <th>tic2</th>\n",
       "      <th>corr</th>\n",
       "    </tr>\n",
       "  </thead>\n",
       "  <tbody>\n",
       "    <tr>\n",
       "      <th>1</th>\n",
       "      <td>AMZN</td>\n",
       "      <td>GE</td>\n",
       "      <td>0.243290</td>\n",
       "    </tr>\n",
       "    <tr>\n",
       "      <th>2</th>\n",
       "      <td>AMZN</td>\n",
       "      <td>PFE</td>\n",
       "      <td>0.234329</td>\n",
       "    </tr>\n",
       "    <tr>\n",
       "      <th>3</th>\n",
       "      <td>AMZN</td>\n",
       "      <td>TSLA</td>\n",
       "      <td>0.371136</td>\n",
       "    </tr>\n",
       "    <tr>\n",
       "      <th>4</th>\n",
       "      <td>GE</td>\n",
       "      <td>AMZN</td>\n",
       "      <td>0.243290</td>\n",
       "    </tr>\n",
       "    <tr>\n",
       "      <th>6</th>\n",
       "      <td>GE</td>\n",
       "      <td>PFE</td>\n",
       "      <td>0.287196</td>\n",
       "    </tr>\n",
       "    <tr>\n",
       "      <th>7</th>\n",
       "      <td>GE</td>\n",
       "      <td>TSLA</td>\n",
       "      <td>0.215416</td>\n",
       "    </tr>\n",
       "    <tr>\n",
       "      <th>8</th>\n",
       "      <td>PFE</td>\n",
       "      <td>AMZN</td>\n",
       "      <td>0.234329</td>\n",
       "    </tr>\n",
       "    <tr>\n",
       "      <th>9</th>\n",
       "      <td>PFE</td>\n",
       "      <td>GE</td>\n",
       "      <td>0.287196</td>\n",
       "    </tr>\n",
       "    <tr>\n",
       "      <th>11</th>\n",
       "      <td>PFE</td>\n",
       "      <td>TSLA</td>\n",
       "      <td>0.123169</td>\n",
       "    </tr>\n",
       "    <tr>\n",
       "      <th>12</th>\n",
       "      <td>TSLA</td>\n",
       "      <td>AMZN</td>\n",
       "      <td>0.371136</td>\n",
       "    </tr>\n",
       "    <tr>\n",
       "      <th>13</th>\n",
       "      <td>TSLA</td>\n",
       "      <td>GE</td>\n",
       "      <td>0.215416</td>\n",
       "    </tr>\n",
       "    <tr>\n",
       "      <th>14</th>\n",
       "      <td>TSLA</td>\n",
       "      <td>PFE</td>\n",
       "      <td>0.123169</td>\n",
       "    </tr>\n",
       "  </tbody>\n",
       "</table>\n",
       "</div>"
      ],
      "text/plain": [
       "    tic1  tic2      corr\n",
       "1   AMZN    GE  0.243290\n",
       "2   AMZN   PFE  0.234329\n",
       "3   AMZN  TSLA  0.371136\n",
       "4     GE  AMZN  0.243290\n",
       "6     GE   PFE  0.287196\n",
       "7     GE  TSLA  0.215416\n",
       "8    PFE  AMZN  0.234329\n",
       "9    PFE    GE  0.287196\n",
       "11   PFE  TSLA  0.123169\n",
       "12  TSLA  AMZN  0.371136\n",
       "13  TSLA    GE  0.215416\n",
       "14  TSLA   PFE  0.123169"
      ]
     },
     "execution_count": 149,
     "metadata": {},
     "output_type": "execute_result"
    }
   ],
   "source": [
    "pair_corr = pairwise_corr(px_ret)\n",
    "pair_corr"
   ]
  },
  {
   "attachments": {},
   "cell_type": "markdown",
   "id": "16203e6e",
   "metadata": {},
   "source": [
    "This makes sense. There are 16 overall correlations in the table. However, we can get rid of the correlations of each ticker upon itself which reduces 16 to 12 points. "
   ]
  },
  {
   "cell_type": "markdown",
   "id": "individual-cream",
   "metadata": {},
   "source": [
    "What is the *average* correlation of these firms?"
   ]
  },
  {
   "cell_type": "code",
   "execution_count": 150,
   "id": "c3ab0976-5535-44a4-bb4c-ee3d07b612b4",
   "metadata": {},
   "outputs": [
    {
     "name": "stderr",
     "output_type": "stream",
     "text": [
      "C:\\Users\\Varun\\AppData\\Local\\Temp\\ipykernel_27284\\1221470991.py:1: FutureWarning: Dropping of nuisance columns in DataFrame reductions (with 'numeric_only=None') is deprecated; in a future version this will raise TypeError.  Select only valid columns before calling the reduction.\n",
      "  avg_corr = pair_corr.mean()\n"
     ]
    },
    {
     "data": {
      "text/plain": [
       "0.24575600149064655"
      ]
     },
     "execution_count": 150,
     "metadata": {},
     "output_type": "execute_result"
    }
   ],
   "source": [
    "avg_corr = pair_corr.mean()\n",
    "avg_corr['corr']"
   ]
  },
  {
   "attachments": {},
   "cell_type": "markdown",
   "id": "3690d2ec",
   "metadata": {},
   "source": [
    "The average correlation between these pairs of stocks is 0.25."
   ]
  },
  {
   "cell_type": "markdown",
   "id": "1d7f3eca-9f4d-421a-9a7c-3e399f217bcb",
   "metadata": {},
   "source": [
    "Since each pair appears twice, the mean calculation is correct, but if we want to calculate the standard deviation of these correlations, we must be careful to keep only one value for each pair.\n",
    "\n",
    "One trick for doing this is to require that `tic1` is less than (or, if you prefer, greater than) `tic2`. In other words, just require that the row we keep has the first ticker appear before the second ticker in an alpabetical ordering.\n",
    "\n",
    "Using this approach, calculate the standard deviation of the correlations."
   ]
  },
  {
   "cell_type": "code",
   "execution_count": 151,
   "id": "e7e63998-6a25-4da8-8442-da5f3f17e3ee",
   "metadata": {},
   "outputs": [
    {
     "name": "stderr",
     "output_type": "stream",
     "text": [
      "C:\\Users\\Varun\\AppData\\Local\\Temp\\ipykernel_27284\\1687377773.py:1: FutureWarning: Dropping of nuisance columns in DataFrame reductions (with 'numeric_only=None') is deprecated; in a future version this will raise TypeError.  Select only valid columns before calling the reduction.\n",
      "  std_corr = pair_corr[pair_corr['tic1'] < pair_corr['tic2']].std()\n"
     ]
    },
    {
     "data": {
      "text/plain": [
       "0.08188068306336632"
      ]
     },
     "execution_count": 151,
     "metadata": {},
     "output_type": "execute_result"
    }
   ],
   "source": [
    "std_corr = pair_corr[pair_corr['tic1'] < pair_corr['tic2']].std()\n",
    "std_corr['corr']"
   ]
  },
  {
   "cell_type": "markdown",
   "id": "arctic-cardiff",
   "metadata": {},
   "source": [
    "Take the code you just wrote and build a *function* that takes a DataFrame and returns a single number giving the *average* pairwise correlation across firms. Test your function on the data returns data you used above."
   ]
  },
  {
   "cell_type": "code",
   "execution_count": 152,
   "id": "6769ddfd-c5b9-4aa5-b74d-bc1e5fde1f88",
   "metadata": {},
   "outputs": [
    {
     "name": "stderr",
     "output_type": "stream",
     "text": [
      "C:\\Users\\Varun\\AppData\\Local\\Temp\\ipykernel_27284\\710569115.py:6: FutureWarning: Dropping of nuisance columns in DataFrame reductions (with 'numeric_only=None') is deprecated; in a future version this will raise TypeError.  Select only valid columns before calling the reduction.\n",
      "  return corrs.mean()\n"
     ]
    },
    {
     "data": {
      "text/plain": [
       "corr    0.245756\n",
       "dtype: float64"
      ]
     },
     "execution_count": 152,
     "metadata": {},
     "output_type": "execute_result"
    }
   ],
   "source": [
    "def pairwise_corr_avg(df):\n",
    "    corrs = df.corr()\n",
    "    corrs = corrs.unstack().reset_index()\n",
    "    corrs.columns = ['tic1', 'tic2', 'corr']\n",
    "    corrs = corrs[corrs['corr']<1]\n",
    "    return corrs.mean()\n",
    "\n",
    "pairwise_corr_avg(px_ret)"
   ]
  },
  {
   "cell_type": "markdown",
   "id": "6d864c66-06f2-44f0-b77e-0e69cd756b1e",
   "metadata": {},
   "source": [
    "Use `groupby` to calculate the average pairwise correlation in each year by using `apply` to apply the function you just created to the data by year.\n",
    "\n",
    "Discuss anything you notice about the result."
   ]
  },
  {
   "cell_type": "markdown",
   "id": "63c82c5f-3dd4-4ed6-b694-3a5290d6026b",
   "metadata": {},
   "source": [
    "Hint: When you have an index with a datetime value you can pass an argument like this to group by year:\n",
    "\n",
    "`df.gropuby(df.index.year)`"
   ]
  },
  {
   "cell_type": "code",
   "execution_count": 153,
   "id": "e2ea1bf4-d436-4d53-92f2-645b83912960",
   "metadata": {},
   "outputs": [
    {
     "name": "stderr",
     "output_type": "stream",
     "text": [
      "C:\\Users\\Varun\\AppData\\Local\\Temp\\ipykernel_27284\\710569115.py:6: FutureWarning: Dropping of nuisance columns in DataFrame reductions (with 'numeric_only=None') is deprecated; in a future version this will raise TypeError.  Select only valid columns before calling the reduction.\n",
      "  return corrs.mean()\n",
      "C:\\Users\\Varun\\AppData\\Local\\Temp\\ipykernel_27284\\710569115.py:6: FutureWarning: Dropping of nuisance columns in DataFrame reductions (with 'numeric_only=None') is deprecated; in a future version this will raise TypeError.  Select only valid columns before calling the reduction.\n",
      "  return corrs.mean()\n",
      "C:\\Users\\Varun\\AppData\\Local\\Temp\\ipykernel_27284\\710569115.py:6: FutureWarning: Dropping of nuisance columns in DataFrame reductions (with 'numeric_only=None') is deprecated; in a future version this will raise TypeError.  Select only valid columns before calling the reduction.\n",
      "  return corrs.mean()\n",
      "C:\\Users\\Varun\\AppData\\Local\\Temp\\ipykernel_27284\\710569115.py:6: FutureWarning: Dropping of nuisance columns in DataFrame reductions (with 'numeric_only=None') is deprecated; in a future version this will raise TypeError.  Select only valid columns before calling the reduction.\n",
      "  return corrs.mean()\n",
      "C:\\Users\\Varun\\AppData\\Local\\Temp\\ipykernel_27284\\710569115.py:6: FutureWarning: Dropping of nuisance columns in DataFrame reductions (with 'numeric_only=None') is deprecated; in a future version this will raise TypeError.  Select only valid columns before calling the reduction.\n",
      "  return corrs.mean()\n",
      "C:\\Users\\Varun\\AppData\\Local\\Temp\\ipykernel_27284\\710569115.py:6: FutureWarning: Dropping of nuisance columns in DataFrame reductions (with 'numeric_only=None') is deprecated; in a future version this will raise TypeError.  Select only valid columns before calling the reduction.\n",
      "  return corrs.mean()\n",
      "C:\\Users\\Varun\\AppData\\Local\\Temp\\ipykernel_27284\\710569115.py:6: FutureWarning: Dropping of nuisance columns in DataFrame reductions (with 'numeric_only=None') is deprecated; in a future version this will raise TypeError.  Select only valid columns before calling the reduction.\n",
      "  return corrs.mean()\n",
      "C:\\Users\\Varun\\AppData\\Local\\Temp\\ipykernel_27284\\710569115.py:6: FutureWarning: Dropping of nuisance columns in DataFrame reductions (with 'numeric_only=None') is deprecated; in a future version this will raise TypeError.  Select only valid columns before calling the reduction.\n",
      "  return corrs.mean()\n",
      "C:\\Users\\Varun\\AppData\\Local\\Temp\\ipykernel_27284\\710569115.py:6: FutureWarning: Dropping of nuisance columns in DataFrame reductions (with 'numeric_only=None') is deprecated; in a future version this will raise TypeError.  Select only valid columns before calling the reduction.\n",
      "  return corrs.mean()\n",
      "C:\\Users\\Varun\\AppData\\Local\\Temp\\ipykernel_27284\\710569115.py:6: FutureWarning: Dropping of nuisance columns in DataFrame reductions (with 'numeric_only=None') is deprecated; in a future version this will raise TypeError.  Select only valid columns before calling the reduction.\n",
      "  return corrs.mean()\n",
      "C:\\Users\\Varun\\AppData\\Local\\Temp\\ipykernel_27284\\710569115.py:6: FutureWarning: Dropping of nuisance columns in DataFrame reductions (with 'numeric_only=None') is deprecated; in a future version this will raise TypeError.  Select only valid columns before calling the reduction.\n",
      "  return corrs.mean()\n"
     ]
    },
    {
     "data": {
      "text/html": [
       "<div>\n",
       "<style scoped>\n",
       "    .dataframe tbody tr th:only-of-type {\n",
       "        vertical-align: middle;\n",
       "    }\n",
       "\n",
       "    .dataframe tbody tr th {\n",
       "        vertical-align: top;\n",
       "    }\n",
       "\n",
       "    .dataframe thead th {\n",
       "        text-align: right;\n",
       "    }\n",
       "</style>\n",
       "<table border=\"1\" class=\"dataframe\">\n",
       "  <thead>\n",
       "    <tr style=\"text-align: right;\">\n",
       "      <th></th>\n",
       "      <th>corr</th>\n",
       "    </tr>\n",
       "    <tr>\n",
       "      <th>Date</th>\n",
       "      <th></th>\n",
       "    </tr>\n",
       "  </thead>\n",
       "  <tbody>\n",
       "    <tr>\n",
       "      <th>2013</th>\n",
       "      <td>0.189606</td>\n",
       "    </tr>\n",
       "    <tr>\n",
       "      <th>2014</th>\n",
       "      <td>0.332306</td>\n",
       "    </tr>\n",
       "    <tr>\n",
       "      <th>2015</th>\n",
       "      <td>0.358398</td>\n",
       "    </tr>\n",
       "    <tr>\n",
       "      <th>2016</th>\n",
       "      <td>0.264868</td>\n",
       "    </tr>\n",
       "    <tr>\n",
       "      <th>2017</th>\n",
       "      <td>0.069284</td>\n",
       "    </tr>\n",
       "    <tr>\n",
       "      <th>2018</th>\n",
       "      <td>0.271395</td>\n",
       "    </tr>\n",
       "    <tr>\n",
       "      <th>2019</th>\n",
       "      <td>0.244282</td>\n",
       "    </tr>\n",
       "    <tr>\n",
       "      <th>2020</th>\n",
       "      <td>0.307069</td>\n",
       "    </tr>\n",
       "    <tr>\n",
       "      <th>2021</th>\n",
       "      <td>0.031235</td>\n",
       "    </tr>\n",
       "    <tr>\n",
       "      <th>2022</th>\n",
       "      <td>0.350194</td>\n",
       "    </tr>\n",
       "    <tr>\n",
       "      <th>2023</th>\n",
       "      <td>0.181536</td>\n",
       "    </tr>\n",
       "  </tbody>\n",
       "</table>\n",
       "</div>"
      ],
      "text/plain": [
       "          corr\n",
       "Date          \n",
       "2013  0.189606\n",
       "2014  0.332306\n",
       "2015  0.358398\n",
       "2016  0.264868\n",
       "2017  0.069284\n",
       "2018  0.271395\n",
       "2019  0.244282\n",
       "2020  0.307069\n",
       "2021  0.031235\n",
       "2022  0.350194\n",
       "2023  0.181536"
      ]
     },
     "execution_count": 153,
     "metadata": {},
     "output_type": "execute_result"
    }
   ],
   "source": [
    "px_ann = px_ret.groupby(px_ret.index.year).apply(pairwise_corr_avg)\n",
    "px_ann"
   ]
  },
  {
   "cell_type": "markdown",
   "id": "compact-design",
   "metadata": {},
   "source": [
    "## The Dow Jones Industrial Average"
   ]
  },
  {
   "cell_type": "markdown",
   "id": "formal-california",
   "metadata": {},
   "source": [
    "The code below creates a DataFrame from a table from Wikipedia containing the current components of the Dow Jones Industrial Average."
   ]
  },
  {
   "cell_type": "code",
   "execution_count": 154,
   "id": "closed-persian",
   "metadata": {},
   "outputs": [],
   "source": [
    "dow = pd.read_html('https://en.wikipedia.org/wiki/Dow_Jones_Industrial_Average')[1]"
   ]
  },
  {
   "cell_type": "code",
   "execution_count": 155,
   "id": "coupled-dakota",
   "metadata": {},
   "outputs": [
    {
     "data": {
      "text/html": [
       "<div>\n",
       "<style scoped>\n",
       "    .dataframe tbody tr th:only-of-type {\n",
       "        vertical-align: middle;\n",
       "    }\n",
       "\n",
       "    .dataframe tbody tr th {\n",
       "        vertical-align: top;\n",
       "    }\n",
       "\n",
       "    .dataframe thead th {\n",
       "        text-align: right;\n",
       "    }\n",
       "</style>\n",
       "<table border=\"1\" class=\"dataframe\">\n",
       "  <thead>\n",
       "    <tr style=\"text-align: right;\">\n",
       "      <th></th>\n",
       "      <th>Company</th>\n",
       "      <th>Exchange</th>\n",
       "      <th>Symbol</th>\n",
       "      <th>Industry</th>\n",
       "      <th>Date added</th>\n",
       "      <th>Notes</th>\n",
       "      <th>Index weighting</th>\n",
       "    </tr>\n",
       "  </thead>\n",
       "  <tbody>\n",
       "    <tr>\n",
       "      <th>0</th>\n",
       "      <td>3M</td>\n",
       "      <td>NYSE</td>\n",
       "      <td>MMM</td>\n",
       "      <td>Conglomerate</td>\n",
       "      <td>1976-08-09</td>\n",
       "      <td>As Minnesota Mining and Manufacturing</td>\n",
       "      <td>2.41%</td>\n",
       "    </tr>\n",
       "    <tr>\n",
       "      <th>1</th>\n",
       "      <td>American Express</td>\n",
       "      <td>NYSE</td>\n",
       "      <td>AXP</td>\n",
       "      <td>Financial services</td>\n",
       "      <td>1982-08-30</td>\n",
       "      <td>NaN</td>\n",
       "      <td>3.02%</td>\n",
       "    </tr>\n",
       "    <tr>\n",
       "      <th>2</th>\n",
       "      <td>Amgen</td>\n",
       "      <td>NASDAQ</td>\n",
       "      <td>AMGN</td>\n",
       "      <td>Biopharmaceutical</td>\n",
       "      <td>2020-08-31</td>\n",
       "      <td>NaN</td>\n",
       "      <td>5.48%</td>\n",
       "    </tr>\n",
       "    <tr>\n",
       "      <th>3</th>\n",
       "      <td>Apple</td>\n",
       "      <td>NASDAQ</td>\n",
       "      <td>AAPL</td>\n",
       "      <td>Information technology</td>\n",
       "      <td>2015-03-19</td>\n",
       "      <td>NaN</td>\n",
       "      <td>2.84%</td>\n",
       "    </tr>\n",
       "    <tr>\n",
       "      <th>4</th>\n",
       "      <td>Boeing</td>\n",
       "      <td>NYSE</td>\n",
       "      <td>BA</td>\n",
       "      <td>Aerospace and defense</td>\n",
       "      <td>1987-03-12</td>\n",
       "      <td>NaN</td>\n",
       "      <td>3.36%</td>\n",
       "    </tr>\n",
       "  </tbody>\n",
       "</table>\n",
       "</div>"
      ],
      "text/plain": [
       "            Company Exchange Symbol                Industry  Date added  \\\n",
       "0                3M     NYSE    MMM            Conglomerate  1976-08-09   \n",
       "1  American Express     NYSE    AXP      Financial services  1982-08-30   \n",
       "2             Amgen   NASDAQ   AMGN       Biopharmaceutical  2020-08-31   \n",
       "3             Apple   NASDAQ   AAPL  Information technology  2015-03-19   \n",
       "4            Boeing     NYSE     BA   Aerospace and defense  1987-03-12   \n",
       "\n",
       "                                   Notes Index weighting  \n",
       "0  As Minnesota Mining and Manufacturing           2.41%  \n",
       "1                                    NaN           3.02%  \n",
       "2                                    NaN           5.48%  \n",
       "3                                    NaN           2.84%  \n",
       "4                                    NaN           3.36%  "
      ]
     },
     "execution_count": 155,
     "metadata": {},
     "output_type": "execute_result"
    }
   ],
   "source": [
    "dow.head()"
   ]
  },
  {
   "cell_type": "markdown",
   "id": "adaptive-complaint",
   "metadata": {},
   "source": [
    "Use the `Symbol` column with the code from earlier to construct a new DataFrame of returns for these 30 stocks beginning in 2001.\n",
    "\n",
    "(These stocks have not all been part of the DJIA since 2001, but we'll use these companies as a sample anyway.)\n",
    "\n",
    "**Hint:** The YFinance download function takes a *list* of symbols. You can use the pandas `to_list()` method to get this."
   ]
  },
  {
   "cell_type": "code",
   "execution_count": 156,
   "id": "5ca50f63-c29d-4750-b488-9aa5a6eb777a",
   "metadata": {},
   "outputs": [
    {
     "name": "stdout",
     "output_type": "stream",
     "text": [
      "[*********************100%***********************]  30 of 30 completed\n"
     ]
    },
    {
     "data": {
      "text/html": [
       "<div>\n",
       "<style scoped>\n",
       "    .dataframe tbody tr th:only-of-type {\n",
       "        vertical-align: middle;\n",
       "    }\n",
       "\n",
       "    .dataframe tbody tr th {\n",
       "        vertical-align: top;\n",
       "    }\n",
       "\n",
       "    .dataframe thead th {\n",
       "        text-align: right;\n",
       "    }\n",
       "</style>\n",
       "<table border=\"1\" class=\"dataframe\">\n",
       "  <thead>\n",
       "    <tr style=\"text-align: right;\">\n",
       "      <th></th>\n",
       "      <th>AAPL</th>\n",
       "      <th>AMGN</th>\n",
       "      <th>AXP</th>\n",
       "      <th>BA</th>\n",
       "      <th>CAT</th>\n",
       "      <th>CRM</th>\n",
       "      <th>CSCO</th>\n",
       "      <th>CVX</th>\n",
       "      <th>DIS</th>\n",
       "      <th>DOW</th>\n",
       "      <th>...</th>\n",
       "      <th>MRK</th>\n",
       "      <th>MSFT</th>\n",
       "      <th>NKE</th>\n",
       "      <th>PG</th>\n",
       "      <th>TRV</th>\n",
       "      <th>UNH</th>\n",
       "      <th>V</th>\n",
       "      <th>VZ</th>\n",
       "      <th>WBA</th>\n",
       "      <th>WMT</th>\n",
       "    </tr>\n",
       "    <tr>\n",
       "      <th>Date</th>\n",
       "      <th></th>\n",
       "      <th></th>\n",
       "      <th></th>\n",
       "      <th></th>\n",
       "      <th></th>\n",
       "      <th></th>\n",
       "      <th></th>\n",
       "      <th></th>\n",
       "      <th></th>\n",
       "      <th></th>\n",
       "      <th></th>\n",
       "      <th></th>\n",
       "      <th></th>\n",
       "      <th></th>\n",
       "      <th></th>\n",
       "      <th></th>\n",
       "      <th></th>\n",
       "      <th></th>\n",
       "      <th></th>\n",
       "      <th></th>\n",
       "      <th></th>\n",
       "    </tr>\n",
       "  </thead>\n",
       "  <tbody>\n",
       "    <tr>\n",
       "      <th>2001-01-02</th>\n",
       "      <td>0.226078</td>\n",
       "      <td>46.719383</td>\n",
       "      <td>33.371288</td>\n",
       "      <td>40.507778</td>\n",
       "      <td>12.993835</td>\n",
       "      <td>NaN</td>\n",
       "      <td>23.468689</td>\n",
       "      <td>18.921011</td>\n",
       "      <td>21.765089</td>\n",
       "      <td>NaN</td>\n",
       "      <td>...</td>\n",
       "      <td>38.382965</td>\n",
       "      <td>13.530795</td>\n",
       "      <td>5.320997</td>\n",
       "      <td>21.605221</td>\n",
       "      <td>29.288406</td>\n",
       "      <td>12.032973</td>\n",
       "      <td>NaN</td>\n",
       "      <td>16.194725</td>\n",
       "      <td>26.583868</td>\n",
       "      <td>35.679684</td>\n",
       "    </tr>\n",
       "    <tr>\n",
       "      <th>2001-01-03</th>\n",
       "      <td>0.248876</td>\n",
       "      <td>49.830925</td>\n",
       "      <td>35.953518</td>\n",
       "      <td>40.875290</td>\n",
       "      <td>13.046433</td>\n",
       "      <td>NaN</td>\n",
       "      <td>29.104700</td>\n",
       "      <td>18.191685</td>\n",
       "      <td>24.199663</td>\n",
       "      <td>NaN</td>\n",
       "      <td>...</td>\n",
       "      <td>36.783665</td>\n",
       "      <td>14.954065</td>\n",
       "      <td>5.499182</td>\n",
       "      <td>20.538725</td>\n",
       "      <td>29.003378</td>\n",
       "      <td>11.675688</td>\n",
       "      <td>NaN</td>\n",
       "      <td>17.121286</td>\n",
       "      <td>25.566113</td>\n",
       "      <td>38.701263</td>\n",
       "    </tr>\n",
       "    <tr>\n",
       "      <th>2001-01-04</th>\n",
       "      <td>0.259326</td>\n",
       "      <td>46.580070</td>\n",
       "      <td>34.828712</td>\n",
       "      <td>39.854416</td>\n",
       "      <td>13.660187</td>\n",
       "      <td>NaN</td>\n",
       "      <td>29.500988</td>\n",
       "      <td>17.806379</td>\n",
       "      <td>24.881346</td>\n",
       "      <td>NaN</td>\n",
       "      <td>...</td>\n",
       "      <td>35.081196</td>\n",
       "      <td>15.110035</td>\n",
       "      <td>5.640502</td>\n",
       "      <td>19.902262</td>\n",
       "      <td>27.649405</td>\n",
       "      <td>10.859023</td>\n",
       "      <td>NaN</td>\n",
       "      <td>17.624851</td>\n",
       "      <td>24.304100</td>\n",
       "      <td>37.211174</td>\n",
       "    </tr>\n",
       "    <tr>\n",
       "      <th>2001-01-05</th>\n",
       "      <td>0.248876</td>\n",
       "      <td>43.329212</td>\n",
       "      <td>33.141510</td>\n",
       "      <td>38.384399</td>\n",
       "      <td>12.871084</td>\n",
       "      <td>NaN</td>\n",
       "      <td>25.802349</td>\n",
       "      <td>17.943989</td>\n",
       "      <td>24.540506</td>\n",
       "      <td>NaN</td>\n",
       "      <td>...</td>\n",
       "      <td>34.384747</td>\n",
       "      <td>15.324500</td>\n",
       "      <td>5.394728</td>\n",
       "      <td>20.624722</td>\n",
       "      <td>27.150562</td>\n",
       "      <td>11.012148</td>\n",
       "      <td>NaN</td>\n",
       "      <td>17.584574</td>\n",
       "      <td>24.751898</td>\n",
       "      <td>35.721066</td>\n",
       "    </tr>\n",
       "    <tr>\n",
       "      <th>2001-01-08</th>\n",
       "      <td>0.251726</td>\n",
       "      <td>43.607868</td>\n",
       "      <td>31.454298</td>\n",
       "      <td>38.547710</td>\n",
       "      <td>12.836014</td>\n",
       "      <td>NaN</td>\n",
       "      <td>25.747309</td>\n",
       "      <td>17.902714</td>\n",
       "      <td>23.469288</td>\n",
       "      <td>NaN</td>\n",
       "      <td>...</td>\n",
       "      <td>34.462124</td>\n",
       "      <td>15.266009</td>\n",
       "      <td>5.665077</td>\n",
       "      <td>21.071972</td>\n",
       "      <td>27.934443</td>\n",
       "      <td>10.973867</td>\n",
       "      <td>NaN</td>\n",
       "      <td>17.608095</td>\n",
       "      <td>24.955454</td>\n",
       "      <td>35.721066</td>\n",
       "    </tr>\n",
       "  </tbody>\n",
       "</table>\n",
       "<p>5 rows × 30 columns</p>\n",
       "</div>"
      ],
      "text/plain": [
       "                AAPL       AMGN        AXP         BA        CAT  CRM  \\\n",
       "Date                                                                    \n",
       "2001-01-02  0.226078  46.719383  33.371288  40.507778  12.993835  NaN   \n",
       "2001-01-03  0.248876  49.830925  35.953518  40.875290  13.046433  NaN   \n",
       "2001-01-04  0.259326  46.580070  34.828712  39.854416  13.660187  NaN   \n",
       "2001-01-05  0.248876  43.329212  33.141510  38.384399  12.871084  NaN   \n",
       "2001-01-08  0.251726  43.607868  31.454298  38.547710  12.836014  NaN   \n",
       "\n",
       "                 CSCO        CVX        DIS  DOW  ...        MRK       MSFT  \\\n",
       "Date                                              ...                         \n",
       "2001-01-02  23.468689  18.921011  21.765089  NaN  ...  38.382965  13.530795   \n",
       "2001-01-03  29.104700  18.191685  24.199663  NaN  ...  36.783665  14.954065   \n",
       "2001-01-04  29.500988  17.806379  24.881346  NaN  ...  35.081196  15.110035   \n",
       "2001-01-05  25.802349  17.943989  24.540506  NaN  ...  34.384747  15.324500   \n",
       "2001-01-08  25.747309  17.902714  23.469288  NaN  ...  34.462124  15.266009   \n",
       "\n",
       "                 NKE         PG        TRV        UNH   V         VZ  \\\n",
       "Date                                                                   \n",
       "2001-01-02  5.320997  21.605221  29.288406  12.032973 NaN  16.194725   \n",
       "2001-01-03  5.499182  20.538725  29.003378  11.675688 NaN  17.121286   \n",
       "2001-01-04  5.640502  19.902262  27.649405  10.859023 NaN  17.624851   \n",
       "2001-01-05  5.394728  20.624722  27.150562  11.012148 NaN  17.584574   \n",
       "2001-01-08  5.665077  21.071972  27.934443  10.973867 NaN  17.608095   \n",
       "\n",
       "                  WBA        WMT  \n",
       "Date                              \n",
       "2001-01-02  26.583868  35.679684  \n",
       "2001-01-03  25.566113  38.701263  \n",
       "2001-01-04  24.304100  37.211174  \n",
       "2001-01-05  24.751898  35.721066  \n",
       "2001-01-08  24.955454  35.721066  \n",
       "\n",
       "[5 rows x 30 columns]"
      ]
     },
     "execution_count": 156,
     "metadata": {},
     "output_type": "execute_result"
    }
   ],
   "source": [
    "company_lst = dow['Symbol']\n",
    "company_lst\n",
    "\n",
    "dji = yf.download(tickers= company_lst.to_list(),\n",
    "                   interval='1d',\n",
    "                   start='2001-01-01')\n",
    "\n",
    "dji = dji['Adj Close']\n",
    "\n",
    "dji.head()"
   ]
  },
  {
   "cell_type": "code",
   "execution_count": 157,
   "metadata": {},
   "outputs": [
    {
     "data": {
      "text/html": [
       "<div>\n",
       "<style scoped>\n",
       "    .dataframe tbody tr th:only-of-type {\n",
       "        vertical-align: middle;\n",
       "    }\n",
       "\n",
       "    .dataframe tbody tr th {\n",
       "        vertical-align: top;\n",
       "    }\n",
       "\n",
       "    .dataframe thead th {\n",
       "        text-align: right;\n",
       "    }\n",
       "</style>\n",
       "<table border=\"1\" class=\"dataframe\">\n",
       "  <thead>\n",
       "    <tr style=\"text-align: right;\">\n",
       "      <th></th>\n",
       "      <th>AAPL</th>\n",
       "      <th>AMGN</th>\n",
       "      <th>AXP</th>\n",
       "      <th>BA</th>\n",
       "      <th>CAT</th>\n",
       "      <th>CRM</th>\n",
       "      <th>CSCO</th>\n",
       "      <th>CVX</th>\n",
       "      <th>DIS</th>\n",
       "      <th>DOW</th>\n",
       "      <th>...</th>\n",
       "      <th>MRK</th>\n",
       "      <th>MSFT</th>\n",
       "      <th>NKE</th>\n",
       "      <th>PG</th>\n",
       "      <th>TRV</th>\n",
       "      <th>UNH</th>\n",
       "      <th>V</th>\n",
       "      <th>VZ</th>\n",
       "      <th>WBA</th>\n",
       "      <th>WMT</th>\n",
       "    </tr>\n",
       "    <tr>\n",
       "      <th>Date</th>\n",
       "      <th></th>\n",
       "      <th></th>\n",
       "      <th></th>\n",
       "      <th></th>\n",
       "      <th></th>\n",
       "      <th></th>\n",
       "      <th></th>\n",
       "      <th></th>\n",
       "      <th></th>\n",
       "      <th></th>\n",
       "      <th></th>\n",
       "      <th></th>\n",
       "      <th></th>\n",
       "      <th></th>\n",
       "      <th></th>\n",
       "      <th></th>\n",
       "      <th></th>\n",
       "      <th></th>\n",
       "      <th></th>\n",
       "      <th></th>\n",
       "      <th></th>\n",
       "    </tr>\n",
       "  </thead>\n",
       "  <tbody>\n",
       "    <tr>\n",
       "      <th>2001-01-02</th>\n",
       "      <td>NaN</td>\n",
       "      <td>NaN</td>\n",
       "      <td>NaN</td>\n",
       "      <td>NaN</td>\n",
       "      <td>NaN</td>\n",
       "      <td>NaN</td>\n",
       "      <td>NaN</td>\n",
       "      <td>NaN</td>\n",
       "      <td>NaN</td>\n",
       "      <td>NaN</td>\n",
       "      <td>...</td>\n",
       "      <td>NaN</td>\n",
       "      <td>NaN</td>\n",
       "      <td>NaN</td>\n",
       "      <td>NaN</td>\n",
       "      <td>NaN</td>\n",
       "      <td>NaN</td>\n",
       "      <td>NaN</td>\n",
       "      <td>NaN</td>\n",
       "      <td>NaN</td>\n",
       "      <td>NaN</td>\n",
       "    </tr>\n",
       "    <tr>\n",
       "      <th>2001-01-03</th>\n",
       "      <td>0.100841</td>\n",
       "      <td>0.066601</td>\n",
       "      <td>0.077379</td>\n",
       "      <td>0.009073</td>\n",
       "      <td>0.004048</td>\n",
       "      <td>NaN</td>\n",
       "      <td>0.240150</td>\n",
       "      <td>-0.038546</td>\n",
       "      <td>0.111857</td>\n",
       "      <td>NaN</td>\n",
       "      <td>...</td>\n",
       "      <td>-0.041667</td>\n",
       "      <td>0.105187</td>\n",
       "      <td>0.033487</td>\n",
       "      <td>-0.049363</td>\n",
       "      <td>-0.009732</td>\n",
       "      <td>-0.029692</td>\n",
       "      <td>NaN</td>\n",
       "      <td>0.057214</td>\n",
       "      <td>-0.038285</td>\n",
       "      <td>0.084686</td>\n",
       "    </tr>\n",
       "    <tr>\n",
       "      <th>2001-01-04</th>\n",
       "      <td>0.041985</td>\n",
       "      <td>-0.065238</td>\n",
       "      <td>-0.031285</td>\n",
       "      <td>-0.024975</td>\n",
       "      <td>0.047044</td>\n",
       "      <td>NaN</td>\n",
       "      <td>0.013616</td>\n",
       "      <td>-0.021180</td>\n",
       "      <td>0.028169</td>\n",
       "      <td>NaN</td>\n",
       "      <td>...</td>\n",
       "      <td>-0.046283</td>\n",
       "      <td>0.010430</td>\n",
       "      <td>0.025698</td>\n",
       "      <td>-0.030988</td>\n",
       "      <td>-0.046683</td>\n",
       "      <td>-0.069946</td>\n",
       "      <td>NaN</td>\n",
       "      <td>0.029412</td>\n",
       "      <td>-0.049363</td>\n",
       "      <td>-0.038502</td>\n",
       "    </tr>\n",
       "    <tr>\n",
       "      <th>2001-01-05</th>\n",
       "      <td>-0.040294</td>\n",
       "      <td>-0.069791</td>\n",
       "      <td>-0.048443</td>\n",
       "      <td>-0.036885</td>\n",
       "      <td>-0.057767</td>\n",
       "      <td>NaN</td>\n",
       "      <td>-0.125373</td>\n",
       "      <td>0.007728</td>\n",
       "      <td>-0.013699</td>\n",
       "      <td>NaN</td>\n",
       "      <td>...</td>\n",
       "      <td>-0.019852</td>\n",
       "      <td>0.014194</td>\n",
       "      <td>-0.043573</td>\n",
       "      <td>0.036300</td>\n",
       "      <td>-0.018042</td>\n",
       "      <td>0.014101</td>\n",
       "      <td>NaN</td>\n",
       "      <td>-0.002285</td>\n",
       "      <td>0.018425</td>\n",
       "      <td>-0.040045</td>\n",
       "    </tr>\n",
       "    <tr>\n",
       "      <th>2001-01-08</th>\n",
       "      <td>0.011450</td>\n",
       "      <td>0.006431</td>\n",
       "      <td>-0.050909</td>\n",
       "      <td>0.004255</td>\n",
       "      <td>-0.002725</td>\n",
       "      <td>NaN</td>\n",
       "      <td>-0.002133</td>\n",
       "      <td>-0.002300</td>\n",
       "      <td>-0.043651</td>\n",
       "      <td>NaN</td>\n",
       "      <td>...</td>\n",
       "      <td>0.002250</td>\n",
       "      <td>-0.003817</td>\n",
       "      <td>0.050114</td>\n",
       "      <td>0.021685</td>\n",
       "      <td>0.028872</td>\n",
       "      <td>-0.003476</td>\n",
       "      <td>NaN</td>\n",
       "      <td>0.001338</td>\n",
       "      <td>0.008224</td>\n",
       "      <td>0.000000</td>\n",
       "    </tr>\n",
       "  </tbody>\n",
       "</table>\n",
       "<p>5 rows × 30 columns</p>\n",
       "</div>"
      ],
      "text/plain": [
       "                AAPL      AMGN       AXP        BA       CAT  CRM      CSCO  \\\n",
       "Date                                                                          \n",
       "2001-01-02       NaN       NaN       NaN       NaN       NaN  NaN       NaN   \n",
       "2001-01-03  0.100841  0.066601  0.077379  0.009073  0.004048  NaN  0.240150   \n",
       "2001-01-04  0.041985 -0.065238 -0.031285 -0.024975  0.047044  NaN  0.013616   \n",
       "2001-01-05 -0.040294 -0.069791 -0.048443 -0.036885 -0.057767  NaN -0.125373   \n",
       "2001-01-08  0.011450  0.006431 -0.050909  0.004255 -0.002725  NaN -0.002133   \n",
       "\n",
       "                 CVX       DIS  DOW  ...       MRK      MSFT       NKE  \\\n",
       "Date                                 ...                                 \n",
       "2001-01-02       NaN       NaN  NaN  ...       NaN       NaN       NaN   \n",
       "2001-01-03 -0.038546  0.111857  NaN  ... -0.041667  0.105187  0.033487   \n",
       "2001-01-04 -0.021180  0.028169  NaN  ... -0.046283  0.010430  0.025698   \n",
       "2001-01-05  0.007728 -0.013699  NaN  ... -0.019852  0.014194 -0.043573   \n",
       "2001-01-08 -0.002300 -0.043651  NaN  ...  0.002250 -0.003817  0.050114   \n",
       "\n",
       "                  PG       TRV       UNH   V        VZ       WBA       WMT  \n",
       "Date                                                                        \n",
       "2001-01-02       NaN       NaN       NaN NaN       NaN       NaN       NaN  \n",
       "2001-01-03 -0.049363 -0.009732 -0.029692 NaN  0.057214 -0.038285  0.084686  \n",
       "2001-01-04 -0.030988 -0.046683 -0.069946 NaN  0.029412 -0.049363 -0.038502  \n",
       "2001-01-05  0.036300 -0.018042  0.014101 NaN -0.002285  0.018425 -0.040045  \n",
       "2001-01-08  0.021685  0.028872 -0.003476 NaN  0.001338  0.008224  0.000000  \n",
       "\n",
       "[5 rows x 30 columns]"
      ]
     },
     "execution_count": 157,
     "metadata": {},
     "output_type": "execute_result"
    }
   ],
   "source": [
    "dji_ret = dji.pct_change()\n",
    "dji_ret.head()"
   ]
  },
  {
   "cell_type": "markdown",
   "id": "generic-lambda",
   "metadata": {},
   "source": [
    "Calculate the correlation matrix for these stocks. Verify that the number of rows and columns in the matrix makes sense."
   ]
  },
  {
   "cell_type": "code",
   "execution_count": 158,
   "id": "8832ff79-2174-4351-a194-b687f6ab1a4e",
   "metadata": {},
   "outputs": [
    {
     "data": {
      "text/html": [
       "<div>\n",
       "<style scoped>\n",
       "    .dataframe tbody tr th:only-of-type {\n",
       "        vertical-align: middle;\n",
       "    }\n",
       "\n",
       "    .dataframe tbody tr th {\n",
       "        vertical-align: top;\n",
       "    }\n",
       "\n",
       "    .dataframe thead th {\n",
       "        text-align: right;\n",
       "    }\n",
       "</style>\n",
       "<table border=\"1\" class=\"dataframe\">\n",
       "  <thead>\n",
       "    <tr style=\"text-align: right;\">\n",
       "      <th></th>\n",
       "      <th>AAPL</th>\n",
       "      <th>AMGN</th>\n",
       "      <th>AXP</th>\n",
       "      <th>BA</th>\n",
       "      <th>CAT</th>\n",
       "      <th>CRM</th>\n",
       "      <th>CSCO</th>\n",
       "      <th>CVX</th>\n",
       "      <th>DIS</th>\n",
       "      <th>DOW</th>\n",
       "      <th>...</th>\n",
       "      <th>MRK</th>\n",
       "      <th>MSFT</th>\n",
       "      <th>NKE</th>\n",
       "      <th>PG</th>\n",
       "      <th>TRV</th>\n",
       "      <th>UNH</th>\n",
       "      <th>V</th>\n",
       "      <th>VZ</th>\n",
       "      <th>WBA</th>\n",
       "      <th>WMT</th>\n",
       "    </tr>\n",
       "  </thead>\n",
       "  <tbody>\n",
       "    <tr>\n",
       "      <th>AAPL</th>\n",
       "      <td>1.000000</td>\n",
       "      <td>0.903558</td>\n",
       "      <td>0.933378</td>\n",
       "      <td>0.594928</td>\n",
       "      <td>0.936952</td>\n",
       "      <td>0.909558</td>\n",
       "      <td>0.886540</td>\n",
       "      <td>0.801078</td>\n",
       "      <td>0.813139</td>\n",
       "      <td>0.728705</td>\n",
       "      <td>...</td>\n",
       "      <td>0.898397</td>\n",
       "      <td>0.987409</td>\n",
       "      <td>0.947426</td>\n",
       "      <td>0.952250</td>\n",
       "      <td>0.882918</td>\n",
       "      <td>0.971705</td>\n",
       "      <td>0.921439</td>\n",
       "      <td>0.791449</td>\n",
       "      <td>0.343594</td>\n",
       "      <td>0.952870</td>\n",
       "    </tr>\n",
       "    <tr>\n",
       "      <th>AMGN</th>\n",
       "      <td>0.903558</td>\n",
       "      <td>1.000000</td>\n",
       "      <td>0.929946</td>\n",
       "      <td>0.792650</td>\n",
       "      <td>0.910133</td>\n",
       "      <td>0.927595</td>\n",
       "      <td>0.921730</td>\n",
       "      <td>0.845459</td>\n",
       "      <td>0.922571</td>\n",
       "      <td>0.473420</td>\n",
       "      <td>...</td>\n",
       "      <td>0.961237</td>\n",
       "      <td>0.901196</td>\n",
       "      <td>0.946662</td>\n",
       "      <td>0.952327</td>\n",
       "      <td>0.963102</td>\n",
       "      <td>0.946043</td>\n",
       "      <td>0.965408</td>\n",
       "      <td>0.925343</td>\n",
       "      <td>0.621836</td>\n",
       "      <td>0.958180</td>\n",
       "    </tr>\n",
       "    <tr>\n",
       "      <th>AXP</th>\n",
       "      <td>0.933378</td>\n",
       "      <td>0.929946</td>\n",
       "      <td>1.000000</td>\n",
       "      <td>0.762766</td>\n",
       "      <td>0.957543</td>\n",
       "      <td>0.912030</td>\n",
       "      <td>0.932757</td>\n",
       "      <td>0.885853</td>\n",
       "      <td>0.892912</td>\n",
       "      <td>0.853745</td>\n",
       "      <td>...</td>\n",
       "      <td>0.929447</td>\n",
       "      <td>0.930411</td>\n",
       "      <td>0.947640</td>\n",
       "      <td>0.956852</td>\n",
       "      <td>0.949774</td>\n",
       "      <td>0.951318</td>\n",
       "      <td>0.937937</td>\n",
       "      <td>0.875878</td>\n",
       "      <td>0.533223</td>\n",
       "      <td>0.947552</td>\n",
       "    </tr>\n",
       "    <tr>\n",
       "      <th>BA</th>\n",
       "      <td>0.594928</td>\n",
       "      <td>0.792650</td>\n",
       "      <td>0.762766</td>\n",
       "      <td>1.000000</td>\n",
       "      <td>0.734882</td>\n",
       "      <td>0.760966</td>\n",
       "      <td>0.842652</td>\n",
       "      <td>0.712367</td>\n",
       "      <td>0.838245</td>\n",
       "      <td>-0.159307</td>\n",
       "      <td>...</td>\n",
       "      <td>0.763364</td>\n",
       "      <td>0.630156</td>\n",
       "      <td>0.755222</td>\n",
       "      <td>0.721083</td>\n",
       "      <td>0.822042</td>\n",
       "      <td>0.703087</td>\n",
       "      <td>0.734445</td>\n",
       "      <td>0.848592</td>\n",
       "      <td>0.673899</td>\n",
       "      <td>0.738759</td>\n",
       "    </tr>\n",
       "    <tr>\n",
       "      <th>CAT</th>\n",
       "      <td>0.936952</td>\n",
       "      <td>0.910133</td>\n",
       "      <td>0.957543</td>\n",
       "      <td>0.734882</td>\n",
       "      <td>1.000000</td>\n",
       "      <td>0.903711</td>\n",
       "      <td>0.905081</td>\n",
       "      <td>0.898182</td>\n",
       "      <td>0.856147</td>\n",
       "      <td>0.879516</td>\n",
       "      <td>...</td>\n",
       "      <td>0.901657</td>\n",
       "      <td>0.922054</td>\n",
       "      <td>0.936144</td>\n",
       "      <td>0.948200</td>\n",
       "      <td>0.933497</td>\n",
       "      <td>0.947807</td>\n",
       "      <td>0.920421</td>\n",
       "      <td>0.847258</td>\n",
       "      <td>0.459209</td>\n",
       "      <td>0.942522</td>\n",
       "    </tr>\n",
       "    <tr>\n",
       "      <th>...</th>\n",
       "      <td>...</td>\n",
       "      <td>...</td>\n",
       "      <td>...</td>\n",
       "      <td>...</td>\n",
       "      <td>...</td>\n",
       "      <td>...</td>\n",
       "      <td>...</td>\n",
       "      <td>...</td>\n",
       "      <td>...</td>\n",
       "      <td>...</td>\n",
       "      <td>...</td>\n",
       "      <td>...</td>\n",
       "      <td>...</td>\n",
       "      <td>...</td>\n",
       "      <td>...</td>\n",
       "      <td>...</td>\n",
       "      <td>...</td>\n",
       "      <td>...</td>\n",
       "      <td>...</td>\n",
       "      <td>...</td>\n",
       "      <td>...</td>\n",
       "    </tr>\n",
       "    <tr>\n",
       "      <th>UNH</th>\n",
       "      <td>0.971705</td>\n",
       "      <td>0.946043</td>\n",
       "      <td>0.951318</td>\n",
       "      <td>0.703087</td>\n",
       "      <td>0.947807</td>\n",
       "      <td>0.905699</td>\n",
       "      <td>0.929350</td>\n",
       "      <td>0.852632</td>\n",
       "      <td>0.831455</td>\n",
       "      <td>0.676190</td>\n",
       "      <td>...</td>\n",
       "      <td>0.941991</td>\n",
       "      <td>0.968958</td>\n",
       "      <td>0.941326</td>\n",
       "      <td>0.955782</td>\n",
       "      <td>0.932656</td>\n",
       "      <td>1.000000</td>\n",
       "      <td>0.953433</td>\n",
       "      <td>0.825139</td>\n",
       "      <td>0.438680</td>\n",
       "      <td>0.954098</td>\n",
       "    </tr>\n",
       "    <tr>\n",
       "      <th>V</th>\n",
       "      <td>0.921439</td>\n",
       "      <td>0.965408</td>\n",
       "      <td>0.937937</td>\n",
       "      <td>0.734445</td>\n",
       "      <td>0.920421</td>\n",
       "      <td>0.965460</td>\n",
       "      <td>0.965507</td>\n",
       "      <td>0.765882</td>\n",
       "      <td>0.895413</td>\n",
       "      <td>0.767214</td>\n",
       "      <td>...</td>\n",
       "      <td>0.949000</td>\n",
       "      <td>0.949161</td>\n",
       "      <td>0.969226</td>\n",
       "      <td>0.967033</td>\n",
       "      <td>0.934028</td>\n",
       "      <td>0.953433</td>\n",
       "      <td>1.000000</td>\n",
       "      <td>0.899668</td>\n",
       "      <td>0.337175</td>\n",
       "      <td>0.975096</td>\n",
       "    </tr>\n",
       "    <tr>\n",
       "      <th>VZ</th>\n",
       "      <td>0.791449</td>\n",
       "      <td>0.925343</td>\n",
       "      <td>0.875878</td>\n",
       "      <td>0.848592</td>\n",
       "      <td>0.847258</td>\n",
       "      <td>0.917734</td>\n",
       "      <td>0.874148</td>\n",
       "      <td>0.825663</td>\n",
       "      <td>0.959830</td>\n",
       "      <td>-0.010642</td>\n",
       "      <td>...</td>\n",
       "      <td>0.889836</td>\n",
       "      <td>0.794429</td>\n",
       "      <td>0.910767</td>\n",
       "      <td>0.902633</td>\n",
       "      <td>0.928085</td>\n",
       "      <td>0.825139</td>\n",
       "      <td>0.899668</td>\n",
       "      <td>1.000000</td>\n",
       "      <td>0.703549</td>\n",
       "      <td>0.903791</td>\n",
       "    </tr>\n",
       "    <tr>\n",
       "      <th>WBA</th>\n",
       "      <td>0.343594</td>\n",
       "      <td>0.621836</td>\n",
       "      <td>0.533223</td>\n",
       "      <td>0.673899</td>\n",
       "      <td>0.459209</td>\n",
       "      <td>0.442040</td>\n",
       "      <td>0.509754</td>\n",
       "      <td>0.566773</td>\n",
       "      <td>0.729264</td>\n",
       "      <td>0.244759</td>\n",
       "      <td>...</td>\n",
       "      <td>0.538724</td>\n",
       "      <td>0.324249</td>\n",
       "      <td>0.531121</td>\n",
       "      <td>0.500923</td>\n",
       "      <td>0.671730</td>\n",
       "      <td>0.438680</td>\n",
       "      <td>0.337175</td>\n",
       "      <td>0.703549</td>\n",
       "      <td>1.000000</td>\n",
       "      <td>0.457668</td>\n",
       "    </tr>\n",
       "    <tr>\n",
       "      <th>WMT</th>\n",
       "      <td>0.952870</td>\n",
       "      <td>0.958180</td>\n",
       "      <td>0.947552</td>\n",
       "      <td>0.738759</td>\n",
       "      <td>0.942522</td>\n",
       "      <td>0.956922</td>\n",
       "      <td>0.925664</td>\n",
       "      <td>0.836924</td>\n",
       "      <td>0.896428</td>\n",
       "      <td>0.640619</td>\n",
       "      <td>...</td>\n",
       "      <td>0.946171</td>\n",
       "      <td>0.952977</td>\n",
       "      <td>0.967812</td>\n",
       "      <td>0.975370</td>\n",
       "      <td>0.933232</td>\n",
       "      <td>0.954098</td>\n",
       "      <td>0.975096</td>\n",
       "      <td>0.903791</td>\n",
       "      <td>0.457668</td>\n",
       "      <td>1.000000</td>\n",
       "    </tr>\n",
       "  </tbody>\n",
       "</table>\n",
       "<p>30 rows × 30 columns</p>\n",
       "</div>"
      ],
      "text/plain": [
       "          AAPL      AMGN       AXP        BA       CAT       CRM      CSCO  \\\n",
       "AAPL  1.000000  0.903558  0.933378  0.594928  0.936952  0.909558  0.886540   \n",
       "AMGN  0.903558  1.000000  0.929946  0.792650  0.910133  0.927595  0.921730   \n",
       "AXP   0.933378  0.929946  1.000000  0.762766  0.957543  0.912030  0.932757   \n",
       "BA    0.594928  0.792650  0.762766  1.000000  0.734882  0.760966  0.842652   \n",
       "CAT   0.936952  0.910133  0.957543  0.734882  1.000000  0.903711  0.905081   \n",
       "...        ...       ...       ...       ...       ...       ...       ...   \n",
       "UNH   0.971705  0.946043  0.951318  0.703087  0.947807  0.905699  0.929350   \n",
       "V     0.921439  0.965408  0.937937  0.734445  0.920421  0.965460  0.965507   \n",
       "VZ    0.791449  0.925343  0.875878  0.848592  0.847258  0.917734  0.874148   \n",
       "WBA   0.343594  0.621836  0.533223  0.673899  0.459209  0.442040  0.509754   \n",
       "WMT   0.952870  0.958180  0.947552  0.738759  0.942522  0.956922  0.925664   \n",
       "\n",
       "           CVX       DIS       DOW  ...       MRK      MSFT       NKE  \\\n",
       "AAPL  0.801078  0.813139  0.728705  ...  0.898397  0.987409  0.947426   \n",
       "AMGN  0.845459  0.922571  0.473420  ...  0.961237  0.901196  0.946662   \n",
       "AXP   0.885853  0.892912  0.853745  ...  0.929447  0.930411  0.947640   \n",
       "BA    0.712367  0.838245 -0.159307  ...  0.763364  0.630156  0.755222   \n",
       "CAT   0.898182  0.856147  0.879516  ...  0.901657  0.922054  0.936144   \n",
       "...        ...       ...       ...  ...       ...       ...       ...   \n",
       "UNH   0.852632  0.831455  0.676190  ...  0.941991  0.968958  0.941326   \n",
       "V     0.765882  0.895413  0.767214  ...  0.949000  0.949161  0.969226   \n",
       "VZ    0.825663  0.959830 -0.010642  ...  0.889836  0.794429  0.910767   \n",
       "WBA   0.566773  0.729264  0.244759  ...  0.538724  0.324249  0.531121   \n",
       "WMT   0.836924  0.896428  0.640619  ...  0.946171  0.952977  0.967812   \n",
       "\n",
       "            PG       TRV       UNH         V        VZ       WBA       WMT  \n",
       "AAPL  0.952250  0.882918  0.971705  0.921439  0.791449  0.343594  0.952870  \n",
       "AMGN  0.952327  0.963102  0.946043  0.965408  0.925343  0.621836  0.958180  \n",
       "AXP   0.956852  0.949774  0.951318  0.937937  0.875878  0.533223  0.947552  \n",
       "BA    0.721083  0.822042  0.703087  0.734445  0.848592  0.673899  0.738759  \n",
       "CAT   0.948200  0.933497  0.947807  0.920421  0.847258  0.459209  0.942522  \n",
       "...        ...       ...       ...       ...       ...       ...       ...  \n",
       "UNH   0.955782  0.932656  1.000000  0.953433  0.825139  0.438680  0.954098  \n",
       "V     0.967033  0.934028  0.953433  1.000000  0.899668  0.337175  0.975096  \n",
       "VZ    0.902633  0.928085  0.825139  0.899668  1.000000  0.703549  0.903791  \n",
       "WBA   0.500923  0.671730  0.438680  0.337175  0.703549  1.000000  0.457668  \n",
       "WMT   0.975370  0.933232  0.954098  0.975096  0.903791  0.457668  1.000000  \n",
       "\n",
       "[30 rows x 30 columns]"
      ]
     },
     "execution_count": 158,
     "metadata": {},
     "output_type": "execute_result"
    }
   ],
   "source": [
    "dji_corr = dji.corr()\n",
    "dji_corr "
   ]
  },
  {
   "cell_type": "code",
   "execution_count": 159,
   "id": "35de057f",
   "metadata": {},
   "outputs": [],
   "source": [
    "dji_corr = pairwise_corr(dji_corr)"
   ]
  },
  {
   "cell_type": "markdown",
   "id": "emerging-cross",
   "metadata": {},
   "source": [
    "Which pair of companies are maximally or minimally correlated during this period? What are these correlations?"
   ]
  },
  {
   "cell_type": "code",
   "execution_count": 160,
   "id": "3b970747-fc2e-4a5f-b63b-418c50f09b75",
   "metadata": {},
   "outputs": [
    {
     "data": {
      "text/plain": [
       "(148    CAT\n",
       " 844    WBA\n",
       " Name: tic1, dtype: object,\n",
       " 148    WBA\n",
       " 844    CAT\n",
       " Name: tic2, dtype: object)"
      ]
     },
     "execution_count": 160,
     "metadata": {},
     "output_type": "execute_result"
    }
   ],
   "source": [
    "dji_corr\n",
    "max_corr = dji_corr['corr'].max()\n",
    "\n",
    "min_corr = dji_corr['corr'].min()\n",
    "\n",
    "max_corr_pair = (dji_corr.loc[dji_corr['corr'] == max_corr]['tic1'], dji_corr.loc[dji_corr['corr']== max_corr]['tic2'])\n",
    "max_corr_pair\n",
    "\n",
    "min_corr_pair = (dji_corr.loc[dji_corr['corr'] == min_corr]['tic1'], dji_corr.loc[dji_corr['corr']== min_corr]['tic2'])\n",
    "min_corr_pair\n",
    "\n",
    "\n"
   ]
  },
  {
   "cell_type": "markdown",
   "id": "functional-elimination",
   "metadata": {},
   "source": [
    "As above, use `groupby` to calculate the average pairwise correlation in each year for these stocks. Plot the result."
   ]
  },
  {
   "cell_type": "code",
   "execution_count": 161,
   "id": "8ecb5441-57c5-4188-983c-4e4fe437d774",
   "metadata": {},
   "outputs": [
    {
     "name": "stderr",
     "output_type": "stream",
     "text": [
      "C:\\Users\\Varun\\AppData\\Local\\Temp\\ipykernel_27284\\710569115.py:6: FutureWarning: Dropping of nuisance columns in DataFrame reductions (with 'numeric_only=None') is deprecated; in a future version this will raise TypeError.  Select only valid columns before calling the reduction.\n",
      "  return corrs.mean()\n",
      "C:\\Users\\Varun\\AppData\\Local\\Temp\\ipykernel_27284\\710569115.py:6: FutureWarning: Dropping of nuisance columns in DataFrame reductions (with 'numeric_only=None') is deprecated; in a future version this will raise TypeError.  Select only valid columns before calling the reduction.\n",
      "  return corrs.mean()\n",
      "C:\\Users\\Varun\\AppData\\Local\\Temp\\ipykernel_27284\\710569115.py:6: FutureWarning: Dropping of nuisance columns in DataFrame reductions (with 'numeric_only=None') is deprecated; in a future version this will raise TypeError.  Select only valid columns before calling the reduction.\n",
      "  return corrs.mean()\n",
      "C:\\Users\\Varun\\AppData\\Local\\Temp\\ipykernel_27284\\710569115.py:6: FutureWarning: Dropping of nuisance columns in DataFrame reductions (with 'numeric_only=None') is deprecated; in a future version this will raise TypeError.  Select only valid columns before calling the reduction.\n",
      "  return corrs.mean()\n",
      "C:\\Users\\Varun\\AppData\\Local\\Temp\\ipykernel_27284\\710569115.py:6: FutureWarning: Dropping of nuisance columns in DataFrame reductions (with 'numeric_only=None') is deprecated; in a future version this will raise TypeError.  Select only valid columns before calling the reduction.\n",
      "  return corrs.mean()\n",
      "C:\\Users\\Varun\\AppData\\Local\\Temp\\ipykernel_27284\\710569115.py:6: FutureWarning: Dropping of nuisance columns in DataFrame reductions (with 'numeric_only=None') is deprecated; in a future version this will raise TypeError.  Select only valid columns before calling the reduction.\n",
      "  return corrs.mean()\n",
      "C:\\Users\\Varun\\AppData\\Local\\Temp\\ipykernel_27284\\710569115.py:6: FutureWarning: Dropping of nuisance columns in DataFrame reductions (with 'numeric_only=None') is deprecated; in a future version this will raise TypeError.  Select only valid columns before calling the reduction.\n",
      "  return corrs.mean()\n",
      "C:\\Users\\Varun\\AppData\\Local\\Temp\\ipykernel_27284\\710569115.py:6: FutureWarning: Dropping of nuisance columns in DataFrame reductions (with 'numeric_only=None') is deprecated; in a future version this will raise TypeError.  Select only valid columns before calling the reduction.\n",
      "  return corrs.mean()\n",
      "C:\\Users\\Varun\\AppData\\Local\\Temp\\ipykernel_27284\\710569115.py:6: FutureWarning: Dropping of nuisance columns in DataFrame reductions (with 'numeric_only=None') is deprecated; in a future version this will raise TypeError.  Select only valid columns before calling the reduction.\n",
      "  return corrs.mean()\n",
      "C:\\Users\\Varun\\AppData\\Local\\Temp\\ipykernel_27284\\710569115.py:6: FutureWarning: Dropping of nuisance columns in DataFrame reductions (with 'numeric_only=None') is deprecated; in a future version this will raise TypeError.  Select only valid columns before calling the reduction.\n",
      "  return corrs.mean()\n",
      "C:\\Users\\Varun\\AppData\\Local\\Temp\\ipykernel_27284\\710569115.py:6: FutureWarning: Dropping of nuisance columns in DataFrame reductions (with 'numeric_only=None') is deprecated; in a future version this will raise TypeError.  Select only valid columns before calling the reduction.\n",
      "  return corrs.mean()\n",
      "C:\\Users\\Varun\\AppData\\Local\\Temp\\ipykernel_27284\\710569115.py:6: FutureWarning: Dropping of nuisance columns in DataFrame reductions (with 'numeric_only=None') is deprecated; in a future version this will raise TypeError.  Select only valid columns before calling the reduction.\n",
      "  return corrs.mean()\n",
      "C:\\Users\\Varun\\AppData\\Local\\Temp\\ipykernel_27284\\710569115.py:6: FutureWarning: Dropping of nuisance columns in DataFrame reductions (with 'numeric_only=None') is deprecated; in a future version this will raise TypeError.  Select only valid columns before calling the reduction.\n",
      "  return corrs.mean()\n",
      "C:\\Users\\Varun\\AppData\\Local\\Temp\\ipykernel_27284\\710569115.py:6: FutureWarning: Dropping of nuisance columns in DataFrame reductions (with 'numeric_only=None') is deprecated; in a future version this will raise TypeError.  Select only valid columns before calling the reduction.\n",
      "  return corrs.mean()\n",
      "C:\\Users\\Varun\\AppData\\Local\\Temp\\ipykernel_27284\\710569115.py:6: FutureWarning: Dropping of nuisance columns in DataFrame reductions (with 'numeric_only=None') is deprecated; in a future version this will raise TypeError.  Select only valid columns before calling the reduction.\n",
      "  return corrs.mean()\n",
      "C:\\Users\\Varun\\AppData\\Local\\Temp\\ipykernel_27284\\710569115.py:6: FutureWarning: Dropping of nuisance columns in DataFrame reductions (with 'numeric_only=None') is deprecated; in a future version this will raise TypeError.  Select only valid columns before calling the reduction.\n",
      "  return corrs.mean()\n",
      "C:\\Users\\Varun\\AppData\\Local\\Temp\\ipykernel_27284\\710569115.py:6: FutureWarning: Dropping of nuisance columns in DataFrame reductions (with 'numeric_only=None') is deprecated; in a future version this will raise TypeError.  Select only valid columns before calling the reduction.\n",
      "  return corrs.mean()\n",
      "C:\\Users\\Varun\\AppData\\Local\\Temp\\ipykernel_27284\\710569115.py:6: FutureWarning: Dropping of nuisance columns in DataFrame reductions (with 'numeric_only=None') is deprecated; in a future version this will raise TypeError.  Select only valid columns before calling the reduction.\n",
      "  return corrs.mean()\n",
      "C:\\Users\\Varun\\AppData\\Local\\Temp\\ipykernel_27284\\710569115.py:6: FutureWarning: Dropping of nuisance columns in DataFrame reductions (with 'numeric_only=None') is deprecated; in a future version this will raise TypeError.  Select only valid columns before calling the reduction.\n",
      "  return corrs.mean()\n",
      "C:\\Users\\Varun\\AppData\\Local\\Temp\\ipykernel_27284\\710569115.py:6: FutureWarning: Dropping of nuisance columns in DataFrame reductions (with 'numeric_only=None') is deprecated; in a future version this will raise TypeError.  Select only valid columns before calling the reduction.\n",
      "  return corrs.mean()\n",
      "C:\\Users\\Varun\\AppData\\Local\\Temp\\ipykernel_27284\\710569115.py:6: FutureWarning: Dropping of nuisance columns in DataFrame reductions (with 'numeric_only=None') is deprecated; in a future version this will raise TypeError.  Select only valid columns before calling the reduction.\n",
      "  return corrs.mean()\n",
      "C:\\Users\\Varun\\AppData\\Local\\Temp\\ipykernel_27284\\710569115.py:6: FutureWarning: Dropping of nuisance columns in DataFrame reductions (with 'numeric_only=None') is deprecated; in a future version this will raise TypeError.  Select only valid columns before calling the reduction.\n",
      "  return corrs.mean()\n",
      "C:\\Users\\Varun\\AppData\\Local\\Temp\\ipykernel_27284\\710569115.py:6: FutureWarning: Dropping of nuisance columns in DataFrame reductions (with 'numeric_only=None') is deprecated; in a future version this will raise TypeError.  Select only valid columns before calling the reduction.\n",
      "  return corrs.mean()\n"
     ]
    },
    {
     "data": {
      "text/html": [
       "<div>\n",
       "<style scoped>\n",
       "    .dataframe tbody tr th:only-of-type {\n",
       "        vertical-align: middle;\n",
       "    }\n",
       "\n",
       "    .dataframe tbody tr th {\n",
       "        vertical-align: top;\n",
       "    }\n",
       "\n",
       "    .dataframe thead th {\n",
       "        text-align: right;\n",
       "    }\n",
       "</style>\n",
       "<table border=\"1\" class=\"dataframe\">\n",
       "  <thead>\n",
       "    <tr style=\"text-align: right;\">\n",
       "      <th></th>\n",
       "      <th>corr</th>\n",
       "    </tr>\n",
       "    <tr>\n",
       "      <th>Date</th>\n",
       "      <th></th>\n",
       "    </tr>\n",
       "  </thead>\n",
       "  <tbody>\n",
       "    <tr>\n",
       "      <th>2001</th>\n",
       "      <td>0.247941</td>\n",
       "    </tr>\n",
       "    <tr>\n",
       "      <th>2002</th>\n",
       "      <td>0.391937</td>\n",
       "    </tr>\n",
       "    <tr>\n",
       "      <th>2003</th>\n",
       "      <td>0.409049</td>\n",
       "    </tr>\n",
       "    <tr>\n",
       "      <th>2004</th>\n",
       "      <td>0.268618</td>\n",
       "    </tr>\n",
       "    <tr>\n",
       "      <th>2005</th>\n",
       "      <td>0.270456</td>\n",
       "    </tr>\n",
       "    <tr>\n",
       "      <th>...</th>\n",
       "      <td>...</td>\n",
       "    </tr>\n",
       "    <tr>\n",
       "      <th>2019</th>\n",
       "      <td>0.302967</td>\n",
       "    </tr>\n",
       "    <tr>\n",
       "      <th>2020</th>\n",
       "      <td>0.599539</td>\n",
       "    </tr>\n",
       "    <tr>\n",
       "      <th>2021</th>\n",
       "      <td>0.269747</td>\n",
       "    </tr>\n",
       "    <tr>\n",
       "      <th>2022</th>\n",
       "      <td>0.419518</td>\n",
       "    </tr>\n",
       "    <tr>\n",
       "      <th>2023</th>\n",
       "      <td>0.325843</td>\n",
       "    </tr>\n",
       "  </tbody>\n",
       "</table>\n",
       "<p>23 rows × 1 columns</p>\n",
       "</div>"
      ],
      "text/plain": [
       "          corr\n",
       "Date          \n",
       "2001  0.247941\n",
       "2002  0.391937\n",
       "2003  0.409049\n",
       "2004  0.268618\n",
       "2005  0.270456\n",
       "...        ...\n",
       "2019  0.302967\n",
       "2020  0.599539\n",
       "2021  0.269747\n",
       "2022  0.419518\n",
       "2023  0.325843\n",
       "\n",
       "[23 rows x 1 columns]"
      ]
     },
     "execution_count": 161,
     "metadata": {},
     "output_type": "execute_result"
    }
   ],
   "source": [
    "dji_ann =  dji_ret.groupby(dji_ret.index.year).apply(pairwise_corr_avg)\n",
    "dji_ann"
   ]
  },
  {
   "cell_type": "code",
   "execution_count": 162,
   "id": "cc143594",
   "metadata": {},
   "outputs": [
    {
     "data": {
      "text/plain": [
       "<AxesSubplot:xlabel='Date'>"
      ]
     },
     "execution_count": 162,
     "metadata": {},
     "output_type": "execute_result"
    },
    {
     "data": {
      "image/png": "[encoded data removed]",
      "text/plain": [
       "<Figure size 864x576 with 1 Axes>"
      ]
     },
     "metadata": {
      "needs_background": "light"
     },
     "output_type": "display_data"
    }
   ],
   "source": [
    "from matplotlib import pyplot as plt\n",
    "\n",
    "dji_ann.plot(figsize =(12,8) , grid = True)"
   ]
  },
  {
   "cell_type": "markdown",
   "id": "raised-album",
   "metadata": {},
   "source": [
    "## Market return data"
   ]
  },
  {
   "cell_type": "markdown",
   "id": "another-runner",
   "metadata": {},
   "source": [
    "As a proxy for the return on the market, get download data for the S&P 500 index (ticker symbol: ^GSPC)."
   ]
  },
  {
   "cell_type": "code",
   "execution_count": 163,
   "id": "e54372f2-69d8-45af-ba83-5baff59c7d4a",
   "metadata": {},
   "outputs": [
    {
     "name": "stdout",
     "output_type": "stream",
     "text": [
      "[*********************100%***********************]  1 of 1 completed\n"
     ]
    },
    {
     "data": {
      "text/plain": [
       "Date\n",
       "2001-01-02    1283.270020\n",
       "2001-01-03    1347.560059\n",
       "2001-01-04    1333.339966\n",
       "2001-01-05    1298.349976\n",
       "2001-01-08    1295.859985\n",
       "                 ...     \n",
       "2023-02-22    3991.050049\n",
       "2023-02-23    4012.320068\n",
       "2023-02-24    3970.040039\n",
       "2023-02-27    3982.239990\n",
       "2023-02-28    3970.149902\n",
       "Name: Adj Close, Length: 5574, dtype: float64"
      ]
     },
     "execution_count": 163,
     "metadata": {},
     "output_type": "execute_result"
    }
   ],
   "source": [
    "snp = yf.download(tickers=['^GSPC'],\n",
    "                   interval='1d',\n",
    "                   start='2001-01-01',\n",
    "                   end='2023-03-01')\n",
    "\n",
    "snp = snp['Adj Close']\n",
    "snp"
   ]
  },
  {
   "cell_type": "markdown",
   "id": "thick-panama",
   "metadata": {},
   "source": [
    "Calculate the average return on the index in each year. A typical year has 252 trading days, so multiply the result by 252 to get the annualized return."
   ]
  },
  {
   "cell_type": "code",
   "execution_count": 182,
   "id": "d5d65df0-30e0-4248-9e7b-2ae7628b87ee",
   "metadata": {},
   "outputs": [
    {
     "data": {
      "text/plain": [
       "Date\n",
       "2001-12-31   -0.090708\n",
       "2002-12-31   -0.232379\n",
       "2003-12-31    0.248721\n",
       "2004-12-31    0.092262\n",
       "2005-12-31    0.034836\n",
       "                ...   \n",
       "2019-12-31    0.261588\n",
       "2020-12-31    0.209706\n",
       "2021-12-31    0.246839\n",
       "2022-12-31   -0.187851\n",
       "2023-12-31    0.229198\n",
       "Freq: A-DEC, Name: Adj Close, Length: 23, dtype: float64"
      ]
     },
     "execution_count": 182,
     "metadata": {},
     "output_type": "execute_result"
    }
   ],
   "source": [
    "snp_ret = snp.pct_change().dropna()\n",
    "snp_ret_ann = snp_ret.resample('Y').mean()*252\n",
    "\n",
    "snp_ret_ann\n"
   ]
  },
  {
   "cell_type": "code",
   "execution_count": 183,
   "id": "559ad6a2",
   "metadata": {},
   "outputs": [
    {
     "data": {
      "text/plain": [
       "pandas.core.frame.DataFrame"
      ]
     },
     "execution_count": 183,
     "metadata": {},
     "output_type": "execute_result"
    }
   ],
   "source": [
    "snp_ret_ann = snp_ret_ann.to_frame()\n",
    "type(snp_ret_ann)"
   ]
  },
  {
   "cell_type": "markdown",
   "id": "stone-sense",
   "metadata": {},
   "source": [
    "Combine the index annual return data with the average correlation data.\n",
    "\n",
    "You can use `pd.merge` but `pd.concat` might be easier if you first make sure both Series have the same index."
   ]
  },
  {
   "attachments": {},
   "cell_type": "markdown",
   "id": "b6f90213",
   "metadata": {},
   "source": [
    "Ask if the correlation data is from Dow Jones Industrial Average."
   ]
  },
  {
   "cell_type": "code",
   "execution_count": 185,
   "id": "646a19fe-7ee1-47c9-a27a-8afb0480ceb3",
   "metadata": {},
   "outputs": [
    {
     "ename": "AttributeError",
     "evalue": "'DataFrame' object has no attribute 'concat'",
     "output_type": "error",
     "traceback": [
      "\u001b[1;31m---------------------------------------------------------------------------\u001b[0m",
      "\u001b[1;31mAttributeError\u001b[0m                            Traceback (most recent call last)",
      "\u001b[1;32m~\\AppData\\Local\\Temp\\ipykernel_27284\\2517334375.py\u001b[0m in \u001b[0;36m<module>\u001b[1;34m\u001b[0m\n\u001b[1;32m----> 1\u001b[1;33m \u001b[0msnp_ret_ann\u001b[0m\u001b[1;33m.\u001b[0m\u001b[0mconcat\u001b[0m\u001b[1;33m(\u001b[0m\u001b[0mdji_ann\u001b[0m\u001b[1;33m)\u001b[0m\u001b[1;33m\u001b[0m\u001b[1;33m\u001b[0m\u001b[0m\n\u001b[0m",
      "\u001b[1;32mc:\\Users\\Varun\\AppData\\Local\\Programs\\Python\\Python38\\lib\\site-packages\\pandas\\core\\generic.py\u001b[0m in \u001b[0;36m__getattr__\u001b[1;34m(self, name)\u001b[0m\n\u001b[0;32m   5573\u001b[0m         ):\n\u001b[0;32m   5574\u001b[0m             \u001b[1;32mreturn\u001b[0m \u001b[0mself\u001b[0m\u001b[1;33m[\u001b[0m\u001b[0mname\u001b[0m\u001b[1;33m]\u001b[0m\u001b[1;33m\u001b[0m\u001b[1;33m\u001b[0m\u001b[0m\n\u001b[1;32m-> 5575\u001b[1;33m         \u001b[1;32mreturn\u001b[0m \u001b[0mobject\u001b[0m\u001b[1;33m.\u001b[0m\u001b[0m__getattribute__\u001b[0m\u001b[1;33m(\u001b[0m\u001b[0mself\u001b[0m\u001b[1;33m,\u001b[0m \u001b[0mname\u001b[0m\u001b[1;33m)\u001b[0m\u001b[1;33m\u001b[0m\u001b[1;33m\u001b[0m\u001b[0m\n\u001b[0m\u001b[0;32m   5576\u001b[0m \u001b[1;33m\u001b[0m\u001b[0m\n\u001b[0;32m   5577\u001b[0m     \u001b[1;32mdef\u001b[0m \u001b[0m__setattr__\u001b[0m\u001b[1;33m(\u001b[0m\u001b[0mself\u001b[0m\u001b[1;33m,\u001b[0m \u001b[0mname\u001b[0m\u001b[1;33m:\u001b[0m \u001b[0mstr\u001b[0m\u001b[1;33m,\u001b[0m \u001b[0mvalue\u001b[0m\u001b[1;33m)\u001b[0m \u001b[1;33m->\u001b[0m \u001b[1;32mNone\u001b[0m\u001b[1;33m:\u001b[0m\u001b[1;33m\u001b[0m\u001b[1;33m\u001b[0m\u001b[0m\n",
      "\u001b[1;31mAttributeError\u001b[0m: 'DataFrame' object has no attribute 'concat'"
     ]
    }
   ],
   "source": [
    "snp_ret_ann.concat(dji_ann)"
   ]
  },
  {
   "cell_type": "markdown",
   "id": "deluxe-bikini",
   "metadata": {},
   "source": [
    "Finally, calculate the correlation between the annual return and the annual average correlation. Be sure to interpret the result."
   ]
  },
  {
   "cell_type": "code",
   "execution_count": null,
   "id": "1db18b66-eb83-431e-b23c-1679e8514344",
   "metadata": {},
   "outputs": [],
   "source": []
  },
  {
   "cell_type": "markdown",
   "id": "intermediate-monster",
   "metadata": {},
   "source": [
    "# Calculating beta"
   ]
  },
  {
   "cell_type": "markdown",
   "id": "marked-cheese",
   "metadata": {},
   "source": [
    "Next we'll estimate β for each stock. As an example, here's how we can estimate β for 3M."
   ]
  },
  {
   "cell_type": "code",
   "execution_count": 165,
   "id": "complex-wrapping",
   "metadata": {},
   "outputs": [],
   "source": [
    "import statsmodels.api as sm"
   ]
  },
  {
   "cell_type": "markdown",
   "id": "included-valve",
   "metadata": {},
   "source": [
    "First, we combine the market return data with the individual stock return series."
   ]
  },
  {
   "attachments": {},
   "cell_type": "markdown",
   "id": "98e8c21b",
   "metadata": {},
   "source": [
    "For the first concat, not sure if we are supposed to name the variables the exact same things as what it is in the commented section."
   ]
  },
  {
   "cell_type": "code",
   "execution_count": 166,
   "id": "88e6430e-b75e-4013-8296-a3e34199967a",
   "metadata": {},
   "outputs": [
    {
     "data": {
      "text/html": [
       "<div>\n",
       "<style scoped>\n",
       "    .dataframe tbody tr th:only-of-type {\n",
       "        vertical-align: middle;\n",
       "    }\n",
       "\n",
       "    .dataframe tbody tr th {\n",
       "        vertical-align: top;\n",
       "    }\n",
       "\n",
       "    .dataframe thead th {\n",
       "        text-align: right;\n",
       "    }\n",
       "</style>\n",
       "<table border=\"1\" class=\"dataframe\">\n",
       "  <thead>\n",
       "    <tr style=\"text-align: right;\">\n",
       "      <th></th>\n",
       "      <th>Adj Close</th>\n",
       "      <th>MMM</th>\n",
       "    </tr>\n",
       "    <tr>\n",
       "      <th>Date</th>\n",
       "      <th></th>\n",
       "      <th></th>\n",
       "    </tr>\n",
       "  </thead>\n",
       "  <tbody>\n",
       "    <tr>\n",
       "      <th>2001-01-03</th>\n",
       "      <td>0.050099</td>\n",
       "      <td>-0.011536</td>\n",
       "    </tr>\n",
       "    <tr>\n",
       "      <th>2001-01-04</th>\n",
       "      <td>-0.010552</td>\n",
       "      <td>0.010080</td>\n",
       "    </tr>\n",
       "    <tr>\n",
       "      <th>2001-01-05</th>\n",
       "      <td>-0.026242</td>\n",
       "      <td>-0.037290</td>\n",
       "    </tr>\n",
       "    <tr>\n",
       "      <th>2001-01-08</th>\n",
       "      <td>-0.001918</td>\n",
       "      <td>0.006001</td>\n",
       "    </tr>\n",
       "    <tr>\n",
       "      <th>2001-01-09</th>\n",
       "      <td>0.003812</td>\n",
       "      <td>-0.015727</td>\n",
       "    </tr>\n",
       "    <tr>\n",
       "      <th>...</th>\n",
       "      <td>...</td>\n",
       "      <td>...</td>\n",
       "    </tr>\n",
       "    <tr>\n",
       "      <th>2023-02-22</th>\n",
       "      <td>-0.001574</td>\n",
       "      <td>-0.002838</td>\n",
       "    </tr>\n",
       "    <tr>\n",
       "      <th>2023-02-23</th>\n",
       "      <td>0.005329</td>\n",
       "      <td>-0.000275</td>\n",
       "    </tr>\n",
       "    <tr>\n",
       "      <th>2023-02-24</th>\n",
       "      <td>-0.010538</td>\n",
       "      <td>-0.010192</td>\n",
       "    </tr>\n",
       "    <tr>\n",
       "      <th>2023-02-27</th>\n",
       "      <td>0.003073</td>\n",
       "      <td>0.004360</td>\n",
       "    </tr>\n",
       "    <tr>\n",
       "      <th>2023-02-28</th>\n",
       "      <td>-0.003036</td>\n",
       "      <td>-0.004895</td>\n",
       "    </tr>\n",
       "  </tbody>\n",
       "</table>\n",
       "<p>5573 rows × 2 columns</p>\n",
       "</div>"
      ],
      "text/plain": [
       "            Adj Close       MMM\n",
       "Date                           \n",
       "2001-01-03   0.050099 -0.011536\n",
       "2001-01-04  -0.010552  0.010080\n",
       "2001-01-05  -0.026242 -0.037290\n",
       "2001-01-08  -0.001918  0.006001\n",
       "2001-01-09   0.003812 -0.015727\n",
       "...               ...       ...\n",
       "2023-02-22  -0.001574 -0.002838\n",
       "2023-02-23   0.005329 -0.000275\n",
       "2023-02-24  -0.010538 -0.010192\n",
       "2023-02-27   0.003073  0.004360\n",
       "2023-02-28  -0.003036 -0.004895\n",
       "\n",
       "[5573 rows x 2 columns]"
      ]
     },
     "execution_count": 166,
     "metadata": {},
     "output_type": "execute_result"
    }
   ],
   "source": [
    "# reg = pd.concat([sp500, rets_dow['MMM']], axis=1).dropna()\n",
    "reg = pd.concat([snp_ret, dji_ret['MMM']], axis=1).dropna()\n",
    "\n",
    "reg"
   ]
  },
  {
   "cell_type": "markdown",
   "id": "nervous-beast",
   "metadata": {},
   "source": [
    "Then we run a regression, being sure to add a constant term."
   ]
  },
  {
   "cell_type": "code",
   "execution_count": 167,
   "id": "related-norman",
   "metadata": {},
   "outputs": [],
   "source": [
    "model = sm.OLS(reg['MMM'], sm.add_constant(reg['Adj Close']))\n",
    "results = model.fit()"
   ]
  },
  {
   "cell_type": "code",
   "execution_count": 168,
   "id": "deadly-marketplace",
   "metadata": {},
   "outputs": [
    {
     "name": "stdout",
     "output_type": "stream",
     "text": [
      "                            OLS Regression Results                            \n",
      "==============================================================================\n",
      "Dep. Variable:                    MMM   R-squared:                       0.500\n",
      "Model:                            OLS   Adj. R-squared:                  0.500\n",
      "Method:                 Least Squares   F-statistic:                     5577.\n",
      "Date:                Tue, 28 Mar 2023   Prob (F-statistic):               0.00\n",
      "Time:                        20:57:03   Log-Likelihood:                 17566.\n",
      "No. Observations:                5573   AIC:                        -3.513e+04\n",
      "Df Residuals:                    5571   BIC:                        -3.511e+04\n",
      "Df Model:                           1                                         \n",
      "Covariance Type:            nonrobust                                         \n",
      "==============================================================================\n",
      "                 coef    std err          t      P>|t|      [0.025      0.975]\n",
      "------------------------------------------------------------------------------\n",
      "const       8.605e-05      0.000      0.621      0.535      -0.000       0.000\n",
      "Adj Close      0.8340      0.011     74.677      0.000       0.812       0.856\n",
      "==============================================================================\n",
      "Omnibus:                     1455.797   Durbin-Watson:                   2.028\n",
      "Prob(Omnibus):                  0.000   Jarque-Bera (JB):            40447.766\n",
      "Skew:                          -0.642   Prob(JB):                         0.00\n",
      "Kurtosis:                      16.135   Cond. No.                         80.5\n",
      "==============================================================================\n",
      "\n",
      "Notes:\n",
      "[1] Standard Errors assume that the covariance matrix of the errors is correctly specified.\n"
     ]
    }
   ],
   "source": [
    "print(results.summary())"
   ]
  },
  {
   "cell_type": "markdown",
   "id": "indirect-grant",
   "metadata": {},
   "source": [
    "The estimate of β is stored in the `.params` property."
   ]
  },
  {
   "cell_type": "code",
   "execution_count": 169,
   "id": "authorized-literature",
   "metadata": {},
   "outputs": [
    {
     "data": {
      "text/plain": [
       "0.833960471680164"
      ]
     },
     "execution_count": 169,
     "metadata": {},
     "output_type": "execute_result"
    }
   ],
   "source": [
    "results.params[-1]"
   ]
  },
  {
   "cell_type": "markdown",
   "id": "expired-removal",
   "metadata": {},
   "source": [
    "Now iterate over the DJIA tickers and estimate beta for each stock. Save the estimates in a list.\n",
    "\n",
    "(Note that statsmodels cannot handle missing data, so you have to remove any before attempting to run the regression.)"
   ]
  },
  {
   "cell_type": "code",
   "execution_count": 170,
   "id": "2e7f55e1-2d62-4504-9e88-77af6972560d",
   "metadata": {},
   "outputs": [
    {
     "data": {
      "text/plain": [
       "{'AAPL': 1.1163624856952128,\n",
       " 'AMGN': 0.784807419674501,\n",
       " 'AXP': 1.3818097011322026,\n",
       " 'BA': 1.1243956412666405,\n",
       " 'CAT': 1.1311325546754178,\n",
       " 'CRM': 1.275298755013034,\n",
       " 'CSCO': 1.185208463448551,\n",
       " 'CVX': 0.95981085202871,\n",
       " 'DIS': 1.0895752894934836,\n",
       " 'DOW': 1.15229459733381,\n",
       " 'GS': 1.3284380393814084,\n",
       " 'HD': 1.019264085853598,\n",
       " 'HON': 1.0899505991926166,\n",
       " 'IBM': 0.8518757268678173,\n",
       " 'INTC': 1.235372119147388,\n",
       " 'JNJ': 0.548405498641257,\n",
       " 'JPM': 1.4360445763577896,\n",
       " 'KO': 0.574712984427154,\n",
       " 'MCD': 0.6210303051374942,\n",
       " 'MMM': 0.833960471680164,\n",
       " 'MRK': 0.6979665280405462,\n",
       " 'MSFT': 1.0886235406758946,\n",
       " 'NKE': 0.9185586956237811,\n",
       " 'PG': 0.5409555965233573,\n",
       " 'TRV': 0.9465548116511103,\n",
       " 'UNH': 0.8485420822761999,\n",
       " 'V': 1.0102174594287987,\n",
       " 'VZ': 0.6721970525537051,\n",
       " 'WBA': 0.7543701628023148,\n",
       " 'WMT': 0.5921105419060315}"
      ]
     },
     "execution_count": 170,
     "metadata": {},
     "output_type": "execute_result"
    }
   ],
   "source": [
    "dji_stocks = list(dji.columns)\n",
    "beta_dji = {}\n",
    "\n",
    "for i in dji_stocks:\n",
    "    reg = pd.concat([snp_ret,dji_ret[i]],axis = 1).dropna()\n",
    "    model = sm.OLS(reg[i], sm.add_constant(reg['Adj Close']))\n",
    "    results = model.fit()\n",
    "    beta = results.params[-1]\n",
    "    beta_dji[i] = beta\n",
    "\n",
    "beta_dji\n"
   ]
  },
  {
   "cell_type": "markdown",
   "id": "joined-brain",
   "metadata": {},
   "source": [
    "Create a `Series` from the list of betas. Set the index of the series to be the columns in `rets_dow` (that is, the ticker symbols)."
   ]
  },
  {
   "cell_type": "code",
   "execution_count": 171,
   "id": "9d860db5-6007-437e-a3a5-02311fd7624a",
   "metadata": {},
   "outputs": [
    {
     "data": {
      "text/plain": [
       "AAPL    1.116362\n",
       "AMGN    0.784807\n",
       "AXP     1.381810\n",
       "BA      1.124396\n",
       "CAT     1.131133\n",
       "          ...   \n",
       "UNH     0.848542\n",
       "V       1.010217\n",
       "VZ      0.672197\n",
       "WBA     0.754370\n",
       "WMT     0.592111\n",
       "Length: 30, dtype: float64"
      ]
     },
     "execution_count": 171,
     "metadata": {},
     "output_type": "execute_result"
    }
   ],
   "source": [
    "series = pd.Series(beta_dji,dji_stocks)\n",
    "series"
   ]
  },
  {
   "cell_type": "markdown",
   "id": "085f5d6d-64a1-4043-8fb9-5bcede905081",
   "metadata": {},
   "source": [
    "What company as the highest beta? The lowest?"
   ]
  },
  {
   "cell_type": "code",
   "execution_count": 172,
   "id": "2219e646-13ba-4276-9938-7d662f68a229",
   "metadata": {},
   "outputs": [
    {
     "name": "stdout",
     "output_type": "stream",
     "text": [
      "Min beta company PG \n",
      "Max beta company JPM\n"
     ]
    }
   ],
   "source": [
    "max_series = series.idxmax()\n",
    "min_series = series.idxmin()\n",
    "\n",
    "print(\"Min beta company\", min_series, \"\\nMax beta company\", max_series)"
   ]
  },
  {
   "cell_type": "markdown",
   "id": "4f0f22b3-be64-46cc-8549-d032af51f269",
   "metadata": {},
   "source": [
    "Plot a histogram of the betas."
   ]
  },
  {
   "cell_type": "code",
   "execution_count": 173,
   "id": "79bedd62-abd0-4700-bc13-f4eb09850bd2",
   "metadata": {},
   "outputs": [
    {
     "data": {
      "image/png": "[encoded data removed]",
      "text/plain": [
       "<Figure size 432x288 with 1 Axes>"
      ]
     },
     "metadata": {
      "needs_background": "light"
     },
     "output_type": "display_data"
    }
   ],
   "source": [
    "plt.hist(series,10)\n",
    "plt.xlabel(\"Beta\")\n",
    "plt.ylabel(\"No. of companies\")\n",
    "plt.show()"
   ]
  },
  {
   "cell_type": "markdown",
   "id": "distributed-strip",
   "metadata": {},
   "source": [
    "For this excercise you used 20 years of data to estimate the betas. What problems might there be with this approach?"
   ]
  },
  {
   "cell_type": "code",
   "execution_count": null,
   "id": "wrapped-figure",
   "metadata": {},
   "outputs": [],
   "source": []
  }
 ],
 "metadata": {
  "kernelspec": {
   "display_name": "Python 3 (ipykernel)",
   "language": "python",
   "name": "python3"
  },
  "language_info": {
   "codemirror_mode": {
    "name": "ipython",
    "version": 3
   },
   "file_extension": ".py",
   "mimetype": "text/x-python",
   "name": "python",
   "nbconvert_exporter": "python",
   "pygments_lexer": "ipython3",
   "version": "3.8.9"
  },
  "toc": {
   "base_numbering": 1,
   "nav_menu": {},
   "number_sections": false,
   "sideBar": true,
   "skip_h1_title": false,
   "title_cell": "Table of Contents",
   "title_sidebar": "Contents",
   "toc_cell": false,
   "toc_position": {},
   "toc_section_display": true,
   "toc_window_display": false
  }
 },
 "nbformat": 4,
 "nbformat_minor": 5
}
