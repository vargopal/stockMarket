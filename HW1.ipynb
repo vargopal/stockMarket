{
 "cells": [
  {
   "attachments": {},
   "cell_type": "markdown",
   "id": "e10ccbd3",
   "metadata": {},
   "source": [
    "Homework 1 was worked on by Varun Gopal and Tyler Dixon."
   ]
  },
  {
   "cell_type": "markdown",
   "id": "suitable-north",
   "metadata": {},
   "source": [
    "# Homework 1"
   ]
  },
  {
   "cell_type": "code",
   "execution_count": 1,
   "id": "629fca8e-717a-4881-b23e-4e2252defe6e",
   "metadata": {},
   "outputs": [],
   "source": [
    "import numpy as np\n",
    "import pandas as pd\n",
    "\n",
    "pd.options.display.max_rows = 20"
   ]
  },
  {
   "cell_type": "markdown",
   "id": "aerial-clearance",
   "metadata": {},
   "source": [
    "## Getting stock data"
   ]
  },
  {
   "cell_type": "markdown",
   "id": "transparent-solution",
   "metadata": {},
   "source": [
    "We can use `yfinance` to download historical price data from Yahoo! Finance. This package is not part of the standard python library, so you'll have to [install it](https://pypi.org/project/yfinance/) if you haven't previously done so."
   ]
  },
  {
   "cell_type": "code",
   "execution_count": 2,
   "id": "6f737fcd-0c60-43f6-a199-bf0e0eeaa6f5",
   "metadata": {},
   "outputs": [],
   "source": [
    "import yfinance as yf"
   ]
  },
  {
   "cell_type": "markdown",
   "id": "40a0036d-d78d-40d7-bdb1-650938efd93f",
   "metadata": {},
   "source": [
    "Here's an example of downloading data for multiple tickers:"
   ]
  },
  {
   "cell_type": "code",
   "execution_count": 3,
   "id": "23681c20-29a9-402f-9929-2eecb7c65dea",
   "metadata": {},
   "outputs": [
    {
     "name": "stdout",
     "output_type": "stream",
     "text": [
      "[*********************100%***********************]  4 of 4 completed\n"
     ]
    },
    {
     "data": {
      "text/html": [
       "<div>\n",
       "<style scoped>\n",
       "    .dataframe tbody tr th:only-of-type {\n",
       "        vertical-align: middle;\n",
       "    }\n",
       "\n",
       "    .dataframe tbody tr th {\n",
       "        vertical-align: top;\n",
       "    }\n",
       "\n",
       "    .dataframe thead th {\n",
       "        text-align: right;\n",
       "    }\n",
       "</style>\n",
       "<table border=\"1\" class=\"dataframe\">\n",
       "  <thead>\n",
       "    <tr style=\"text-align: right;\">\n",
       "      <th></th>\n",
       "      <th>AMZN</th>\n",
       "      <th>GE</th>\n",
       "      <th>PFE</th>\n",
       "      <th>TSLA</th>\n",
       "    </tr>\n",
       "    <tr>\n",
       "      <th>Date</th>\n",
       "      <th></th>\n",
       "      <th></th>\n",
       "      <th></th>\n",
       "      <th></th>\n",
       "    </tr>\n",
       "  </thead>\n",
       "  <tbody>\n",
       "    <tr>\n",
       "      <th>2013-01-02</th>\n",
       "      <td>12.8655</td>\n",
       "      <td>103.887474</td>\n",
       "      <td>17.030144</td>\n",
       "      <td>2.357333</td>\n",
       "    </tr>\n",
       "    <tr>\n",
       "      <th>2013-01-03</th>\n",
       "      <td>12.9240</td>\n",
       "      <td>102.719109</td>\n",
       "      <td>16.990707</td>\n",
       "      <td>2.318000</td>\n",
       "    </tr>\n",
       "    <tr>\n",
       "      <th>2013-01-04</th>\n",
       "      <td>12.9575</td>\n",
       "      <td>103.205910</td>\n",
       "      <td>17.063005</td>\n",
       "      <td>2.293333</td>\n",
       "    </tr>\n",
       "    <tr>\n",
       "      <th>2013-01-07</th>\n",
       "      <td>13.4230</td>\n",
       "      <td>102.865143</td>\n",
       "      <td>17.076157</td>\n",
       "      <td>2.289333</td>\n",
       "    </tr>\n",
       "    <tr>\n",
       "      <th>2013-01-08</th>\n",
       "      <td>13.3190</td>\n",
       "      <td>101.745468</td>\n",
       "      <td>17.102442</td>\n",
       "      <td>2.245333</td>\n",
       "    </tr>\n",
       "  </tbody>\n",
       "</table>\n",
       "</div>"
      ],
      "text/plain": [
       "               AMZN          GE        PFE      TSLA\n",
       "Date                                                \n",
       "2013-01-02  12.8655  103.887474  17.030144  2.357333\n",
       "2013-01-03  12.9240  102.719109  16.990707  2.318000\n",
       "2013-01-04  12.9575  103.205910  17.063005  2.293333\n",
       "2013-01-07  13.4230  102.865143  17.076157  2.289333\n",
       "2013-01-08  13.3190  101.745468  17.102442  2.245333"
      ]
     },
     "execution_count": 3,
     "metadata": {},
     "output_type": "execute_result"
    }
   ],
   "source": [
    "px = yf.download(tickers=['AMZN', 'PFE', 'GE', 'TSLA'],\n",
    "                   interval='1d',\n",
    "                   start='2013-01-01',\n",
    "                   end='2023-03-01')\n",
    "\n",
    "px = px['Adj Close']\n",
    "\n",
    "px.head()"
   ]
  },
  {
   "cell_type": "markdown",
   "id": "plastic-reserve",
   "metadata": {},
   "source": [
    "One way to plot prices is to create an index by initializing each price to 1, like so:"
   ]
  },
  {
   "cell_type": "code",
   "execution_count": 4,
   "id": "qualified-leone",
   "metadata": {},
   "outputs": [
    {
     "data": {
      "text/plain": [
       "<AxesSubplot:xlabel='Date'>"
      ]
     },
     "execution_count": 4,
     "metadata": {},
     "output_type": "execute_result"
    },
    {
     "data": {
      "image/png": "[encoded data removed]",
      "text/plain": [
       "<Figure size 864x576 with 1 Axes>"
      ]
     },
     "metadata": {
      "needs_background": "light"
     },
     "output_type": "display_data"
    }
   ],
   "source": [
    "(px / px.iloc[0]).plot(figsize=(12,8), grid=True)"
   ]
  },
  {
   "cell_type": "markdown",
   "id": "legal-basis",
   "metadata": {},
   "source": [
    "Tesla's huge return makes it hard to see the performance of the other stocks here. Change the graph so that the scale on the y-axis is in logs. (You can do this without modifying the data; you just need to use an argument to the `plot` function.)"
   ]
  },
  {
   "cell_type": "code",
   "execution_count": 5,
   "id": "38d30a20-fdfc-49ba-a001-055089b90a21",
   "metadata": {},
   "outputs": [
    {
     "data": {
      "image/png": "[encoded data removed]",
      "text/plain": [
       "<Figure size 864x576 with 1 Axes>"
      ]
     },
     "metadata": {
      "needs_background": "light"
     },
     "output_type": "display_data"
    }
   ],
   "source": [
    "(px / px.iloc[0]).plot(figsize=(12,8), grid=True).set_yscale('log')"
   ]
  },
  {
   "cell_type": "markdown",
   "id": "laden-mustang",
   "metadata": {},
   "source": [
    "Calculate a daily return series for each stock using these prices."
   ]
  },
  {
   "cell_type": "code",
   "execution_count": 6,
   "id": "a4a27eb9-b587-46f5-bacb-56b7142067e6",
   "metadata": {},
   "outputs": [
    {
     "data": {
      "text/html": [
       "<div>\n",
       "<style scoped>\n",
       "    .dataframe tbody tr th:only-of-type {\n",
       "        vertical-align: middle;\n",
       "    }\n",
       "\n",
       "    .dataframe tbody tr th {\n",
       "        vertical-align: top;\n",
       "    }\n",
       "\n",
       "    .dataframe thead th {\n",
       "        text-align: right;\n",
       "    }\n",
       "</style>\n",
       "<table border=\"1\" class=\"dataframe\">\n",
       "  <thead>\n",
       "    <tr style=\"text-align: right;\">\n",
       "      <th></th>\n",
       "      <th>AMZN</th>\n",
       "      <th>GE</th>\n",
       "      <th>PFE</th>\n",
       "      <th>TSLA</th>\n",
       "    </tr>\n",
       "    <tr>\n",
       "      <th>Date</th>\n",
       "      <th></th>\n",
       "      <th></th>\n",
       "      <th></th>\n",
       "      <th></th>\n",
       "    </tr>\n",
       "  </thead>\n",
       "  <tbody>\n",
       "    <tr>\n",
       "      <th>2013-01-03</th>\n",
       "      <td>0.004547</td>\n",
       "      <td>-0.011246</td>\n",
       "      <td>-0.002316</td>\n",
       "      <td>-0.016685</td>\n",
       "    </tr>\n",
       "    <tr>\n",
       "      <th>2013-01-04</th>\n",
       "      <td>0.002592</td>\n",
       "      <td>0.004739</td>\n",
       "      <td>0.004255</td>\n",
       "      <td>-0.010642</td>\n",
       "    </tr>\n",
       "    <tr>\n",
       "      <th>2013-01-07</th>\n",
       "      <td>0.035925</td>\n",
       "      <td>-0.003302</td>\n",
       "      <td>0.000771</td>\n",
       "      <td>-0.001744</td>\n",
       "    </tr>\n",
       "    <tr>\n",
       "      <th>2013-01-08</th>\n",
       "      <td>-0.007748</td>\n",
       "      <td>-0.010885</td>\n",
       "      <td>0.001539</td>\n",
       "      <td>-0.019220</td>\n",
       "    </tr>\n",
       "    <tr>\n",
       "      <th>2013-01-09</th>\n",
       "      <td>-0.000113</td>\n",
       "      <td>0.002392</td>\n",
       "      <td>0.017294</td>\n",
       "      <td>-0.001187</td>\n",
       "    </tr>\n",
       "  </tbody>\n",
       "</table>\n",
       "</div>"
      ],
      "text/plain": [
       "                AMZN        GE       PFE      TSLA\n",
       "Date                                              \n",
       "2013-01-03  0.004547 -0.011246 -0.002316 -0.016685\n",
       "2013-01-04  0.002592  0.004739  0.004255 -0.010642\n",
       "2013-01-07  0.035925 -0.003302  0.000771 -0.001744\n",
       "2013-01-08 -0.007748 -0.010885  0.001539 -0.019220\n",
       "2013-01-09 -0.000113  0.002392  0.017294 -0.001187"
      ]
     },
     "execution_count": 6,
     "metadata": {},
     "output_type": "execute_result"
    }
   ],
   "source": [
    "px_ret = px.pct_change().dropna()\n",
    "px_ret.head()"
   ]
  },
  {
   "cell_type": "markdown",
   "id": "alpha-metropolitan",
   "metadata": {},
   "source": [
    "Use the `.describe()` method to calculate summary statistics on returns. Do the statistics look reasonable? Give a couple examples of what gives you confidence that these make sense."
   ]
  },
  {
   "cell_type": "code",
   "execution_count": 7,
   "id": "da3dddea-467a-4240-8a42-6a3d7073f606",
   "metadata": {},
   "outputs": [
    {
     "data": {
      "text/html": [
       "<div>\n",
       "<style scoped>\n",
       "    .dataframe tbody tr th:only-of-type {\n",
       "        vertical-align: middle;\n",
       "    }\n",
       "\n",
       "    .dataframe tbody tr th {\n",
       "        vertical-align: top;\n",
       "    }\n",
       "\n",
       "    .dataframe thead th {\n",
       "        text-align: right;\n",
       "    }\n",
       "</style>\n",
       "<table border=\"1\" class=\"dataframe\">\n",
       "  <thead>\n",
       "    <tr style=\"text-align: right;\">\n",
       "      <th></th>\n",
       "      <th>AMZN</th>\n",
       "      <th>GE</th>\n",
       "      <th>PFE</th>\n",
       "      <th>TSLA</th>\n",
       "    </tr>\n",
       "  </thead>\n",
       "  <tbody>\n",
       "    <tr>\n",
       "      <th>count</th>\n",
       "      <td>2556.000000</td>\n",
       "      <td>2556.000000</td>\n",
       "      <td>2556.000000</td>\n",
       "      <td>2556.000000</td>\n",
       "    </tr>\n",
       "    <tr>\n",
       "      <th>mean</th>\n",
       "      <td>0.000992</td>\n",
       "      <td>0.000142</td>\n",
       "      <td>0.000435</td>\n",
       "      <td>0.002402</td>\n",
       "    </tr>\n",
       "    <tr>\n",
       "      <th>std</th>\n",
       "      <td>0.020664</td>\n",
       "      <td>0.021073</td>\n",
       "      <td>0.013851</td>\n",
       "      <td>0.036243</td>\n",
       "    </tr>\n",
       "    <tr>\n",
       "      <th>min</th>\n",
       "      <td>-0.140494</td>\n",
       "      <td>-0.151592</td>\n",
       "      <td>-0.077346</td>\n",
       "      <td>-0.210628</td>\n",
       "    </tr>\n",
       "    <tr>\n",
       "      <th>25%</th>\n",
       "      <td>-0.008605</td>\n",
       "      <td>-0.008570</td>\n",
       "      <td>-0.006263</td>\n",
       "      <td>-0.014902</td>\n",
       "    </tr>\n",
       "    <tr>\n",
       "      <th>50%</th>\n",
       "      <td>0.001071</td>\n",
       "      <td>0.000000</td>\n",
       "      <td>0.000000</td>\n",
       "      <td>0.001389</td>\n",
       "    </tr>\n",
       "    <tr>\n",
       "      <th>75%</th>\n",
       "      <td>0.011176</td>\n",
       "      <td>0.008606</td>\n",
       "      <td>0.006999</td>\n",
       "      <td>0.019245</td>\n",
       "    </tr>\n",
       "    <tr>\n",
       "      <th>max</th>\n",
       "      <td>0.141311</td>\n",
       "      <td>0.147300</td>\n",
       "      <td>0.108552</td>\n",
       "      <td>0.243951</td>\n",
       "    </tr>\n",
       "  </tbody>\n",
       "</table>\n",
       "</div>"
      ],
      "text/plain": [
       "              AMZN           GE          PFE         TSLA\n",
       "count  2556.000000  2556.000000  2556.000000  2556.000000\n",
       "mean      0.000992     0.000142     0.000435     0.002402\n",
       "std       0.020664     0.021073     0.013851     0.036243\n",
       "min      -0.140494    -0.151592    -0.077346    -0.210628\n",
       "25%      -0.008605    -0.008570    -0.006263    -0.014902\n",
       "50%       0.001071     0.000000     0.000000     0.001389\n",
       "75%       0.011176     0.008606     0.006999     0.019245\n",
       "max       0.141311     0.147300     0.108552     0.243951"
      ]
     },
     "execution_count": 7,
     "metadata": {},
     "output_type": "execute_result"
    }
   ],
   "source": [
    "px_ret.describe()"
   ]
  },
  {
   "attachments": {},
   "cell_type": "markdown",
   "id": "5901f0c9-0770-4f20-b1a7-b4e07af2340f",
   "metadata": {},
   "source": [
    "The first big indicator is that the median of daily returns is 0. This means that it is just as likely to have a daily loss as it would have a gain. Tesla seems to have more volatility relative to the other stocks so it makes sence that their variance of returns would be much larger.\n",
    "\n",
    "\n",
    "Now calculate the correlation matrix for these returns. This should just be one line of code!"
   ]
  },
  {
   "cell_type": "code",
   "execution_count": 8,
   "id": "dfe8d98c-fd1c-4eae-9a73-7d35378c7c47",
   "metadata": {},
   "outputs": [
    {
     "data": {
      "text/html": [
       "<div>\n",
       "<style scoped>\n",
       "    .dataframe tbody tr th:only-of-type {\n",
       "        vertical-align: middle;\n",
       "    }\n",
       "\n",
       "    .dataframe tbody tr th {\n",
       "        vertical-align: top;\n",
       "    }\n",
       "\n",
       "    .dataframe thead th {\n",
       "        text-align: right;\n",
       "    }\n",
       "</style>\n",
       "<table border=\"1\" class=\"dataframe\">\n",
       "  <thead>\n",
       "    <tr style=\"text-align: right;\">\n",
       "      <th></th>\n",
       "      <th>AMZN</th>\n",
       "      <th>GE</th>\n",
       "      <th>PFE</th>\n",
       "      <th>TSLA</th>\n",
       "    </tr>\n",
       "  </thead>\n",
       "  <tbody>\n",
       "    <tr>\n",
       "      <th>AMZN</th>\n",
       "      <td>1.000000</td>\n",
       "      <td>0.243291</td>\n",
       "      <td>0.234330</td>\n",
       "      <td>0.371136</td>\n",
       "    </tr>\n",
       "    <tr>\n",
       "      <th>GE</th>\n",
       "      <td>0.243291</td>\n",
       "      <td>1.000000</td>\n",
       "      <td>0.287196</td>\n",
       "      <td>0.215416</td>\n",
       "    </tr>\n",
       "    <tr>\n",
       "      <th>PFE</th>\n",
       "      <td>0.234330</td>\n",
       "      <td>0.287196</td>\n",
       "      <td>1.000000</td>\n",
       "      <td>0.123169</td>\n",
       "    </tr>\n",
       "    <tr>\n",
       "      <th>TSLA</th>\n",
       "      <td>0.371136</td>\n",
       "      <td>0.215416</td>\n",
       "      <td>0.123169</td>\n",
       "      <td>1.000000</td>\n",
       "    </tr>\n",
       "  </tbody>\n",
       "</table>\n",
       "</div>"
      ],
      "text/plain": [
       "          AMZN        GE       PFE      TSLA\n",
       "AMZN  1.000000  0.243291  0.234330  0.371136\n",
       "GE    0.243291  1.000000  0.287196  0.215416\n",
       "PFE   0.234330  0.287196  1.000000  0.123169\n",
       "TSLA  0.371136  0.215416  0.123169  1.000000"
      ]
     },
     "execution_count": 8,
     "metadata": {},
     "output_type": "execute_result"
    }
   ],
   "source": [
    "px_ret.corr()"
   ]
  },
  {
   "cell_type": "markdown",
   "id": "other-newton",
   "metadata": {},
   "source": [
    "This function takes a DataFrame and returns a “long” DataFrame of pairwise correlations:"
   ]
  },
  {
   "cell_type": "code",
   "execution_count": 9,
   "id": "satellite-photography",
   "metadata": {},
   "outputs": [],
   "source": [
    "def pairwise_corr(df):\n",
    "    corrs = df.corr()\n",
    "    corrs = corrs.unstack().reset_index()\n",
    "    corrs.columns = ['tic1', 'tic2', 'corr']\n",
    "    corrs = corrs[corrs['corr']<1]\n",
    "    return corrs"
   ]
  },
  {
   "attachments": {},
   "cell_type": "markdown",
   "id": "98833c9f",
   "metadata": {},
   "source": [
    "Purpose of next two boxes of code are just to get a better understanding of the indexes by including the perfect correlation values as well."
   ]
  },
  {
   "cell_type": "code",
   "execution_count": 10,
   "id": "8594125d",
   "metadata": {},
   "outputs": [],
   "source": [
    "def pairwise_corr_full(df):\n",
    "    corrs = df.corr()\n",
    "    corrs = corrs.unstack().reset_index()\n",
    "    corrs.columns = ['tic1', 'tic2', 'corr']\n",
    "    return corrs"
   ]
  },
  {
   "cell_type": "code",
   "execution_count": 11,
   "id": "d22de39f",
   "metadata": {},
   "outputs": [
    {
     "data": {
      "text/html": [
       "<div>\n",
       "<style scoped>\n",
       "    .dataframe tbody tr th:only-of-type {\n",
       "        vertical-align: middle;\n",
       "    }\n",
       "\n",
       "    .dataframe tbody tr th {\n",
       "        vertical-align: top;\n",
       "    }\n",
       "\n",
       "    .dataframe thead th {\n",
       "        text-align: right;\n",
       "    }\n",
       "</style>\n",
       "<table border=\"1\" class=\"dataframe\">\n",
       "  <thead>\n",
       "    <tr style=\"text-align: right;\">\n",
       "      <th></th>\n",
       "      <th>tic1</th>\n",
       "      <th>tic2</th>\n",
       "      <th>corr</th>\n",
       "    </tr>\n",
       "  </thead>\n",
       "  <tbody>\n",
       "    <tr>\n",
       "      <th>0</th>\n",
       "      <td>AMZN</td>\n",
       "      <td>AMZN</td>\n",
       "      <td>1.000000</td>\n",
       "    </tr>\n",
       "    <tr>\n",
       "      <th>1</th>\n",
       "      <td>AMZN</td>\n",
       "      <td>GE</td>\n",
       "      <td>0.243291</td>\n",
       "    </tr>\n",
       "    <tr>\n",
       "      <th>2</th>\n",
       "      <td>AMZN</td>\n",
       "      <td>PFE</td>\n",
       "      <td>0.234330</td>\n",
       "    </tr>\n",
       "    <tr>\n",
       "      <th>3</th>\n",
       "      <td>AMZN</td>\n",
       "      <td>TSLA</td>\n",
       "      <td>0.371136</td>\n",
       "    </tr>\n",
       "    <tr>\n",
       "      <th>4</th>\n",
       "      <td>GE</td>\n",
       "      <td>AMZN</td>\n",
       "      <td>0.243291</td>\n",
       "    </tr>\n",
       "    <tr>\n",
       "      <th>5</th>\n",
       "      <td>GE</td>\n",
       "      <td>GE</td>\n",
       "      <td>1.000000</td>\n",
       "    </tr>\n",
       "    <tr>\n",
       "      <th>6</th>\n",
       "      <td>GE</td>\n",
       "      <td>PFE</td>\n",
       "      <td>0.287196</td>\n",
       "    </tr>\n",
       "    <tr>\n",
       "      <th>7</th>\n",
       "      <td>GE</td>\n",
       "      <td>TSLA</td>\n",
       "      <td>0.215416</td>\n",
       "    </tr>\n",
       "    <tr>\n",
       "      <th>8</th>\n",
       "      <td>PFE</td>\n",
       "      <td>AMZN</td>\n",
       "      <td>0.234330</td>\n",
       "    </tr>\n",
       "    <tr>\n",
       "      <th>9</th>\n",
       "      <td>PFE</td>\n",
       "      <td>GE</td>\n",
       "      <td>0.287196</td>\n",
       "    </tr>\n",
       "    <tr>\n",
       "      <th>10</th>\n",
       "      <td>PFE</td>\n",
       "      <td>PFE</td>\n",
       "      <td>1.000000</td>\n",
       "    </tr>\n",
       "    <tr>\n",
       "      <th>11</th>\n",
       "      <td>PFE</td>\n",
       "      <td>TSLA</td>\n",
       "      <td>0.123169</td>\n",
       "    </tr>\n",
       "    <tr>\n",
       "      <th>12</th>\n",
       "      <td>TSLA</td>\n",
       "      <td>AMZN</td>\n",
       "      <td>0.371136</td>\n",
       "    </tr>\n",
       "    <tr>\n",
       "      <th>13</th>\n",
       "      <td>TSLA</td>\n",
       "      <td>GE</td>\n",
       "      <td>0.215416</td>\n",
       "    </tr>\n",
       "    <tr>\n",
       "      <th>14</th>\n",
       "      <td>TSLA</td>\n",
       "      <td>PFE</td>\n",
       "      <td>0.123169</td>\n",
       "    </tr>\n",
       "    <tr>\n",
       "      <th>15</th>\n",
       "      <td>TSLA</td>\n",
       "      <td>TSLA</td>\n",
       "      <td>1.000000</td>\n",
       "    </tr>\n",
       "  </tbody>\n",
       "</table>\n",
       "</div>"
      ],
      "text/plain": [
       "    tic1  tic2      corr\n",
       "0   AMZN  AMZN  1.000000\n",
       "1   AMZN    GE  0.243291\n",
       "2   AMZN   PFE  0.234330\n",
       "3   AMZN  TSLA  0.371136\n",
       "4     GE  AMZN  0.243291\n",
       "5     GE    GE  1.000000\n",
       "6     GE   PFE  0.287196\n",
       "7     GE  TSLA  0.215416\n",
       "8    PFE  AMZN  0.234330\n",
       "9    PFE    GE  0.287196\n",
       "10   PFE   PFE  1.000000\n",
       "11   PFE  TSLA  0.123169\n",
       "12  TSLA  AMZN  0.371136\n",
       "13  TSLA    GE  0.215416\n",
       "14  TSLA   PFE  0.123169\n",
       "15  TSLA  TSLA  1.000000"
      ]
     },
     "execution_count": 11,
     "metadata": {},
     "output_type": "execute_result"
    }
   ],
   "source": [
    "pairwise_corr_full(px_ret)"
   ]
  },
  {
   "cell_type": "markdown",
   "id": "former-nutrition",
   "metadata": {},
   "source": [
    "Call this function with the returns data. Does the number of rows in the result make sense? Why?\n",
    "\n",
    "Hint: Pay close attention to the index here!"
   ]
  },
  {
   "cell_type": "code",
   "execution_count": 12,
   "id": "a0f9ac26-6af8-442c-b219-0bf507e783ff",
   "metadata": {},
   "outputs": [
    {
     "data": {
      "text/html": [
       "<div>\n",
       "<style scoped>\n",
       "    .dataframe tbody tr th:only-of-type {\n",
       "        vertical-align: middle;\n",
       "    }\n",
       "\n",
       "    .dataframe tbody tr th {\n",
       "        vertical-align: top;\n",
       "    }\n",
       "\n",
       "    .dataframe thead th {\n",
       "        text-align: right;\n",
       "    }\n",
       "</style>\n",
       "<table border=\"1\" class=\"dataframe\">\n",
       "  <thead>\n",
       "    <tr style=\"text-align: right;\">\n",
       "      <th></th>\n",
       "      <th>tic1</th>\n",
       "      <th>tic2</th>\n",
       "      <th>corr</th>\n",
       "    </tr>\n",
       "  </thead>\n",
       "  <tbody>\n",
       "    <tr>\n",
       "      <th>1</th>\n",
       "      <td>AMZN</td>\n",
       "      <td>GE</td>\n",
       "      <td>0.243291</td>\n",
       "    </tr>\n",
       "    <tr>\n",
       "      <th>2</th>\n",
       "      <td>AMZN</td>\n",
       "      <td>PFE</td>\n",
       "      <td>0.234330</td>\n",
       "    </tr>\n",
       "    <tr>\n",
       "      <th>3</th>\n",
       "      <td>AMZN</td>\n",
       "      <td>TSLA</td>\n",
       "      <td>0.371136</td>\n",
       "    </tr>\n",
       "    <tr>\n",
       "      <th>4</th>\n",
       "      <td>GE</td>\n",
       "      <td>AMZN</td>\n",
       "      <td>0.243291</td>\n",
       "    </tr>\n",
       "    <tr>\n",
       "      <th>6</th>\n",
       "      <td>GE</td>\n",
       "      <td>PFE</td>\n",
       "      <td>0.287196</td>\n",
       "    </tr>\n",
       "    <tr>\n",
       "      <th>7</th>\n",
       "      <td>GE</td>\n",
       "      <td>TSLA</td>\n",
       "      <td>0.215416</td>\n",
       "    </tr>\n",
       "    <tr>\n",
       "      <th>8</th>\n",
       "      <td>PFE</td>\n",
       "      <td>AMZN</td>\n",
       "      <td>0.234330</td>\n",
       "    </tr>\n",
       "    <tr>\n",
       "      <th>9</th>\n",
       "      <td>PFE</td>\n",
       "      <td>GE</td>\n",
       "      <td>0.287196</td>\n",
       "    </tr>\n",
       "    <tr>\n",
       "      <th>11</th>\n",
       "      <td>PFE</td>\n",
       "      <td>TSLA</td>\n",
       "      <td>0.123169</td>\n",
       "    </tr>\n",
       "    <tr>\n",
       "      <th>12</th>\n",
       "      <td>TSLA</td>\n",
       "      <td>AMZN</td>\n",
       "      <td>0.371136</td>\n",
       "    </tr>\n",
       "    <tr>\n",
       "      <th>13</th>\n",
       "      <td>TSLA</td>\n",
       "      <td>GE</td>\n",
       "      <td>0.215416</td>\n",
       "    </tr>\n",
       "    <tr>\n",
       "      <th>14</th>\n",
       "      <td>TSLA</td>\n",
       "      <td>PFE</td>\n",
       "      <td>0.123169</td>\n",
       "    </tr>\n",
       "  </tbody>\n",
       "</table>\n",
       "</div>"
      ],
      "text/plain": [
       "    tic1  tic2      corr\n",
       "1   AMZN    GE  0.243291\n",
       "2   AMZN   PFE  0.234330\n",
       "3   AMZN  TSLA  0.371136\n",
       "4     GE  AMZN  0.243291\n",
       "6     GE   PFE  0.287196\n",
       "7     GE  TSLA  0.215416\n",
       "8    PFE  AMZN  0.234330\n",
       "9    PFE    GE  0.287196\n",
       "11   PFE  TSLA  0.123169\n",
       "12  TSLA  AMZN  0.371136\n",
       "13  TSLA    GE  0.215416\n",
       "14  TSLA   PFE  0.123169"
      ]
     },
     "execution_count": 12,
     "metadata": {},
     "output_type": "execute_result"
    }
   ],
   "source": [
    "pair_corr = pairwise_corr(px_ret)\n",
    "pair_corr"
   ]
  },
  {
   "attachments": {},
   "cell_type": "markdown",
   "id": "16203e6e",
   "metadata": {},
   "source": [
    "This makes sense. There are 16 overall correlations in the table. However, we can get rid of the correlations of each ticker upon itself which reduces 16 to 12 points. "
   ]
  },
  {
   "cell_type": "markdown",
   "id": "individual-cream",
   "metadata": {},
   "source": [
    "What is the *average* correlation of these firms?"
   ]
  },
  {
   "cell_type": "code",
   "execution_count": 13,
   "id": "c3ab0976-5535-44a4-bb4c-ee3d07b612b4",
   "metadata": {},
   "outputs": [
    {
     "name": "stderr",
     "output_type": "stream",
     "text": [
      "C:\\Users\\Varun\\AppData\\Local\\Temp\\ipykernel_11772\\1221470991.py:1: FutureWarning: Dropping of nuisance columns in DataFrame reductions (with 'numeric_only=None') is deprecated; in a future version this will raise TypeError.  Select only valid columns before calling the reduction.\n",
      "  avg_corr = pair_corr.mean()\n"
     ]
    },
    {
     "data": {
      "text/plain": [
       "0.2457562442050616"
      ]
     },
     "execution_count": 13,
     "metadata": {},
     "output_type": "execute_result"
    }
   ],
   "source": [
    "avg_corr = pair_corr.mean()\n",
    "avg_corr['corr']"
   ]
  },
  {
   "attachments": {},
   "cell_type": "markdown",
   "id": "3690d2ec",
   "metadata": {},
   "source": [
    "The average correlation between these pairs of stocks is 0.25."
   ]
  },
  {
   "cell_type": "markdown",
   "id": "1d7f3eca-9f4d-421a-9a7c-3e399f217bcb",
   "metadata": {},
   "source": [
    "Since each pair appears twice, the mean calculation is correct, but if we want to calculate the standard deviation of these correlations, we must be careful to keep only one value for each pair.\n",
    "\n",
    "One trick for doing this is to require that `tic1` is less than (or, if you prefer, greater than) `tic2`. In other words, just require that the row we keep has the first ticker appear before the second ticker in an alpabetical ordering.\n",
    "\n",
    "Using this approach, calculate the standard deviation of the correlations."
   ]
  },
  {
   "cell_type": "code",
   "execution_count": 14,
   "id": "e7e63998-6a25-4da8-8442-da5f3f17e3ee",
   "metadata": {},
   "outputs": [
    {
     "name": "stderr",
     "output_type": "stream",
     "text": [
      "C:\\Users\\Varun\\AppData\\Local\\Temp\\ipykernel_11772\\1687377773.py:1: FutureWarning: Dropping of nuisance columns in DataFrame reductions (with 'numeric_only=None') is deprecated; in a future version this will raise TypeError.  Select only valid columns before calling the reduction.\n",
      "  std_corr = pair_corr[pair_corr['tic1'] < pair_corr['tic2']].std()\n"
     ]
    },
    {
     "data": {
      "text/plain": [
       "0.08188066123846939"
      ]
     },
     "execution_count": 14,
     "metadata": {},
     "output_type": "execute_result"
    }
   ],
   "source": [
    "std_corr = pair_corr[pair_corr['tic1'] < pair_corr['tic2']].std()\n",
    "std_corr['corr']"
   ]
  },
  {
   "cell_type": "markdown",
   "id": "arctic-cardiff",
   "metadata": {},
   "source": [
    "Take the code you just wrote and build a *function* that takes a DataFrame and returns a single number giving the *average* pairwise correlation across firms. Test your function on the data returns data you used above."
   ]
  },
  {
   "cell_type": "code",
   "execution_count": 15,
   "id": "6769ddfd-c5b9-4aa5-b74d-bc1e5fde1f88",
   "metadata": {},
   "outputs": [
    {
     "name": "stderr",
     "output_type": "stream",
     "text": [
      "C:\\Users\\Varun\\AppData\\Local\\Temp\\ipykernel_11772\\710569115.py:6: FutureWarning: Dropping of nuisance columns in DataFrame reductions (with 'numeric_only=None') is deprecated; in a future version this will raise TypeError.  Select only valid columns before calling the reduction.\n",
      "  return corrs.mean()\n"
     ]
    },
    {
     "data": {
      "text/plain": [
       "corr    0.245756\n",
       "dtype: float64"
      ]
     },
     "execution_count": 15,
     "metadata": {},
     "output_type": "execute_result"
    }
   ],
   "source": [
    "def pairwise_corr_avg(df):\n",
    "    corrs = df.corr()\n",
    "    corrs = corrs.unstack().reset_index()\n",
    "    corrs.columns = ['tic1', 'tic2', 'corr']\n",
    "    corrs = corrs[corrs['corr']<1]\n",
    "    return corrs.mean()\n",
    "\n",
    "pairwise_corr_avg(px_ret)"
   ]
  },
  {
   "cell_type": "markdown",
   "id": "6d864c66-06f2-44f0-b77e-0e69cd756b1e",
   "metadata": {},
   "source": [
    "Use `groupby` to calculate the average pairwise correlation in each year by using `apply` to apply the function you just created to the data by year.\n",
    "\n",
    "Discuss anything you notice about the result."
   ]
  },
  {
   "cell_type": "markdown",
   "id": "63c82c5f-3dd4-4ed6-b694-3a5290d6026b",
   "metadata": {},
   "source": [
    "Hint: When you have an index with a datetime value you can pass an argument like this to group by year:\n",
    "\n",
    "`df.gropuby(df.index.year)`"
   ]
  },
  {
   "cell_type": "code",
   "execution_count": 16,
   "id": "e2ea1bf4-d436-4d53-92f2-645b83912960",
   "metadata": {},
   "outputs": [
    {
     "name": "stderr",
     "output_type": "stream",
     "text": [
      "C:\\Users\\Varun\\AppData\\Local\\Temp\\ipykernel_11772\\710569115.py:6: FutureWarning: Dropping of nuisance columns in DataFrame reductions (with 'numeric_only=None') is deprecated; in a future version this will raise TypeError.  Select only valid columns before calling the reduction.\n",
      "  return corrs.mean()\n",
      "C:\\Users\\Varun\\AppData\\Local\\Temp\\ipykernel_11772\\710569115.py:6: FutureWarning: Dropping of nuisance columns in DataFrame reductions (with 'numeric_only=None') is deprecated; in a future version this will raise TypeError.  Select only valid columns before calling the reduction.\n",
      "  return corrs.mean()\n",
      "C:\\Users\\Varun\\AppData\\Local\\Temp\\ipykernel_11772\\710569115.py:6: FutureWarning: Dropping of nuisance columns in DataFrame reductions (with 'numeric_only=None') is deprecated; in a future version this will raise TypeError.  Select only valid columns before calling the reduction.\n",
      "  return corrs.mean()\n",
      "C:\\Users\\Varun\\AppData\\Local\\Temp\\ipykernel_11772\\710569115.py:6: FutureWarning: Dropping of nuisance columns in DataFrame reductions (with 'numeric_only=None') is deprecated; in a future version this will raise TypeError.  Select only valid columns before calling the reduction.\n",
      "  return corrs.mean()\n",
      "C:\\Users\\Varun\\AppData\\Local\\Temp\\ipykernel_11772\\710569115.py:6: FutureWarning: Dropping of nuisance columns in DataFrame reductions (with 'numeric_only=None') is deprecated; in a future version this will raise TypeError.  Select only valid columns before calling the reduction.\n",
      "  return corrs.mean()\n",
      "C:\\Users\\Varun\\AppData\\Local\\Temp\\ipykernel_11772\\710569115.py:6: FutureWarning: Dropping of nuisance columns in DataFrame reductions (with 'numeric_only=None') is deprecated; in a future version this will raise TypeError.  Select only valid columns before calling the reduction.\n",
      "  return corrs.mean()\n",
      "C:\\Users\\Varun\\AppData\\Local\\Temp\\ipykernel_11772\\710569115.py:6: FutureWarning: Dropping of nuisance columns in DataFrame reductions (with 'numeric_only=None') is deprecated; in a future version this will raise TypeError.  Select only valid columns before calling the reduction.\n",
      "  return corrs.mean()\n",
      "C:\\Users\\Varun\\AppData\\Local\\Temp\\ipykernel_11772\\710569115.py:6: FutureWarning: Dropping of nuisance columns in DataFrame reductions (with 'numeric_only=None') is deprecated; in a future version this will raise TypeError.  Select only valid columns before calling the reduction.\n",
      "  return corrs.mean()\n",
      "C:\\Users\\Varun\\AppData\\Local\\Temp\\ipykernel_11772\\710569115.py:6: FutureWarning: Dropping of nuisance columns in DataFrame reductions (with 'numeric_only=None') is deprecated; in a future version this will raise TypeError.  Select only valid columns before calling the reduction.\n",
      "  return corrs.mean()\n",
      "C:\\Users\\Varun\\AppData\\Local\\Temp\\ipykernel_11772\\710569115.py:6: FutureWarning: Dropping of nuisance columns in DataFrame reductions (with 'numeric_only=None') is deprecated; in a future version this will raise TypeError.  Select only valid columns before calling the reduction.\n",
      "  return corrs.mean()\n",
      "C:\\Users\\Varun\\AppData\\Local\\Temp\\ipykernel_11772\\710569115.py:6: FutureWarning: Dropping of nuisance columns in DataFrame reductions (with 'numeric_only=None') is deprecated; in a future version this will raise TypeError.  Select only valid columns before calling the reduction.\n",
      "  return corrs.mean()\n"
     ]
    },
    {
     "data": {
      "text/html": [
       "<div>\n",
       "<style scoped>\n",
       "    .dataframe tbody tr th:only-of-type {\n",
       "        vertical-align: middle;\n",
       "    }\n",
       "\n",
       "    .dataframe tbody tr th {\n",
       "        vertical-align: top;\n",
       "    }\n",
       "\n",
       "    .dataframe thead th {\n",
       "        text-align: right;\n",
       "    }\n",
       "</style>\n",
       "<table border=\"1\" class=\"dataframe\">\n",
       "  <thead>\n",
       "    <tr style=\"text-align: right;\">\n",
       "      <th></th>\n",
       "      <th>corr</th>\n",
       "    </tr>\n",
       "    <tr>\n",
       "      <th>Date</th>\n",
       "      <th></th>\n",
       "    </tr>\n",
       "  </thead>\n",
       "  <tbody>\n",
       "    <tr>\n",
       "      <th>2013</th>\n",
       "      <td>0.189607</td>\n",
       "    </tr>\n",
       "    <tr>\n",
       "      <th>2014</th>\n",
       "      <td>0.332307</td>\n",
       "    </tr>\n",
       "    <tr>\n",
       "      <th>2015</th>\n",
       "      <td>0.358399</td>\n",
       "    </tr>\n",
       "    <tr>\n",
       "      <th>2016</th>\n",
       "      <td>0.264868</td>\n",
       "    </tr>\n",
       "    <tr>\n",
       "      <th>2017</th>\n",
       "      <td>0.069284</td>\n",
       "    </tr>\n",
       "    <tr>\n",
       "      <th>2018</th>\n",
       "      <td>0.271396</td>\n",
       "    </tr>\n",
       "    <tr>\n",
       "      <th>2019</th>\n",
       "      <td>0.244282</td>\n",
       "    </tr>\n",
       "    <tr>\n",
       "      <th>2020</th>\n",
       "      <td>0.307069</td>\n",
       "    </tr>\n",
       "    <tr>\n",
       "      <th>2021</th>\n",
       "      <td>0.031235</td>\n",
       "    </tr>\n",
       "    <tr>\n",
       "      <th>2022</th>\n",
       "      <td>0.350194</td>\n",
       "    </tr>\n",
       "    <tr>\n",
       "      <th>2023</th>\n",
       "      <td>0.181536</td>\n",
       "    </tr>\n",
       "  </tbody>\n",
       "</table>\n",
       "</div>"
      ],
      "text/plain": [
       "          corr\n",
       "Date          \n",
       "2013  0.189607\n",
       "2014  0.332307\n",
       "2015  0.358399\n",
       "2016  0.264868\n",
       "2017  0.069284\n",
       "2018  0.271396\n",
       "2019  0.244282\n",
       "2020  0.307069\n",
       "2021  0.031235\n",
       "2022  0.350194\n",
       "2023  0.181536"
      ]
     },
     "execution_count": 16,
     "metadata": {},
     "output_type": "execute_result"
    }
   ],
   "source": [
    "px_ann = px_ret.groupby(px_ret.index.year).apply(pairwise_corr_avg)\n",
    "px_ann"
   ]
  },
  {
   "cell_type": "code",
   "execution_count": 44,
   "id": "48a6b45f",
   "metadata": {},
   "outputs": [
    {
     "data": {
      "text/plain": [
       "<AxesSubplot:xlabel='Date'>"
      ]
     },
     "execution_count": 44,
     "metadata": {},
     "output_type": "execute_result"
    },
    {
     "data": {
      "image/png": "[encoded data removed]",
      "text/plain": [
       "<Figure size 864x576 with 1 Axes>"
      ]
     },
     "metadata": {
      "needs_background": "light"
     },
     "output_type": "display_data"
    }
   ],
   "source": [
    "(px_ann).plot(figsize=(12,8), grid=True)"
   ]
  },
  {
   "attachments": {},
   "cell_type": "markdown",
   "id": "97de47ac",
   "metadata": {},
   "source": [
    "It seems during large bull market such as 2017 and 2021, the stocks are generally less correlated. Tesla in 2021 had a strong performance in the market relative to the other stocks in the portfolio, that might be a reason why correlations drop."
   ]
  },
  {
   "cell_type": "markdown",
   "id": "compact-design",
   "metadata": {},
   "source": [
    "## The Dow Jones Industrial Average"
   ]
  },
  {
   "cell_type": "markdown",
   "id": "formal-california",
   "metadata": {},
   "source": [
    "The code below creates a DataFrame from a table from Wikipedia containing the current components of the Dow Jones Industrial Average."
   ]
  },
  {
   "cell_type": "code",
   "execution_count": 17,
   "id": "closed-persian",
   "metadata": {},
   "outputs": [],
   "source": [
    "dow = pd.read_html('https://en.wikipedia.org/wiki/Dow_Jones_Industrial_Average')[1]"
   ]
  },
  {
   "cell_type": "code",
   "execution_count": 18,
   "id": "coupled-dakota",
   "metadata": {},
   "outputs": [
    {
     "data": {
      "text/html": [
       "<div>\n",
       "<style scoped>\n",
       "    .dataframe tbody tr th:only-of-type {\n",
       "        vertical-align: middle;\n",
       "    }\n",
       "\n",
       "    .dataframe tbody tr th {\n",
       "        vertical-align: top;\n",
       "    }\n",
       "\n",
       "    .dataframe thead th {\n",
       "        text-align: right;\n",
       "    }\n",
       "</style>\n",
       "<table border=\"1\" class=\"dataframe\">\n",
       "  <thead>\n",
       "    <tr style=\"text-align: right;\">\n",
       "      <th></th>\n",
       "      <th>Company</th>\n",
       "      <th>Exchange</th>\n",
       "      <th>Symbol</th>\n",
       "      <th>Industry</th>\n",
       "      <th>Date added</th>\n",
       "      <th>Notes</th>\n",
       "      <th>Index weighting</th>\n",
       "    </tr>\n",
       "  </thead>\n",
       "  <tbody>\n",
       "    <tr>\n",
       "      <th>0</th>\n",
       "      <td>3M</td>\n",
       "      <td>NYSE</td>\n",
       "      <td>MMM</td>\n",
       "      <td>Conglomerate</td>\n",
       "      <td>1976-08-09</td>\n",
       "      <td>As Minnesota Mining and Manufacturing</td>\n",
       "      <td>2.41%</td>\n",
       "    </tr>\n",
       "    <tr>\n",
       "      <th>1</th>\n",
       "      <td>American Express</td>\n",
       "      <td>NYSE</td>\n",
       "      <td>AXP</td>\n",
       "      <td>Financial services</td>\n",
       "      <td>1982-08-30</td>\n",
       "      <td>NaN</td>\n",
       "      <td>3.02%</td>\n",
       "    </tr>\n",
       "    <tr>\n",
       "      <th>2</th>\n",
       "      <td>Amgen</td>\n",
       "      <td>NASDAQ</td>\n",
       "      <td>AMGN</td>\n",
       "      <td>Biopharmaceutical</td>\n",
       "      <td>2020-08-31</td>\n",
       "      <td>NaN</td>\n",
       "      <td>5.48%</td>\n",
       "    </tr>\n",
       "    <tr>\n",
       "      <th>3</th>\n",
       "      <td>Apple</td>\n",
       "      <td>NASDAQ</td>\n",
       "      <td>AAPL</td>\n",
       "      <td>Information technology</td>\n",
       "      <td>2015-03-19</td>\n",
       "      <td>NaN</td>\n",
       "      <td>2.84%</td>\n",
       "    </tr>\n",
       "    <tr>\n",
       "      <th>4</th>\n",
       "      <td>Boeing</td>\n",
       "      <td>NYSE</td>\n",
       "      <td>BA</td>\n",
       "      <td>Aerospace and defense</td>\n",
       "      <td>1987-03-12</td>\n",
       "      <td>NaN</td>\n",
       "      <td>3.36%</td>\n",
       "    </tr>\n",
       "  </tbody>\n",
       "</table>\n",
       "</div>"
      ],
      "text/plain": [
       "            Company Exchange Symbol                Industry  Date added  \\\n",
       "0                3M     NYSE    MMM            Conglomerate  1976-08-09   \n",
       "1  American Express     NYSE    AXP      Financial services  1982-08-30   \n",
       "2             Amgen   NASDAQ   AMGN       Biopharmaceutical  2020-08-31   \n",
       "3             Apple   NASDAQ   AAPL  Information technology  2015-03-19   \n",
       "4            Boeing     NYSE     BA   Aerospace and defense  1987-03-12   \n",
       "\n",
       "                                   Notes Index weighting  \n",
       "0  As Minnesota Mining and Manufacturing           2.41%  \n",
       "1                                    NaN           3.02%  \n",
       "2                                    NaN           5.48%  \n",
       "3                                    NaN           2.84%  \n",
       "4                                    NaN           3.36%  "
      ]
     },
     "execution_count": 18,
     "metadata": {},
     "output_type": "execute_result"
    }
   ],
   "source": [
    "dow.head()"
   ]
  },
  {
   "cell_type": "markdown",
   "id": "adaptive-complaint",
   "metadata": {},
   "source": [
    "Use the `Symbol` column with the code from earlier to construct a new DataFrame of returns for these 30 stocks beginning in 2001.\n",
    "\n",
    "(These stocks have not all been part of the DJIA since 2001, but we'll use these companies as a sample anyway.)\n",
    "\n",
    "**Hint:** The YFinance download function takes a *list* of symbols. You can use the pandas `to_list()` method to get this."
   ]
  },
  {
   "cell_type": "code",
   "execution_count": 19,
   "id": "5ca50f63-c29d-4750-b488-9aa5a6eb777a",
   "metadata": {},
   "outputs": [
    {
     "name": "stdout",
     "output_type": "stream",
     "text": [
      "[*********************100%***********************]  30 of 30 completed\n"
     ]
    },
    {
     "data": {
      "text/html": [
       "<div>\n",
       "<style scoped>\n",
       "    .dataframe tbody tr th:only-of-type {\n",
       "        vertical-align: middle;\n",
       "    }\n",
       "\n",
       "    .dataframe tbody tr th {\n",
       "        vertical-align: top;\n",
       "    }\n",
       "\n",
       "    .dataframe thead th {\n",
       "        text-align: right;\n",
       "    }\n",
       "</style>\n",
       "<table border=\"1\" class=\"dataframe\">\n",
       "  <thead>\n",
       "    <tr style=\"text-align: right;\">\n",
       "      <th></th>\n",
       "      <th>AAPL</th>\n",
       "      <th>AMGN</th>\n",
       "      <th>AXP</th>\n",
       "      <th>BA</th>\n",
       "      <th>CAT</th>\n",
       "      <th>CRM</th>\n",
       "      <th>CSCO</th>\n",
       "      <th>CVX</th>\n",
       "      <th>DIS</th>\n",
       "      <th>DOW</th>\n",
       "      <th>...</th>\n",
       "      <th>MRK</th>\n",
       "      <th>MSFT</th>\n",
       "      <th>NKE</th>\n",
       "      <th>PG</th>\n",
       "      <th>TRV</th>\n",
       "      <th>UNH</th>\n",
       "      <th>V</th>\n",
       "      <th>VZ</th>\n",
       "      <th>WBA</th>\n",
       "      <th>WMT</th>\n",
       "    </tr>\n",
       "    <tr>\n",
       "      <th>Date</th>\n",
       "      <th></th>\n",
       "      <th></th>\n",
       "      <th></th>\n",
       "      <th></th>\n",
       "      <th></th>\n",
       "      <th></th>\n",
       "      <th></th>\n",
       "      <th></th>\n",
       "      <th></th>\n",
       "      <th></th>\n",
       "      <th></th>\n",
       "      <th></th>\n",
       "      <th></th>\n",
       "      <th></th>\n",
       "      <th></th>\n",
       "      <th></th>\n",
       "      <th></th>\n",
       "      <th></th>\n",
       "      <th></th>\n",
       "      <th></th>\n",
       "      <th></th>\n",
       "    </tr>\n",
       "  </thead>\n",
       "  <tbody>\n",
       "    <tr>\n",
       "      <th>2001-01-02</th>\n",
       "      <td>0.226078</td>\n",
       "      <td>46.719372</td>\n",
       "      <td>33.371292</td>\n",
       "      <td>40.507767</td>\n",
       "      <td>12.993834</td>\n",
       "      <td>NaN</td>\n",
       "      <td>23.468683</td>\n",
       "      <td>18.920996</td>\n",
       "      <td>21.765093</td>\n",
       "      <td>NaN</td>\n",
       "      <td>...</td>\n",
       "      <td>38.382969</td>\n",
       "      <td>13.530794</td>\n",
       "      <td>5.320995</td>\n",
       "      <td>21.605215</td>\n",
       "      <td>29.288425</td>\n",
       "      <td>12.032971</td>\n",
       "      <td>NaN</td>\n",
       "      <td>16.194725</td>\n",
       "      <td>26.583879</td>\n",
       "      <td>35.679668</td>\n",
       "    </tr>\n",
       "    <tr>\n",
       "      <th>2001-01-03</th>\n",
       "      <td>0.248876</td>\n",
       "      <td>49.830917</td>\n",
       "      <td>35.953503</td>\n",
       "      <td>40.875282</td>\n",
       "      <td>13.046443</td>\n",
       "      <td>NaN</td>\n",
       "      <td>29.104694</td>\n",
       "      <td>18.191689</td>\n",
       "      <td>24.199661</td>\n",
       "      <td>NaN</td>\n",
       "      <td>...</td>\n",
       "      <td>36.783680</td>\n",
       "      <td>14.954056</td>\n",
       "      <td>5.499184</td>\n",
       "      <td>20.538721</td>\n",
       "      <td>29.003378</td>\n",
       "      <td>11.675684</td>\n",
       "      <td>NaN</td>\n",
       "      <td>17.121286</td>\n",
       "      <td>25.566109</td>\n",
       "      <td>38.701271</td>\n",
       "    </tr>\n",
       "    <tr>\n",
       "      <th>2001-01-04</th>\n",
       "      <td>0.259325</td>\n",
       "      <td>46.580067</td>\n",
       "      <td>34.828720</td>\n",
       "      <td>39.854424</td>\n",
       "      <td>13.660186</td>\n",
       "      <td>NaN</td>\n",
       "      <td>29.500980</td>\n",
       "      <td>17.806385</td>\n",
       "      <td>24.881344</td>\n",
       "      <td>NaN</td>\n",
       "      <td>...</td>\n",
       "      <td>35.081219</td>\n",
       "      <td>15.110029</td>\n",
       "      <td>5.640502</td>\n",
       "      <td>19.902260</td>\n",
       "      <td>27.649395</td>\n",
       "      <td>10.859022</td>\n",
       "      <td>NaN</td>\n",
       "      <td>17.624855</td>\n",
       "      <td>24.304090</td>\n",
       "      <td>37.211151</td>\n",
       "    </tr>\n",
       "    <tr>\n",
       "      <th>2001-01-05</th>\n",
       "      <td>0.248876</td>\n",
       "      <td>43.329212</td>\n",
       "      <td>33.141495</td>\n",
       "      <td>38.384377</td>\n",
       "      <td>12.871082</td>\n",
       "      <td>NaN</td>\n",
       "      <td>25.802341</td>\n",
       "      <td>17.943993</td>\n",
       "      <td>24.540503</td>\n",
       "      <td>NaN</td>\n",
       "      <td>...</td>\n",
       "      <td>34.384747</td>\n",
       "      <td>15.324509</td>\n",
       "      <td>5.394729</td>\n",
       "      <td>20.624729</td>\n",
       "      <td>27.150572</td>\n",
       "      <td>11.012147</td>\n",
       "      <td>NaN</td>\n",
       "      <td>17.584570</td>\n",
       "      <td>24.751905</td>\n",
       "      <td>35.721058</td>\n",
       "    </tr>\n",
       "    <tr>\n",
       "      <th>2001-01-08</th>\n",
       "      <td>0.251726</td>\n",
       "      <td>43.607861</td>\n",
       "      <td>31.454302</td>\n",
       "      <td>38.547714</td>\n",
       "      <td>12.836009</td>\n",
       "      <td>NaN</td>\n",
       "      <td>25.747305</td>\n",
       "      <td>17.902708</td>\n",
       "      <td>23.469290</td>\n",
       "      <td>NaN</td>\n",
       "      <td>...</td>\n",
       "      <td>34.462124</td>\n",
       "      <td>15.266014</td>\n",
       "      <td>5.665081</td>\n",
       "      <td>21.071968</td>\n",
       "      <td>27.934448</td>\n",
       "      <td>10.973867</td>\n",
       "      <td>NaN</td>\n",
       "      <td>17.608105</td>\n",
       "      <td>24.955458</td>\n",
       "      <td>35.721058</td>\n",
       "    </tr>\n",
       "  </tbody>\n",
       "</table>\n",
       "<p>5 rows × 30 columns</p>\n",
       "</div>"
      ],
      "text/plain": [
       "                AAPL       AMGN        AXP         BA        CAT  CRM  \\\n",
       "Date                                                                    \n",
       "2001-01-02  0.226078  46.719372  33.371292  40.507767  12.993834  NaN   \n",
       "2001-01-03  0.248876  49.830917  35.953503  40.875282  13.046443  NaN   \n",
       "2001-01-04  0.259325  46.580067  34.828720  39.854424  13.660186  NaN   \n",
       "2001-01-05  0.248876  43.329212  33.141495  38.384377  12.871082  NaN   \n",
       "2001-01-08  0.251726  43.607861  31.454302  38.547714  12.836009  NaN   \n",
       "\n",
       "                 CSCO        CVX        DIS  DOW  ...        MRK       MSFT  \\\n",
       "Date                                              ...                         \n",
       "2001-01-02  23.468683  18.920996  21.765093  NaN  ...  38.382969  13.530794   \n",
       "2001-01-03  29.104694  18.191689  24.199661  NaN  ...  36.783680  14.954056   \n",
       "2001-01-04  29.500980  17.806385  24.881344  NaN  ...  35.081219  15.110029   \n",
       "2001-01-05  25.802341  17.943993  24.540503  NaN  ...  34.384747  15.324509   \n",
       "2001-01-08  25.747305  17.902708  23.469290  NaN  ...  34.462124  15.266014   \n",
       "\n",
       "                 NKE         PG        TRV        UNH   V         VZ  \\\n",
       "Date                                                                   \n",
       "2001-01-02  5.320995  21.605215  29.288425  12.032971 NaN  16.194725   \n",
       "2001-01-03  5.499184  20.538721  29.003378  11.675684 NaN  17.121286   \n",
       "2001-01-04  5.640502  19.902260  27.649395  10.859022 NaN  17.624855   \n",
       "2001-01-05  5.394729  20.624729  27.150572  11.012147 NaN  17.584570   \n",
       "2001-01-08  5.665081  21.071968  27.934448  10.973867 NaN  17.608105   \n",
       "\n",
       "                  WBA        WMT  \n",
       "Date                              \n",
       "2001-01-02  26.583879  35.679668  \n",
       "2001-01-03  25.566109  38.701271  \n",
       "2001-01-04  24.304090  37.211151  \n",
       "2001-01-05  24.751905  35.721058  \n",
       "2001-01-08  24.955458  35.721058  \n",
       "\n",
       "[5 rows x 30 columns]"
      ]
     },
     "execution_count": 19,
     "metadata": {},
     "output_type": "execute_result"
    }
   ],
   "source": [
    "company_lst = dow['Symbol']\n",
    "company_lst\n",
    "\n",
    "dji = yf.download(tickers= company_lst.to_list(),\n",
    "                   interval='1d',\n",
    "                   start='2001-01-01')\n",
    "\n",
    "dji = dji['Adj Close']\n",
    "\n",
    "dji.head()"
   ]
  },
  {
   "cell_type": "code",
   "execution_count": 20,
   "metadata": {},
   "outputs": [
    {
     "data": {
      "text/html": [
       "<div>\n",
       "<style scoped>\n",
       "    .dataframe tbody tr th:only-of-type {\n",
       "        vertical-align: middle;\n",
       "    }\n",
       "\n",
       "    .dataframe tbody tr th {\n",
       "        vertical-align: top;\n",
       "    }\n",
       "\n",
       "    .dataframe thead th {\n",
       "        text-align: right;\n",
       "    }\n",
       "</style>\n",
       "<table border=\"1\" class=\"dataframe\">\n",
       "  <thead>\n",
       "    <tr style=\"text-align: right;\">\n",
       "      <th></th>\n",
       "      <th>AAPL</th>\n",
       "      <th>AMGN</th>\n",
       "      <th>AXP</th>\n",
       "      <th>BA</th>\n",
       "      <th>CAT</th>\n",
       "      <th>CRM</th>\n",
       "      <th>CSCO</th>\n",
       "      <th>CVX</th>\n",
       "      <th>DIS</th>\n",
       "      <th>DOW</th>\n",
       "      <th>...</th>\n",
       "      <th>MRK</th>\n",
       "      <th>MSFT</th>\n",
       "      <th>NKE</th>\n",
       "      <th>PG</th>\n",
       "      <th>TRV</th>\n",
       "      <th>UNH</th>\n",
       "      <th>V</th>\n",
       "      <th>VZ</th>\n",
       "      <th>WBA</th>\n",
       "      <th>WMT</th>\n",
       "    </tr>\n",
       "    <tr>\n",
       "      <th>Date</th>\n",
       "      <th></th>\n",
       "      <th></th>\n",
       "      <th></th>\n",
       "      <th></th>\n",
       "      <th></th>\n",
       "      <th></th>\n",
       "      <th></th>\n",
       "      <th></th>\n",
       "      <th></th>\n",
       "      <th></th>\n",
       "      <th></th>\n",
       "      <th></th>\n",
       "      <th></th>\n",
       "      <th></th>\n",
       "      <th></th>\n",
       "      <th></th>\n",
       "      <th></th>\n",
       "      <th></th>\n",
       "      <th></th>\n",
       "      <th></th>\n",
       "      <th></th>\n",
       "    </tr>\n",
       "  </thead>\n",
       "  <tbody>\n",
       "    <tr>\n",
       "      <th>2001-01-02</th>\n",
       "      <td>NaN</td>\n",
       "      <td>NaN</td>\n",
       "      <td>NaN</td>\n",
       "      <td>NaN</td>\n",
       "      <td>NaN</td>\n",
       "      <td>NaN</td>\n",
       "      <td>NaN</td>\n",
       "      <td>NaN</td>\n",
       "      <td>NaN</td>\n",
       "      <td>NaN</td>\n",
       "      <td>...</td>\n",
       "      <td>NaN</td>\n",
       "      <td>NaN</td>\n",
       "      <td>NaN</td>\n",
       "      <td>NaN</td>\n",
       "      <td>NaN</td>\n",
       "      <td>NaN</td>\n",
       "      <td>NaN</td>\n",
       "      <td>NaN</td>\n",
       "      <td>NaN</td>\n",
       "      <td>NaN</td>\n",
       "    </tr>\n",
       "    <tr>\n",
       "      <th>2001-01-03</th>\n",
       "      <td>0.100841</td>\n",
       "      <td>0.066601</td>\n",
       "      <td>0.077378</td>\n",
       "      <td>0.009073</td>\n",
       "      <td>0.004049</td>\n",
       "      <td>NaN</td>\n",
       "      <td>0.240150</td>\n",
       "      <td>-0.038545</td>\n",
       "      <td>0.111857</td>\n",
       "      <td>NaN</td>\n",
       "      <td>...</td>\n",
       "      <td>-0.041667</td>\n",
       "      <td>0.105187</td>\n",
       "      <td>0.033488</td>\n",
       "      <td>-0.049363</td>\n",
       "      <td>-0.009732</td>\n",
       "      <td>-0.029692</td>\n",
       "      <td>NaN</td>\n",
       "      <td>0.057214</td>\n",
       "      <td>-0.038285</td>\n",
       "      <td>0.084687</td>\n",
       "    </tr>\n",
       "    <tr>\n",
       "      <th>2001-01-04</th>\n",
       "      <td>0.041985</td>\n",
       "      <td>-0.065238</td>\n",
       "      <td>-0.031284</td>\n",
       "      <td>-0.024975</td>\n",
       "      <td>0.047043</td>\n",
       "      <td>NaN</td>\n",
       "      <td>0.013616</td>\n",
       "      <td>-0.021180</td>\n",
       "      <td>0.028169</td>\n",
       "      <td>NaN</td>\n",
       "      <td>...</td>\n",
       "      <td>-0.046283</td>\n",
       "      <td>0.010430</td>\n",
       "      <td>0.025698</td>\n",
       "      <td>-0.030988</td>\n",
       "      <td>-0.046684</td>\n",
       "      <td>-0.069946</td>\n",
       "      <td>NaN</td>\n",
       "      <td>0.029412</td>\n",
       "      <td>-0.049363</td>\n",
       "      <td>-0.038503</td>\n",
       "    </tr>\n",
       "    <tr>\n",
       "      <th>2001-01-05</th>\n",
       "      <td>-0.040293</td>\n",
       "      <td>-0.069791</td>\n",
       "      <td>-0.048444</td>\n",
       "      <td>-0.036885</td>\n",
       "      <td>-0.057767</td>\n",
       "      <td>NaN</td>\n",
       "      <td>-0.125373</td>\n",
       "      <td>0.007728</td>\n",
       "      <td>-0.013699</td>\n",
       "      <td>NaN</td>\n",
       "      <td>...</td>\n",
       "      <td>-0.019853</td>\n",
       "      <td>0.014195</td>\n",
       "      <td>-0.043573</td>\n",
       "      <td>0.036301</td>\n",
       "      <td>-0.018041</td>\n",
       "      <td>0.014101</td>\n",
       "      <td>NaN</td>\n",
       "      <td>-0.002286</td>\n",
       "      <td>0.018425</td>\n",
       "      <td>-0.040044</td>\n",
       "    </tr>\n",
       "    <tr>\n",
       "      <th>2001-01-08</th>\n",
       "      <td>0.011450</td>\n",
       "      <td>0.006431</td>\n",
       "      <td>-0.050909</td>\n",
       "      <td>0.004255</td>\n",
       "      <td>-0.002725</td>\n",
       "      <td>NaN</td>\n",
       "      <td>-0.002133</td>\n",
       "      <td>-0.002301</td>\n",
       "      <td>-0.043651</td>\n",
       "      <td>NaN</td>\n",
       "      <td>...</td>\n",
       "      <td>0.002250</td>\n",
       "      <td>-0.003817</td>\n",
       "      <td>0.050114</td>\n",
       "      <td>0.021685</td>\n",
       "      <td>0.028871</td>\n",
       "      <td>-0.003476</td>\n",
       "      <td>NaN</td>\n",
       "      <td>0.001338</td>\n",
       "      <td>0.008224</td>\n",
       "      <td>0.000000</td>\n",
       "    </tr>\n",
       "  </tbody>\n",
       "</table>\n",
       "<p>5 rows × 30 columns</p>\n",
       "</div>"
      ],
      "text/plain": [
       "                AAPL      AMGN       AXP        BA       CAT  CRM      CSCO  \\\n",
       "Date                                                                          \n",
       "2001-01-02       NaN       NaN       NaN       NaN       NaN  NaN       NaN   \n",
       "2001-01-03  0.100841  0.066601  0.077378  0.009073  0.004049  NaN  0.240150   \n",
       "2001-01-04  0.041985 -0.065238 -0.031284 -0.024975  0.047043  NaN  0.013616   \n",
       "2001-01-05 -0.040293 -0.069791 -0.048444 -0.036885 -0.057767  NaN -0.125373   \n",
       "2001-01-08  0.011450  0.006431 -0.050909  0.004255 -0.002725  NaN -0.002133   \n",
       "\n",
       "                 CVX       DIS  DOW  ...       MRK      MSFT       NKE  \\\n",
       "Date                                 ...                                 \n",
       "2001-01-02       NaN       NaN  NaN  ...       NaN       NaN       NaN   \n",
       "2001-01-03 -0.038545  0.111857  NaN  ... -0.041667  0.105187  0.033488   \n",
       "2001-01-04 -0.021180  0.028169  NaN  ... -0.046283  0.010430  0.025698   \n",
       "2001-01-05  0.007728 -0.013699  NaN  ... -0.019853  0.014195 -0.043573   \n",
       "2001-01-08 -0.002301 -0.043651  NaN  ...  0.002250 -0.003817  0.050114   \n",
       "\n",
       "                  PG       TRV       UNH   V        VZ       WBA       WMT  \n",
       "Date                                                                        \n",
       "2001-01-02       NaN       NaN       NaN NaN       NaN       NaN       NaN  \n",
       "2001-01-03 -0.049363 -0.009732 -0.029692 NaN  0.057214 -0.038285  0.084687  \n",
       "2001-01-04 -0.030988 -0.046684 -0.069946 NaN  0.029412 -0.049363 -0.038503  \n",
       "2001-01-05  0.036301 -0.018041  0.014101 NaN -0.002286  0.018425 -0.040044  \n",
       "2001-01-08  0.021685  0.028871 -0.003476 NaN  0.001338  0.008224  0.000000  \n",
       "\n",
       "[5 rows x 30 columns]"
      ]
     },
     "execution_count": 20,
     "metadata": {},
     "output_type": "execute_result"
    }
   ],
   "source": [
    "dji_ret = dji.pct_change()\n",
    "dji_ret.head()"
   ]
  },
  {
   "cell_type": "markdown",
   "id": "generic-lambda",
   "metadata": {},
   "source": [
    "Calculate the correlation matrix for these stocks. Verify that the number of rows and columns in the matrix makes sense."
   ]
  },
  {
   "cell_type": "code",
   "execution_count": 21,
   "id": "8832ff79-2174-4351-a194-b687f6ab1a4e",
   "metadata": {},
   "outputs": [
    {
     "data": {
      "text/html": [
       "<div>\n",
       "<style scoped>\n",
       "    .dataframe tbody tr th:only-of-type {\n",
       "        vertical-align: middle;\n",
       "    }\n",
       "\n",
       "    .dataframe tbody tr th {\n",
       "        vertical-align: top;\n",
       "    }\n",
       "\n",
       "    .dataframe thead th {\n",
       "        text-align: right;\n",
       "    }\n",
       "</style>\n",
       "<table border=\"1\" class=\"dataframe\">\n",
       "  <thead>\n",
       "    <tr style=\"text-align: right;\">\n",
       "      <th></th>\n",
       "      <th>AAPL</th>\n",
       "      <th>AMGN</th>\n",
       "      <th>AXP</th>\n",
       "      <th>BA</th>\n",
       "      <th>CAT</th>\n",
       "      <th>CRM</th>\n",
       "      <th>CSCO</th>\n",
       "      <th>CVX</th>\n",
       "      <th>DIS</th>\n",
       "      <th>DOW</th>\n",
       "      <th>...</th>\n",
       "      <th>MRK</th>\n",
       "      <th>MSFT</th>\n",
       "      <th>NKE</th>\n",
       "      <th>PG</th>\n",
       "      <th>TRV</th>\n",
       "      <th>UNH</th>\n",
       "      <th>V</th>\n",
       "      <th>VZ</th>\n",
       "      <th>WBA</th>\n",
       "      <th>WMT</th>\n",
       "    </tr>\n",
       "  </thead>\n",
       "  <tbody>\n",
       "    <tr>\n",
       "      <th>AAPL</th>\n",
       "      <td>1.000000</td>\n",
       "      <td>0.903703</td>\n",
       "      <td>0.933569</td>\n",
       "      <td>0.594981</td>\n",
       "      <td>0.937192</td>\n",
       "      <td>0.909496</td>\n",
       "      <td>0.886799</td>\n",
       "      <td>0.801930</td>\n",
       "      <td>0.812324</td>\n",
       "      <td>0.728994</td>\n",
       "      <td>...</td>\n",
       "      <td>0.898877</td>\n",
       "      <td>0.987452</td>\n",
       "      <td>0.947342</td>\n",
       "      <td>0.952362</td>\n",
       "      <td>0.883195</td>\n",
       "      <td>0.971782</td>\n",
       "      <td>0.921568</td>\n",
       "      <td>0.790783</td>\n",
       "      <td>0.342524</td>\n",
       "      <td>0.952975</td>\n",
       "    </tr>\n",
       "    <tr>\n",
       "      <th>AMGN</th>\n",
       "      <td>0.903703</td>\n",
       "      <td>1.000000</td>\n",
       "      <td>0.930106</td>\n",
       "      <td>0.792635</td>\n",
       "      <td>0.910321</td>\n",
       "      <td>0.927718</td>\n",
       "      <td>0.921918</td>\n",
       "      <td>0.845830</td>\n",
       "      <td>0.922189</td>\n",
       "      <td>0.474237</td>\n",
       "      <td>...</td>\n",
       "      <td>0.961120</td>\n",
       "      <td>0.901397</td>\n",
       "      <td>0.946771</td>\n",
       "      <td>0.952429</td>\n",
       "      <td>0.963189</td>\n",
       "      <td>0.946141</td>\n",
       "      <td>0.965485</td>\n",
       "      <td>0.925015</td>\n",
       "      <td>0.620905</td>\n",
       "      <td>0.958267</td>\n",
       "    </tr>\n",
       "    <tr>\n",
       "      <th>AXP</th>\n",
       "      <td>0.933569</td>\n",
       "      <td>0.930106</td>\n",
       "      <td>1.000000</td>\n",
       "      <td>0.762663</td>\n",
       "      <td>0.957676</td>\n",
       "      <td>0.912127</td>\n",
       "      <td>0.932933</td>\n",
       "      <td>0.886234</td>\n",
       "      <td>0.892336</td>\n",
       "      <td>0.853869</td>\n",
       "      <td>...</td>\n",
       "      <td>0.929625</td>\n",
       "      <td>0.930635</td>\n",
       "      <td>0.947712</td>\n",
       "      <td>0.956986</td>\n",
       "      <td>0.949903</td>\n",
       "      <td>0.951475</td>\n",
       "      <td>0.938097</td>\n",
       "      <td>0.875405</td>\n",
       "      <td>0.532143</td>\n",
       "      <td>0.947714</td>\n",
       "    </tr>\n",
       "    <tr>\n",
       "      <th>BA</th>\n",
       "      <td>0.594981</td>\n",
       "      <td>0.792635</td>\n",
       "      <td>0.762663</td>\n",
       "      <td>1.000000</td>\n",
       "      <td>0.734733</td>\n",
       "      <td>0.761018</td>\n",
       "      <td>0.842522</td>\n",
       "      <td>0.712205</td>\n",
       "      <td>0.838293</td>\n",
       "      <td>-0.159624</td>\n",
       "      <td>...</td>\n",
       "      <td>0.762886</td>\n",
       "      <td>0.630202</td>\n",
       "      <td>0.755301</td>\n",
       "      <td>0.721065</td>\n",
       "      <td>0.821941</td>\n",
       "      <td>0.703045</td>\n",
       "      <td>0.734285</td>\n",
       "      <td>0.848651</td>\n",
       "      <td>0.673612</td>\n",
       "      <td>0.738714</td>\n",
       "    </tr>\n",
       "    <tr>\n",
       "      <th>CAT</th>\n",
       "      <td>0.937192</td>\n",
       "      <td>0.910321</td>\n",
       "      <td>0.957676</td>\n",
       "      <td>0.734733</td>\n",
       "      <td>1.000000</td>\n",
       "      <td>0.903744</td>\n",
       "      <td>0.905324</td>\n",
       "      <td>0.898575</td>\n",
       "      <td>0.855472</td>\n",
       "      <td>0.879372</td>\n",
       "      <td>...</td>\n",
       "      <td>0.902038</td>\n",
       "      <td>0.922351</td>\n",
       "      <td>0.936196</td>\n",
       "      <td>0.948362</td>\n",
       "      <td>0.933654</td>\n",
       "      <td>0.947993</td>\n",
       "      <td>0.920591</td>\n",
       "      <td>0.846684</td>\n",
       "      <td>0.458091</td>\n",
       "      <td>0.942701</td>\n",
       "    </tr>\n",
       "    <tr>\n",
       "      <th>...</th>\n",
       "      <td>...</td>\n",
       "      <td>...</td>\n",
       "      <td>...</td>\n",
       "      <td>...</td>\n",
       "      <td>...</td>\n",
       "      <td>...</td>\n",
       "      <td>...</td>\n",
       "      <td>...</td>\n",
       "      <td>...</td>\n",
       "      <td>...</td>\n",
       "      <td>...</td>\n",
       "      <td>...</td>\n",
       "      <td>...</td>\n",
       "      <td>...</td>\n",
       "      <td>...</td>\n",
       "      <td>...</td>\n",
       "      <td>...</td>\n",
       "      <td>...</td>\n",
       "      <td>...</td>\n",
       "      <td>...</td>\n",
       "      <td>...</td>\n",
       "    </tr>\n",
       "    <tr>\n",
       "      <th>UNH</th>\n",
       "      <td>0.971782</td>\n",
       "      <td>0.946141</td>\n",
       "      <td>0.951475</td>\n",
       "      <td>0.703045</td>\n",
       "      <td>0.947993</td>\n",
       "      <td>0.905788</td>\n",
       "      <td>0.929528</td>\n",
       "      <td>0.853176</td>\n",
       "      <td>0.830898</td>\n",
       "      <td>0.676660</td>\n",
       "      <td>...</td>\n",
       "      <td>0.942166</td>\n",
       "      <td>0.969066</td>\n",
       "      <td>0.941388</td>\n",
       "      <td>0.955921</td>\n",
       "      <td>0.932826</td>\n",
       "      <td>1.000000</td>\n",
       "      <td>0.953541</td>\n",
       "      <td>0.824673</td>\n",
       "      <td>0.437665</td>\n",
       "      <td>0.954242</td>\n",
       "    </tr>\n",
       "    <tr>\n",
       "      <th>V</th>\n",
       "      <td>0.921568</td>\n",
       "      <td>0.965485</td>\n",
       "      <td>0.938097</td>\n",
       "      <td>0.734285</td>\n",
       "      <td>0.920591</td>\n",
       "      <td>0.965477</td>\n",
       "      <td>0.965593</td>\n",
       "      <td>0.766523</td>\n",
       "      <td>0.894702</td>\n",
       "      <td>0.767443</td>\n",
       "      <td>...</td>\n",
       "      <td>0.948937</td>\n",
       "      <td>0.949258</td>\n",
       "      <td>0.969269</td>\n",
       "      <td>0.967102</td>\n",
       "      <td>0.934200</td>\n",
       "      <td>0.953541</td>\n",
       "      <td>1.000000</td>\n",
       "      <td>0.899032</td>\n",
       "      <td>0.335984</td>\n",
       "      <td>0.975152</td>\n",
       "    </tr>\n",
       "    <tr>\n",
       "      <th>VZ</th>\n",
       "      <td>0.790783</td>\n",
       "      <td>0.925015</td>\n",
       "      <td>0.875405</td>\n",
       "      <td>0.848651</td>\n",
       "      <td>0.846684</td>\n",
       "      <td>0.917503</td>\n",
       "      <td>0.873831</td>\n",
       "      <td>0.825039</td>\n",
       "      <td>0.959842</td>\n",
       "      <td>-0.014377</td>\n",
       "      <td>...</td>\n",
       "      <td>0.888781</td>\n",
       "      <td>0.793907</td>\n",
       "      <td>0.910537</td>\n",
       "      <td>0.902128</td>\n",
       "      <td>0.927684</td>\n",
       "      <td>0.824673</td>\n",
       "      <td>0.899032</td>\n",
       "      <td>1.000000</td>\n",
       "      <td>0.703336</td>\n",
       "      <td>0.903292</td>\n",
       "    </tr>\n",
       "    <tr>\n",
       "      <th>WBA</th>\n",
       "      <td>0.342524</td>\n",
       "      <td>0.620905</td>\n",
       "      <td>0.532143</td>\n",
       "      <td>0.673612</td>\n",
       "      <td>0.458091</td>\n",
       "      <td>0.441279</td>\n",
       "      <td>0.508884</td>\n",
       "      <td>0.565341</td>\n",
       "      <td>0.729078</td>\n",
       "      <td>0.241391</td>\n",
       "      <td>...</td>\n",
       "      <td>0.537065</td>\n",
       "      <td>0.323340</td>\n",
       "      <td>0.530393</td>\n",
       "      <td>0.499909</td>\n",
       "      <td>0.670645</td>\n",
       "      <td>0.437665</td>\n",
       "      <td>0.335984</td>\n",
       "      <td>0.703336</td>\n",
       "      <td>1.000000</td>\n",
       "      <td>0.456729</td>\n",
       "    </tr>\n",
       "    <tr>\n",
       "      <th>WMT</th>\n",
       "      <td>0.952975</td>\n",
       "      <td>0.958267</td>\n",
       "      <td>0.947714</td>\n",
       "      <td>0.738714</td>\n",
       "      <td>0.942701</td>\n",
       "      <td>0.956927</td>\n",
       "      <td>0.925861</td>\n",
       "      <td>0.837470</td>\n",
       "      <td>0.895871</td>\n",
       "      <td>0.641133</td>\n",
       "      <td>...</td>\n",
       "      <td>0.946267</td>\n",
       "      <td>0.953113</td>\n",
       "      <td>0.967838</td>\n",
       "      <td>0.975445</td>\n",
       "      <td>0.933409</td>\n",
       "      <td>0.954242</td>\n",
       "      <td>0.975152</td>\n",
       "      <td>0.903292</td>\n",
       "      <td>0.456729</td>\n",
       "      <td>1.000000</td>\n",
       "    </tr>\n",
       "  </tbody>\n",
       "</table>\n",
       "<p>30 rows × 30 columns</p>\n",
       "</div>"
      ],
      "text/plain": [
       "          AAPL      AMGN       AXP        BA       CAT       CRM      CSCO  \\\n",
       "AAPL  1.000000  0.903703  0.933569  0.594981  0.937192  0.909496  0.886799   \n",
       "AMGN  0.903703  1.000000  0.930106  0.792635  0.910321  0.927718  0.921918   \n",
       "AXP   0.933569  0.930106  1.000000  0.762663  0.957676  0.912127  0.932933   \n",
       "BA    0.594981  0.792635  0.762663  1.000000  0.734733  0.761018  0.842522   \n",
       "CAT   0.937192  0.910321  0.957676  0.734733  1.000000  0.903744  0.905324   \n",
       "...        ...       ...       ...       ...       ...       ...       ...   \n",
       "UNH   0.971782  0.946141  0.951475  0.703045  0.947993  0.905788  0.929528   \n",
       "V     0.921568  0.965485  0.938097  0.734285  0.920591  0.965477  0.965593   \n",
       "VZ    0.790783  0.925015  0.875405  0.848651  0.846684  0.917503  0.873831   \n",
       "WBA   0.342524  0.620905  0.532143  0.673612  0.458091  0.441279  0.508884   \n",
       "WMT   0.952975  0.958267  0.947714  0.738714  0.942701  0.956927  0.925861   \n",
       "\n",
       "           CVX       DIS       DOW  ...       MRK      MSFT       NKE  \\\n",
       "AAPL  0.801930  0.812324  0.728994  ...  0.898877  0.987452  0.947342   \n",
       "AMGN  0.845830  0.922189  0.474237  ...  0.961120  0.901397  0.946771   \n",
       "AXP   0.886234  0.892336  0.853869  ...  0.929625  0.930635  0.947712   \n",
       "BA    0.712205  0.838293 -0.159624  ...  0.762886  0.630202  0.755301   \n",
       "CAT   0.898575  0.855472  0.879372  ...  0.902038  0.922351  0.936196   \n",
       "...        ...       ...       ...  ...       ...       ...       ...   \n",
       "UNH   0.853176  0.830898  0.676660  ...  0.942166  0.969066  0.941388   \n",
       "V     0.766523  0.894702  0.767443  ...  0.948937  0.949258  0.969269   \n",
       "VZ    0.825039  0.959842 -0.014377  ...  0.888781  0.793907  0.910537   \n",
       "WBA   0.565341  0.729078  0.241391  ...  0.537065  0.323340  0.530393   \n",
       "WMT   0.837470  0.895871  0.641133  ...  0.946267  0.953113  0.967838   \n",
       "\n",
       "            PG       TRV       UNH         V        VZ       WBA       WMT  \n",
       "AAPL  0.952362  0.883195  0.971782  0.921568  0.790783  0.342524  0.952975  \n",
       "AMGN  0.952429  0.963189  0.946141  0.965485  0.925015  0.620905  0.958267  \n",
       "AXP   0.956986  0.949903  0.951475  0.938097  0.875405  0.532143  0.947714  \n",
       "BA    0.721065  0.821941  0.703045  0.734285  0.848651  0.673612  0.738714  \n",
       "CAT   0.948362  0.933654  0.947993  0.920591  0.846684  0.458091  0.942701  \n",
       "...        ...       ...       ...       ...       ...       ...       ...  \n",
       "UNH   0.955921  0.932826  1.000000  0.953541  0.824673  0.437665  0.954242  \n",
       "V     0.967102  0.934200  0.953541  1.000000  0.899032  0.335984  0.975152  \n",
       "VZ    0.902128  0.927684  0.824673  0.899032  1.000000  0.703336  0.903292  \n",
       "WBA   0.499909  0.670645  0.437665  0.335984  0.703336  1.000000  0.456729  \n",
       "WMT   0.975445  0.933409  0.954242  0.975152  0.903292  0.456729  1.000000  \n",
       "\n",
       "[30 rows x 30 columns]"
      ]
     },
     "execution_count": 21,
     "metadata": {},
     "output_type": "execute_result"
    }
   ],
   "source": [
    "dji_corr = dji.corr()\n",
    "dji_corr "
   ]
  },
  {
   "cell_type": "code",
   "execution_count": 22,
   "id": "35de057f",
   "metadata": {},
   "outputs": [],
   "source": [
    "dji_corr = pairwise_corr(dji_corr)"
   ]
  },
  {
   "cell_type": "markdown",
   "id": "emerging-cross",
   "metadata": {},
   "source": [
    "Which pair of companies are maximally or minimally correlated during this period? What are these correlations?"
   ]
  },
  {
   "cell_type": "code",
   "execution_count": 46,
   "id": "3b970747-fc2e-4a5f-b63b-418c50f09b75",
   "metadata": {},
   "outputs": [
    {
     "data": {
      "text/plain": [
       "(21     AAPL\n",
       " 630    MSFT\n",
       " Name: tic1, dtype: object,\n",
       " 21     MSFT\n",
       " 630    AAPL\n",
       " Name: tic2, dtype: object)"
      ]
     },
     "execution_count": 46,
     "metadata": {},
     "output_type": "execute_result"
    }
   ],
   "source": [
    "dji_corr\n",
    "max_corr = dji_corr['corr'].max()\n",
    "\n",
    "min_corr = dji_corr['corr'].min()\n",
    "\n",
    "max_corr_pair = (dji_corr.loc[dji_corr['corr'] == max_corr]['tic1'], dji_corr.loc[dji_corr['corr']== max_corr]['tic2'])\n",
    "max_corr_pair\n",
    "\n",
    "\n",
    "\n"
   ]
  },
  {
   "cell_type": "code",
   "execution_count": 45,
   "id": "8878f1c6",
   "metadata": {},
   "outputs": [
    {
     "data": {
      "text/plain": [
       "(148    CAT\n",
       " 844    WBA\n",
       " Name: tic1, dtype: object,\n",
       " 148    WBA\n",
       " 844    CAT\n",
       " Name: tic2, dtype: object)"
      ]
     },
     "execution_count": 45,
     "metadata": {},
     "output_type": "execute_result"
    }
   ],
   "source": [
    "min_corr_pair = (dji_corr.loc[dji_corr['corr'] == min_corr]['tic1'], dji_corr.loc[dji_corr['corr']== min_corr]['tic2'])\n",
    "min_corr_pair\n"
   ]
  },
  {
   "cell_type": "markdown",
   "id": "functional-elimination",
   "metadata": {},
   "source": [
    "As above, use `groupby` to calculate the average pairwise correlation in each year for these stocks. Plot the result."
   ]
  },
  {
   "cell_type": "code",
   "execution_count": 24,
   "id": "8ecb5441-57c5-4188-983c-4e4fe437d774",
   "metadata": {},
   "outputs": [
    {
     "name": "stderr",
     "output_type": "stream",
     "text": [
      "C:\\Users\\Varun\\AppData\\Local\\Temp\\ipykernel_11772\\710569115.py:6: FutureWarning: Dropping of nuisance columns in DataFrame reductions (with 'numeric_only=None') is deprecated; in a future version this will raise TypeError.  Select only valid columns before calling the reduction.\n",
      "  return corrs.mean()\n",
      "C:\\Users\\Varun\\AppData\\Local\\Temp\\ipykernel_11772\\710569115.py:6: FutureWarning: Dropping of nuisance columns in DataFrame reductions (with 'numeric_only=None') is deprecated; in a future version this will raise TypeError.  Select only valid columns before calling the reduction.\n",
      "  return corrs.mean()\n",
      "C:\\Users\\Varun\\AppData\\Local\\Temp\\ipykernel_11772\\710569115.py:6: FutureWarning: Dropping of nuisance columns in DataFrame reductions (with 'numeric_only=None') is deprecated; in a future version this will raise TypeError.  Select only valid columns before calling the reduction.\n",
      "  return corrs.mean()\n",
      "C:\\Users\\Varun\\AppData\\Local\\Temp\\ipykernel_11772\\710569115.py:6: FutureWarning: Dropping of nuisance columns in DataFrame reductions (with 'numeric_only=None') is deprecated; in a future version this will raise TypeError.  Select only valid columns before calling the reduction.\n",
      "  return corrs.mean()\n",
      "C:\\Users\\Varun\\AppData\\Local\\Temp\\ipykernel_11772\\710569115.py:6: FutureWarning: Dropping of nuisance columns in DataFrame reductions (with 'numeric_only=None') is deprecated; in a future version this will raise TypeError.  Select only valid columns before calling the reduction.\n",
      "  return corrs.mean()\n",
      "C:\\Users\\Varun\\AppData\\Local\\Temp\\ipykernel_11772\\710569115.py:6: FutureWarning: Dropping of nuisance columns in DataFrame reductions (with 'numeric_only=None') is deprecated; in a future version this will raise TypeError.  Select only valid columns before calling the reduction.\n",
      "  return corrs.mean()\n",
      "C:\\Users\\Varun\\AppData\\Local\\Temp\\ipykernel_11772\\710569115.py:6: FutureWarning: Dropping of nuisance columns in DataFrame reductions (with 'numeric_only=None') is deprecated; in a future version this will raise TypeError.  Select only valid columns before calling the reduction.\n",
      "  return corrs.mean()\n",
      "C:\\Users\\Varun\\AppData\\Local\\Temp\\ipykernel_11772\\710569115.py:6: FutureWarning: Dropping of nuisance columns in DataFrame reductions (with 'numeric_only=None') is deprecated; in a future version this will raise TypeError.  Select only valid columns before calling the reduction.\n",
      "  return corrs.mean()\n",
      "C:\\Users\\Varun\\AppData\\Local\\Temp\\ipykernel_11772\\710569115.py:6: FutureWarning: Dropping of nuisance columns in DataFrame reductions (with 'numeric_only=None') is deprecated; in a future version this will raise TypeError.  Select only valid columns before calling the reduction.\n",
      "  return corrs.mean()\n",
      "C:\\Users\\Varun\\AppData\\Local\\Temp\\ipykernel_11772\\710569115.py:6: FutureWarning: Dropping of nuisance columns in DataFrame reductions (with 'numeric_only=None') is deprecated; in a future version this will raise TypeError.  Select only valid columns before calling the reduction.\n",
      "  return corrs.mean()\n",
      "C:\\Users\\Varun\\AppData\\Local\\Temp\\ipykernel_11772\\710569115.py:6: FutureWarning: Dropping of nuisance columns in DataFrame reductions (with 'numeric_only=None') is deprecated; in a future version this will raise TypeError.  Select only valid columns before calling the reduction.\n",
      "  return corrs.mean()\n",
      "C:\\Users\\Varun\\AppData\\Local\\Temp\\ipykernel_11772\\710569115.py:6: FutureWarning: Dropping of nuisance columns in DataFrame reductions (with 'numeric_only=None') is deprecated; in a future version this will raise TypeError.  Select only valid columns before calling the reduction.\n",
      "  return corrs.mean()\n",
      "C:\\Users\\Varun\\AppData\\Local\\Temp\\ipykernel_11772\\710569115.py:6: FutureWarning: Dropping of nuisance columns in DataFrame reductions (with 'numeric_only=None') is deprecated; in a future version this will raise TypeError.  Select only valid columns before calling the reduction.\n",
      "  return corrs.mean()\n",
      "C:\\Users\\Varun\\AppData\\Local\\Temp\\ipykernel_11772\\710569115.py:6: FutureWarning: Dropping of nuisance columns in DataFrame reductions (with 'numeric_only=None') is deprecated; in a future version this will raise TypeError.  Select only valid columns before calling the reduction.\n",
      "  return corrs.mean()\n",
      "C:\\Users\\Varun\\AppData\\Local\\Temp\\ipykernel_11772\\710569115.py:6: FutureWarning: Dropping of nuisance columns in DataFrame reductions (with 'numeric_only=None') is deprecated; in a future version this will raise TypeError.  Select only valid columns before calling the reduction.\n",
      "  return corrs.mean()\n",
      "C:\\Users\\Varun\\AppData\\Local\\Temp\\ipykernel_11772\\710569115.py:6: FutureWarning: Dropping of nuisance columns in DataFrame reductions (with 'numeric_only=None') is deprecated; in a future version this will raise TypeError.  Select only valid columns before calling the reduction.\n",
      "  return corrs.mean()\n",
      "C:\\Users\\Varun\\AppData\\Local\\Temp\\ipykernel_11772\\710569115.py:6: FutureWarning: Dropping of nuisance columns in DataFrame reductions (with 'numeric_only=None') is deprecated; in a future version this will raise TypeError.  Select only valid columns before calling the reduction.\n",
      "  return corrs.mean()\n",
      "C:\\Users\\Varun\\AppData\\Local\\Temp\\ipykernel_11772\\710569115.py:6: FutureWarning: Dropping of nuisance columns in DataFrame reductions (with 'numeric_only=None') is deprecated; in a future version this will raise TypeError.  Select only valid columns before calling the reduction.\n",
      "  return corrs.mean()\n",
      "C:\\Users\\Varun\\AppData\\Local\\Temp\\ipykernel_11772\\710569115.py:6: FutureWarning: Dropping of nuisance columns in DataFrame reductions (with 'numeric_only=None') is deprecated; in a future version this will raise TypeError.  Select only valid columns before calling the reduction.\n",
      "  return corrs.mean()\n",
      "C:\\Users\\Varun\\AppData\\Local\\Temp\\ipykernel_11772\\710569115.py:6: FutureWarning: Dropping of nuisance columns in DataFrame reductions (with 'numeric_only=None') is deprecated; in a future version this will raise TypeError.  Select only valid columns before calling the reduction.\n",
      "  return corrs.mean()\n",
      "C:\\Users\\Varun\\AppData\\Local\\Temp\\ipykernel_11772\\710569115.py:6: FutureWarning: Dropping of nuisance columns in DataFrame reductions (with 'numeric_only=None') is deprecated; in a future version this will raise TypeError.  Select only valid columns before calling the reduction.\n",
      "  return corrs.mean()\n",
      "C:\\Users\\Varun\\AppData\\Local\\Temp\\ipykernel_11772\\710569115.py:6: FutureWarning: Dropping of nuisance columns in DataFrame reductions (with 'numeric_only=None') is deprecated; in a future version this will raise TypeError.  Select only valid columns before calling the reduction.\n",
      "  return corrs.mean()\n",
      "C:\\Users\\Varun\\AppData\\Local\\Temp\\ipykernel_11772\\710569115.py:6: FutureWarning: Dropping of nuisance columns in DataFrame reductions (with 'numeric_only=None') is deprecated; in a future version this will raise TypeError.  Select only valid columns before calling the reduction.\n",
      "  return corrs.mean()\n"
     ]
    },
    {
     "data": {
      "text/html": [
       "<div>\n",
       "<style scoped>\n",
       "    .dataframe tbody tr th:only-of-type {\n",
       "        vertical-align: middle;\n",
       "    }\n",
       "\n",
       "    .dataframe tbody tr th {\n",
       "        vertical-align: top;\n",
       "    }\n",
       "\n",
       "    .dataframe thead th {\n",
       "        text-align: right;\n",
       "    }\n",
       "</style>\n",
       "<table border=\"1\" class=\"dataframe\">\n",
       "  <thead>\n",
       "    <tr style=\"text-align: right;\">\n",
       "      <th></th>\n",
       "      <th>corr</th>\n",
       "    </tr>\n",
       "    <tr>\n",
       "      <th>Date</th>\n",
       "      <th></th>\n",
       "    </tr>\n",
       "  </thead>\n",
       "  <tbody>\n",
       "    <tr>\n",
       "      <th>2001</th>\n",
       "      <td>0.247941</td>\n",
       "    </tr>\n",
       "    <tr>\n",
       "      <th>2002</th>\n",
       "      <td>0.391936</td>\n",
       "    </tr>\n",
       "    <tr>\n",
       "      <th>2003</th>\n",
       "      <td>0.409049</td>\n",
       "    </tr>\n",
       "    <tr>\n",
       "      <th>2004</th>\n",
       "      <td>0.268618</td>\n",
       "    </tr>\n",
       "    <tr>\n",
       "      <th>2005</th>\n",
       "      <td>0.270457</td>\n",
       "    </tr>\n",
       "    <tr>\n",
       "      <th>...</th>\n",
       "      <td>...</td>\n",
       "    </tr>\n",
       "    <tr>\n",
       "      <th>2019</th>\n",
       "      <td>0.302967</td>\n",
       "    </tr>\n",
       "    <tr>\n",
       "      <th>2020</th>\n",
       "      <td>0.599539</td>\n",
       "    </tr>\n",
       "    <tr>\n",
       "      <th>2021</th>\n",
       "      <td>0.269747</td>\n",
       "    </tr>\n",
       "    <tr>\n",
       "      <th>2022</th>\n",
       "      <td>0.419518</td>\n",
       "    </tr>\n",
       "    <tr>\n",
       "      <th>2023</th>\n",
       "      <td>0.331951</td>\n",
       "    </tr>\n",
       "  </tbody>\n",
       "</table>\n",
       "<p>23 rows × 1 columns</p>\n",
       "</div>"
      ],
      "text/plain": [
       "          corr\n",
       "Date          \n",
       "2001  0.247941\n",
       "2002  0.391936\n",
       "2003  0.409049\n",
       "2004  0.268618\n",
       "2005  0.270457\n",
       "...        ...\n",
       "2019  0.302967\n",
       "2020  0.599539\n",
       "2021  0.269747\n",
       "2022  0.419518\n",
       "2023  0.331951\n",
       "\n",
       "[23 rows x 1 columns]"
      ]
     },
     "execution_count": 24,
     "metadata": {},
     "output_type": "execute_result"
    }
   ],
   "source": [
    "dji_ann =  dji_ret.groupby(dji_ret.index.year).apply(pairwise_corr_avg)\n",
    "dji_ann\n"
   ]
  },
  {
   "cell_type": "code",
   "execution_count": 25,
   "id": "e649baa1",
   "metadata": {},
   "outputs": [
    {
     "data": {
      "text/plain": [
       "pandas.core.indexes.numeric.Int64Index"
      ]
     },
     "execution_count": 25,
     "metadata": {},
     "output_type": "execute_result"
    }
   ],
   "source": [
    "\n",
    "dji_ann = dji_ann.squeeze()\n",
    "type(dji_ann.index)"
   ]
  },
  {
   "cell_type": "code",
   "execution_count": 26,
   "id": "cc143594",
   "metadata": {},
   "outputs": [
    {
     "data": {
      "text/plain": [
       "<AxesSubplot:xlabel='Date'>"
      ]
     },
     "execution_count": 26,
     "metadata": {},
     "output_type": "execute_result"
    },
    {
     "data": {
      "image/png": "[encoded data removed]",
      "text/plain": [
       "<Figure size 864x576 with 1 Axes>"
      ]
     },
     "metadata": {
      "needs_background": "light"
     },
     "output_type": "display_data"
    }
   ],
   "source": [
    "from matplotlib import pyplot as plt\n",
    "\n",
    "dji_ann.plot(figsize =(12,8) , grid = True)"
   ]
  },
  {
   "cell_type": "markdown",
   "id": "raised-album",
   "metadata": {},
   "source": [
    "## Market return data"
   ]
  },
  {
   "cell_type": "markdown",
   "id": "another-runner",
   "metadata": {},
   "source": [
    "As a proxy for the return on the market, get download data for the S&P 500 index (ticker symbol: ^GSPC)."
   ]
  },
  {
   "cell_type": "code",
   "execution_count": 27,
   "id": "e54372f2-69d8-45af-ba83-5baff59c7d4a",
   "metadata": {},
   "outputs": [
    {
     "name": "stdout",
     "output_type": "stream",
     "text": [
      "[*********************100%***********************]  1 of 1 completed\n"
     ]
    },
    {
     "data": {
      "text/plain": [
       "Date\n",
       "2001-01-02    1283.270020\n",
       "2001-01-03    1347.560059\n",
       "2001-01-04    1333.339966\n",
       "2001-01-05    1298.349976\n",
       "2001-01-08    1295.859985\n",
       "                 ...     \n",
       "2023-02-22    3991.050049\n",
       "2023-02-23    4012.320068\n",
       "2023-02-24    3970.040039\n",
       "2023-02-27    3982.239990\n",
       "2023-02-28    3970.149902\n",
       "Name: Adj Close, Length: 5574, dtype: float64"
      ]
     },
     "execution_count": 27,
     "metadata": {},
     "output_type": "execute_result"
    }
   ],
   "source": [
    "snp = yf.download(tickers=['^GSPC'],\n",
    "                   interval='1d',\n",
    "                   start='2001-01-01',\n",
    "                   end='2023-03-01')\n",
    "\n",
    "snp = snp['Adj Close']\n",
    "snp"
   ]
  },
  {
   "cell_type": "markdown",
   "id": "thick-panama",
   "metadata": {},
   "source": [
    "Calculate the average return on the index in each year. A typical year has 252 trading days, so multiply the result by 252 to get the annualized return."
   ]
  },
  {
   "cell_type": "code",
   "execution_count": 28,
   "id": "d5d65df0-30e0-4248-9e7b-2ae7628b87ee",
   "metadata": {},
   "outputs": [
    {
     "data": {
      "text/plain": [
       "Int64Index([2001, 2002, 2003, 2004, 2005, 2006, 2007, 2008, 2009, 2010, 2011,\n",
       "            2012, 2013, 2014, 2015, 2016, 2017, 2018, 2019, 2020, 2021, 2022,\n",
       "            2023],\n",
       "           dtype='int64', name='Date')"
      ]
     },
     "execution_count": 28,
     "metadata": {},
     "output_type": "execute_result"
    }
   ],
   "source": [
    "snp_ret = snp.pct_change().dropna()\n",
    "snp_ret_ann = snp_ret.resample('Y').mean()*252\n",
    "\n",
    "snp_ret_ann.index.year\n",
    "\n"
   ]
  },
  {
   "cell_type": "code",
   "execution_count": 29,
   "id": "559ad6a2",
   "metadata": {},
   "outputs": [
    {
     "data": {
      "text/plain": [
       "Date\n",
       "2001-12-31   -0.090708\n",
       "2002-12-31   -0.232379\n",
       "2003-12-31    0.248721\n",
       "2004-12-31    0.092262\n",
       "2005-12-31    0.034836\n",
       "                ...   \n",
       "2019-12-31    0.261588\n",
       "2020-12-31    0.209706\n",
       "2021-12-31    0.246839\n",
       "2022-12-31   -0.187851\n",
       "2023-12-31    0.229198\n",
       "Freq: A-DEC, Name: Adj Close, Length: 23, dtype: float64"
      ]
     },
     "execution_count": 29,
     "metadata": {},
     "output_type": "execute_result"
    }
   ],
   "source": [
    "\n",
    "type(snp_ret_ann)\n",
    "\n",
    "snp_ret_ann\n"
   ]
  },
  {
   "cell_type": "markdown",
   "id": "stone-sense",
   "metadata": {},
   "source": [
    "Combine the index annual return data with the average correlation data.\n",
    "\n",
    "You can use `pd.merge` but `pd.concat` might be easier if you first make sure both Series have the same index."
   ]
  },
  {
   "attachments": {},
   "cell_type": "markdown",
   "id": "b6f90213",
   "metadata": {},
   "source": [
    "Ask if the correlation data is from Dow Jones Industrial Average."
   ]
  },
  {
   "cell_type": "code",
   "execution_count": 30,
   "id": "ff147e9d",
   "metadata": {},
   "outputs": [
    {
     "data": {
      "text/plain": [
       "Date\n",
       "2001    0.247941\n",
       "2002    0.391936\n",
       "2003    0.409049\n",
       "2004    0.268618\n",
       "2005    0.270457\n",
       "Name: corr, dtype: float64"
      ]
     },
     "execution_count": 30,
     "metadata": {},
     "output_type": "execute_result"
    }
   ],
   "source": [
    "dji_ann.head()"
   ]
  },
  {
   "cell_type": "code",
   "execution_count": 31,
   "id": "c957de07",
   "metadata": {},
   "outputs": [],
   "source": [
    "snp_ret_ann.index = snp_ret_ann.index.year"
   ]
  },
  {
   "cell_type": "code",
   "execution_count": 32,
   "id": "646a19fe-7ee1-47c9-a27a-8afb0480ceb3",
   "metadata": {},
   "outputs": [
    {
     "data": {
      "text/html": [
       "<div>\n",
       "<style scoped>\n",
       "    .dataframe tbody tr th:only-of-type {\n",
       "        vertical-align: middle;\n",
       "    }\n",
       "\n",
       "    .dataframe tbody tr th {\n",
       "        vertical-align: top;\n",
       "    }\n",
       "\n",
       "    .dataframe thead th {\n",
       "        text-align: right;\n",
       "    }\n",
       "</style>\n",
       "<table border=\"1\" class=\"dataframe\">\n",
       "  <thead>\n",
       "    <tr style=\"text-align: right;\">\n",
       "      <th></th>\n",
       "      <th>Adj Close</th>\n",
       "      <th>corr</th>\n",
       "    </tr>\n",
       "    <tr>\n",
       "      <th>Date</th>\n",
       "      <th></th>\n",
       "      <th></th>\n",
       "    </tr>\n",
       "  </thead>\n",
       "  <tbody>\n",
       "    <tr>\n",
       "      <th>2001</th>\n",
       "      <td>-0.090708</td>\n",
       "      <td>0.247941</td>\n",
       "    </tr>\n",
       "    <tr>\n",
       "      <th>2002</th>\n",
       "      <td>-0.232379</td>\n",
       "      <td>0.391936</td>\n",
       "    </tr>\n",
       "    <tr>\n",
       "      <th>2003</th>\n",
       "      <td>0.248721</td>\n",
       "      <td>0.409049</td>\n",
       "    </tr>\n",
       "    <tr>\n",
       "      <th>2004</th>\n",
       "      <td>0.092262</td>\n",
       "      <td>0.268618</td>\n",
       "    </tr>\n",
       "    <tr>\n",
       "      <th>2005</th>\n",
       "      <td>0.034836</td>\n",
       "      <td>0.270457</td>\n",
       "    </tr>\n",
       "    <tr>\n",
       "      <th>...</th>\n",
       "      <td>...</td>\n",
       "      <td>...</td>\n",
       "    </tr>\n",
       "    <tr>\n",
       "      <th>2019</th>\n",
       "      <td>0.261588</td>\n",
       "      <td>0.302967</td>\n",
       "    </tr>\n",
       "    <tr>\n",
       "      <th>2020</th>\n",
       "      <td>0.209706</td>\n",
       "      <td>0.599539</td>\n",
       "    </tr>\n",
       "    <tr>\n",
       "      <th>2021</th>\n",
       "      <td>0.246839</td>\n",
       "      <td>0.269747</td>\n",
       "    </tr>\n",
       "    <tr>\n",
       "      <th>2022</th>\n",
       "      <td>-0.187851</td>\n",
       "      <td>0.419518</td>\n",
       "    </tr>\n",
       "    <tr>\n",
       "      <th>2023</th>\n",
       "      <td>0.229198</td>\n",
       "      <td>0.331951</td>\n",
       "    </tr>\n",
       "  </tbody>\n",
       "</table>\n",
       "<p>23 rows × 2 columns</p>\n",
       "</div>"
      ],
      "text/plain": [
       "      Adj Close      corr\n",
       "Date                     \n",
       "2001  -0.090708  0.247941\n",
       "2002  -0.232379  0.391936\n",
       "2003   0.248721  0.409049\n",
       "2004   0.092262  0.268618\n",
       "2005   0.034836  0.270457\n",
       "...         ...       ...\n",
       "2019   0.261588  0.302967\n",
       "2020   0.209706  0.599539\n",
       "2021   0.246839  0.269747\n",
       "2022  -0.187851  0.419518\n",
       "2023   0.229198  0.331951\n",
       "\n",
       "[23 rows x 2 columns]"
      ]
     },
     "execution_count": 32,
     "metadata": {},
     "output_type": "execute_result"
    }
   ],
   "source": [
    "ann_ret_corr = pd.concat([snp_ret_ann, dji_ann], axis = 1)\n",
    "ann_ret_corr"
   ]
  },
  {
   "cell_type": "markdown",
   "id": "deluxe-bikini",
   "metadata": {},
   "source": [
    "Finally, calculate the correlation between the annual return and the annual average correlation. Be sure to interpret the result."
   ]
  },
  {
   "cell_type": "code",
   "execution_count": 33,
   "id": "1db18b66-eb83-431e-b23c-1679e8514344",
   "metadata": {},
   "outputs": [
    {
     "data": {
      "text/html": [
       "<div>\n",
       "<style scoped>\n",
       "    .dataframe tbody tr th:only-of-type {\n",
       "        vertical-align: middle;\n",
       "    }\n",
       "\n",
       "    .dataframe tbody tr th {\n",
       "        vertical-align: top;\n",
       "    }\n",
       "\n",
       "    .dataframe thead th {\n",
       "        text-align: right;\n",
       "    }\n",
       "</style>\n",
       "<table border=\"1\" class=\"dataframe\">\n",
       "  <thead>\n",
       "    <tr style=\"text-align: right;\">\n",
       "      <th></th>\n",
       "      <th>Adj Close</th>\n",
       "      <th>corr</th>\n",
       "    </tr>\n",
       "  </thead>\n",
       "  <tbody>\n",
       "    <tr>\n",
       "      <th>Adj Close</th>\n",
       "      <td>1.000000</td>\n",
       "      <td>-0.345191</td>\n",
       "    </tr>\n",
       "    <tr>\n",
       "      <th>corr</th>\n",
       "      <td>-0.345191</td>\n",
       "      <td>1.000000</td>\n",
       "    </tr>\n",
       "  </tbody>\n",
       "</table>\n",
       "</div>"
      ],
      "text/plain": [
       "           Adj Close      corr\n",
       "Adj Close   1.000000 -0.345191\n",
       "corr       -0.345191  1.000000"
      ]
     },
     "execution_count": 33,
     "metadata": {},
     "output_type": "execute_result"
    }
   ],
   "source": [
    "ann_ret_corr.corr()"
   ]
  },
  {
   "attachments": {},
   "cell_type": "markdown",
   "id": "3e82a5d0",
   "metadata": {},
   "source": [
    "There is a moderately weak negative correlation between the average annual return of the S&P and the correlation of stocks in the Dow Jones. This means that whenever the correlation of stocks in the Dow Jones are high, it correlates to lower returns in the S&P."
   ]
  },
  {
   "cell_type": "markdown",
   "id": "intermediate-monster",
   "metadata": {},
   "source": [
    "# Calculating beta"
   ]
  },
  {
   "cell_type": "markdown",
   "id": "marked-cheese",
   "metadata": {},
   "source": [
    "Next we'll estimate β for each stock. As an example, here's how we can estimate β for 3M."
   ]
  },
  {
   "cell_type": "code",
   "execution_count": 34,
   "id": "complex-wrapping",
   "metadata": {},
   "outputs": [],
   "source": [
    "import statsmodels.api as sm"
   ]
  },
  {
   "cell_type": "markdown",
   "id": "included-valve",
   "metadata": {},
   "source": [
    "First, we combine the market return data with the individual stock return series."
   ]
  },
  {
   "attachments": {},
   "cell_type": "markdown",
   "id": "98e8c21b",
   "metadata": {},
   "source": [
    "For the first concat, not sure if we are supposed to name the variables the exact same things as what it is in the commented section."
   ]
  },
  {
   "cell_type": "code",
   "execution_count": 35,
   "id": "88e6430e-b75e-4013-8296-a3e34199967a",
   "metadata": {},
   "outputs": [
    {
     "data": {
      "text/html": [
       "<div>\n",
       "<style scoped>\n",
       "    .dataframe tbody tr th:only-of-type {\n",
       "        vertical-align: middle;\n",
       "    }\n",
       "\n",
       "    .dataframe tbody tr th {\n",
       "        vertical-align: top;\n",
       "    }\n",
       "\n",
       "    .dataframe thead th {\n",
       "        text-align: right;\n",
       "    }\n",
       "</style>\n",
       "<table border=\"1\" class=\"dataframe\">\n",
       "  <thead>\n",
       "    <tr style=\"text-align: right;\">\n",
       "      <th></th>\n",
       "      <th>Adj Close</th>\n",
       "      <th>MMM</th>\n",
       "    </tr>\n",
       "    <tr>\n",
       "      <th>Date</th>\n",
       "      <th></th>\n",
       "      <th></th>\n",
       "    </tr>\n",
       "  </thead>\n",
       "  <tbody>\n",
       "    <tr>\n",
       "      <th>2001-01-03</th>\n",
       "      <td>0.050099</td>\n",
       "      <td>-0.011536</td>\n",
       "    </tr>\n",
       "    <tr>\n",
       "      <th>2001-01-04</th>\n",
       "      <td>-0.010552</td>\n",
       "      <td>0.010080</td>\n",
       "    </tr>\n",
       "    <tr>\n",
       "      <th>2001-01-05</th>\n",
       "      <td>-0.026242</td>\n",
       "      <td>-0.037290</td>\n",
       "    </tr>\n",
       "    <tr>\n",
       "      <th>2001-01-08</th>\n",
       "      <td>-0.001918</td>\n",
       "      <td>0.006002</td>\n",
       "    </tr>\n",
       "    <tr>\n",
       "      <th>2001-01-09</th>\n",
       "      <td>0.003812</td>\n",
       "      <td>-0.015727</td>\n",
       "    </tr>\n",
       "    <tr>\n",
       "      <th>...</th>\n",
       "      <td>...</td>\n",
       "      <td>...</td>\n",
       "    </tr>\n",
       "    <tr>\n",
       "      <th>2023-02-22</th>\n",
       "      <td>-0.001574</td>\n",
       "      <td>-0.002838</td>\n",
       "    </tr>\n",
       "    <tr>\n",
       "      <th>2023-02-23</th>\n",
       "      <td>0.005329</td>\n",
       "      <td>-0.000275</td>\n",
       "    </tr>\n",
       "    <tr>\n",
       "      <th>2023-02-24</th>\n",
       "      <td>-0.010538</td>\n",
       "      <td>-0.010192</td>\n",
       "    </tr>\n",
       "    <tr>\n",
       "      <th>2023-02-27</th>\n",
       "      <td>0.003073</td>\n",
       "      <td>0.004360</td>\n",
       "    </tr>\n",
       "    <tr>\n",
       "      <th>2023-02-28</th>\n",
       "      <td>-0.003036</td>\n",
       "      <td>-0.004895</td>\n",
       "    </tr>\n",
       "  </tbody>\n",
       "</table>\n",
       "<p>5573 rows × 2 columns</p>\n",
       "</div>"
      ],
      "text/plain": [
       "            Adj Close       MMM\n",
       "Date                           \n",
       "2001-01-03   0.050099 -0.011536\n",
       "2001-01-04  -0.010552  0.010080\n",
       "2001-01-05  -0.026242 -0.037290\n",
       "2001-01-08  -0.001918  0.006002\n",
       "2001-01-09   0.003812 -0.015727\n",
       "...               ...       ...\n",
       "2023-02-22  -0.001574 -0.002838\n",
       "2023-02-23   0.005329 -0.000275\n",
       "2023-02-24  -0.010538 -0.010192\n",
       "2023-02-27   0.003073  0.004360\n",
       "2023-02-28  -0.003036 -0.004895\n",
       "\n",
       "[5573 rows x 2 columns]"
      ]
     },
     "execution_count": 35,
     "metadata": {},
     "output_type": "execute_result"
    }
   ],
   "source": [
    "# reg = pd.concat([sp500, rets_dow['MMM']], axis=1).dropna()\n",
    "reg = pd.concat([snp_ret, dji_ret['MMM']], axis=1).dropna()\n",
    "\n",
    "reg"
   ]
  },
  {
   "cell_type": "markdown",
   "id": "nervous-beast",
   "metadata": {},
   "source": [
    "Then we run a regression, being sure to add a constant term."
   ]
  },
  {
   "cell_type": "code",
   "execution_count": 36,
   "id": "related-norman",
   "metadata": {},
   "outputs": [],
   "source": [
    "model = sm.OLS(reg['MMM'], sm.add_constant(reg['Adj Close']))\n",
    "results = model.fit()"
   ]
  },
  {
   "cell_type": "code",
   "execution_count": 37,
   "id": "deadly-marketplace",
   "metadata": {},
   "outputs": [
    {
     "name": "stdout",
     "output_type": "stream",
     "text": [
      "                            OLS Regression Results                            \n",
      "==============================================================================\n",
      "Dep. Variable:                    MMM   R-squared:                       0.500\n",
      "Model:                            OLS   Adj. R-squared:                  0.500\n",
      "Method:                 Least Squares   F-statistic:                     5577.\n",
      "Date:                Fri, 31 Mar 2023   Prob (F-statistic):               0.00\n",
      "Time:                        13:35:34   Log-Likelihood:                 17566.\n",
      "No. Observations:                5573   AIC:                        -3.513e+04\n",
      "Df Residuals:                    5571   BIC:                        -3.511e+04\n",
      "Df Model:                           1                                         \n",
      "Covariance Type:            nonrobust                                         \n",
      "==============================================================================\n",
      "                 coef    std err          t      P>|t|      [0.025      0.975]\n",
      "------------------------------------------------------------------------------\n",
      "const       8.605e-05      0.000      0.621      0.535      -0.000       0.000\n",
      "Adj Close      0.8340      0.011     74.677      0.000       0.812       0.856\n",
      "==============================================================================\n",
      "Omnibus:                     1455.799   Durbin-Watson:                   2.028\n",
      "Prob(Omnibus):                  0.000   Jarque-Bera (JB):            40447.642\n",
      "Skew:                          -0.642   Prob(JB):                         0.00\n",
      "Kurtosis:                      16.135   Cond. No.                         80.5\n",
      "==============================================================================\n",
      "\n",
      "Notes:\n",
      "[1] Standard Errors assume that the covariance matrix of the errors is correctly specified.\n"
     ]
    }
   ],
   "source": [
    "print(results.summary())"
   ]
  },
  {
   "cell_type": "markdown",
   "id": "indirect-grant",
   "metadata": {},
   "source": [
    "The estimate of β is stored in the `.params` property."
   ]
  },
  {
   "cell_type": "code",
   "execution_count": 38,
   "id": "authorized-literature",
   "metadata": {},
   "outputs": [
    {
     "data": {
      "text/plain": [
       "0.8339604160666638"
      ]
     },
     "execution_count": 38,
     "metadata": {},
     "output_type": "execute_result"
    }
   ],
   "source": [
    "results.params[-1]"
   ]
  },
  {
   "cell_type": "markdown",
   "id": "expired-removal",
   "metadata": {},
   "source": [
    "Now iterate over the DJIA tickers and estimate beta for each stock. Save the estimates in a list.\n",
    "\n",
    "(Note that statsmodels cannot handle missing data, so you have to remove any before attempting to run the regression.)"
   ]
  },
  {
   "cell_type": "code",
   "execution_count": 39,
   "id": "2e7f55e1-2d62-4504-9e88-77af6972560d",
   "metadata": {},
   "outputs": [
    {
     "data": {
      "text/plain": [
       "{'AAPL': 1.1163624170077548,\n",
       " 'AMGN': 0.7848075218060074,\n",
       " 'AXP': 1.3818097818007824,\n",
       " 'BA': 1.1243956559333417,\n",
       " 'CAT': 1.1311327149583519,\n",
       " 'CRM': 1.275298755013034,\n",
       " 'CSCO': 1.185208847633726,\n",
       " 'CVX': 0.9598110024912362,\n",
       " 'DIS': 1.0895749445221246,\n",
       " 'DOW': 1.1522942665328262,\n",
       " 'GS': 1.3284383712210885,\n",
       " 'HD': 1.019264020186715,\n",
       " 'HON': 1.0899504708596,\n",
       " 'IBM': 0.8518754485335462,\n",
       " 'INTC': 1.2353713760130152,\n",
       " 'JNJ': 0.5484048991275736,\n",
       " 'JPM': 1.4360446980617483,\n",
       " 'KO': 0.5747127147397081,\n",
       " 'MCD': 0.6210301197498492,\n",
       " 'MMM': 0.8339604160666638,\n",
       " 'MRK': 0.6979667669328613,\n",
       " 'MSFT': 1.0886233053702192,\n",
       " 'NKE': 0.918559118882552,\n",
       " 'PG': 0.5409551062074643,\n",
       " 'TRV': 0.9465551847539169,\n",
       " 'UNH': 0.848541667744763,\n",
       " 'V': 1.0102174475179644,\n",
       " 'VZ': 0.672196973375921,\n",
       " 'WBA': 0.7543701423210322,\n",
       " 'WMT': 0.5921111282016178}"
      ]
     },
     "execution_count": 39,
     "metadata": {},
     "output_type": "execute_result"
    }
   ],
   "source": [
    "dji_stocks = list(dji.columns)\n",
    "beta_dji = {}\n",
    "\n",
    "for i in dji_stocks:\n",
    "    reg = pd.concat([snp_ret,dji_ret[i]],axis = 1).dropna()\n",
    "    model = sm.OLS(reg[i], sm.add_constant(reg['Adj Close']))\n",
    "    results = model.fit()\n",
    "    beta = results.params[-1]\n",
    "    beta_dji[i] = beta\n",
    "\n",
    "beta_dji\n"
   ]
  },
  {
   "cell_type": "markdown",
   "id": "joined-brain",
   "metadata": {},
   "source": [
    "Create a `Series` from the list of betas. Set the index of the series to be the columns in `rets_dow` (that is, the ticker symbols)."
   ]
  },
  {
   "cell_type": "code",
   "execution_count": 40,
   "id": "9d860db5-6007-437e-a3a5-02311fd7624a",
   "metadata": {},
   "outputs": [
    {
     "data": {
      "text/plain": [
       "AAPL    1.116362\n",
       "AMGN    0.784808\n",
       "AXP     1.381810\n",
       "BA      1.124396\n",
       "CAT     1.131133\n",
       "          ...   \n",
       "UNH     0.848542\n",
       "V       1.010217\n",
       "VZ      0.672197\n",
       "WBA     0.754370\n",
       "WMT     0.592111\n",
       "Length: 30, dtype: float64"
      ]
     },
     "execution_count": 40,
     "metadata": {},
     "output_type": "execute_result"
    }
   ],
   "source": [
    "series = pd.Series(beta_dji,dji_stocks)\n",
    "series"
   ]
  },
  {
   "cell_type": "markdown",
   "id": "085f5d6d-64a1-4043-8fb9-5bcede905081",
   "metadata": {},
   "source": [
    "What company as the highest beta? The lowest?"
   ]
  },
  {
   "cell_type": "code",
   "execution_count": 41,
   "id": "2219e646-13ba-4276-9938-7d662f68a229",
   "metadata": {},
   "outputs": [
    {
     "name": "stdout",
     "output_type": "stream",
     "text": [
      "Min beta company PG \n",
      "Max beta company JPM\n"
     ]
    }
   ],
   "source": [
    "max_series = series.idxmax()\n",
    "min_series = series.idxmin()\n",
    "\n",
    "print(\"Min beta company\", min_series, \"\\nMax beta company\", max_series)"
   ]
  },
  {
   "cell_type": "markdown",
   "id": "4f0f22b3-be64-46cc-8549-d032af51f269",
   "metadata": {},
   "source": [
    "Plot a histogram of the betas."
   ]
  },
  {
   "cell_type": "code",
   "execution_count": 42,
   "id": "79bedd62-abd0-4700-bc13-f4eb09850bd2",
   "metadata": {},
   "outputs": [
    {
     "data": {
      "image/png": "[encoded data removed]",
      "text/plain": [
       "<Figure size 432x288 with 1 Axes>"
      ]
     },
     "metadata": {
      "needs_background": "light"
     },
     "output_type": "display_data"
    }
   ],
   "source": [
    "plt.hist(series,10)\n",
    "plt.xlabel(\"Beta\")\n",
    "plt.ylabel(\"No. of companies\")\n",
    "plt.show()"
   ]
  },
  {
   "cell_type": "markdown",
   "id": "distributed-strip",
   "metadata": {},
   "source": [
    "For this excercise you used 20 years of data to estimate the betas. What problems might there be with this approach?"
   ]
  },
  {
   "attachments": {},
   "cell_type": "markdown",
   "id": "136b05b9",
   "metadata": {},
   "source": [
    "The issue with betas is that it is not a good assessment of a stock's risk with different market conditions. Additionally, beta is also a lagging indicator meaning that it may not accurately predict what would happen to the stock in the future with certain market conditions. "
   ]
  }
 ],
 "metadata": {
  "kernelspec": {
   "display_name": "Python 3 (ipykernel)",
   "language": "python",
   "name": "python3"
  },
  "language_info": {
   "codemirror_mode": {
    "name": "ipython",
    "version": 3
   },
   "file_extension": ".py",
   "mimetype": "text/x-python",
   "name": "python",
   "nbconvert_exporter": "python",
   "pygments_lexer": "ipython3",
   "version": "3.8.9"
  },
  "toc": {
   "base_numbering": 1,
   "nav_menu": {},
   "number_sections": false,
   "sideBar": true,
   "skip_h1_title": false,
   "title_cell": "Table of Contents",
   "title_sidebar": "Contents",
   "toc_cell": false,
   "toc_position": {},
   "toc_section_display": true,
   "toc_window_display": false
  }
 },
 "nbformat": 4,
 "nbformat_minor": 5
}
