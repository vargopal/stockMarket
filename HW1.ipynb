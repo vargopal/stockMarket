{
 "cells": [
  {
   "cell_type": "markdown",
   "id": "suitable-north",
   "metadata": {},
   "source": [
    "# Homework 1"
   ]
  },
  {
   "cell_type": "code",
   "execution_count": 2,
   "id": "629fca8e-717a-4881-b23e-4e2252defe6e",
   "metadata": {},
   "outputs": [],
   "source": [
    "import numpy as np\n",
    "import pandas as pd\n",
    "\n",
    "pd.options.display.max_rows = 20"
   ]
  },
  {
   "cell_type": "markdown",
   "id": "aerial-clearance",
   "metadata": {},
   "source": [
    "## Getting stock data"
   ]
  },
  {
   "cell_type": "markdown",
   "id": "transparent-solution",
   "metadata": {},
   "source": [
    "We can use `yfinance` to download historical price data from Yahoo! Finance. This package is not part of the standard python library, so you'll have to [install it](https://pypi.org/project/yfinance/) if you haven't previously done so."
   ]
  },
  {
   "cell_type": "code",
   "execution_count": 3,
   "id": "6f737fcd-0c60-43f6-a199-bf0e0eeaa6f5",
   "metadata": {},
   "outputs": [],
   "source": [
    "import yfinance as yf"
   ]
  },
  {
   "cell_type": "markdown",
   "id": "40a0036d-d78d-40d7-bdb1-650938efd93f",
   "metadata": {},
   "source": [
    "Here's an example of downloading data for multiple tickers:"
   ]
  },
  {
   "cell_type": "code",
   "execution_count": 4,
   "id": "23681c20-29a9-402f-9929-2eecb7c65dea",
   "metadata": {},
   "outputs": [
    {
     "name": "stdout",
     "output_type": "stream",
     "text": [
      "[*********************100%***********************]  4 of 4 completed\n"
     ]
    },
    {
     "data": {
      "text/html": [
       "<div>\n",
       "<style scoped>\n",
       "    .dataframe tbody tr th:only-of-type {\n",
       "        vertical-align: middle;\n",
       "    }\n",
       "\n",
       "    .dataframe tbody tr th {\n",
       "        vertical-align: top;\n",
       "    }\n",
       "\n",
       "    .dataframe thead th {\n",
       "        text-align: right;\n",
       "    }\n",
       "</style>\n",
       "<table border=\"1\" class=\"dataframe\">\n",
       "  <thead>\n",
       "    <tr style=\"text-align: right;\">\n",
       "      <th></th>\n",
       "      <th>AMZN</th>\n",
       "      <th>GE</th>\n",
       "      <th>PFE</th>\n",
       "      <th>TSLA</th>\n",
       "    </tr>\n",
       "    <tr>\n",
       "      <th>Date</th>\n",
       "      <th></th>\n",
       "      <th></th>\n",
       "      <th></th>\n",
       "      <th></th>\n",
       "    </tr>\n",
       "  </thead>\n",
       "  <tbody>\n",
       "    <tr>\n",
       "      <th>2013-01-02</th>\n",
       "      <td>12.8655</td>\n",
       "      <td>103.887482</td>\n",
       "      <td>17.030136</td>\n",
       "      <td>2.357333</td>\n",
       "    </tr>\n",
       "    <tr>\n",
       "      <th>2013-01-03</th>\n",
       "      <td>12.9240</td>\n",
       "      <td>102.719101</td>\n",
       "      <td>16.990705</td>\n",
       "      <td>2.318000</td>\n",
       "    </tr>\n",
       "    <tr>\n",
       "      <th>2013-01-04</th>\n",
       "      <td>12.9575</td>\n",
       "      <td>103.205933</td>\n",
       "      <td>17.063005</td>\n",
       "      <td>2.293333</td>\n",
       "    </tr>\n",
       "    <tr>\n",
       "      <th>2013-01-07</th>\n",
       "      <td>13.4230</td>\n",
       "      <td>102.865135</td>\n",
       "      <td>17.076147</td>\n",
       "      <td>2.289333</td>\n",
       "    </tr>\n",
       "    <tr>\n",
       "      <th>2013-01-08</th>\n",
       "      <td>13.3190</td>\n",
       "      <td>101.745468</td>\n",
       "      <td>17.102444</td>\n",
       "      <td>2.245333</td>\n",
       "    </tr>\n",
       "  </tbody>\n",
       "</table>\n",
       "</div>"
      ],
      "text/plain": [
       "               AMZN          GE        PFE      TSLA\n",
       "Date                                                \n",
       "2013-01-02  12.8655  103.887482  17.030136  2.357333\n",
       "2013-01-03  12.9240  102.719101  16.990705  2.318000\n",
       "2013-01-04  12.9575  103.205933  17.063005  2.293333\n",
       "2013-01-07  13.4230  102.865135  17.076147  2.289333\n",
       "2013-01-08  13.3190  101.745468  17.102444  2.245333"
      ]
     },
     "execution_count": 4,
     "metadata": {},
     "output_type": "execute_result"
    }
   ],
   "source": [
    "px = yf.download(tickers=['AMZN', 'PFE', 'GE', 'TSLA'],\n",
    "                   interval='1d',\n",
    "                   start='2013-01-01',\n",
    "                   end='2023-03-01')\n",
    "\n",
    "px = px['Adj Close']\n",
    "\n",
    "px.head()"
   ]
  },
  {
   "cell_type": "markdown",
   "id": "plastic-reserve",
   "metadata": {},
   "source": [
    "One way to plot prices is to create an index by initializing each price to 1, like so:"
   ]
  },
  {
   "cell_type": "code",
   "execution_count": 5,
   "id": "qualified-leone",
   "metadata": {},
   "outputs": [
    {
     "data": {
      "text/plain": [
       "<AxesSubplot:xlabel='Date'>"
      ]
     },
     "execution_count": 5,
     "metadata": {},
     "output_type": "execute_result"
    },
    {
     "data": {
      "image/png": "[encoded data removed]",
      "text/plain": [
       "<Figure size 864x576 with 1 Axes>"
      ]
     },
     "metadata": {
      "needs_background": "light"
     },
     "output_type": "display_data"
    }
   ],
   "source": [
    "(px / px.iloc[0]).plot(figsize=(12,8), grid=True)"
   ]
  },
  {
   "cell_type": "markdown",
   "id": "legal-basis",
   "metadata": {},
   "source": [
    "Tesla's huge return makes it hard to see the performance of the other stocks here. Change the graph so that the scale on the y-axis is in logs. (You can do this without modifying the data; you just need to use an argument to the `plot` function.)"
   ]
  },
  {
   "cell_type": "code",
   "execution_count": 6,
   "id": "38d30a20-fdfc-49ba-a001-055089b90a21",
   "metadata": {},
   "outputs": [
    {
     "data": {
      "image/png": "[encoded data removed]",
      "text/plain": [
       "<Figure size 864x576 with 1 Axes>"
      ]
     },
     "metadata": {
      "needs_background": "light"
     },
     "output_type": "display_data"
    }
   ],
   "source": [
    "(px / px.iloc[0]).plot(figsize=(12,8), grid=True).set_yscale('log')"
   ]
  },
  {
   "cell_type": "markdown",
   "id": "laden-mustang",
   "metadata": {},
   "source": [
    "Calculate a daily return series for each stock using these prices."
   ]
  },
  {
   "cell_type": "code",
   "execution_count": 7,
   "id": "a4a27eb9-b587-46f5-bacb-56b7142067e6",
   "metadata": {},
   "outputs": [
    {
     "data": {
      "text/html": [
       "<div>\n",
       "<style scoped>\n",
       "    .dataframe tbody tr th:only-of-type {\n",
       "        vertical-align: middle;\n",
       "    }\n",
       "\n",
       "    .dataframe tbody tr th {\n",
       "        vertical-align: top;\n",
       "    }\n",
       "\n",
       "    .dataframe thead th {\n",
       "        text-align: right;\n",
       "    }\n",
       "</style>\n",
       "<table border=\"1\" class=\"dataframe\">\n",
       "  <thead>\n",
       "    <tr style=\"text-align: right;\">\n",
       "      <th></th>\n",
       "      <th>AMZN</th>\n",
       "      <th>GE</th>\n",
       "      <th>PFE</th>\n",
       "      <th>TSLA</th>\n",
       "    </tr>\n",
       "    <tr>\n",
       "      <th>Date</th>\n",
       "      <th></th>\n",
       "      <th></th>\n",
       "      <th></th>\n",
       "      <th></th>\n",
       "    </tr>\n",
       "  </thead>\n",
       "  <tbody>\n",
       "    <tr>\n",
       "      <th>2013-01-03</th>\n",
       "      <td>0.004547</td>\n",
       "      <td>-0.011247</td>\n",
       "      <td>-0.002315</td>\n",
       "      <td>-0.016685</td>\n",
       "    </tr>\n",
       "    <tr>\n",
       "      <th>2013-01-04</th>\n",
       "      <td>0.002592</td>\n",
       "      <td>0.004739</td>\n",
       "      <td>0.004255</td>\n",
       "      <td>-0.010642</td>\n",
       "    </tr>\n",
       "    <tr>\n",
       "      <th>2013-01-07</th>\n",
       "      <td>0.035925</td>\n",
       "      <td>-0.003302</td>\n",
       "      <td>0.000770</td>\n",
       "      <td>-0.001744</td>\n",
       "    </tr>\n",
       "    <tr>\n",
       "      <th>2013-01-08</th>\n",
       "      <td>-0.007748</td>\n",
       "      <td>-0.010885</td>\n",
       "      <td>0.001540</td>\n",
       "      <td>-0.019220</td>\n",
       "    </tr>\n",
       "    <tr>\n",
       "      <th>2013-01-09</th>\n",
       "      <td>-0.000113</td>\n",
       "      <td>0.002392</td>\n",
       "      <td>0.017294</td>\n",
       "      <td>-0.001187</td>\n",
       "    </tr>\n",
       "  </tbody>\n",
       "</table>\n",
       "</div>"
      ],
      "text/plain": [
       "                AMZN        GE       PFE      TSLA\n",
       "Date                                              \n",
       "2013-01-03  0.004547 -0.011247 -0.002315 -0.016685\n",
       "2013-01-04  0.002592  0.004739  0.004255 -0.010642\n",
       "2013-01-07  0.035925 -0.003302  0.000770 -0.001744\n",
       "2013-01-08 -0.007748 -0.010885  0.001540 -0.019220\n",
       "2013-01-09 -0.000113  0.002392  0.017294 -0.001187"
      ]
     },
     "execution_count": 7,
     "metadata": {},
     "output_type": "execute_result"
    }
   ],
   "source": [
    "px_ret = px.pct_change().dropna()\n",
    "px_ret.head()"
   ]
  },
  {
   "cell_type": "markdown",
   "id": "alpha-metropolitan",
   "metadata": {},
   "source": [
    "Use the `.describe()` method to calculate summary statistics on returns. Do the statistics look reasonable? Give a couple examples of what gives you confidence that these make sense."
   ]
  },
  {
   "cell_type": "code",
   "execution_count": 8,
   "id": "da3dddea-467a-4240-8a42-6a3d7073f606",
   "metadata": {},
   "outputs": [
    {
     "data": {
      "text/html": [
       "<div>\n",
       "<style scoped>\n",
       "    .dataframe tbody tr th:only-of-type {\n",
       "        vertical-align: middle;\n",
       "    }\n",
       "\n",
       "    .dataframe tbody tr th {\n",
       "        vertical-align: top;\n",
       "    }\n",
       "\n",
       "    .dataframe thead th {\n",
       "        text-align: right;\n",
       "    }\n",
       "</style>\n",
       "<table border=\"1\" class=\"dataframe\">\n",
       "  <thead>\n",
       "    <tr style=\"text-align: right;\">\n",
       "      <th></th>\n",
       "      <th>AMZN</th>\n",
       "      <th>GE</th>\n",
       "      <th>PFE</th>\n",
       "      <th>TSLA</th>\n",
       "    </tr>\n",
       "  </thead>\n",
       "  <tbody>\n",
       "    <tr>\n",
       "      <th>count</th>\n",
       "      <td>2556.000000</td>\n",
       "      <td>2556.000000</td>\n",
       "      <td>2556.000000</td>\n",
       "      <td>2556.000000</td>\n",
       "    </tr>\n",
       "    <tr>\n",
       "      <th>mean</th>\n",
       "      <td>0.000992</td>\n",
       "      <td>0.000142</td>\n",
       "      <td>0.000435</td>\n",
       "      <td>0.002402</td>\n",
       "    </tr>\n",
       "    <tr>\n",
       "      <th>std</th>\n",
       "      <td>0.020664</td>\n",
       "      <td>0.021073</td>\n",
       "      <td>0.013851</td>\n",
       "      <td>0.036243</td>\n",
       "    </tr>\n",
       "    <tr>\n",
       "      <th>min</th>\n",
       "      <td>-0.140494</td>\n",
       "      <td>-0.151592</td>\n",
       "      <td>-0.077346</td>\n",
       "      <td>-0.210628</td>\n",
       "    </tr>\n",
       "    <tr>\n",
       "      <th>25%</th>\n",
       "      <td>-0.008605</td>\n",
       "      <td>-0.008569</td>\n",
       "      <td>-0.006263</td>\n",
       "      <td>-0.014902</td>\n",
       "    </tr>\n",
       "    <tr>\n",
       "      <th>50%</th>\n",
       "      <td>0.001071</td>\n",
       "      <td>0.000000</td>\n",
       "      <td>0.000000</td>\n",
       "      <td>0.001389</td>\n",
       "    </tr>\n",
       "    <tr>\n",
       "      <th>75%</th>\n",
       "      <td>0.011176</td>\n",
       "      <td>0.008606</td>\n",
       "      <td>0.006999</td>\n",
       "      <td>0.019245</td>\n",
       "    </tr>\n",
       "    <tr>\n",
       "      <th>max</th>\n",
       "      <td>0.141311</td>\n",
       "      <td>0.147300</td>\n",
       "      <td>0.108552</td>\n",
       "      <td>0.243951</td>\n",
       "    </tr>\n",
       "  </tbody>\n",
       "</table>\n",
       "</div>"
      ],
      "text/plain": [
       "              AMZN           GE          PFE         TSLA\n",
       "count  2556.000000  2556.000000  2556.000000  2556.000000\n",
       "mean      0.000992     0.000142     0.000435     0.002402\n",
       "std       0.020664     0.021073     0.013851     0.036243\n",
       "min      -0.140494    -0.151592    -0.077346    -0.210628\n",
       "25%      -0.008605    -0.008569    -0.006263    -0.014902\n",
       "50%       0.001071     0.000000     0.000000     0.001389\n",
       "75%       0.011176     0.008606     0.006999     0.019245\n",
       "max       0.141311     0.147300     0.108552     0.243951"
      ]
     },
     "execution_count": 8,
     "metadata": {},
     "output_type": "execute_result"
    }
   ],
   "source": [
    "px_ret.describe()"
   ]
  },
  {
   "attachments": {},
   "cell_type": "markdown",
   "id": "2231be82",
   "metadata": {},
   "source": [
    "Why do they look reasonable? Work on that"
   ]
  },
  {
   "attachments": {},
   "cell_type": "markdown",
   "id": "5901f0c9-0770-4f20-b1a7-b4e07af2340f",
   "metadata": {},
   "source": [
    "The first big indicator is that the median of daily returns is 0. This means that it is just as likely to have a daily loss as it would have a gain.\n",
    "\n",
    "\n",
    "Now calculate the correlation matrix for these returns. This should just be one line of code!"
   ]
  },
  {
   "cell_type": "code",
   "execution_count": 9,
   "id": "dfe8d98c-fd1c-4eae-9a73-7d35378c7c47",
   "metadata": {},
   "outputs": [
    {
     "data": {
      "text/html": [
       "<div>\n",
       "<style scoped>\n",
       "    .dataframe tbody tr th:only-of-type {\n",
       "        vertical-align: middle;\n",
       "    }\n",
       "\n",
       "    .dataframe tbody tr th {\n",
       "        vertical-align: top;\n",
       "    }\n",
       "\n",
       "    .dataframe thead th {\n",
       "        text-align: right;\n",
       "    }\n",
       "</style>\n",
       "<table border=\"1\" class=\"dataframe\">\n",
       "  <thead>\n",
       "    <tr style=\"text-align: right;\">\n",
       "      <th></th>\n",
       "      <th>AMZN</th>\n",
       "      <th>GE</th>\n",
       "      <th>PFE</th>\n",
       "      <th>TSLA</th>\n",
       "    </tr>\n",
       "  </thead>\n",
       "  <tbody>\n",
       "    <tr>\n",
       "      <th>AMZN</th>\n",
       "      <td>1.000000</td>\n",
       "      <td>0.243290</td>\n",
       "      <td>0.234330</td>\n",
       "      <td>0.371136</td>\n",
       "    </tr>\n",
       "    <tr>\n",
       "      <th>GE</th>\n",
       "      <td>0.243290</td>\n",
       "      <td>1.000000</td>\n",
       "      <td>0.287196</td>\n",
       "      <td>0.215416</td>\n",
       "    </tr>\n",
       "    <tr>\n",
       "      <th>PFE</th>\n",
       "      <td>0.234330</td>\n",
       "      <td>0.287196</td>\n",
       "      <td>1.000000</td>\n",
       "      <td>0.123169</td>\n",
       "    </tr>\n",
       "    <tr>\n",
       "      <th>TSLA</th>\n",
       "      <td>0.371136</td>\n",
       "      <td>0.215416</td>\n",
       "      <td>0.123169</td>\n",
       "      <td>1.000000</td>\n",
       "    </tr>\n",
       "  </tbody>\n",
       "</table>\n",
       "</div>"
      ],
      "text/plain": [
       "          AMZN        GE       PFE      TSLA\n",
       "AMZN  1.000000  0.243290  0.234330  0.371136\n",
       "GE    0.243290  1.000000  0.287196  0.215416\n",
       "PFE   0.234330  0.287196  1.000000  0.123169\n",
       "TSLA  0.371136  0.215416  0.123169  1.000000"
      ]
     },
     "execution_count": 9,
     "metadata": {},
     "output_type": "execute_result"
    }
   ],
   "source": [
    "px_ret.corr()"
   ]
  },
  {
   "cell_type": "markdown",
   "id": "other-newton",
   "metadata": {},
   "source": [
    "This function takes a DataFrame and returns a “long” DataFrame of pairwise correlations:"
   ]
  },
  {
   "cell_type": "code",
   "execution_count": 10,
   "id": "satellite-photography",
   "metadata": {},
   "outputs": [],
   "source": [
    "def pairwise_corr(df):\n",
    "    corrs = df.corr()\n",
    "    corrs = corrs.unstack().reset_index()\n",
    "    corrs.columns = ['tic1', 'tic2', 'corr']\n",
    "    corrs = corrs[corrs['corr']<1]\n",
    "    return corrs"
   ]
  },
  {
   "attachments": {},
   "cell_type": "markdown",
   "id": "98833c9f",
   "metadata": {},
   "source": [
    "Purpose of next two boxes of code are just to get a better understanding of the indexes by including the perfect correlation values as well."
   ]
  },
  {
   "cell_type": "code",
   "execution_count": 11,
   "id": "8594125d",
   "metadata": {},
   "outputs": [],
   "source": [
    "def pairwise_corr_full(df):\n",
    "    corrs = df.corr()\n",
    "    corrs = corrs.unstack().reset_index()\n",
    "    corrs.columns = ['tic1', 'tic2', 'corr']\n",
    "    return corrs"
   ]
  },
  {
   "cell_type": "code",
   "execution_count": 12,
   "id": "d22de39f",
   "metadata": {},
   "outputs": [
    {
     "data": {
      "text/html": [
       "<div>\n",
       "<style scoped>\n",
       "    .dataframe tbody tr th:only-of-type {\n",
       "        vertical-align: middle;\n",
       "    }\n",
       "\n",
       "    .dataframe tbody tr th {\n",
       "        vertical-align: top;\n",
       "    }\n",
       "\n",
       "    .dataframe thead th {\n",
       "        text-align: right;\n",
       "    }\n",
       "</style>\n",
       "<table border=\"1\" class=\"dataframe\">\n",
       "  <thead>\n",
       "    <tr style=\"text-align: right;\">\n",
       "      <th></th>\n",
       "      <th>tic1</th>\n",
       "      <th>tic2</th>\n",
       "      <th>corr</th>\n",
       "    </tr>\n",
       "  </thead>\n",
       "  <tbody>\n",
       "    <tr>\n",
       "      <th>0</th>\n",
       "      <td>AMZN</td>\n",
       "      <td>AMZN</td>\n",
       "      <td>1.000000</td>\n",
       "    </tr>\n",
       "    <tr>\n",
       "      <th>1</th>\n",
       "      <td>AMZN</td>\n",
       "      <td>GE</td>\n",
       "      <td>0.243290</td>\n",
       "    </tr>\n",
       "    <tr>\n",
       "      <th>2</th>\n",
       "      <td>AMZN</td>\n",
       "      <td>PFE</td>\n",
       "      <td>0.234330</td>\n",
       "    </tr>\n",
       "    <tr>\n",
       "      <th>3</th>\n",
       "      <td>AMZN</td>\n",
       "      <td>TSLA</td>\n",
       "      <td>0.371136</td>\n",
       "    </tr>\n",
       "    <tr>\n",
       "      <th>4</th>\n",
       "      <td>GE</td>\n",
       "      <td>AMZN</td>\n",
       "      <td>0.243290</td>\n",
       "    </tr>\n",
       "    <tr>\n",
       "      <th>5</th>\n",
       "      <td>GE</td>\n",
       "      <td>GE</td>\n",
       "      <td>1.000000</td>\n",
       "    </tr>\n",
       "    <tr>\n",
       "      <th>6</th>\n",
       "      <td>GE</td>\n",
       "      <td>PFE</td>\n",
       "      <td>0.287196</td>\n",
       "    </tr>\n",
       "    <tr>\n",
       "      <th>7</th>\n",
       "      <td>GE</td>\n",
       "      <td>TSLA</td>\n",
       "      <td>0.215416</td>\n",
       "    </tr>\n",
       "    <tr>\n",
       "      <th>8</th>\n",
       "      <td>PFE</td>\n",
       "      <td>AMZN</td>\n",
       "      <td>0.234330</td>\n",
       "    </tr>\n",
       "    <tr>\n",
       "      <th>9</th>\n",
       "      <td>PFE</td>\n",
       "      <td>GE</td>\n",
       "      <td>0.287196</td>\n",
       "    </tr>\n",
       "    <tr>\n",
       "      <th>10</th>\n",
       "      <td>PFE</td>\n",
       "      <td>PFE</td>\n",
       "      <td>1.000000</td>\n",
       "    </tr>\n",
       "    <tr>\n",
       "      <th>11</th>\n",
       "      <td>PFE</td>\n",
       "      <td>TSLA</td>\n",
       "      <td>0.123169</td>\n",
       "    </tr>\n",
       "    <tr>\n",
       "      <th>12</th>\n",
       "      <td>TSLA</td>\n",
       "      <td>AMZN</td>\n",
       "      <td>0.371136</td>\n",
       "    </tr>\n",
       "    <tr>\n",
       "      <th>13</th>\n",
       "      <td>TSLA</td>\n",
       "      <td>GE</td>\n",
       "      <td>0.215416</td>\n",
       "    </tr>\n",
       "    <tr>\n",
       "      <th>14</th>\n",
       "      <td>TSLA</td>\n",
       "      <td>PFE</td>\n",
       "      <td>0.123169</td>\n",
       "    </tr>\n",
       "    <tr>\n",
       "      <th>15</th>\n",
       "      <td>TSLA</td>\n",
       "      <td>TSLA</td>\n",
       "      <td>1.000000</td>\n",
       "    </tr>\n",
       "  </tbody>\n",
       "</table>\n",
       "</div>"
      ],
      "text/plain": [
       "    tic1  tic2      corr\n",
       "0   AMZN  AMZN  1.000000\n",
       "1   AMZN    GE  0.243290\n",
       "2   AMZN   PFE  0.234330\n",
       "3   AMZN  TSLA  0.371136\n",
       "4     GE  AMZN  0.243290\n",
       "5     GE    GE  1.000000\n",
       "6     GE   PFE  0.287196\n",
       "7     GE  TSLA  0.215416\n",
       "8    PFE  AMZN  0.234330\n",
       "9    PFE    GE  0.287196\n",
       "10   PFE   PFE  1.000000\n",
       "11   PFE  TSLA  0.123169\n",
       "12  TSLA  AMZN  0.371136\n",
       "13  TSLA    GE  0.215416\n",
       "14  TSLA   PFE  0.123169\n",
       "15  TSLA  TSLA  1.000000"
      ]
     },
     "execution_count": 12,
     "metadata": {},
     "output_type": "execute_result"
    }
   ],
   "source": [
    "pairwise_corr_full(px_ret)"
   ]
  },
  {
   "cell_type": "markdown",
   "id": "former-nutrition",
   "metadata": {},
   "source": [
    "Call this function with the returns data. Does the number of rows in the result make sense? Why?\n",
    "\n",
    "Hint: Pay close attention to the index here!"
   ]
  },
  {
   "cell_type": "code",
   "execution_count": 13,
   "id": "a0f9ac26-6af8-442c-b219-0bf507e783ff",
   "metadata": {},
   "outputs": [
    {
     "data": {
      "text/html": [
       "<div>\n",
       "<style scoped>\n",
       "    .dataframe tbody tr th:only-of-type {\n",
       "        vertical-align: middle;\n",
       "    }\n",
       "\n",
       "    .dataframe tbody tr th {\n",
       "        vertical-align: top;\n",
       "    }\n",
       "\n",
       "    .dataframe thead th {\n",
       "        text-align: right;\n",
       "    }\n",
       "</style>\n",
       "<table border=\"1\" class=\"dataframe\">\n",
       "  <thead>\n",
       "    <tr style=\"text-align: right;\">\n",
       "      <th></th>\n",
       "      <th>tic1</th>\n",
       "      <th>tic2</th>\n",
       "      <th>corr</th>\n",
       "    </tr>\n",
       "  </thead>\n",
       "  <tbody>\n",
       "    <tr>\n",
       "      <th>1</th>\n",
       "      <td>AMZN</td>\n",
       "      <td>GE</td>\n",
       "      <td>0.243290</td>\n",
       "    </tr>\n",
       "    <tr>\n",
       "      <th>2</th>\n",
       "      <td>AMZN</td>\n",
       "      <td>PFE</td>\n",
       "      <td>0.234330</td>\n",
       "    </tr>\n",
       "    <tr>\n",
       "      <th>3</th>\n",
       "      <td>AMZN</td>\n",
       "      <td>TSLA</td>\n",
       "      <td>0.371136</td>\n",
       "    </tr>\n",
       "    <tr>\n",
       "      <th>4</th>\n",
       "      <td>GE</td>\n",
       "      <td>AMZN</td>\n",
       "      <td>0.243290</td>\n",
       "    </tr>\n",
       "    <tr>\n",
       "      <th>6</th>\n",
       "      <td>GE</td>\n",
       "      <td>PFE</td>\n",
       "      <td>0.287196</td>\n",
       "    </tr>\n",
       "    <tr>\n",
       "      <th>7</th>\n",
       "      <td>GE</td>\n",
       "      <td>TSLA</td>\n",
       "      <td>0.215416</td>\n",
       "    </tr>\n",
       "    <tr>\n",
       "      <th>8</th>\n",
       "      <td>PFE</td>\n",
       "      <td>AMZN</td>\n",
       "      <td>0.234330</td>\n",
       "    </tr>\n",
       "    <tr>\n",
       "      <th>9</th>\n",
       "      <td>PFE</td>\n",
       "      <td>GE</td>\n",
       "      <td>0.287196</td>\n",
       "    </tr>\n",
       "    <tr>\n",
       "      <th>11</th>\n",
       "      <td>PFE</td>\n",
       "      <td>TSLA</td>\n",
       "      <td>0.123169</td>\n",
       "    </tr>\n",
       "    <tr>\n",
       "      <th>12</th>\n",
       "      <td>TSLA</td>\n",
       "      <td>AMZN</td>\n",
       "      <td>0.371136</td>\n",
       "    </tr>\n",
       "    <tr>\n",
       "      <th>13</th>\n",
       "      <td>TSLA</td>\n",
       "      <td>GE</td>\n",
       "      <td>0.215416</td>\n",
       "    </tr>\n",
       "    <tr>\n",
       "      <th>14</th>\n",
       "      <td>TSLA</td>\n",
       "      <td>PFE</td>\n",
       "      <td>0.123169</td>\n",
       "    </tr>\n",
       "  </tbody>\n",
       "</table>\n",
       "</div>"
      ],
      "text/plain": [
       "    tic1  tic2      corr\n",
       "1   AMZN    GE  0.243290\n",
       "2   AMZN   PFE  0.234330\n",
       "3   AMZN  TSLA  0.371136\n",
       "4     GE  AMZN  0.243290\n",
       "6     GE   PFE  0.287196\n",
       "7     GE  TSLA  0.215416\n",
       "8    PFE  AMZN  0.234330\n",
       "9    PFE    GE  0.287196\n",
       "11   PFE  TSLA  0.123169\n",
       "12  TSLA  AMZN  0.371136\n",
       "13  TSLA    GE  0.215416\n",
       "14  TSLA   PFE  0.123169"
      ]
     },
     "execution_count": 13,
     "metadata": {},
     "output_type": "execute_result"
    }
   ],
   "source": [
    "pair_corr = pairwise_corr(px_ret)\n",
    "pair_corr"
   ]
  },
  {
   "attachments": {},
   "cell_type": "markdown",
   "id": "16203e6e",
   "metadata": {},
   "source": [
    "This makes sense. There are 16 overall correlations in the table. However, we can get rid of the correlations of each ticker upon itself which reduces 16 to 12 points. "
   ]
  },
  {
   "cell_type": "markdown",
   "id": "individual-cream",
   "metadata": {},
   "source": [
    "What is the *average* correlation of these firms?"
   ]
  },
  {
   "cell_type": "code",
   "execution_count": 14,
   "id": "c3ab0976-5535-44a4-bb4c-ee3d07b612b4",
   "metadata": {},
   "outputs": [
    {
     "name": "stderr",
     "output_type": "stream",
     "text": [
      "C:\\Users\\Varun\\AppData\\Local\\Temp\\ipykernel_22940\\1221470991.py:1: FutureWarning: Dropping of nuisance columns in DataFrame reductions (with 'numeric_only=None') is deprecated; in a future version this will raise TypeError.  Select only valid columns before calling the reduction.\n",
      "  avg_corr = pair_corr.mean()\n"
     ]
    },
    {
     "data": {
      "text/plain": [
       "0.2457561544280347"
      ]
     },
     "execution_count": 14,
     "metadata": {},
     "output_type": "execute_result"
    }
   ],
   "source": [
    "avg_corr = pair_corr.mean()\n",
    "avg_corr['corr']"
   ]
  },
  {
   "attachments": {},
   "cell_type": "markdown",
   "id": "3690d2ec",
   "metadata": {},
   "source": [
    "The average correlation between these pairs of stocks is 0.25."
   ]
  },
  {
   "cell_type": "markdown",
   "id": "1d7f3eca-9f4d-421a-9a7c-3e399f217bcb",
   "metadata": {},
   "source": [
    "Since each pair appears twice, the mean calculation is correct, but if we want to calculate the standard deviation of these correlations, we must be careful to keep only one value for each pair.\n",
    "\n",
    "One trick for doing this is to require that `tic1` is less than (or, if you prefer, greater than) `tic2`. In other words, just require that the row we keep has the first ticker appear before the second ticker in an alpabetical ordering.\n",
    "\n",
    "Using this approach, calculate the standard deviation of the correlations."
   ]
  },
  {
   "cell_type": "code",
   "execution_count": 15,
   "id": "e7e63998-6a25-4da8-8442-da5f3f17e3ee",
   "metadata": {},
   "outputs": [
    {
     "name": "stderr",
     "output_type": "stream",
     "text": [
      "C:\\Users\\Varun\\AppData\\Local\\Temp\\ipykernel_22940\\1687377773.py:1: FutureWarning: Dropping of nuisance columns in DataFrame reductions (with 'numeric_only=None') is deprecated; in a future version this will raise TypeError.  Select only valid columns before calling the reduction.\n",
      "  std_corr = pair_corr[pair_corr['tic1'] < pair_corr['tic2']].std()\n"
     ]
    },
    {
     "data": {
      "text/plain": [
       "0.08188055889470154"
      ]
     },
     "execution_count": 15,
     "metadata": {},
     "output_type": "execute_result"
    }
   ],
   "source": [
    "std_corr = pair_corr[pair_corr['tic1'] < pair_corr['tic2']].std()\n",
    "std_corr['corr']"
   ]
  },
  {
   "cell_type": "markdown",
   "id": "arctic-cardiff",
   "metadata": {},
   "source": [
    "Take the code you just wrote and build a *function* that takes a DataFrame and returns a single number giving the *average* pairwise correlation across firms. Test your function on the data returns data you used above."
   ]
  },
  {
   "cell_type": "code",
   "execution_count": 25,
   "id": "6769ddfd-c5b9-4aa5-b74d-bc1e5fde1f88",
   "metadata": {},
   "outputs": [
    {
     "name": "stderr",
     "output_type": "stream",
     "text": [
      "C:\\Users\\Varun\\AppData\\Local\\Temp\\ipykernel_22940\\710569115.py:6: FutureWarning: Dropping of nuisance columns in DataFrame reductions (with 'numeric_only=None') is deprecated; in a future version this will raise TypeError.  Select only valid columns before calling the reduction.\n",
      "  return corrs.mean()\n"
     ]
    },
    {
     "data": {
      "text/plain": [
       "corr    0.245756\n",
       "dtype: float64"
      ]
     },
     "execution_count": 25,
     "metadata": {},
     "output_type": "execute_result"
    }
   ],
   "source": [
    "def pairwise_corr_avg(df):\n",
    "    corrs = df.corr()\n",
    "    corrs = corrs.unstack().reset_index()\n",
    "    corrs.columns = ['tic1', 'tic2', 'corr']\n",
    "    corrs = corrs[corrs['corr']<1]\n",
    "    return corrs.mean()\n",
    "\n",
    "pairwise_corr_avg(px_ret)"
   ]
  },
  {
   "cell_type": "markdown",
   "id": "6d864c66-06f2-44f0-b77e-0e69cd756b1e",
   "metadata": {},
   "source": [
    "Use `groupby` to calculate the average pairwise correlation in each year by using `apply` to apply the function you just created to the data by year.\n",
    "\n",
    "Discuss anything you notice about the result."
   ]
  },
  {
   "cell_type": "markdown",
   "id": "63c82c5f-3dd4-4ed6-b694-3a5290d6026b",
   "metadata": {},
   "source": [
    "Hint: When you have an index with a datetime value you can pass an argument like this to group by year:\n",
    "\n",
    "`df.gropuby(df.index.year)`"
   ]
  },
  {
   "cell_type": "code",
   "execution_count": null,
   "id": "e2ea1bf4-d436-4d53-92f2-645b83912960",
   "metadata": {},
   "outputs": [],
   "source": []
  },
  {
   "cell_type": "markdown",
   "id": "compact-design",
   "metadata": {},
   "source": [
    "## The Dow Jones Industrial Average"
   ]
  },
  {
   "cell_type": "markdown",
   "id": "formal-california",
   "metadata": {},
   "source": [
    "The code below creates a DataFrame from a table from Wikipedia containing the current components of the Dow Jones Industrial Average."
   ]
  },
  {
   "cell_type": "code",
   "execution_count": 17,
   "id": "closed-persian",
   "metadata": {},
   "outputs": [],
   "source": [
    "dow = pd.read_html('https://en.wikipedia.org/wiki/Dow_Jones_Industrial_Average')[1]"
   ]
  },
  {
   "cell_type": "code",
   "execution_count": 18,
   "id": "coupled-dakota",
   "metadata": {},
   "outputs": [
    {
     "data": {
      "text/html": [
       "<div>\n",
       "<style scoped>\n",
       "    .dataframe tbody tr th:only-of-type {\n",
       "        vertical-align: middle;\n",
       "    }\n",
       "\n",
       "    .dataframe tbody tr th {\n",
       "        vertical-align: top;\n",
       "    }\n",
       "\n",
       "    .dataframe thead th {\n",
       "        text-align: right;\n",
       "    }\n",
       "</style>\n",
       "<table border=\"1\" class=\"dataframe\">\n",
       "  <thead>\n",
       "    <tr style=\"text-align: right;\">\n",
       "      <th></th>\n",
       "      <th>Company</th>\n",
       "      <th>Exchange</th>\n",
       "      <th>Symbol</th>\n",
       "      <th>Industry</th>\n",
       "      <th>Date added</th>\n",
       "      <th>Notes</th>\n",
       "      <th>Index weighting</th>\n",
       "    </tr>\n",
       "  </thead>\n",
       "  <tbody>\n",
       "    <tr>\n",
       "      <th>0</th>\n",
       "      <td>3M</td>\n",
       "      <td>NYSE</td>\n",
       "      <td>MMM</td>\n",
       "      <td>Conglomerate</td>\n",
       "      <td>1976-08-09</td>\n",
       "      <td>As Minnesota Mining and Manufacturing</td>\n",
       "      <td>2.41%</td>\n",
       "    </tr>\n",
       "    <tr>\n",
       "      <th>1</th>\n",
       "      <td>American Express</td>\n",
       "      <td>NYSE</td>\n",
       "      <td>AXP</td>\n",
       "      <td>Financial services</td>\n",
       "      <td>1982-08-30</td>\n",
       "      <td>NaN</td>\n",
       "      <td>3.02%</td>\n",
       "    </tr>\n",
       "    <tr>\n",
       "      <th>2</th>\n",
       "      <td>Amgen</td>\n",
       "      <td>NASDAQ</td>\n",
       "      <td>AMGN</td>\n",
       "      <td>Biopharmaceutical</td>\n",
       "      <td>2020-08-31</td>\n",
       "      <td>NaN</td>\n",
       "      <td>5.48%</td>\n",
       "    </tr>\n",
       "    <tr>\n",
       "      <th>3</th>\n",
       "      <td>Apple</td>\n",
       "      <td>NASDAQ</td>\n",
       "      <td>AAPL</td>\n",
       "      <td>Information technology</td>\n",
       "      <td>2015-03-19</td>\n",
       "      <td>NaN</td>\n",
       "      <td>2.84%</td>\n",
       "    </tr>\n",
       "    <tr>\n",
       "      <th>4</th>\n",
       "      <td>Boeing</td>\n",
       "      <td>NYSE</td>\n",
       "      <td>BA</td>\n",
       "      <td>Aerospace and defense</td>\n",
       "      <td>1987-03-12</td>\n",
       "      <td>NaN</td>\n",
       "      <td>3.36%</td>\n",
       "    </tr>\n",
       "  </tbody>\n",
       "</table>\n",
       "</div>"
      ],
      "text/plain": [
       "            Company Exchange Symbol                Industry  Date added  \\\n",
       "0                3M     NYSE    MMM            Conglomerate  1976-08-09   \n",
       "1  American Express     NYSE    AXP      Financial services  1982-08-30   \n",
       "2             Amgen   NASDAQ   AMGN       Biopharmaceutical  2020-08-31   \n",
       "3             Apple   NASDAQ   AAPL  Information technology  2015-03-19   \n",
       "4            Boeing     NYSE     BA   Aerospace and defense  1987-03-12   \n",
       "\n",
       "                                   Notes Index weighting  \n",
       "0  As Minnesota Mining and Manufacturing           2.41%  \n",
       "1                                    NaN           3.02%  \n",
       "2                                    NaN           5.48%  \n",
       "3                                    NaN           2.84%  \n",
       "4                                    NaN           3.36%  "
      ]
     },
     "execution_count": 18,
     "metadata": {},
     "output_type": "execute_result"
    }
   ],
   "source": [
    "dow.head()"
   ]
  },
  {
   "cell_type": "markdown",
   "id": "adaptive-complaint",
   "metadata": {},
   "source": [
    "Use the `Symbol` column with the code from earlier to construct a new DataFrame of returns for these 30 stocks beginning in 2001.\n",
    "\n",
    "(These stocks have not all been part of the DJIA since 2001, but we'll use these companies as a sample anyway.)\n",
    "\n",
    "**Hint:** The YFinance download function takes a *list* of symbols. You can use the pandas `to_list()` method to get this."
   ]
  },
  {
   "cell_type": "code",
   "execution_count": 19,
   "id": "5ca50f63-c29d-4750-b488-9aa5a6eb777a",
   "metadata": {},
   "outputs": [
    {
     "name": "stdout",
     "output_type": "stream",
     "text": [
      "[*********************100%***********************]  30 of 30 completed\n"
     ]
    },
    {
     "data": {
      "text/html": [
       "<div>\n",
       "<style scoped>\n",
       "    .dataframe tbody tr th:only-of-type {\n",
       "        vertical-align: middle;\n",
       "    }\n",
       "\n",
       "    .dataframe tbody tr th {\n",
       "        vertical-align: top;\n",
       "    }\n",
       "\n",
       "    .dataframe thead th {\n",
       "        text-align: right;\n",
       "    }\n",
       "</style>\n",
       "<table border=\"1\" class=\"dataframe\">\n",
       "  <thead>\n",
       "    <tr style=\"text-align: right;\">\n",
       "      <th></th>\n",
       "      <th>AAPL</th>\n",
       "      <th>AMGN</th>\n",
       "      <th>AXP</th>\n",
       "      <th>BA</th>\n",
       "      <th>CAT</th>\n",
       "      <th>CRM</th>\n",
       "      <th>CSCO</th>\n",
       "      <th>CVX</th>\n",
       "      <th>DIS</th>\n",
       "      <th>DOW</th>\n",
       "      <th>...</th>\n",
       "      <th>MRK</th>\n",
       "      <th>MSFT</th>\n",
       "      <th>NKE</th>\n",
       "      <th>PG</th>\n",
       "      <th>TRV</th>\n",
       "      <th>UNH</th>\n",
       "      <th>V</th>\n",
       "      <th>VZ</th>\n",
       "      <th>WBA</th>\n",
       "      <th>WMT</th>\n",
       "    </tr>\n",
       "    <tr>\n",
       "      <th>Date</th>\n",
       "      <th></th>\n",
       "      <th></th>\n",
       "      <th></th>\n",
       "      <th></th>\n",
       "      <th></th>\n",
       "      <th></th>\n",
       "      <th></th>\n",
       "      <th></th>\n",
       "      <th></th>\n",
       "      <th></th>\n",
       "      <th></th>\n",
       "      <th></th>\n",
       "      <th></th>\n",
       "      <th></th>\n",
       "      <th></th>\n",
       "      <th></th>\n",
       "      <th></th>\n",
       "      <th></th>\n",
       "      <th></th>\n",
       "      <th></th>\n",
       "      <th></th>\n",
       "    </tr>\n",
       "  </thead>\n",
       "  <tbody>\n",
       "    <tr>\n",
       "      <th>2001-01-02</th>\n",
       "      <td>0.226078</td>\n",
       "      <td>46.719383</td>\n",
       "      <td>33.371281</td>\n",
       "      <td>40.507771</td>\n",
       "      <td>12.993836</td>\n",
       "      <td>NaN</td>\n",
       "      <td>23.468689</td>\n",
       "      <td>18.921001</td>\n",
       "      <td>21.765087</td>\n",
       "      <td>NaN</td>\n",
       "      <td>...</td>\n",
       "      <td>38.382961</td>\n",
       "      <td>13.530789</td>\n",
       "      <td>5.320999</td>\n",
       "      <td>21.605221</td>\n",
       "      <td>29.288422</td>\n",
       "      <td>12.032973</td>\n",
       "      <td>NaN</td>\n",
       "      <td>16.194729</td>\n",
       "      <td>26.583868</td>\n",
       "      <td>35.679680</td>\n",
       "    </tr>\n",
       "    <tr>\n",
       "      <th>2001-01-03</th>\n",
       "      <td>0.248876</td>\n",
       "      <td>49.830921</td>\n",
       "      <td>35.953518</td>\n",
       "      <td>40.875290</td>\n",
       "      <td>13.046441</td>\n",
       "      <td>NaN</td>\n",
       "      <td>29.104698</td>\n",
       "      <td>18.191683</td>\n",
       "      <td>24.199661</td>\n",
       "      <td>NaN</td>\n",
       "      <td>...</td>\n",
       "      <td>36.783676</td>\n",
       "      <td>14.954061</td>\n",
       "      <td>5.499181</td>\n",
       "      <td>20.538717</td>\n",
       "      <td>29.003363</td>\n",
       "      <td>11.675683</td>\n",
       "      <td>NaN</td>\n",
       "      <td>17.121286</td>\n",
       "      <td>25.566113</td>\n",
       "      <td>38.701271</td>\n",
       "    </tr>\n",
       "    <tr>\n",
       "      <th>2001-01-04</th>\n",
       "      <td>0.259325</td>\n",
       "      <td>46.580063</td>\n",
       "      <td>34.828705</td>\n",
       "      <td>39.854420</td>\n",
       "      <td>13.660184</td>\n",
       "      <td>NaN</td>\n",
       "      <td>29.500978</td>\n",
       "      <td>17.806387</td>\n",
       "      <td>24.881346</td>\n",
       "      <td>NaN</td>\n",
       "      <td>...</td>\n",
       "      <td>35.081203</td>\n",
       "      <td>15.110035</td>\n",
       "      <td>5.640502</td>\n",
       "      <td>19.902256</td>\n",
       "      <td>27.649406</td>\n",
       "      <td>10.859025</td>\n",
       "      <td>NaN</td>\n",
       "      <td>17.624861</td>\n",
       "      <td>24.304085</td>\n",
       "      <td>37.211159</td>\n",
       "    </tr>\n",
       "    <tr>\n",
       "      <th>2001-01-05</th>\n",
       "      <td>0.248876</td>\n",
       "      <td>43.329208</td>\n",
       "      <td>33.141510</td>\n",
       "      <td>38.384380</td>\n",
       "      <td>12.871085</td>\n",
       "      <td>NaN</td>\n",
       "      <td>25.802349</td>\n",
       "      <td>17.943989</td>\n",
       "      <td>24.540501</td>\n",
       "      <td>NaN</td>\n",
       "      <td>...</td>\n",
       "      <td>34.384731</td>\n",
       "      <td>15.324503</td>\n",
       "      <td>5.394729</td>\n",
       "      <td>20.624733</td>\n",
       "      <td>27.150578</td>\n",
       "      <td>11.012149</td>\n",
       "      <td>NaN</td>\n",
       "      <td>17.584566</td>\n",
       "      <td>24.751913</td>\n",
       "      <td>35.721054</td>\n",
       "    </tr>\n",
       "    <tr>\n",
       "      <th>2001-01-08</th>\n",
       "      <td>0.251726</td>\n",
       "      <td>43.607841</td>\n",
       "      <td>31.454304</td>\n",
       "      <td>38.547718</td>\n",
       "      <td>12.836012</td>\n",
       "      <td>NaN</td>\n",
       "      <td>25.747311</td>\n",
       "      <td>17.902714</td>\n",
       "      <td>23.469288</td>\n",
       "      <td>NaN</td>\n",
       "      <td>...</td>\n",
       "      <td>34.462120</td>\n",
       "      <td>15.266008</td>\n",
       "      <td>5.665080</td>\n",
       "      <td>21.071964</td>\n",
       "      <td>27.934460</td>\n",
       "      <td>10.973869</td>\n",
       "      <td>NaN</td>\n",
       "      <td>17.608099</td>\n",
       "      <td>24.955462</td>\n",
       "      <td>35.721054</td>\n",
       "    </tr>\n",
       "  </tbody>\n",
       "</table>\n",
       "<p>5 rows × 30 columns</p>\n",
       "</div>"
      ],
      "text/plain": [
       "                AAPL       AMGN        AXP         BA        CAT  CRM  \\\n",
       "Date                                                                    \n",
       "2001-01-02  0.226078  46.719383  33.371281  40.507771  12.993836  NaN   \n",
       "2001-01-03  0.248876  49.830921  35.953518  40.875290  13.046441  NaN   \n",
       "2001-01-04  0.259325  46.580063  34.828705  39.854420  13.660184  NaN   \n",
       "2001-01-05  0.248876  43.329208  33.141510  38.384380  12.871085  NaN   \n",
       "2001-01-08  0.251726  43.607841  31.454304  38.547718  12.836012  NaN   \n",
       "\n",
       "                 CSCO        CVX        DIS  DOW  ...        MRK       MSFT  \\\n",
       "Date                                              ...                         \n",
       "2001-01-02  23.468689  18.921001  21.765087  NaN  ...  38.382961  13.530789   \n",
       "2001-01-03  29.104698  18.191683  24.199661  NaN  ...  36.783676  14.954061   \n",
       "2001-01-04  29.500978  17.806387  24.881346  NaN  ...  35.081203  15.110035   \n",
       "2001-01-05  25.802349  17.943989  24.540501  NaN  ...  34.384731  15.324503   \n",
       "2001-01-08  25.747311  17.902714  23.469288  NaN  ...  34.462120  15.266008   \n",
       "\n",
       "                 NKE         PG        TRV        UNH   V         VZ  \\\n",
       "Date                                                                   \n",
       "2001-01-02  5.320999  21.605221  29.288422  12.032973 NaN  16.194729   \n",
       "2001-01-03  5.499181  20.538717  29.003363  11.675683 NaN  17.121286   \n",
       "2001-01-04  5.640502  19.902256  27.649406  10.859025 NaN  17.624861   \n",
       "2001-01-05  5.394729  20.624733  27.150578  11.012149 NaN  17.584566   \n",
       "2001-01-08  5.665080  21.071964  27.934460  10.973869 NaN  17.608099   \n",
       "\n",
       "                  WBA        WMT  \n",
       "Date                              \n",
       "2001-01-02  26.583868  35.679680  \n",
       "2001-01-03  25.566113  38.701271  \n",
       "2001-01-04  24.304085  37.211159  \n",
       "2001-01-05  24.751913  35.721054  \n",
       "2001-01-08  24.955462  35.721054  \n",
       "\n",
       "[5 rows x 30 columns]"
      ]
     },
     "execution_count": 19,
     "metadata": {},
     "output_type": "execute_result"
    }
   ],
   "source": [
    "company_lst = dow['Symbol']\n",
    "company_lst\n",
    "\n",
    "dji = yf.download(tickers= company_lst.to_list(),\n",
    "                   interval='1d',\n",
    "                   start='2001-01-01')\n",
    "\n",
    "dji = dji['Adj Close']\n",
    "\n",
    "dji.head()"
   ]
  },
  {
   "cell_type": "code",
   "execution_count": 20,
   "metadata": {},
   "outputs": [
    {
     "data": {
      "text/html": [
       "<div>\n",
       "<style scoped>\n",
       "    .dataframe tbody tr th:only-of-type {\n",
       "        vertical-align: middle;\n",
       "    }\n",
       "\n",
       "    .dataframe tbody tr th {\n",
       "        vertical-align: top;\n",
       "    }\n",
       "\n",
       "    .dataframe thead th {\n",
       "        text-align: right;\n",
       "    }\n",
       "</style>\n",
       "<table border=\"1\" class=\"dataframe\">\n",
       "  <thead>\n",
       "    <tr style=\"text-align: right;\">\n",
       "      <th></th>\n",
       "      <th>AAPL</th>\n",
       "      <th>AMGN</th>\n",
       "      <th>AXP</th>\n",
       "      <th>BA</th>\n",
       "      <th>CAT</th>\n",
       "      <th>CRM</th>\n",
       "      <th>CSCO</th>\n",
       "      <th>CVX</th>\n",
       "      <th>DIS</th>\n",
       "      <th>DOW</th>\n",
       "      <th>...</th>\n",
       "      <th>MRK</th>\n",
       "      <th>MSFT</th>\n",
       "      <th>NKE</th>\n",
       "      <th>PG</th>\n",
       "      <th>TRV</th>\n",
       "      <th>UNH</th>\n",
       "      <th>V</th>\n",
       "      <th>VZ</th>\n",
       "      <th>WBA</th>\n",
       "      <th>WMT</th>\n",
       "    </tr>\n",
       "    <tr>\n",
       "      <th>Date</th>\n",
       "      <th></th>\n",
       "      <th></th>\n",
       "      <th></th>\n",
       "      <th></th>\n",
       "      <th></th>\n",
       "      <th></th>\n",
       "      <th></th>\n",
       "      <th></th>\n",
       "      <th></th>\n",
       "      <th></th>\n",
       "      <th></th>\n",
       "      <th></th>\n",
       "      <th></th>\n",
       "      <th></th>\n",
       "      <th></th>\n",
       "      <th></th>\n",
       "      <th></th>\n",
       "      <th></th>\n",
       "      <th></th>\n",
       "      <th></th>\n",
       "      <th></th>\n",
       "    </tr>\n",
       "  </thead>\n",
       "  <tbody>\n",
       "    <tr>\n",
       "      <th>2001-01-02</th>\n",
       "      <td>NaN</td>\n",
       "      <td>NaN</td>\n",
       "      <td>NaN</td>\n",
       "      <td>NaN</td>\n",
       "      <td>NaN</td>\n",
       "      <td>NaN</td>\n",
       "      <td>NaN</td>\n",
       "      <td>NaN</td>\n",
       "      <td>NaN</td>\n",
       "      <td>NaN</td>\n",
       "      <td>...</td>\n",
       "      <td>NaN</td>\n",
       "      <td>NaN</td>\n",
       "      <td>NaN</td>\n",
       "      <td>NaN</td>\n",
       "      <td>NaN</td>\n",
       "      <td>NaN</td>\n",
       "      <td>NaN</td>\n",
       "      <td>NaN</td>\n",
       "      <td>NaN</td>\n",
       "      <td>NaN</td>\n",
       "    </tr>\n",
       "    <tr>\n",
       "      <th>2001-01-03</th>\n",
       "      <td>0.100842</td>\n",
       "      <td>0.066601</td>\n",
       "      <td>0.077379</td>\n",
       "      <td>0.009073</td>\n",
       "      <td>0.004048</td>\n",
       "      <td>NaN</td>\n",
       "      <td>0.240150</td>\n",
       "      <td>-0.038545</td>\n",
       "      <td>0.111857</td>\n",
       "      <td>NaN</td>\n",
       "      <td>...</td>\n",
       "      <td>-0.041667</td>\n",
       "      <td>0.105188</td>\n",
       "      <td>0.033487</td>\n",
       "      <td>-0.049363</td>\n",
       "      <td>-0.009733</td>\n",
       "      <td>-0.029693</td>\n",
       "      <td>NaN</td>\n",
       "      <td>0.057214</td>\n",
       "      <td>-0.038285</td>\n",
       "      <td>0.084687</td>\n",
       "    </tr>\n",
       "    <tr>\n",
       "      <th>2001-01-04</th>\n",
       "      <td>0.041985</td>\n",
       "      <td>-0.065238</td>\n",
       "      <td>-0.031285</td>\n",
       "      <td>-0.024975</td>\n",
       "      <td>0.047043</td>\n",
       "      <td>NaN</td>\n",
       "      <td>0.013616</td>\n",
       "      <td>-0.021180</td>\n",
       "      <td>0.028169</td>\n",
       "      <td>NaN</td>\n",
       "      <td>...</td>\n",
       "      <td>-0.046283</td>\n",
       "      <td>0.010430</td>\n",
       "      <td>0.025699</td>\n",
       "      <td>-0.030988</td>\n",
       "      <td>-0.046683</td>\n",
       "      <td>-0.069945</td>\n",
       "      <td>NaN</td>\n",
       "      <td>0.029412</td>\n",
       "      <td>-0.049363</td>\n",
       "      <td>-0.038503</td>\n",
       "    </tr>\n",
       "    <tr>\n",
       "      <th>2001-01-05</th>\n",
       "      <td>-0.040293</td>\n",
       "      <td>-0.069791</td>\n",
       "      <td>-0.048443</td>\n",
       "      <td>-0.036885</td>\n",
       "      <td>-0.057766</td>\n",
       "      <td>NaN</td>\n",
       "      <td>-0.125373</td>\n",
       "      <td>0.007728</td>\n",
       "      <td>-0.013699</td>\n",
       "      <td>NaN</td>\n",
       "      <td>...</td>\n",
       "      <td>-0.019853</td>\n",
       "      <td>0.014194</td>\n",
       "      <td>-0.043573</td>\n",
       "      <td>0.036301</td>\n",
       "      <td>-0.018041</td>\n",
       "      <td>0.014101</td>\n",
       "      <td>NaN</td>\n",
       "      <td>-0.002286</td>\n",
       "      <td>0.018426</td>\n",
       "      <td>-0.040045</td>\n",
       "    </tr>\n",
       "    <tr>\n",
       "      <th>2001-01-08</th>\n",
       "      <td>0.011449</td>\n",
       "      <td>0.006431</td>\n",
       "      <td>-0.050909</td>\n",
       "      <td>0.004255</td>\n",
       "      <td>-0.002725</td>\n",
       "      <td>NaN</td>\n",
       "      <td>-0.002133</td>\n",
       "      <td>-0.002300</td>\n",
       "      <td>-0.043651</td>\n",
       "      <td>NaN</td>\n",
       "      <td>...</td>\n",
       "      <td>0.002251</td>\n",
       "      <td>-0.003817</td>\n",
       "      <td>0.050114</td>\n",
       "      <td>0.021684</td>\n",
       "      <td>0.028872</td>\n",
       "      <td>-0.003476</td>\n",
       "      <td>NaN</td>\n",
       "      <td>0.001338</td>\n",
       "      <td>0.008224</td>\n",
       "      <td>0.000000</td>\n",
       "    </tr>\n",
       "  </tbody>\n",
       "</table>\n",
       "<p>5 rows × 30 columns</p>\n",
       "</div>"
      ],
      "text/plain": [
       "                AAPL      AMGN       AXP        BA       CAT  CRM      CSCO  \\\n",
       "Date                                                                          \n",
       "2001-01-02       NaN       NaN       NaN       NaN       NaN  NaN       NaN   \n",
       "2001-01-03  0.100842  0.066601  0.077379  0.009073  0.004048  NaN  0.240150   \n",
       "2001-01-04  0.041985 -0.065238 -0.031285 -0.024975  0.047043  NaN  0.013616   \n",
       "2001-01-05 -0.040293 -0.069791 -0.048443 -0.036885 -0.057766  NaN -0.125373   \n",
       "2001-01-08  0.011449  0.006431 -0.050909  0.004255 -0.002725  NaN -0.002133   \n",
       "\n",
       "                 CVX       DIS  DOW  ...       MRK      MSFT       NKE  \\\n",
       "Date                                 ...                                 \n",
       "2001-01-02       NaN       NaN  NaN  ...       NaN       NaN       NaN   \n",
       "2001-01-03 -0.038545  0.111857  NaN  ... -0.041667  0.105188  0.033487   \n",
       "2001-01-04 -0.021180  0.028169  NaN  ... -0.046283  0.010430  0.025699   \n",
       "2001-01-05  0.007728 -0.013699  NaN  ... -0.019853  0.014194 -0.043573   \n",
       "2001-01-08 -0.002300 -0.043651  NaN  ...  0.002251 -0.003817  0.050114   \n",
       "\n",
       "                  PG       TRV       UNH   V        VZ       WBA       WMT  \n",
       "Date                                                                        \n",
       "2001-01-02       NaN       NaN       NaN NaN       NaN       NaN       NaN  \n",
       "2001-01-03 -0.049363 -0.009733 -0.029693 NaN  0.057214 -0.038285  0.084687  \n",
       "2001-01-04 -0.030988 -0.046683 -0.069945 NaN  0.029412 -0.049363 -0.038503  \n",
       "2001-01-05  0.036301 -0.018041  0.014101 NaN -0.002286  0.018426 -0.040045  \n",
       "2001-01-08  0.021684  0.028872 -0.003476 NaN  0.001338  0.008224  0.000000  \n",
       "\n",
       "[5 rows x 30 columns]"
      ]
     },
     "execution_count": 20,
     "metadata": {},
     "output_type": "execute_result"
    }
   ],
   "source": [
    "dji_ret = dji.pct_change()\n",
    "dji_ret.head()"
   ]
  },
  {
   "cell_type": "markdown",
   "id": "generic-lambda",
   "metadata": {},
   "source": [
    "Calculate the correlation matrix for these stocks. Verify that the number of rows and columns in the matrix makes sense."
   ]
  },
  {
   "cell_type": "code",
   "execution_count": 21,
   "id": "8832ff79-2174-4351-a194-b687f6ab1a4e",
   "metadata": {},
   "outputs": [
    {
     "data": {
      "text/html": [
       "<div>\n",
       "<style scoped>\n",
       "    .dataframe tbody tr th:only-of-type {\n",
       "        vertical-align: middle;\n",
       "    }\n",
       "\n",
       "    .dataframe tbody tr th {\n",
       "        vertical-align: top;\n",
       "    }\n",
       "\n",
       "    .dataframe thead th {\n",
       "        text-align: right;\n",
       "    }\n",
       "</style>\n",
       "<table border=\"1\" class=\"dataframe\">\n",
       "  <thead>\n",
       "    <tr style=\"text-align: right;\">\n",
       "      <th></th>\n",
       "      <th>AAPL</th>\n",
       "      <th>AMGN</th>\n",
       "      <th>AXP</th>\n",
       "      <th>BA</th>\n",
       "      <th>CAT</th>\n",
       "      <th>CRM</th>\n",
       "      <th>CSCO</th>\n",
       "      <th>CVX</th>\n",
       "      <th>DIS</th>\n",
       "      <th>DOW</th>\n",
       "      <th>...</th>\n",
       "      <th>MRK</th>\n",
       "      <th>MSFT</th>\n",
       "      <th>NKE</th>\n",
       "      <th>PG</th>\n",
       "      <th>TRV</th>\n",
       "      <th>UNH</th>\n",
       "      <th>V</th>\n",
       "      <th>VZ</th>\n",
       "      <th>WBA</th>\n",
       "      <th>WMT</th>\n",
       "    </tr>\n",
       "  </thead>\n",
       "  <tbody>\n",
       "    <tr>\n",
       "      <th>AAPL</th>\n",
       "      <td>1.000000</td>\n",
       "      <td>0.903558</td>\n",
       "      <td>0.933385</td>\n",
       "      <td>0.594934</td>\n",
       "      <td>0.936951</td>\n",
       "      <td>0.909560</td>\n",
       "      <td>0.886541</td>\n",
       "      <td>0.801075</td>\n",
       "      <td>0.813151</td>\n",
       "      <td>0.728685</td>\n",
       "      <td>...</td>\n",
       "      <td>0.898394</td>\n",
       "      <td>0.987409</td>\n",
       "      <td>0.947428</td>\n",
       "      <td>0.952251</td>\n",
       "      <td>0.882922</td>\n",
       "      <td>0.971708</td>\n",
       "      <td>0.921445</td>\n",
       "      <td>0.791461</td>\n",
       "      <td>0.343599</td>\n",
       "      <td>0.952872</td>\n",
       "    </tr>\n",
       "    <tr>\n",
       "      <th>AMGN</th>\n",
       "      <td>0.903558</td>\n",
       "      <td>1.000000</td>\n",
       "      <td>0.929943</td>\n",
       "      <td>0.792653</td>\n",
       "      <td>0.910131</td>\n",
       "      <td>0.927595</td>\n",
       "      <td>0.921729</td>\n",
       "      <td>0.845456</td>\n",
       "      <td>0.922577</td>\n",
       "      <td>0.473392</td>\n",
       "      <td>...</td>\n",
       "      <td>0.961225</td>\n",
       "      <td>0.901195</td>\n",
       "      <td>0.946661</td>\n",
       "      <td>0.952326</td>\n",
       "      <td>0.963102</td>\n",
       "      <td>0.946037</td>\n",
       "      <td>0.965407</td>\n",
       "      <td>0.925349</td>\n",
       "      <td>0.621839</td>\n",
       "      <td>0.958179</td>\n",
       "    </tr>\n",
       "    <tr>\n",
       "      <th>AXP</th>\n",
       "      <td>0.933385</td>\n",
       "      <td>0.929943</td>\n",
       "      <td>1.000000</td>\n",
       "      <td>0.762759</td>\n",
       "      <td>0.957546</td>\n",
       "      <td>0.912023</td>\n",
       "      <td>0.932755</td>\n",
       "      <td>0.885859</td>\n",
       "      <td>0.892900</td>\n",
       "      <td>0.853707</td>\n",
       "      <td>...</td>\n",
       "      <td>0.929452</td>\n",
       "      <td>0.930416</td>\n",
       "      <td>0.947636</td>\n",
       "      <td>0.956853</td>\n",
       "      <td>0.949773</td>\n",
       "      <td>0.951320</td>\n",
       "      <td>0.937938</td>\n",
       "      <td>0.875868</td>\n",
       "      <td>0.533207</td>\n",
       "      <td>0.947553</td>\n",
       "    </tr>\n",
       "    <tr>\n",
       "      <th>BA</th>\n",
       "      <td>0.594934</td>\n",
       "      <td>0.792653</td>\n",
       "      <td>0.762759</td>\n",
       "      <td>1.000000</td>\n",
       "      <td>0.734886</td>\n",
       "      <td>0.760968</td>\n",
       "      <td>0.842654</td>\n",
       "      <td>0.712370</td>\n",
       "      <td>0.838245</td>\n",
       "      <td>-0.159295</td>\n",
       "      <td>...</td>\n",
       "      <td>0.763354</td>\n",
       "      <td>0.630162</td>\n",
       "      <td>0.755224</td>\n",
       "      <td>0.721085</td>\n",
       "      <td>0.822042</td>\n",
       "      <td>0.703080</td>\n",
       "      <td>0.734443</td>\n",
       "      <td>0.848593</td>\n",
       "      <td>0.673897</td>\n",
       "      <td>0.738759</td>\n",
       "    </tr>\n",
       "    <tr>\n",
       "      <th>CAT</th>\n",
       "      <td>0.936951</td>\n",
       "      <td>0.910131</td>\n",
       "      <td>0.957546</td>\n",
       "      <td>0.734886</td>\n",
       "      <td>1.000000</td>\n",
       "      <td>0.903711</td>\n",
       "      <td>0.905081</td>\n",
       "      <td>0.898180</td>\n",
       "      <td>0.856154</td>\n",
       "      <td>0.879498</td>\n",
       "      <td>...</td>\n",
       "      <td>0.901652</td>\n",
       "      <td>0.922052</td>\n",
       "      <td>0.936144</td>\n",
       "      <td>0.948199</td>\n",
       "      <td>0.933500</td>\n",
       "      <td>0.947808</td>\n",
       "      <td>0.920425</td>\n",
       "      <td>0.847266</td>\n",
       "      <td>0.459211</td>\n",
       "      <td>0.942523</td>\n",
       "    </tr>\n",
       "    <tr>\n",
       "      <th>...</th>\n",
       "      <td>...</td>\n",
       "      <td>...</td>\n",
       "      <td>...</td>\n",
       "      <td>...</td>\n",
       "      <td>...</td>\n",
       "      <td>...</td>\n",
       "      <td>...</td>\n",
       "      <td>...</td>\n",
       "      <td>...</td>\n",
       "      <td>...</td>\n",
       "      <td>...</td>\n",
       "      <td>...</td>\n",
       "      <td>...</td>\n",
       "      <td>...</td>\n",
       "      <td>...</td>\n",
       "      <td>...</td>\n",
       "      <td>...</td>\n",
       "      <td>...</td>\n",
       "      <td>...</td>\n",
       "      <td>...</td>\n",
       "      <td>...</td>\n",
       "    </tr>\n",
       "    <tr>\n",
       "      <th>UNH</th>\n",
       "      <td>0.971708</td>\n",
       "      <td>0.946037</td>\n",
       "      <td>0.951320</td>\n",
       "      <td>0.703080</td>\n",
       "      <td>0.947808</td>\n",
       "      <td>0.905690</td>\n",
       "      <td>0.929346</td>\n",
       "      <td>0.852636</td>\n",
       "      <td>0.831444</td>\n",
       "      <td>0.676148</td>\n",
       "      <td>...</td>\n",
       "      <td>0.941995</td>\n",
       "      <td>0.968959</td>\n",
       "      <td>0.941319</td>\n",
       "      <td>0.955780</td>\n",
       "      <td>0.932654</td>\n",
       "      <td>1.000000</td>\n",
       "      <td>0.953432</td>\n",
       "      <td>0.825129</td>\n",
       "      <td>0.438665</td>\n",
       "      <td>0.954097</td>\n",
       "    </tr>\n",
       "    <tr>\n",
       "      <th>V</th>\n",
       "      <td>0.921445</td>\n",
       "      <td>0.965407</td>\n",
       "      <td>0.937938</td>\n",
       "      <td>0.734443</td>\n",
       "      <td>0.920425</td>\n",
       "      <td>0.965457</td>\n",
       "      <td>0.965507</td>\n",
       "      <td>0.765889</td>\n",
       "      <td>0.895411</td>\n",
       "      <td>0.767172</td>\n",
       "      <td>...</td>\n",
       "      <td>0.948996</td>\n",
       "      <td>0.949165</td>\n",
       "      <td>0.969224</td>\n",
       "      <td>0.967035</td>\n",
       "      <td>0.934029</td>\n",
       "      <td>0.953432</td>\n",
       "      <td>1.000000</td>\n",
       "      <td>0.899666</td>\n",
       "      <td>0.337168</td>\n",
       "      <td>0.975097</td>\n",
       "    </tr>\n",
       "    <tr>\n",
       "      <th>VZ</th>\n",
       "      <td>0.791461</td>\n",
       "      <td>0.925349</td>\n",
       "      <td>0.875868</td>\n",
       "      <td>0.848593</td>\n",
       "      <td>0.847266</td>\n",
       "      <td>0.917739</td>\n",
       "      <td>0.874152</td>\n",
       "      <td>0.825670</td>\n",
       "      <td>0.959830</td>\n",
       "      <td>-0.010535</td>\n",
       "      <td>...</td>\n",
       "      <td>0.889823</td>\n",
       "      <td>0.794441</td>\n",
       "      <td>0.910771</td>\n",
       "      <td>0.902639</td>\n",
       "      <td>0.928085</td>\n",
       "      <td>0.825129</td>\n",
       "      <td>0.899666</td>\n",
       "      <td>1.000000</td>\n",
       "      <td>0.703547</td>\n",
       "      <td>0.903792</td>\n",
       "    </tr>\n",
       "    <tr>\n",
       "      <th>WBA</th>\n",
       "      <td>0.343599</td>\n",
       "      <td>0.621839</td>\n",
       "      <td>0.533207</td>\n",
       "      <td>0.673897</td>\n",
       "      <td>0.459211</td>\n",
       "      <td>0.442041</td>\n",
       "      <td>0.509755</td>\n",
       "      <td>0.566774</td>\n",
       "      <td>0.729263</td>\n",
       "      <td>0.244819</td>\n",
       "      <td>...</td>\n",
       "      <td>0.538707</td>\n",
       "      <td>0.324254</td>\n",
       "      <td>0.531122</td>\n",
       "      <td>0.500924</td>\n",
       "      <td>0.671725</td>\n",
       "      <td>0.438665</td>\n",
       "      <td>0.337168</td>\n",
       "      <td>0.703547</td>\n",
       "      <td>1.000000</td>\n",
       "      <td>0.457665</td>\n",
       "    </tr>\n",
       "    <tr>\n",
       "      <th>WMT</th>\n",
       "      <td>0.952872</td>\n",
       "      <td>0.958179</td>\n",
       "      <td>0.947553</td>\n",
       "      <td>0.738759</td>\n",
       "      <td>0.942523</td>\n",
       "      <td>0.956919</td>\n",
       "      <td>0.925663</td>\n",
       "      <td>0.836925</td>\n",
       "      <td>0.896428</td>\n",
       "      <td>0.640585</td>\n",
       "      <td>...</td>\n",
       "      <td>0.946167</td>\n",
       "      <td>0.952978</td>\n",
       "      <td>0.967811</td>\n",
       "      <td>0.975370</td>\n",
       "      <td>0.933232</td>\n",
       "      <td>0.954097</td>\n",
       "      <td>0.975097</td>\n",
       "      <td>0.903792</td>\n",
       "      <td>0.457665</td>\n",
       "      <td>1.000000</td>\n",
       "    </tr>\n",
       "  </tbody>\n",
       "</table>\n",
       "<p>30 rows × 30 columns</p>\n",
       "</div>"
      ],
      "text/plain": [
       "          AAPL      AMGN       AXP        BA       CAT       CRM      CSCO  \\\n",
       "AAPL  1.000000  0.903558  0.933385  0.594934  0.936951  0.909560  0.886541   \n",
       "AMGN  0.903558  1.000000  0.929943  0.792653  0.910131  0.927595  0.921729   \n",
       "AXP   0.933385  0.929943  1.000000  0.762759  0.957546  0.912023  0.932755   \n",
       "BA    0.594934  0.792653  0.762759  1.000000  0.734886  0.760968  0.842654   \n",
       "CAT   0.936951  0.910131  0.957546  0.734886  1.000000  0.903711  0.905081   \n",
       "...        ...       ...       ...       ...       ...       ...       ...   \n",
       "UNH   0.971708  0.946037  0.951320  0.703080  0.947808  0.905690  0.929346   \n",
       "V     0.921445  0.965407  0.937938  0.734443  0.920425  0.965457  0.965507   \n",
       "VZ    0.791461  0.925349  0.875868  0.848593  0.847266  0.917739  0.874152   \n",
       "WBA   0.343599  0.621839  0.533207  0.673897  0.459211  0.442041  0.509755   \n",
       "WMT   0.952872  0.958179  0.947553  0.738759  0.942523  0.956919  0.925663   \n",
       "\n",
       "           CVX       DIS       DOW  ...       MRK      MSFT       NKE  \\\n",
       "AAPL  0.801075  0.813151  0.728685  ...  0.898394  0.987409  0.947428   \n",
       "AMGN  0.845456  0.922577  0.473392  ...  0.961225  0.901195  0.946661   \n",
       "AXP   0.885859  0.892900  0.853707  ...  0.929452  0.930416  0.947636   \n",
       "BA    0.712370  0.838245 -0.159295  ...  0.763354  0.630162  0.755224   \n",
       "CAT   0.898180  0.856154  0.879498  ...  0.901652  0.922052  0.936144   \n",
       "...        ...       ...       ...  ...       ...       ...       ...   \n",
       "UNH   0.852636  0.831444  0.676148  ...  0.941995  0.968959  0.941319   \n",
       "V     0.765889  0.895411  0.767172  ...  0.948996  0.949165  0.969224   \n",
       "VZ    0.825670  0.959830 -0.010535  ...  0.889823  0.794441  0.910771   \n",
       "WBA   0.566774  0.729263  0.244819  ...  0.538707  0.324254  0.531122   \n",
       "WMT   0.836925  0.896428  0.640585  ...  0.946167  0.952978  0.967811   \n",
       "\n",
       "            PG       TRV       UNH         V        VZ       WBA       WMT  \n",
       "AAPL  0.952251  0.882922  0.971708  0.921445  0.791461  0.343599  0.952872  \n",
       "AMGN  0.952326  0.963102  0.946037  0.965407  0.925349  0.621839  0.958179  \n",
       "AXP   0.956853  0.949773  0.951320  0.937938  0.875868  0.533207  0.947553  \n",
       "BA    0.721085  0.822042  0.703080  0.734443  0.848593  0.673897  0.738759  \n",
       "CAT   0.948199  0.933500  0.947808  0.920425  0.847266  0.459211  0.942523  \n",
       "...        ...       ...       ...       ...       ...       ...       ...  \n",
       "UNH   0.955780  0.932654  1.000000  0.953432  0.825129  0.438665  0.954097  \n",
       "V     0.967035  0.934029  0.953432  1.000000  0.899666  0.337168  0.975097  \n",
       "VZ    0.902639  0.928085  0.825129  0.899666  1.000000  0.703547  0.903792  \n",
       "WBA   0.500924  0.671725  0.438665  0.337168  0.703547  1.000000  0.457665  \n",
       "WMT   0.975370  0.933232  0.954097  0.975097  0.903792  0.457665  1.000000  \n",
       "\n",
       "[30 rows x 30 columns]"
      ]
     },
     "execution_count": 21,
     "metadata": {},
     "output_type": "execute_result"
    }
   ],
   "source": [
    "dji_corr = dji.corr()\n",
    "dji_corr "
   ]
  },
  {
   "cell_type": "code",
   "execution_count": 22,
   "id": "35de057f",
   "metadata": {},
   "outputs": [
    {
     "name": "stderr",
     "output_type": "stream",
     "text": [
      "C:\\Users\\Varun\\AppData\\Local\\Temp\\ipykernel_22940\\3527445345.py:6: FutureWarning: Dropping of nuisance columns in DataFrame reductions (with 'numeric_only=None') is deprecated; in a future version this will raise TypeError.  Select only valid columns before calling the reduction.\n",
      "  return corrs.mean()\n"
     ]
    }
   ],
   "source": [
    "dji_corr = pairwise_corr(dji_corr)"
   ]
  },
  {
   "cell_type": "markdown",
   "id": "emerging-cross",
   "metadata": {},
   "source": [
    "Which pair of companies are maximally or minimally correlated during this period? What are these correlations?"
   ]
  },
  {
   "cell_type": "code",
   "execution_count": 23,
   "id": "3b970747-fc2e-4a5f-b63b-418c50f09b75",
   "metadata": {},
   "outputs": [
    {
     "ename": "KeyError",
     "evalue": "True",
     "output_type": "error",
     "traceback": [
      "\u001b[1;31m---------------------------------------------------------------------------\u001b[0m",
      "\u001b[1;31mKeyError\u001b[0m                                  Traceback (most recent call last)",
      "\u001b[1;32mc:\\Users\\Varun\\AppData\\Local\\Programs\\Python\\Python38\\lib\\site-packages\\pandas\\core\\indexes\\base.py\u001b[0m in \u001b[0;36mget_loc\u001b[1;34m(self, key, method, tolerance)\u001b[0m\n\u001b[0;32m   3620\u001b[0m             \u001b[1;32mtry\u001b[0m\u001b[1;33m:\u001b[0m\u001b[1;33m\u001b[0m\u001b[1;33m\u001b[0m\u001b[0m\n\u001b[1;32m-> 3621\u001b[1;33m                 \u001b[1;32mreturn\u001b[0m \u001b[0mself\u001b[0m\u001b[1;33m.\u001b[0m\u001b[0m_engine\u001b[0m\u001b[1;33m.\u001b[0m\u001b[0mget_loc\u001b[0m\u001b[1;33m(\u001b[0m\u001b[0mcasted_key\u001b[0m\u001b[1;33m)\u001b[0m\u001b[1;33m\u001b[0m\u001b[1;33m\u001b[0m\u001b[0m\n\u001b[0m\u001b[0;32m   3622\u001b[0m             \u001b[1;32mexcept\u001b[0m \u001b[0mKeyError\u001b[0m \u001b[1;32mas\u001b[0m \u001b[0merr\u001b[0m\u001b[1;33m:\u001b[0m\u001b[1;33m\u001b[0m\u001b[1;33m\u001b[0m\u001b[0m\n",
      "\u001b[1;32mc:\\Users\\Varun\\AppData\\Local\\Programs\\Python\\Python38\\lib\\site-packages\\pandas\\_libs\\index.pyx\u001b[0m in \u001b[0;36mpandas._libs.index.IndexEngine.get_loc\u001b[1;34m()\u001b[0m\n",
      "\u001b[1;32mc:\\Users\\Varun\\AppData\\Local\\Programs\\Python\\Python38\\lib\\site-packages\\pandas\\_libs\\index.pyx\u001b[0m in \u001b[0;36mpandas._libs.index.IndexEngine.get_loc\u001b[1;34m()\u001b[0m\n",
      "\u001b[1;32mpandas\\_libs\\hashtable_class_helper.pxi\u001b[0m in \u001b[0;36mpandas._libs.hashtable.PyObjectHashTable.get_item\u001b[1;34m()\u001b[0m\n",
      "\u001b[1;32mpandas\\_libs\\hashtable_class_helper.pxi\u001b[0m in \u001b[0;36mpandas._libs.hashtable.PyObjectHashTable.get_item\u001b[1;34m()\u001b[0m\n",
      "\u001b[1;31mKeyError\u001b[0m: True",
      "\nThe above exception was the direct cause of the following exception:\n",
      "\u001b[1;31mKeyError\u001b[0m                                  Traceback (most recent call last)",
      "\u001b[1;32m~\\AppData\\Local\\Temp\\ipykernel_22940\\3830117483.py\u001b[0m in \u001b[0;36m<module>\u001b[1;34m\u001b[0m\n\u001b[0;32m      4\u001b[0m \u001b[0mmin_corr\u001b[0m \u001b[1;33m=\u001b[0m \u001b[0mdji_corr\u001b[0m\u001b[1;33m[\u001b[0m\u001b[1;34m'corr'\u001b[0m\u001b[1;33m]\u001b[0m\u001b[1;33m.\u001b[0m\u001b[0mmin\u001b[0m\u001b[1;33m(\u001b[0m\u001b[1;33m)\u001b[0m\u001b[1;33m\u001b[0m\u001b[1;33m\u001b[0m\u001b[0m\n\u001b[0;32m      5\u001b[0m \u001b[1;33m\u001b[0m\u001b[0m\n\u001b[1;32m----> 6\u001b[1;33m \u001b[0mmax_corr_pair\u001b[0m \u001b[1;33m=\u001b[0m \u001b[1;33m(\u001b[0m\u001b[0mdji_corr\u001b[0m\u001b[1;33m.\u001b[0m\u001b[0mloc\u001b[0m\u001b[1;33m[\u001b[0m\u001b[0mdji_corr\u001b[0m\u001b[1;33m[\u001b[0m\u001b[1;34m'corr'\u001b[0m\u001b[1;33m]\u001b[0m \u001b[1;33m==\u001b[0m \u001b[0mmax_corr\u001b[0m\u001b[1;33m]\u001b[0m\u001b[1;33m[\u001b[0m\u001b[1;34m'tic1'\u001b[0m\u001b[1;33m]\u001b[0m\u001b[1;33m,\u001b[0m \u001b[0mdji_corr\u001b[0m\u001b[1;33m.\u001b[0m\u001b[0mloc\u001b[0m\u001b[1;33m[\u001b[0m\u001b[0mdji_corr\u001b[0m\u001b[1;33m[\u001b[0m\u001b[1;34m'corr'\u001b[0m\u001b[1;33m]\u001b[0m\u001b[1;33m==\u001b[0m \u001b[0mmax_corr\u001b[0m\u001b[1;33m]\u001b[0m\u001b[1;33m[\u001b[0m\u001b[1;34m'tic2'\u001b[0m\u001b[1;33m]\u001b[0m\u001b[1;33m)\u001b[0m\u001b[1;33m\u001b[0m\u001b[1;33m\u001b[0m\u001b[0m\n\u001b[0m\u001b[0;32m      7\u001b[0m \u001b[0mmax_corr_pair\u001b[0m\u001b[1;33m\u001b[0m\u001b[1;33m\u001b[0m\u001b[0m\n\u001b[0;32m      8\u001b[0m \u001b[1;33m\u001b[0m\u001b[0m\n",
      "\u001b[1;32mc:\\Users\\Varun\\AppData\\Local\\Programs\\Python\\Python38\\lib\\site-packages\\pandas\\core\\indexing.py\u001b[0m in \u001b[0;36m__getitem__\u001b[1;34m(self, key)\u001b[0m\n\u001b[0;32m    965\u001b[0m \u001b[1;33m\u001b[0m\u001b[0m\n\u001b[0;32m    966\u001b[0m             \u001b[0mmaybe_callable\u001b[0m \u001b[1;33m=\u001b[0m \u001b[0mcom\u001b[0m\u001b[1;33m.\u001b[0m\u001b[0mapply_if_callable\u001b[0m\u001b[1;33m(\u001b[0m\u001b[0mkey\u001b[0m\u001b[1;33m,\u001b[0m \u001b[0mself\u001b[0m\u001b[1;33m.\u001b[0m\u001b[0mobj\u001b[0m\u001b[1;33m)\u001b[0m\u001b[1;33m\u001b[0m\u001b[1;33m\u001b[0m\u001b[0m\n\u001b[1;32m--> 967\u001b[1;33m             \u001b[1;32mreturn\u001b[0m \u001b[0mself\u001b[0m\u001b[1;33m.\u001b[0m\u001b[0m_getitem_axis\u001b[0m\u001b[1;33m(\u001b[0m\u001b[0mmaybe_callable\u001b[0m\u001b[1;33m,\u001b[0m \u001b[0maxis\u001b[0m\u001b[1;33m=\u001b[0m\u001b[0maxis\u001b[0m\u001b[1;33m)\u001b[0m\u001b[1;33m\u001b[0m\u001b[1;33m\u001b[0m\u001b[0m\n\u001b[0m\u001b[0;32m    968\u001b[0m \u001b[1;33m\u001b[0m\u001b[0m\n\u001b[0;32m    969\u001b[0m     \u001b[1;32mdef\u001b[0m \u001b[0m_is_scalar_access\u001b[0m\u001b[1;33m(\u001b[0m\u001b[0mself\u001b[0m\u001b[1;33m,\u001b[0m \u001b[0mkey\u001b[0m\u001b[1;33m:\u001b[0m \u001b[0mtuple\u001b[0m\u001b[1;33m)\u001b[0m\u001b[1;33m:\u001b[0m\u001b[1;33m\u001b[0m\u001b[1;33m\u001b[0m\u001b[0m\n",
      "\u001b[1;32mc:\\Users\\Varun\\AppData\\Local\\Programs\\Python\\Python38\\lib\\site-packages\\pandas\\core\\indexing.py\u001b[0m in \u001b[0;36m_getitem_axis\u001b[1;34m(self, key, axis)\u001b[0m\n\u001b[0;32m   1200\u001b[0m         \u001b[1;31m# fall thru to straight lookup\u001b[0m\u001b[1;33m\u001b[0m\u001b[1;33m\u001b[0m\u001b[1;33m\u001b[0m\u001b[0m\n\u001b[0;32m   1201\u001b[0m         \u001b[0mself\u001b[0m\u001b[1;33m.\u001b[0m\u001b[0m_validate_key\u001b[0m\u001b[1;33m(\u001b[0m\u001b[0mkey\u001b[0m\u001b[1;33m,\u001b[0m \u001b[0maxis\u001b[0m\u001b[1;33m)\u001b[0m\u001b[1;33m\u001b[0m\u001b[1;33m\u001b[0m\u001b[0m\n\u001b[1;32m-> 1202\u001b[1;33m         \u001b[1;32mreturn\u001b[0m \u001b[0mself\u001b[0m\u001b[1;33m.\u001b[0m\u001b[0m_get_label\u001b[0m\u001b[1;33m(\u001b[0m\u001b[0mkey\u001b[0m\u001b[1;33m,\u001b[0m \u001b[0maxis\u001b[0m\u001b[1;33m=\u001b[0m\u001b[0maxis\u001b[0m\u001b[1;33m)\u001b[0m\u001b[1;33m\u001b[0m\u001b[1;33m\u001b[0m\u001b[0m\n\u001b[0m\u001b[0;32m   1203\u001b[0m \u001b[1;33m\u001b[0m\u001b[0m\n\u001b[0;32m   1204\u001b[0m     \u001b[1;32mdef\u001b[0m \u001b[0m_get_slice_axis\u001b[0m\u001b[1;33m(\u001b[0m\u001b[0mself\u001b[0m\u001b[1;33m,\u001b[0m \u001b[0mslice_obj\u001b[0m\u001b[1;33m:\u001b[0m \u001b[0mslice\u001b[0m\u001b[1;33m,\u001b[0m \u001b[0maxis\u001b[0m\u001b[1;33m:\u001b[0m \u001b[0mint\u001b[0m\u001b[1;33m)\u001b[0m\u001b[1;33m:\u001b[0m\u001b[1;33m\u001b[0m\u001b[1;33m\u001b[0m\u001b[0m\n",
      "\u001b[1;32mc:\\Users\\Varun\\AppData\\Local\\Programs\\Python\\Python38\\lib\\site-packages\\pandas\\core\\indexing.py\u001b[0m in \u001b[0;36m_get_label\u001b[1;34m(self, label, axis)\u001b[0m\n\u001b[0;32m   1151\u001b[0m     \u001b[1;32mdef\u001b[0m \u001b[0m_get_label\u001b[0m\u001b[1;33m(\u001b[0m\u001b[0mself\u001b[0m\u001b[1;33m,\u001b[0m \u001b[0mlabel\u001b[0m\u001b[1;33m,\u001b[0m \u001b[0maxis\u001b[0m\u001b[1;33m:\u001b[0m \u001b[0mint\u001b[0m\u001b[1;33m)\u001b[0m\u001b[1;33m:\u001b[0m\u001b[1;33m\u001b[0m\u001b[1;33m\u001b[0m\u001b[0m\n\u001b[0;32m   1152\u001b[0m         \u001b[1;31m# GH#5667 this will fail if the label is not present in the axis.\u001b[0m\u001b[1;33m\u001b[0m\u001b[1;33m\u001b[0m\u001b[1;33m\u001b[0m\u001b[0m\n\u001b[1;32m-> 1153\u001b[1;33m         \u001b[1;32mreturn\u001b[0m \u001b[0mself\u001b[0m\u001b[1;33m.\u001b[0m\u001b[0mobj\u001b[0m\u001b[1;33m.\u001b[0m\u001b[0mxs\u001b[0m\u001b[1;33m(\u001b[0m\u001b[0mlabel\u001b[0m\u001b[1;33m,\u001b[0m \u001b[0maxis\u001b[0m\u001b[1;33m=\u001b[0m\u001b[0maxis\u001b[0m\u001b[1;33m)\u001b[0m\u001b[1;33m\u001b[0m\u001b[1;33m\u001b[0m\u001b[0m\n\u001b[0m\u001b[0;32m   1154\u001b[0m \u001b[1;33m\u001b[0m\u001b[0m\n\u001b[0;32m   1155\u001b[0m     \u001b[1;32mdef\u001b[0m \u001b[0m_handle_lowerdim_multi_index_axis0\u001b[0m\u001b[1;33m(\u001b[0m\u001b[0mself\u001b[0m\u001b[1;33m,\u001b[0m \u001b[0mtup\u001b[0m\u001b[1;33m:\u001b[0m \u001b[0mtuple\u001b[0m\u001b[1;33m)\u001b[0m\u001b[1;33m:\u001b[0m\u001b[1;33m\u001b[0m\u001b[1;33m\u001b[0m\u001b[0m\n",
      "\u001b[1;32mc:\\Users\\Varun\\AppData\\Local\\Programs\\Python\\Python38\\lib\\site-packages\\pandas\\core\\generic.py\u001b[0m in \u001b[0;36mxs\u001b[1;34m(self, key, axis, level, drop_level)\u001b[0m\n\u001b[0;32m   3862\u001b[0m                     \u001b[0mnew_index\u001b[0m \u001b[1;33m=\u001b[0m \u001b[0mindex\u001b[0m\u001b[1;33m[\u001b[0m\u001b[0mloc\u001b[0m\u001b[1;33m]\u001b[0m\u001b[1;33m\u001b[0m\u001b[1;33m\u001b[0m\u001b[0m\n\u001b[0;32m   3863\u001b[0m         \u001b[1;32melse\u001b[0m\u001b[1;33m:\u001b[0m\u001b[1;33m\u001b[0m\u001b[1;33m\u001b[0m\u001b[0m\n\u001b[1;32m-> 3864\u001b[1;33m             \u001b[0mloc\u001b[0m \u001b[1;33m=\u001b[0m \u001b[0mindex\u001b[0m\u001b[1;33m.\u001b[0m\u001b[0mget_loc\u001b[0m\u001b[1;33m(\u001b[0m\u001b[0mkey\u001b[0m\u001b[1;33m)\u001b[0m\u001b[1;33m\u001b[0m\u001b[1;33m\u001b[0m\u001b[0m\n\u001b[0m\u001b[0;32m   3865\u001b[0m \u001b[1;33m\u001b[0m\u001b[0m\n\u001b[0;32m   3866\u001b[0m             \u001b[1;32mif\u001b[0m \u001b[0misinstance\u001b[0m\u001b[1;33m(\u001b[0m\u001b[0mloc\u001b[0m\u001b[1;33m,\u001b[0m \u001b[0mnp\u001b[0m\u001b[1;33m.\u001b[0m\u001b[0mndarray\u001b[0m\u001b[1;33m)\u001b[0m\u001b[1;33m:\u001b[0m\u001b[1;33m\u001b[0m\u001b[1;33m\u001b[0m\u001b[0m\n",
      "\u001b[1;32mc:\\Users\\Varun\\AppData\\Local\\Programs\\Python\\Python38\\lib\\site-packages\\pandas\\core\\indexes\\base.py\u001b[0m in \u001b[0;36mget_loc\u001b[1;34m(self, key, method, tolerance)\u001b[0m\n\u001b[0;32m   3621\u001b[0m                 \u001b[1;32mreturn\u001b[0m \u001b[0mself\u001b[0m\u001b[1;33m.\u001b[0m\u001b[0m_engine\u001b[0m\u001b[1;33m.\u001b[0m\u001b[0mget_loc\u001b[0m\u001b[1;33m(\u001b[0m\u001b[0mcasted_key\u001b[0m\u001b[1;33m)\u001b[0m\u001b[1;33m\u001b[0m\u001b[1;33m\u001b[0m\u001b[0m\n\u001b[0;32m   3622\u001b[0m             \u001b[1;32mexcept\u001b[0m \u001b[0mKeyError\u001b[0m \u001b[1;32mas\u001b[0m \u001b[0merr\u001b[0m\u001b[1;33m:\u001b[0m\u001b[1;33m\u001b[0m\u001b[1;33m\u001b[0m\u001b[0m\n\u001b[1;32m-> 3623\u001b[1;33m                 \u001b[1;32mraise\u001b[0m \u001b[0mKeyError\u001b[0m\u001b[1;33m(\u001b[0m\u001b[0mkey\u001b[0m\u001b[1;33m)\u001b[0m \u001b[1;32mfrom\u001b[0m \u001b[0merr\u001b[0m\u001b[1;33m\u001b[0m\u001b[1;33m\u001b[0m\u001b[0m\n\u001b[0m\u001b[0;32m   3624\u001b[0m             \u001b[1;32mexcept\u001b[0m \u001b[0mTypeError\u001b[0m\u001b[1;33m:\u001b[0m\u001b[1;33m\u001b[0m\u001b[1;33m\u001b[0m\u001b[0m\n\u001b[0;32m   3625\u001b[0m                 \u001b[1;31m# If we have a listlike key, _check_indexing_error will raise\u001b[0m\u001b[1;33m\u001b[0m\u001b[1;33m\u001b[0m\u001b[1;33m\u001b[0m\u001b[0m\n",
      "\u001b[1;31mKeyError\u001b[0m: True"
     ]
    }
   ],
   "source": [
    "dji_corr\n",
    "max_corr = dji_corr['corr'].max()\n",
    "\n",
    "min_corr = dji_corr['corr'].min()\n",
    "\n",
    "max_corr_pair = (dji_corr.loc[dji_corr['corr'] == max_corr]['tic1'], dji_corr.loc[dji_corr['corr']== max_corr]['tic2'])\n",
    "max_corr_pair\n",
    "\n",
    "min_corr_pair = (dji_corr.loc[dji_corr['corr'] == min_corr]['tic1'], dji_corr.loc[dji_corr['corr']== min_corr]['tic2'])\n",
    "min_corr_pair\n",
    "\n",
    "\n"
   ]
  },
  {
   "cell_type": "markdown",
   "id": "functional-elimination",
   "metadata": {},
   "source": [
    "As above, use `groupby` to calculate the average pairwise correlation in each year for these stocks. Plot the result."
   ]
  },
  {
   "cell_type": "code",
   "execution_count": null,
   "id": "8ecb5441-57c5-4188-983c-4e4fe437d774",
   "metadata": {},
   "outputs": [
    {
     "ename": "KeyError",
     "evalue": "'year'",
     "output_type": "error",
     "traceback": [
      "\u001b[1;31m---------------------------------------------------------------------------\u001b[0m",
      "\u001b[1;31mKeyError\u001b[0m                                  Traceback (most recent call last)",
      "\u001b[1;32m~\\AppData\\Local\\Temp\\ipykernel_28712\\1820087070.py\u001b[0m in \u001b[0;36m<module>\u001b[1;34m\u001b[0m\n\u001b[0;32m      2\u001b[0m \u001b[1;31m# dji_new.head()dji\u001b[0m\u001b[1;33m\u001b[0m\u001b[1;33m\u001b[0m\u001b[1;33m\u001b[0m\u001b[0m\n\u001b[0;32m      3\u001b[0m \u001b[1;33m\u001b[0m\u001b[0m\n\u001b[1;32m----> 4\u001b[1;33m \u001b[0mdji\u001b[0m\u001b[1;33m.\u001b[0m\u001b[0mgroupby\u001b[0m\u001b[1;33m(\u001b[0m\u001b[1;34m'year'\u001b[0m\u001b[1;33m,\u001b[0m \u001b[0mas_index\u001b[0m \u001b[1;33m=\u001b[0m \u001b[1;32mFalse\u001b[0m\u001b[1;33m)\u001b[0m\u001b[1;33m[\u001b[0m\u001b[1;34m'corr'\u001b[0m\u001b[1;33m]\u001b[0m\u001b[1;33m.\u001b[0m\u001b[0mmean\u001b[0m\u001b[1;33m(\u001b[0m\u001b[1;33m)\u001b[0m\u001b[1;33m\u001b[0m\u001b[1;33m\u001b[0m\u001b[0m\n\u001b[0m",
      "\u001b[1;32mc:\\Users\\Varun\\AppData\\Local\\Programs\\Python\\Python38\\lib\\site-packages\\pandas\\core\\frame.py\u001b[0m in \u001b[0;36mgroupby\u001b[1;34m(self, by, axis, level, as_index, sort, group_keys, squeeze, observed, dropna)\u001b[0m\n\u001b[0;32m   7710\u001b[0m         \u001b[1;31m# error: Argument \"squeeze\" to \"DataFrameGroupBy\" has incompatible type\u001b[0m\u001b[1;33m\u001b[0m\u001b[1;33m\u001b[0m\u001b[1;33m\u001b[0m\u001b[0m\n\u001b[0;32m   7711\u001b[0m         \u001b[1;31m# \"Union[bool, NoDefault]\"; expected \"bool\"\u001b[0m\u001b[1;33m\u001b[0m\u001b[1;33m\u001b[0m\u001b[1;33m\u001b[0m\u001b[0m\n\u001b[1;32m-> 7712\u001b[1;33m         return DataFrameGroupBy(\n\u001b[0m\u001b[0;32m   7713\u001b[0m             \u001b[0mobj\u001b[0m\u001b[1;33m=\u001b[0m\u001b[0mself\u001b[0m\u001b[1;33m,\u001b[0m\u001b[1;33m\u001b[0m\u001b[1;33m\u001b[0m\u001b[0m\n\u001b[0;32m   7714\u001b[0m             \u001b[0mkeys\u001b[0m\u001b[1;33m=\u001b[0m\u001b[0mby\u001b[0m\u001b[1;33m,\u001b[0m\u001b[1;33m\u001b[0m\u001b[1;33m\u001b[0m\u001b[0m\n",
      "\u001b[1;32mc:\\Users\\Varun\\AppData\\Local\\Programs\\Python\\Python38\\lib\\site-packages\\pandas\\core\\groupby\\groupby.py\u001b[0m in \u001b[0;36m__init__\u001b[1;34m(self, obj, keys, axis, level, grouper, exclusions, selection, as_index, sort, group_keys, squeeze, observed, mutated, dropna)\u001b[0m\n\u001b[0;32m    880\u001b[0m             \u001b[1;32mfrom\u001b[0m \u001b[0mpandas\u001b[0m\u001b[1;33m.\u001b[0m\u001b[0mcore\u001b[0m\u001b[1;33m.\u001b[0m\u001b[0mgroupby\u001b[0m\u001b[1;33m.\u001b[0m\u001b[0mgrouper\u001b[0m \u001b[1;32mimport\u001b[0m \u001b[0mget_grouper\u001b[0m\u001b[1;33m\u001b[0m\u001b[1;33m\u001b[0m\u001b[0m\n\u001b[0;32m    881\u001b[0m \u001b[1;33m\u001b[0m\u001b[0m\n\u001b[1;32m--> 882\u001b[1;33m             grouper, exclusions, obj = get_grouper(\n\u001b[0m\u001b[0;32m    883\u001b[0m                 \u001b[0mobj\u001b[0m\u001b[1;33m,\u001b[0m\u001b[1;33m\u001b[0m\u001b[1;33m\u001b[0m\u001b[0m\n\u001b[0;32m    884\u001b[0m                 \u001b[0mkeys\u001b[0m\u001b[1;33m,\u001b[0m\u001b[1;33m\u001b[0m\u001b[1;33m\u001b[0m\u001b[0m\n",
      "\u001b[1;32mc:\\Users\\Varun\\AppData\\Local\\Programs\\Python\\Python38\\lib\\site-packages\\pandas\\core\\groupby\\grouper.py\u001b[0m in \u001b[0;36mget_grouper\u001b[1;34m(obj, key, axis, level, sort, observed, mutated, validate, dropna)\u001b[0m\n\u001b[0;32m    880\u001b[0m                 \u001b[0min_axis\u001b[0m\u001b[1;33m,\u001b[0m \u001b[0mlevel\u001b[0m\u001b[1;33m,\u001b[0m \u001b[0mgpr\u001b[0m \u001b[1;33m=\u001b[0m \u001b[1;32mFalse\u001b[0m\u001b[1;33m,\u001b[0m \u001b[0mgpr\u001b[0m\u001b[1;33m,\u001b[0m \u001b[1;32mNone\u001b[0m\u001b[1;33m\u001b[0m\u001b[1;33m\u001b[0m\u001b[0m\n\u001b[0;32m    881\u001b[0m             \u001b[1;32melse\u001b[0m\u001b[1;33m:\u001b[0m\u001b[1;33m\u001b[0m\u001b[1;33m\u001b[0m\u001b[0m\n\u001b[1;32m--> 882\u001b[1;33m                 \u001b[1;32mraise\u001b[0m \u001b[0mKeyError\u001b[0m\u001b[1;33m(\u001b[0m\u001b[0mgpr\u001b[0m\u001b[1;33m)\u001b[0m\u001b[1;33m\u001b[0m\u001b[1;33m\u001b[0m\u001b[0m\n\u001b[0m\u001b[0;32m    883\u001b[0m         \u001b[1;32melif\u001b[0m \u001b[0misinstance\u001b[0m\u001b[1;33m(\u001b[0m\u001b[0mgpr\u001b[0m\u001b[1;33m,\u001b[0m \u001b[0mGrouper\u001b[0m\u001b[1;33m)\u001b[0m \u001b[1;32mand\u001b[0m \u001b[0mgpr\u001b[0m\u001b[1;33m.\u001b[0m\u001b[0mkey\u001b[0m \u001b[1;32mis\u001b[0m \u001b[1;32mnot\u001b[0m \u001b[1;32mNone\u001b[0m\u001b[1;33m:\u001b[0m\u001b[1;33m\u001b[0m\u001b[1;33m\u001b[0m\u001b[0m\n\u001b[0;32m    884\u001b[0m             \u001b[1;31m# Add key to exclusions\u001b[0m\u001b[1;33m\u001b[0m\u001b[1;33m\u001b[0m\u001b[1;33m\u001b[0m\u001b[0m\n",
      "\u001b[1;31mKeyError\u001b[0m: 'year'"
     ]
    }
   ],
   "source": [
    "# dji_new = dji.groupby(dji['Date'])\n",
    "# dji_new.head()dji\n",
    "\n",
    "# dji.groupby('year', as_index = False)['corr'].mean()"
   ]
  },
  {
   "cell_type": "markdown",
   "id": "raised-album",
   "metadata": {},
   "source": [
    "## Market return data"
   ]
  },
  {
   "cell_type": "markdown",
   "id": "another-runner",
   "metadata": {},
   "source": [
    "As a proxy for the return on the market, get download data for the S&P 500 index (ticker symbol: ^GSPC)."
   ]
  },
  {
   "cell_type": "code",
   "execution_count": null,
   "id": "e54372f2-69d8-45af-ba83-5baff59c7d4a",
   "metadata": {},
   "outputs": [
    {
     "name": "stdout",
     "output_type": "stream",
     "text": [
      "[*********************100%***********************]  1 of 1 completed\n"
     ]
    },
    {
     "data": {
      "text/plain": [
       "Date\n",
       "2001-01-02    1283.270020\n",
       "2001-01-03    1347.560059\n",
       "2001-01-04    1333.339966\n",
       "2001-01-05    1298.349976\n",
       "2001-01-08    1295.859985\n",
       "Name: Adj Close, dtype: float64"
      ]
     },
     "execution_count": 104,
     "metadata": {},
     "output_type": "execute_result"
    }
   ],
   "source": [
    "snp = yf.download(tickers=['^GSPC'],\n",
    "                   interval='1d',\n",
    "                   start='2001-01-01',\n",
    "                   end='2023-03-01')\n",
    "\n",
    "snp = snp['Adj Close']\n",
    "\n",
    "snp.head()"
   ]
  },
  {
   "cell_type": "markdown",
   "id": "thick-panama",
   "metadata": {},
   "source": [
    "Calculate the average return on the index in each year. A typical year has 252 trading days, so multiply the result by 252 to get the annualized return."
   ]
  },
  {
   "cell_type": "code",
   "execution_count": null,
   "id": "d5d65df0-30e0-4248-9e7b-2ae7628b87ee",
   "metadata": {},
   "outputs": [
    {
     "data": {
      "text/plain": [
       "Date\n",
       "2001-12-31   -0.090708\n",
       "2002-12-31   -0.232379\n",
       "2003-12-31    0.248721\n",
       "2004-12-31    0.092262\n",
       "2005-12-31    0.034836\n",
       "                ...   \n",
       "2019-12-31    0.261588\n",
       "2020-12-31    0.209706\n",
       "2021-12-31    0.246839\n",
       "2022-12-31   -0.187851\n",
       "2023-12-31    0.229198\n",
       "Freq: A-DEC, Name: Adj Close, Length: 23, dtype: float64"
      ]
     },
     "execution_count": 105,
     "metadata": {},
     "output_type": "execute_result"
    }
   ],
   "source": [
    "snp_ret = snp.pct_change().dropna()\n",
    "snp_ret.resample('Y').mean()*252"
   ]
  },
  {
   "attachments": {},
   "cell_type": "markdown",
   "id": "a184cf4e",
   "metadata": {},
   "source": [
    "These returns do not seem right. Let's ask"
   ]
  },
  {
   "cell_type": "markdown",
   "id": "stone-sense",
   "metadata": {},
   "source": [
    "Combine the index annual return data with the average correlation data.\n",
    "\n",
    "You can use `pd.merge` but `pd.concat` might be easier if you first make sure both Series have the same index."
   ]
  },
  {
   "cell_type": "code",
   "execution_count": null,
   "id": "646a19fe-7ee1-47c9-a27a-8afb0480ceb3",
   "metadata": {},
   "outputs": [
    {
     "data": {
      "text/plain": [
       "Date\n",
       "2013-12-31              inf\n",
       "2014-12-31              inf\n",
       "2015-12-31              inf\n",
       "2016-12-31              inf\n",
       "2017-12-31              inf\n",
       "2018-12-31              inf\n",
       "2019-12-31              inf\n",
       "2020-12-31              inf\n",
       "2021-12-31              inf\n",
       "2022-12-31              inf\n",
       "2023-12-31    3.619322e+140\n",
       "Freq: A-DEC, Name: Adj Close, dtype: float64"
      ]
     },
     "execution_count": 94,
     "metadata": {},
     "output_type": "execute_result"
    }
   ],
   "source": []
  },
  {
   "cell_type": "markdown",
   "id": "deluxe-bikini",
   "metadata": {},
   "source": [
    "Finally, calculate the correlation between the annual return and the annual average correlation. Be sure to interpret the result."
   ]
  },
  {
   "cell_type": "code",
   "execution_count": null,
   "id": "1db18b66-eb83-431e-b23c-1679e8514344",
   "metadata": {},
   "outputs": [],
   "source": []
  },
  {
   "cell_type": "markdown",
   "id": "intermediate-monster",
   "metadata": {},
   "source": [
    "# Calculating beta"
   ]
  },
  {
   "cell_type": "markdown",
   "id": "marked-cheese",
   "metadata": {},
   "source": [
    "Next we'll estimate β for each stock. As an example, here's how we can estimate β for 3M."
   ]
  },
  {
   "cell_type": "code",
   "execution_count": null,
   "id": "complex-wrapping",
   "metadata": {},
   "outputs": [],
   "source": [
    "import statsmodels.api as sm"
   ]
  },
  {
   "cell_type": "markdown",
   "id": "included-valve",
   "metadata": {},
   "source": [
    "First, we combine the market return data with the individual stock return series."
   ]
  },
  {
   "attachments": {},
   "cell_type": "markdown",
   "id": "98e8c21b",
   "metadata": {},
   "source": [
    "For the first concat, not sure if we are supposed to name the variables the exact same things as what it is in the commented section."
   ]
  },
  {
   "cell_type": "code",
   "execution_count": null,
   "id": "88e6430e-b75e-4013-8296-a3e34199967a",
   "metadata": {},
   "outputs": [
    {
     "data": {
      "text/html": [
       "<div>\n",
       "<style scoped>\n",
       "    .dataframe tbody tr th:only-of-type {\n",
       "        vertical-align: middle;\n",
       "    }\n",
       "\n",
       "    .dataframe tbody tr th {\n",
       "        vertical-align: top;\n",
       "    }\n",
       "\n",
       "    .dataframe thead th {\n",
       "        text-align: right;\n",
       "    }\n",
       "</style>\n",
       "<table border=\"1\" class=\"dataframe\">\n",
       "  <thead>\n",
       "    <tr style=\"text-align: right;\">\n",
       "      <th></th>\n",
       "      <th>Adj Close</th>\n",
       "      <th>MMM</th>\n",
       "    </tr>\n",
       "    <tr>\n",
       "      <th>Date</th>\n",
       "      <th></th>\n",
       "      <th></th>\n",
       "    </tr>\n",
       "  </thead>\n",
       "  <tbody>\n",
       "    <tr>\n",
       "      <th>2001-01-03</th>\n",
       "      <td>0.050099</td>\n",
       "      <td>-0.011536</td>\n",
       "    </tr>\n",
       "    <tr>\n",
       "      <th>2001-01-04</th>\n",
       "      <td>-0.010552</td>\n",
       "      <td>0.010079</td>\n",
       "    </tr>\n",
       "    <tr>\n",
       "      <th>2001-01-05</th>\n",
       "      <td>-0.026242</td>\n",
       "      <td>-0.037290</td>\n",
       "    </tr>\n",
       "    <tr>\n",
       "      <th>2001-01-08</th>\n",
       "      <td>-0.001918</td>\n",
       "      <td>0.006001</td>\n",
       "    </tr>\n",
       "    <tr>\n",
       "      <th>2001-01-09</th>\n",
       "      <td>0.003812</td>\n",
       "      <td>-0.015727</td>\n",
       "    </tr>\n",
       "    <tr>\n",
       "      <th>...</th>\n",
       "      <td>...</td>\n",
       "      <td>...</td>\n",
       "    </tr>\n",
       "    <tr>\n",
       "      <th>2023-02-22</th>\n",
       "      <td>-0.001574</td>\n",
       "      <td>-0.002838</td>\n",
       "    </tr>\n",
       "    <tr>\n",
       "      <th>2023-02-23</th>\n",
       "      <td>0.005329</td>\n",
       "      <td>-0.000275</td>\n",
       "    </tr>\n",
       "    <tr>\n",
       "      <th>2023-02-24</th>\n",
       "      <td>-0.010538</td>\n",
       "      <td>-0.010192</td>\n",
       "    </tr>\n",
       "    <tr>\n",
       "      <th>2023-02-27</th>\n",
       "      <td>0.003073</td>\n",
       "      <td>0.004360</td>\n",
       "    </tr>\n",
       "    <tr>\n",
       "      <th>2023-02-28</th>\n",
       "      <td>-0.003036</td>\n",
       "      <td>-0.004895</td>\n",
       "    </tr>\n",
       "  </tbody>\n",
       "</table>\n",
       "<p>5573 rows × 2 columns</p>\n",
       "</div>"
      ],
      "text/plain": [
       "            Adj Close       MMM\n",
       "Date                           \n",
       "2001-01-03   0.050099 -0.011536\n",
       "2001-01-04  -0.010552  0.010079\n",
       "2001-01-05  -0.026242 -0.037290\n",
       "2001-01-08  -0.001918  0.006001\n",
       "2001-01-09   0.003812 -0.015727\n",
       "...               ...       ...\n",
       "2023-02-22  -0.001574 -0.002838\n",
       "2023-02-23   0.005329 -0.000275\n",
       "2023-02-24  -0.010538 -0.010192\n",
       "2023-02-27   0.003073  0.004360\n",
       "2023-02-28  -0.003036 -0.004895\n",
       "\n",
       "[5573 rows x 2 columns]"
      ]
     },
     "execution_count": 106,
     "metadata": {},
     "output_type": "execute_result"
    }
   ],
   "source": [
    "# reg = pd.concat([sp500, rets_dow['MMM']], axis=1).dropna()\n",
    "reg = pd.concat([snp_ret, dji_ret['MMM']], axis=1).dropna()\n",
    "\n",
    "reg"
   ]
  },
  {
   "cell_type": "markdown",
   "id": "nervous-beast",
   "metadata": {},
   "source": [
    "Then we run a regression, being sure to add a constant term."
   ]
  },
  {
   "cell_type": "code",
   "execution_count": null,
   "id": "related-norman",
   "metadata": {},
   "outputs": [],
   "source": [
    "model = sm.OLS(reg['MMM'], sm.add_constant(reg['Adj Close']))\n",
    "results = model.fit()"
   ]
  },
  {
   "cell_type": "code",
   "execution_count": null,
   "id": "deadly-marketplace",
   "metadata": {},
   "outputs": [
    {
     "name": "stdout",
     "output_type": "stream",
     "text": [
      "                            OLS Regression Results                            \n",
      "==============================================================================\n",
      "Dep. Variable:                    MMM   R-squared:                       0.500\n",
      "Model:                            OLS   Adj. R-squared:                  0.500\n",
      "Method:                 Least Squares   F-statistic:                     5577.\n",
      "Date:                Sun, 26 Mar 2023   Prob (F-statistic):               0.00\n",
      "Time:                        14:58:50   Log-Likelihood:                 17566.\n",
      "No. Observations:                5573   AIC:                        -3.513e+04\n",
      "Df Residuals:                    5571   BIC:                        -3.511e+04\n",
      "Df Model:                           1                                         \n",
      "Covariance Type:            nonrobust                                         \n",
      "==============================================================================\n",
      "                 coef    std err          t      P>|t|      [0.025      0.975]\n",
      "------------------------------------------------------------------------------\n",
      "const       8.605e-05      0.000      0.621      0.535      -0.000       0.000\n",
      "Adj Close      0.8340      0.011     74.677      0.000       0.812       0.856\n",
      "==============================================================================\n",
      "Omnibus:                     1455.799   Durbin-Watson:                   2.028\n",
      "Prob(Omnibus):                  0.000   Jarque-Bera (JB):            40447.633\n",
      "Skew:                          -0.642   Prob(JB):                         0.00\n",
      "Kurtosis:                      16.135   Cond. No.                         80.5\n",
      "==============================================================================\n",
      "\n",
      "Notes:\n",
      "[1] Standard Errors assume that the covariance matrix of the errors is correctly specified.\n"
     ]
    }
   ],
   "source": [
    "print(results.summary())"
   ]
  },
  {
   "cell_type": "markdown",
   "id": "indirect-grant",
   "metadata": {},
   "source": [
    "The estimate of β is stored in the `.params` property."
   ]
  },
  {
   "cell_type": "code",
   "execution_count": null,
   "id": "authorized-literature",
   "metadata": {},
   "outputs": [
    {
     "data": {
      "text/plain": [
       "0.8339599875030239"
      ]
     },
     "execution_count": 109,
     "metadata": {},
     "output_type": "execute_result"
    }
   ],
   "source": [
    "results.params[-1]"
   ]
  },
  {
   "cell_type": "markdown",
   "id": "expired-removal",
   "metadata": {},
   "source": [
    "Now iterate over the DJIA tickers and estimate beta for each stock. Save the estimates in a list.\n",
    "\n",
    "(Note that statsmodels cannot handle missing data, so you have to remove any before attempting to run the regression.)"
   ]
  },
  {
   "cell_type": "code",
   "execution_count": null,
   "id": "2e7f55e1-2d62-4504-9e88-77af6972560d",
   "metadata": {},
   "outputs": [
    {
     "data": {
      "text/plain": [
       "{'AAPL': 1.1163621761788398,\n",
       " 'AMGN': 0.7848074751733625,\n",
       " 'AXP': 1.3818098754786856,\n",
       " 'BA': 1.1243953894183203,\n",
       " 'CAT': 1.1311322978274199,\n",
       " 'CRM': 1.275298755013034,\n",
       " 'CSCO': 1.185208881809829,\n",
       " 'CVX': 0.9598107935738848,\n",
       " 'DIS': 1.0895749869588578,\n",
       " 'DOW': 1.152294794852308,\n",
       " 'GS': 1.3284382001005932,\n",
       " 'HD': 1.0192643318839096,\n",
       " 'HON': 1.0899506740017049,\n",
       " 'IBM': 0.8518756432873105,\n",
       " 'INTC': 1.2353717346551831,\n",
       " 'JNJ': 0.5484056691744128,\n",
       " 'JPM': 1.4360445355539688,\n",
       " 'KO': 0.5747126811792336,\n",
       " 'MCD': 0.6210302388476887,\n",
       " 'MMM': 0.8339599875030239,\n",
       " 'MRK': 0.6979662052416765,\n",
       " 'MSFT': 1.0886235606692753,\n",
       " 'NKE': 0.9185587798196337,\n",
       " 'PG': 0.5409551245726706,\n",
       " 'TRV': 0.9465549239747217,\n",
       " 'UNH': 0.8485414475981383,\n",
       " 'V': 1.0102174464488458,\n",
       " 'VZ': 0.672196921097922,\n",
       " 'WBA': 0.7543702674459903,\n",
       " 'WMT': 0.5921108659843822}"
      ]
     },
     "execution_count": 114,
     "metadata": {},
     "output_type": "execute_result"
    }
   ],
   "source": [
    "dji_stocks = list(dji.columns)\n",
    "beta_dji = {}\n",
    "\n",
    "for i in dji_stocks:\n",
    "    reg = pd.concat([snp_ret,dji_ret[i]],axis = 1).dropna()\n",
    "    model = sm.OLS(reg[i], sm.add_constant(reg['Adj Close']))\n",
    "    results = model.fit()\n",
    "    beta = results.params[-1]\n",
    "    beta_dji[i] = beta\n",
    "\n",
    "beta_dji\n"
   ]
  },
  {
   "cell_type": "markdown",
   "id": "joined-brain",
   "metadata": {},
   "source": [
    "Create a `Series` from the list of betas. Set the index of the series to be the columns in `rets_dow` (that is, the ticker symbols)."
   ]
  },
  {
   "cell_type": "code",
   "execution_count": null,
   "id": "9d860db5-6007-437e-a3a5-02311fd7624a",
   "metadata": {},
   "outputs": [
    {
     "data": {
      "text/plain": [
       "AAPL    1.116362\n",
       "AMGN    0.784807\n",
       "AXP     1.381810\n",
       "BA      1.124395\n",
       "CAT     1.131132\n",
       "          ...   \n",
       "UNH     0.848541\n",
       "V       1.010217\n",
       "VZ      0.672197\n",
       "WBA     0.754370\n",
       "WMT     0.592111\n",
       "Length: 30, dtype: float64"
      ]
     },
     "execution_count": 127,
     "metadata": {},
     "output_type": "execute_result"
    }
   ],
   "source": [
    "series = pd.Series(beta_dji,dji_stocks)\n",
    "series"
   ]
  },
  {
   "cell_type": "markdown",
   "id": "085f5d6d-64a1-4043-8fb9-5bcede905081",
   "metadata": {},
   "source": [
    "What company as the highest beta? The lowest?"
   ]
  },
  {
   "cell_type": "code",
   "execution_count": null,
   "id": "2219e646-13ba-4276-9938-7d662f68a229",
   "metadata": {},
   "outputs": [
    {
     "name": "stdout",
     "output_type": "stream",
     "text": [
      "Min beta company PG \n",
      "Max beta company JPM\n"
     ]
    }
   ],
   "source": [
    "max_series = series.idxmax()\n",
    "min_series = series.idxmin()\n",
    "\n",
    "print(\"Min beta company\", min_series, \"\\nMax beta company\", max_series)"
   ]
  },
  {
   "cell_type": "markdown",
   "id": "4f0f22b3-be64-46cc-8549-d032af51f269",
   "metadata": {},
   "source": [
    "Plot a histogram of the betas."
   ]
  },
  {
   "cell_type": "code",
   "execution_count": null,
   "id": "01d66957",
   "metadata": {},
   "outputs": [],
   "source": [
    "from matplotlib import pyplot as plt"
   ]
  },
  {
   "cell_type": "code",
   "execution_count": null,
   "id": "79bedd62-abd0-4700-bc13-f4eb09850bd2",
   "metadata": {},
   "outputs": [
    {
     "data": {
      "image/png": "[encoded data removed]",
      "text/plain": [
       "<Figure size 432x288 with 1 Axes>"
      ]
     },
     "metadata": {
      "needs_background": "light"
     },
     "output_type": "display_data"
    }
   ],
   "source": [
    "plt.hist(series,10)\n",
    "plt.xlabel(\"Beta\")\n",
    "plt.ylabel(\"No. of companies\")\n",
    "plt.show()"
   ]
  },
  {
   "cell_type": "markdown",
   "id": "distributed-strip",
   "metadata": {},
   "source": [
    "For this excercise you used 20 years of data to estimate the betas. What problems might there be with this approach?"
   ]
  },
  {
   "cell_type": "code",
   "execution_count": null,
   "id": "wrapped-figure",
   "metadata": {},
   "outputs": [],
   "source": []
  }
 ],
 "metadata": {
  "kernelspec": {
   "display_name": "Python 3 (ipykernel)",
   "language": "python",
   "name": "python3"
  },
  "language_info": {
   "codemirror_mode": {
    "name": "ipython",
    "version": 3
   },
   "file_extension": ".py",
   "mimetype": "text/x-python",
   "name": "python",
   "nbconvert_exporter": "python",
   "pygments_lexer": "ipython3",
   "version": "3.8.9"
  },
  "toc": {
   "base_numbering": 1,
   "nav_menu": {},
   "number_sections": false,
   "sideBar": true,
   "skip_h1_title": false,
   "title_cell": "Table of Contents",
   "title_sidebar": "Contents",
   "toc_cell": false,
   "toc_position": {},
   "toc_section_display": true,
   "toc_window_display": false
  }
 },
 "nbformat": 4,
 "nbformat_minor": 5
}
