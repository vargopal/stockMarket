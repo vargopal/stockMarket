{
 "cells": [
  {
   "cell_type": "markdown",
   "id": "suitable-north",
   "metadata": {},
   "source": [
    "# Homework 1"
   ]
  },
  {
   "cell_type": "code",
   "execution_count": 1,
   "id": "629fca8e-717a-4881-b23e-4e2252defe6e",
   "metadata": {},
   "outputs": [],
   "source": [
    "import numpy as np\n",
    "import pandas as pd\n",
    "\n",
    "pd.options.display.max_rows = 20"
   ]
  },
  {
   "cell_type": "markdown",
   "id": "aerial-clearance",
   "metadata": {},
   "source": [
    "## Getting stock data"
   ]
  },
  {
   "cell_type": "markdown",
   "id": "transparent-solution",
   "metadata": {},
   "source": [
    "We can use `yfinance` to download historical price data from Yahoo! Finance. This package is not part of the standard python library, so you'll have to [install it](https://pypi.org/project/yfinance/) if you haven't previously done so."
   ]
  },
  {
   "cell_type": "code",
   "execution_count": 2,
   "id": "6f737fcd-0c60-43f6-a199-bf0e0eeaa6f5",
   "metadata": {},
   "outputs": [],
   "source": [
    "import yfinance as yf"
   ]
  },
  {
   "cell_type": "markdown",
   "id": "40a0036d-d78d-40d7-bdb1-650938efd93f",
   "metadata": {},
   "source": [
    "Here's an example of downloading data for multiple tickers:"
   ]
  },
  {
   "cell_type": "code",
   "execution_count": 19,
   "id": "23681c20-29a9-402f-9929-2eecb7c65dea",
   "metadata": {},
   "outputs": [
    {
     "name": "stdout",
     "output_type": "stream",
     "text": [
      "[*********************100%***********************]  4 of 4 completed\n"
     ]
    },
    {
     "data": {
      "text/html": [
       "<div>\n",
       "<style scoped>\n",
       "    .dataframe tbody tr th:only-of-type {\n",
       "        vertical-align: middle;\n",
       "    }\n",
       "\n",
       "    .dataframe tbody tr th {\n",
       "        vertical-align: top;\n",
       "    }\n",
       "\n",
       "    .dataframe thead th {\n",
       "        text-align: right;\n",
       "    }\n",
       "</style>\n",
       "<table border=\"1\" class=\"dataframe\">\n",
       "  <thead>\n",
       "    <tr style=\"text-align: right;\">\n",
       "      <th></th>\n",
       "      <th>AMZN</th>\n",
       "      <th>GE</th>\n",
       "      <th>PFE</th>\n",
       "      <th>TSLA</th>\n",
       "    </tr>\n",
       "    <tr>\n",
       "      <th>Date</th>\n",
       "      <th></th>\n",
       "      <th></th>\n",
       "      <th></th>\n",
       "      <th></th>\n",
       "    </tr>\n",
       "  </thead>\n",
       "  <tbody>\n",
       "    <tr>\n",
       "      <th>2013-01-02</th>\n",
       "      <td>12.8655</td>\n",
       "      <td>103.887474</td>\n",
       "      <td>17.030138</td>\n",
       "      <td>2.357333</td>\n",
       "    </tr>\n",
       "    <tr>\n",
       "      <th>2013-01-03</th>\n",
       "      <td>12.9240</td>\n",
       "      <td>102.719124</td>\n",
       "      <td>16.990709</td>\n",
       "      <td>2.318000</td>\n",
       "    </tr>\n",
       "    <tr>\n",
       "      <th>2013-01-04</th>\n",
       "      <td>12.9575</td>\n",
       "      <td>103.205925</td>\n",
       "      <td>17.063005</td>\n",
       "      <td>2.293333</td>\n",
       "    </tr>\n",
       "    <tr>\n",
       "      <th>2013-01-07</th>\n",
       "      <td>13.4230</td>\n",
       "      <td>102.865150</td>\n",
       "      <td>17.076155</td>\n",
       "      <td>2.289333</td>\n",
       "    </tr>\n",
       "    <tr>\n",
       "      <th>2013-01-08</th>\n",
       "      <td>13.3190</td>\n",
       "      <td>101.745476</td>\n",
       "      <td>17.102446</td>\n",
       "      <td>2.245333</td>\n",
       "    </tr>\n",
       "  </tbody>\n",
       "</table>\n",
       "</div>"
      ],
      "text/plain": [
       "               AMZN          GE        PFE      TSLA\n",
       "Date                                                \n",
       "2013-01-02  12.8655  103.887474  17.030138  2.357333\n",
       "2013-01-03  12.9240  102.719124  16.990709  2.318000\n",
       "2013-01-04  12.9575  103.205925  17.063005  2.293333\n",
       "2013-01-07  13.4230  102.865150  17.076155  2.289333\n",
       "2013-01-08  13.3190  101.745476  17.102446  2.245333"
      ]
     },
     "execution_count": 19,
     "metadata": {},
     "output_type": "execute_result"
    }
   ],
   "source": [
    "px = yf.download(tickers=['AMZN', 'PFE', 'GE', 'TSLA'],\n",
    "                   interval='1d',\n",
    "                   start='2013-01-01',\n",
    "                   end='2023-03-01')\n",
    "\n",
    "px = px['Adj Close']\n",
    "\n",
    "px.head()"
   ]
  },
  {
   "cell_type": "markdown",
   "id": "plastic-reserve",
   "metadata": {},
   "source": [
    "One way to plot prices is to create an index by initializing each price to 1, like so:"
   ]
  },
  {
   "cell_type": "code",
   "execution_count": 4,
   "id": "qualified-leone",
   "metadata": {},
   "outputs": [
    {
     "data": {
      "text/plain": [
       "<AxesSubplot:xlabel='Date'>"
      ]
     },
     "execution_count": 4,
     "metadata": {},
     "output_type": "execute_result"
    },
    {
     "data": {
      "image/png": "[encoded data removed]",
      "text/plain": [
       "<Figure size 864x576 with 1 Axes>"
      ]
     },
     "metadata": {
      "needs_background": "light"
     },
     "output_type": "display_data"
    }
   ],
   "source": [
    "(px / px.iloc[0]).plot(figsize=(12,8), grid=True)"
   ]
  },
  {
   "cell_type": "markdown",
   "id": "legal-basis",
   "metadata": {},
   "source": [
    "Tesla's huge return makes it hard to see the performance of the other stocks here. Change the graph so that the scale on the y-axis is in logs. (You can do this without modifying the data; you just need to use an argument to the `plot` function.)"
   ]
  },
  {
   "cell_type": "code",
   "execution_count": 5,
   "id": "38d30a20-fdfc-49ba-a001-055089b90a21",
   "metadata": {},
   "outputs": [
    {
     "data": {
      "image/png": "[encoded data removed]",
      "text/plain": [
       "<Figure size 864x576 with 1 Axes>"
      ]
     },
     "metadata": {
      "needs_background": "light"
     },
     "output_type": "display_data"
    }
   ],
   "source": [
    "(px / px.iloc[0]).plot(figsize=(12,8), grid=True).set_yscale('log')"
   ]
  },
  {
   "cell_type": "markdown",
   "id": "laden-mustang",
   "metadata": {},
   "source": [
    "Calculate a daily return series for each stock using these prices."
   ]
  },
  {
   "cell_type": "code",
   "execution_count": 29,
   "id": "a4a27eb9-b587-46f5-bacb-56b7142067e6",
   "metadata": {},
   "outputs": [
    {
     "data": {
      "text/html": [
       "<div>\n",
       "<style scoped>\n",
       "    .dataframe tbody tr th:only-of-type {\n",
       "        vertical-align: middle;\n",
       "    }\n",
       "\n",
       "    .dataframe tbody tr th {\n",
       "        vertical-align: top;\n",
       "    }\n",
       "\n",
       "    .dataframe thead th {\n",
       "        text-align: right;\n",
       "    }\n",
       "</style>\n",
       "<table border=\"1\" class=\"dataframe\">\n",
       "  <thead>\n",
       "    <tr style=\"text-align: right;\">\n",
       "      <th></th>\n",
       "      <th>AMZN</th>\n",
       "      <th>GE</th>\n",
       "      <th>PFE</th>\n",
       "      <th>TSLA</th>\n",
       "    </tr>\n",
       "    <tr>\n",
       "      <th>Date</th>\n",
       "      <th></th>\n",
       "      <th></th>\n",
       "      <th></th>\n",
       "      <th></th>\n",
       "    </tr>\n",
       "  </thead>\n",
       "  <tbody>\n",
       "    <tr>\n",
       "      <th>2013-01-03</th>\n",
       "      <td>0.004547</td>\n",
       "      <td>-0.011246</td>\n",
       "      <td>-0.002315</td>\n",
       "      <td>-0.016685</td>\n",
       "    </tr>\n",
       "    <tr>\n",
       "      <th>2013-01-04</th>\n",
       "      <td>0.002592</td>\n",
       "      <td>0.004739</td>\n",
       "      <td>0.004255</td>\n",
       "      <td>-0.010642</td>\n",
       "    </tr>\n",
       "    <tr>\n",
       "      <th>2013-01-07</th>\n",
       "      <td>0.035925</td>\n",
       "      <td>-0.003302</td>\n",
       "      <td>0.000771</td>\n",
       "      <td>-0.001744</td>\n",
       "    </tr>\n",
       "    <tr>\n",
       "      <th>2013-01-08</th>\n",
       "      <td>-0.007748</td>\n",
       "      <td>-0.010885</td>\n",
       "      <td>0.001540</td>\n",
       "      <td>-0.019220</td>\n",
       "    </tr>\n",
       "    <tr>\n",
       "      <th>2013-01-09</th>\n",
       "      <td>-0.000113</td>\n",
       "      <td>0.002392</td>\n",
       "      <td>0.017294</td>\n",
       "      <td>-0.001187</td>\n",
       "    </tr>\n",
       "  </tbody>\n",
       "</table>\n",
       "</div>"
      ],
      "text/plain": [
       "                AMZN        GE       PFE      TSLA\n",
       "Date                                              \n",
       "2013-01-03  0.004547 -0.011246 -0.002315 -0.016685\n",
       "2013-01-04  0.002592  0.004739  0.004255 -0.010642\n",
       "2013-01-07  0.035925 -0.003302  0.000771 -0.001744\n",
       "2013-01-08 -0.007748 -0.010885  0.001540 -0.019220\n",
       "2013-01-09 -0.000113  0.002392  0.017294 -0.001187"
      ]
     },
     "execution_count": 29,
     "metadata": {},
     "output_type": "execute_result"
    }
   ],
   "source": [
    "px_ret = px.pct_change().dropna()\n",
    "px_ret.head()"
   ]
  },
  {
   "cell_type": "markdown",
   "id": "alpha-metropolitan",
   "metadata": {},
   "source": [
    "Use the `.describe()` method to calculate summary statistics on returns. Do the statistics look reasonable? Give a couple examples of what gives you confidence that these make sense."
   ]
  },
  {
   "cell_type": "code",
   "execution_count": 30,
   "id": "da3dddea-467a-4240-8a42-6a3d7073f606",
   "metadata": {},
   "outputs": [
    {
     "data": {
      "text/html": [
       "<div>\n",
       "<style scoped>\n",
       "    .dataframe tbody tr th:only-of-type {\n",
       "        vertical-align: middle;\n",
       "    }\n",
       "\n",
       "    .dataframe tbody tr th {\n",
       "        vertical-align: top;\n",
       "    }\n",
       "\n",
       "    .dataframe thead th {\n",
       "        text-align: right;\n",
       "    }\n",
       "</style>\n",
       "<table border=\"1\" class=\"dataframe\">\n",
       "  <thead>\n",
       "    <tr style=\"text-align: right;\">\n",
       "      <th></th>\n",
       "      <th>AMZN</th>\n",
       "      <th>GE</th>\n",
       "      <th>PFE</th>\n",
       "      <th>TSLA</th>\n",
       "    </tr>\n",
       "  </thead>\n",
       "  <tbody>\n",
       "    <tr>\n",
       "      <th>count</th>\n",
       "      <td>2556.000000</td>\n",
       "      <td>2556.000000</td>\n",
       "      <td>2556.000000</td>\n",
       "      <td>2556.000000</td>\n",
       "    </tr>\n",
       "    <tr>\n",
       "      <th>mean</th>\n",
       "      <td>0.000992</td>\n",
       "      <td>0.000142</td>\n",
       "      <td>0.000435</td>\n",
       "      <td>0.002402</td>\n",
       "    </tr>\n",
       "    <tr>\n",
       "      <th>std</th>\n",
       "      <td>0.020664</td>\n",
       "      <td>0.021073</td>\n",
       "      <td>0.013851</td>\n",
       "      <td>0.036243</td>\n",
       "    </tr>\n",
       "    <tr>\n",
       "      <th>min</th>\n",
       "      <td>-0.140494</td>\n",
       "      <td>-0.151592</td>\n",
       "      <td>-0.077346</td>\n",
       "      <td>-0.210628</td>\n",
       "    </tr>\n",
       "    <tr>\n",
       "      <th>25%</th>\n",
       "      <td>-0.008605</td>\n",
       "      <td>-0.008570</td>\n",
       "      <td>-0.006263</td>\n",
       "      <td>-0.014902</td>\n",
       "    </tr>\n",
       "    <tr>\n",
       "      <th>50%</th>\n",
       "      <td>0.001071</td>\n",
       "      <td>0.000000</td>\n",
       "      <td>0.000000</td>\n",
       "      <td>0.001389</td>\n",
       "    </tr>\n",
       "    <tr>\n",
       "      <th>75%</th>\n",
       "      <td>0.011176</td>\n",
       "      <td>0.008605</td>\n",
       "      <td>0.006999</td>\n",
       "      <td>0.019245</td>\n",
       "    </tr>\n",
       "    <tr>\n",
       "      <th>max</th>\n",
       "      <td>0.141311</td>\n",
       "      <td>0.147300</td>\n",
       "      <td>0.108552</td>\n",
       "      <td>0.243951</td>\n",
       "    </tr>\n",
       "  </tbody>\n",
       "</table>\n",
       "</div>"
      ],
      "text/plain": [
       "              AMZN           GE          PFE         TSLA\n",
       "count  2556.000000  2556.000000  2556.000000  2556.000000\n",
       "mean      0.000992     0.000142     0.000435     0.002402\n",
       "std       0.020664     0.021073     0.013851     0.036243\n",
       "min      -0.140494    -0.151592    -0.077346    -0.210628\n",
       "25%      -0.008605    -0.008570    -0.006263    -0.014902\n",
       "50%       0.001071     0.000000     0.000000     0.001389\n",
       "75%       0.011176     0.008605     0.006999     0.019245\n",
       "max       0.141311     0.147300     0.108552     0.243951"
      ]
     },
     "execution_count": 30,
     "metadata": {},
     "output_type": "execute_result"
    }
   ],
   "source": [
    "px_ret.describe()"
   ]
  },
  {
   "attachments": {},
   "cell_type": "markdown",
   "id": "2231be82",
   "metadata": {},
   "source": [
    "Why do they look reasonable? Work on that"
   ]
  },
  {
   "attachments": {},
   "cell_type": "markdown",
   "id": "5901f0c9-0770-4f20-b1a7-b4e07af2340f",
   "metadata": {},
   "source": [
    "Now calculate the correlation matrix for these returns. This should just be one line of code!\n",
    "\n",
    "The first big indicator is that the median of daily returns is 0. This means that it is just as likely to have a daily loss as it would have a gain."
   ]
  },
  {
   "cell_type": "code",
   "execution_count": 31,
   "id": "dfe8d98c-fd1c-4eae-9a73-7d35378c7c47",
   "metadata": {},
   "outputs": [
    {
     "data": {
      "text/html": [
       "<div>\n",
       "<style scoped>\n",
       "    .dataframe tbody tr th:only-of-type {\n",
       "        vertical-align: middle;\n",
       "    }\n",
       "\n",
       "    .dataframe tbody tr th {\n",
       "        vertical-align: top;\n",
       "    }\n",
       "\n",
       "    .dataframe thead th {\n",
       "        text-align: right;\n",
       "    }\n",
       "</style>\n",
       "<table border=\"1\" class=\"dataframe\">\n",
       "  <thead>\n",
       "    <tr style=\"text-align: right;\">\n",
       "      <th></th>\n",
       "      <th>AMZN</th>\n",
       "      <th>GE</th>\n",
       "      <th>PFE</th>\n",
       "      <th>TSLA</th>\n",
       "    </tr>\n",
       "  </thead>\n",
       "  <tbody>\n",
       "    <tr>\n",
       "      <th>AMZN</th>\n",
       "      <td>1.000000</td>\n",
       "      <td>0.243290</td>\n",
       "      <td>0.234330</td>\n",
       "      <td>0.371136</td>\n",
       "    </tr>\n",
       "    <tr>\n",
       "      <th>GE</th>\n",
       "      <td>0.243290</td>\n",
       "      <td>1.000000</td>\n",
       "      <td>0.287196</td>\n",
       "      <td>0.215416</td>\n",
       "    </tr>\n",
       "    <tr>\n",
       "      <th>PFE</th>\n",
       "      <td>0.234330</td>\n",
       "      <td>0.287196</td>\n",
       "      <td>1.000000</td>\n",
       "      <td>0.123169</td>\n",
       "    </tr>\n",
       "    <tr>\n",
       "      <th>TSLA</th>\n",
       "      <td>0.371136</td>\n",
       "      <td>0.215416</td>\n",
       "      <td>0.123169</td>\n",
       "      <td>1.000000</td>\n",
       "    </tr>\n",
       "  </tbody>\n",
       "</table>\n",
       "</div>"
      ],
      "text/plain": [
       "          AMZN        GE       PFE      TSLA\n",
       "AMZN  1.000000  0.243290  0.234330  0.371136\n",
       "GE    0.243290  1.000000  0.287196  0.215416\n",
       "PFE   0.234330  0.287196  1.000000  0.123169\n",
       "TSLA  0.371136  0.215416  0.123169  1.000000"
      ]
     },
     "execution_count": 31,
     "metadata": {},
     "output_type": "execute_result"
    }
   ],
   "source": [
    "px_ret.corr()"
   ]
  },
  {
   "cell_type": "markdown",
   "id": "other-newton",
   "metadata": {},
   "source": [
    "This function takes a DataFrame and returns a “long” DataFrame of pairwise correlations:"
   ]
  },
  {
   "cell_type": "code",
   "execution_count": 32,
   "id": "satellite-photography",
   "metadata": {},
   "outputs": [],
   "source": [
    "def pairwise_corr(df):\n",
    "    corrs = df.corr()\n",
    "    corrs = corrs.unstack().reset_index()\n",
    "    corrs.columns = ['tic1', 'tic2', 'corr']\n",
    "    corrs = corrs[corrs['corr']<1]\n",
    "    return corrs"
   ]
  },
  {
   "cell_type": "markdown",
   "id": "former-nutrition",
   "metadata": {},
   "source": [
    "Call this function with the returns data. Does the number of rows in the result make sense? Why?\n",
    "\n",
    "Hint: Pay close attention to the index here!"
   ]
  },
  {
   "cell_type": "code",
   "execution_count": 35,
   "id": "a0f9ac26-6af8-442c-b219-0bf507e783ff",
   "metadata": {},
   "outputs": [
    {
     "data": {
      "text/html": [
       "<div>\n",
       "<style scoped>\n",
       "    .dataframe tbody tr th:only-of-type {\n",
       "        vertical-align: middle;\n",
       "    }\n",
       "\n",
       "    .dataframe tbody tr th {\n",
       "        vertical-align: top;\n",
       "    }\n",
       "\n",
       "    .dataframe thead th {\n",
       "        text-align: right;\n",
       "    }\n",
       "</style>\n",
       "<table border=\"1\" class=\"dataframe\">\n",
       "  <thead>\n",
       "    <tr style=\"text-align: right;\">\n",
       "      <th></th>\n",
       "      <th>tic1</th>\n",
       "      <th>tic2</th>\n",
       "      <th>corr</th>\n",
       "    </tr>\n",
       "  </thead>\n",
       "  <tbody>\n",
       "    <tr>\n",
       "      <th>1</th>\n",
       "      <td>AMZN</td>\n",
       "      <td>GE</td>\n",
       "      <td>0.243290</td>\n",
       "    </tr>\n",
       "    <tr>\n",
       "      <th>2</th>\n",
       "      <td>AMZN</td>\n",
       "      <td>PFE</td>\n",
       "      <td>0.234330</td>\n",
       "    </tr>\n",
       "    <tr>\n",
       "      <th>3</th>\n",
       "      <td>AMZN</td>\n",
       "      <td>TSLA</td>\n",
       "      <td>0.371136</td>\n",
       "    </tr>\n",
       "    <tr>\n",
       "      <th>4</th>\n",
       "      <td>GE</td>\n",
       "      <td>AMZN</td>\n",
       "      <td>0.243290</td>\n",
       "    </tr>\n",
       "    <tr>\n",
       "      <th>6</th>\n",
       "      <td>GE</td>\n",
       "      <td>PFE</td>\n",
       "      <td>0.287196</td>\n",
       "    </tr>\n",
       "    <tr>\n",
       "      <th>7</th>\n",
       "      <td>GE</td>\n",
       "      <td>TSLA</td>\n",
       "      <td>0.215416</td>\n",
       "    </tr>\n",
       "    <tr>\n",
       "      <th>8</th>\n",
       "      <td>PFE</td>\n",
       "      <td>AMZN</td>\n",
       "      <td>0.234330</td>\n",
       "    </tr>\n",
       "    <tr>\n",
       "      <th>9</th>\n",
       "      <td>PFE</td>\n",
       "      <td>GE</td>\n",
       "      <td>0.287196</td>\n",
       "    </tr>\n",
       "    <tr>\n",
       "      <th>11</th>\n",
       "      <td>PFE</td>\n",
       "      <td>TSLA</td>\n",
       "      <td>0.123169</td>\n",
       "    </tr>\n",
       "    <tr>\n",
       "      <th>12</th>\n",
       "      <td>TSLA</td>\n",
       "      <td>AMZN</td>\n",
       "      <td>0.371136</td>\n",
       "    </tr>\n",
       "    <tr>\n",
       "      <th>13</th>\n",
       "      <td>TSLA</td>\n",
       "      <td>GE</td>\n",
       "      <td>0.215416</td>\n",
       "    </tr>\n",
       "    <tr>\n",
       "      <th>14</th>\n",
       "      <td>TSLA</td>\n",
       "      <td>PFE</td>\n",
       "      <td>0.123169</td>\n",
       "    </tr>\n",
       "  </tbody>\n",
       "</table>\n",
       "</div>"
      ],
      "text/plain": [
       "    tic1  tic2      corr\n",
       "1   AMZN    GE  0.243290\n",
       "2   AMZN   PFE  0.234330\n",
       "3   AMZN  TSLA  0.371136\n",
       "4     GE  AMZN  0.243290\n",
       "6     GE   PFE  0.287196\n",
       "7     GE  TSLA  0.215416\n",
       "8    PFE  AMZN  0.234330\n",
       "9    PFE    GE  0.287196\n",
       "11   PFE  TSLA  0.123169\n",
       "12  TSLA  AMZN  0.371136\n",
       "13  TSLA    GE  0.215416\n",
       "14  TSLA   PFE  0.123169"
      ]
     },
     "execution_count": 35,
     "metadata": {},
     "output_type": "execute_result"
    }
   ],
   "source": [
    "pair_corr = pairwise_corr(px_ret)\n",
    "pair_corr"
   ]
  },
  {
   "attachments": {},
   "cell_type": "markdown",
   "id": "16203e6e",
   "metadata": {},
   "source": [
    "This makes sense. There are 16 overall correlations in the table. However, we can get rid of the correlations of each ticker upon itself which reduces 16 to 12 points. However, what is the importance of the index?"
   ]
  },
  {
   "cell_type": "markdown",
   "id": "individual-cream",
   "metadata": {},
   "source": [
    "What is the *average* correlation of these firms?"
   ]
  },
  {
   "cell_type": "code",
   "execution_count": 39,
   "id": "c3ab0976-5535-44a4-bb4c-ee3d07b612b4",
   "metadata": {},
   "outputs": [
    {
     "data": {
      "text/plain": [
       "0.2457560723826833"
      ]
     },
     "execution_count": 39,
     "metadata": {},
     "output_type": "execute_result"
    }
   ],
   "source": [
    "avg_corr = sum(pair_corr['corr'])/len(pair_corr)\n",
    "avg_corr"
   ]
  },
  {
   "cell_type": "markdown",
   "id": "1d7f3eca-9f4d-421a-9a7c-3e399f217bcb",
   "metadata": {},
   "source": [
    "Since each pair appears twice, the mean calculation is correct, but if we want to calculate the standard deviation of these correlations, we must be careful to keep only one value for each pair.\n",
    "\n",
    "One trick for doing this is to require that `tic1` is less than (or, if you prefer, greater than) `tic2`. In other words, just require that the row we keep has the first ticker appear before the second ticker in an alpabetical ordering.\n",
    "\n",
    "Using this approach, calculate the standard deviation of the correlations."
   ]
  },
  {
   "cell_type": "code",
   "execution_count": null,
   "id": "e7e63998-6a25-4da8-8442-da5f3f17e3ee",
   "metadata": {},
   "outputs": [],
   "source": []
  },
  {
   "cell_type": "markdown",
   "id": "arctic-cardiff",
   "metadata": {},
   "source": [
    "Take the code you just wrote and build a *function* that takes a DataFrame and returns a single number giving the *average* pairwise correlation across firms. Test your function on the data returns data you used above."
   ]
  },
  {
   "cell_type": "code",
   "execution_count": null,
   "id": "6769ddfd-c5b9-4aa5-b74d-bc1e5fde1f88",
   "metadata": {},
   "outputs": [],
   "source": []
  },
  {
   "cell_type": "markdown",
   "id": "6d864c66-06f2-44f0-b77e-0e69cd756b1e",
   "metadata": {},
   "source": [
    "Use `groupby` to calculate the average pairwise correlation in each year by using `apply` to apply the function you just created to the data by year.\n",
    "\n",
    "Discuss anything you notice about the result."
   ]
  },
  {
   "cell_type": "markdown",
   "id": "63c82c5f-3dd4-4ed6-b694-3a5290d6026b",
   "metadata": {},
   "source": [
    "Hint: When you have an index with a datetime value you can pass an argument like this to group by year:\n",
    "\n",
    "`df.gropuby(df.index.year)`"
   ]
  },
  {
   "cell_type": "code",
   "execution_count": null,
   "id": "e2ea1bf4-d436-4d53-92f2-645b83912960",
   "metadata": {},
   "outputs": [],
   "source": []
  },
  {
   "cell_type": "markdown",
   "id": "compact-design",
   "metadata": {},
   "source": [
    "## The Dow Jones Industrial Average"
   ]
  },
  {
   "cell_type": "markdown",
   "id": "formal-california",
   "metadata": {},
   "source": [
    "The code below creates a DataFrame from a table from Wikipedia containing the current components of the Dow Jones Industrial Average."
   ]
  },
  {
   "cell_type": "code",
   "execution_count": null,
   "id": "closed-persian",
   "metadata": {},
   "outputs": [],
   "source": [
    "dow = pd.read_html('https://en.wikipedia.org/wiki/Dow_Jones_Industrial_Average')[1]"
   ]
  },
  {
   "cell_type": "code",
   "execution_count": null,
   "id": "coupled-dakota",
   "metadata": {},
   "outputs": [],
   "source": [
    "dow.head()"
   ]
  },
  {
   "cell_type": "markdown",
   "id": "adaptive-complaint",
   "metadata": {},
   "source": [
    "Use the `Symbol` column with the code from earlier to construct a new DataFrame of returns for these 30 stocks beginning in 2001.\n",
    "\n",
    "(These stocks have not all been part of the DJIA since 2001, but we'll use these companies as a sample anyway.)\n",
    "\n",
    "**Hint:** The YFinance download function takes a *list* of symbols. You can use the pandas `to_list()` method to get this."
   ]
  },
  {
   "cell_type": "code",
   "execution_count": null,
   "id": "5ca50f63-c29d-4750-b488-9aa5a6eb777a",
   "metadata": {},
   "outputs": [],
   "source": []
  },
  {
   "cell_type": "markdown",
   "id": "generic-lambda",
   "metadata": {},
   "source": [
    "Calculate the correlation matrix for these stocks. Verify that the number of rows and columns in the matrix makes sense."
   ]
  },
  {
   "cell_type": "code",
   "execution_count": null,
   "id": "8832ff79-2174-4351-a194-b687f6ab1a4e",
   "metadata": {},
   "outputs": [],
   "source": []
  },
  {
   "cell_type": "markdown",
   "id": "emerging-cross",
   "metadata": {},
   "source": [
    "Which pair of companies are maximally or minimally correlated during this period? What are these correlations?"
   ]
  },
  {
   "cell_type": "code",
   "execution_count": null,
   "id": "3b970747-fc2e-4a5f-b63b-418c50f09b75",
   "metadata": {},
   "outputs": [],
   "source": []
  },
  {
   "cell_type": "markdown",
   "id": "functional-elimination",
   "metadata": {},
   "source": [
    "As above, use `groupby` to calculate the average pairwise correlation in each year for these stocks. Plot the result."
   ]
  },
  {
   "cell_type": "code",
   "execution_count": null,
   "id": "8ecb5441-57c5-4188-983c-4e4fe437d774",
   "metadata": {},
   "outputs": [],
   "source": []
  },
  {
   "cell_type": "markdown",
   "id": "raised-album",
   "metadata": {},
   "source": [
    "## Market return data"
   ]
  },
  {
   "cell_type": "markdown",
   "id": "another-runner",
   "metadata": {},
   "source": [
    "As a proxy for the return on the market, get download data for the S&P 500 index (ticker symbol: ^GSPC)."
   ]
  },
  {
   "cell_type": "code",
   "execution_count": null,
   "id": "e54372f2-69d8-45af-ba83-5baff59c7d4a",
   "metadata": {},
   "outputs": [],
   "source": []
  },
  {
   "cell_type": "markdown",
   "id": "thick-panama",
   "metadata": {},
   "source": [
    "Calculate the average return on the index in each year. A typical year has 252 trading days, so multiply the result by 252 to get the annualized return."
   ]
  },
  {
   "cell_type": "code",
   "execution_count": null,
   "id": "d5d65df0-30e0-4248-9e7b-2ae7628b87ee",
   "metadata": {},
   "outputs": [],
   "source": []
  },
  {
   "cell_type": "markdown",
   "id": "stone-sense",
   "metadata": {},
   "source": [
    "Combine the index annual return data with the average correlation data.\n",
    "\n",
    "You can use `pd.merge` but `pd.concat` might be easier if you first make sure both Series have the same index."
   ]
  },
  {
   "cell_type": "code",
   "execution_count": null,
   "id": "646a19fe-7ee1-47c9-a27a-8afb0480ceb3",
   "metadata": {},
   "outputs": [],
   "source": []
  },
  {
   "cell_type": "markdown",
   "id": "deluxe-bikini",
   "metadata": {},
   "source": [
    "Finally, calculate the correlation between the annual return and the annual average correlation. Be sure to interpret the result."
   ]
  },
  {
   "cell_type": "code",
   "execution_count": null,
   "id": "1db18b66-eb83-431e-b23c-1679e8514344",
   "metadata": {},
   "outputs": [],
   "source": []
  },
  {
   "cell_type": "markdown",
   "id": "intermediate-monster",
   "metadata": {},
   "source": [
    "# Calculating beta"
   ]
  },
  {
   "cell_type": "markdown",
   "id": "marked-cheese",
   "metadata": {},
   "source": [
    "Next we'll estimate β for each stock. As an example, here's how we can estimate β for 3M."
   ]
  },
  {
   "cell_type": "code",
   "execution_count": null,
   "id": "complex-wrapping",
   "metadata": {},
   "outputs": [],
   "source": [
    "import statsmodels.api as sm"
   ]
  },
  {
   "cell_type": "markdown",
   "id": "included-valve",
   "metadata": {},
   "source": [
    "First, we combine the market return data with the individual stock return series."
   ]
  },
  {
   "cell_type": "code",
   "execution_count": null,
   "id": "88e6430e-b75e-4013-8296-a3e34199967a",
   "metadata": {},
   "outputs": [],
   "source": [
    "reg = pd.concat([sp500, rets_dow['MMM']], axis=1).dropna()\n",
    "\n",
    "reg"
   ]
  },
  {
   "cell_type": "markdown",
   "id": "nervous-beast",
   "metadata": {},
   "source": [
    "Then we run a regression, being sure to add a constant term."
   ]
  },
  {
   "cell_type": "code",
   "execution_count": null,
   "id": "related-norman",
   "metadata": {},
   "outputs": [],
   "source": [
    "model = sm.OLS(reg['MMM'], sm.add_constant(reg['Adj Close']))\n",
    "results = model.fit()"
   ]
  },
  {
   "cell_type": "code",
   "execution_count": null,
   "id": "deadly-marketplace",
   "metadata": {},
   "outputs": [],
   "source": [
    "print(results.summary())"
   ]
  },
  {
   "cell_type": "markdown",
   "id": "indirect-grant",
   "metadata": {},
   "source": [
    "The estimate of β is stored in the `.params` property."
   ]
  },
  {
   "cell_type": "code",
   "execution_count": null,
   "id": "authorized-literature",
   "metadata": {},
   "outputs": [],
   "source": [
    "results.params[-1]"
   ]
  },
  {
   "cell_type": "markdown",
   "id": "expired-removal",
   "metadata": {},
   "source": [
    "Now iterate over the DJIA tickers and estimate beta for each stock. Save the estimates in a list.\n",
    "\n",
    "(Note that statsmodels cannot handle missing data, so you have to remove any before attempting to run the regression.)"
   ]
  },
  {
   "cell_type": "code",
   "execution_count": null,
   "id": "2e7f55e1-2d62-4504-9e88-77af6972560d",
   "metadata": {},
   "outputs": [],
   "source": []
  },
  {
   "cell_type": "markdown",
   "id": "joined-brain",
   "metadata": {},
   "source": [
    "Create a `Series` from the list of betas. Set the index of the series to be the columns in `rets_dow` (that is, the ticker symbols)."
   ]
  },
  {
   "cell_type": "code",
   "execution_count": null,
   "id": "9d860db5-6007-437e-a3a5-02311fd7624a",
   "metadata": {},
   "outputs": [],
   "source": []
  },
  {
   "cell_type": "markdown",
   "id": "085f5d6d-64a1-4043-8fb9-5bcede905081",
   "metadata": {},
   "source": [
    "What company as the highest beta? The lowest?"
   ]
  },
  {
   "cell_type": "code",
   "execution_count": null,
   "id": "2219e646-13ba-4276-9938-7d662f68a229",
   "metadata": {},
   "outputs": [],
   "source": []
  },
  {
   "cell_type": "markdown",
   "id": "4f0f22b3-be64-46cc-8549-d032af51f269",
   "metadata": {},
   "source": [
    "Plot a histogram of the betas."
   ]
  },
  {
   "cell_type": "code",
   "execution_count": null,
   "id": "79bedd62-abd0-4700-bc13-f4eb09850bd2",
   "metadata": {},
   "outputs": [],
   "source": []
  },
  {
   "cell_type": "markdown",
   "id": "distributed-strip",
   "metadata": {},
   "source": [
    "For this excercise you used 20 years of data to estimate the betas. What problems might there be with this approach?"
   ]
  },
  {
   "cell_type": "code",
   "execution_count": null,
   "id": "wrapped-figure",
   "metadata": {},
   "outputs": [],
   "source": []
  }
 ],
 "metadata": {
  "kernelspec": {
   "display_name": "Python 3 (ipykernel)",
   "language": "python",
   "name": "python3"
  },
  "language_info": {
   "codemirror_mode": {
    "name": "ipython",
    "version": 3
   },
   "file_extension": ".py",
   "mimetype": "text/x-python",
   "name": "python",
   "nbconvert_exporter": "python",
   "pygments_lexer": "ipython3",
   "version": "3.8.9"
  },
  "toc": {
   "base_numbering": 1,
   "nav_menu": {},
   "number_sections": false,
   "sideBar": true,
   "skip_h1_title": false,
   "title_cell": "Table of Contents",
   "title_sidebar": "Contents",
   "toc_cell": false,
   "toc_position": {},
   "toc_section_display": true,
   "toc_window_display": false
  }
 },
 "nbformat": 4,
 "nbformat_minor": 5
}
