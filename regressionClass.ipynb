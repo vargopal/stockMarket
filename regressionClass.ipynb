{
  "nbformat": 4,
  "nbformat_minor": 0,
  "metadata": {
    "colab": {
      "provenance": [],
      "authorship_tag": "ABX9TyOL50t6VHCsoi4qDX3GxPkj",
      "include_colab_link": true
    },
    "kernelspec": {
      "name": "python3",
      "display_name": "Python 3"
    },
    "language_info": {
      "name": "python"
    }
  },
  "cells": [
    {
      "cell_type": "markdown",
      "metadata": {
        "id": "view-in-github",
        "colab_type": "text"
      },
      "source": [
        "<a href=\"https://colab.research.google.com/github/vargopal/stockMarket/blob/F455--Quant-Finance/regressionClass.ipynb\" target=\"_parent\"><img src=\"https://colab.research.google.com/assets/colab-badge.svg\" alt=\"Open In Colab\"/></a>"
      ]
    },
    {
      "cell_type": "code",
      "execution_count": 2,
      "metadata": {
        "id": "XbPnfIWsV3sY"
      },
      "outputs": [],
      "source": [
        "from numpy.random import default_rng\n",
        "import matplotlib.pyplot as plt\n",
        "import numpy as np\n"
      ]
    },
    {
      "cell_type": "code",
      "source": [
        "rng = default_rng()\n",
        "N = 100\n",
        "x = rng.uniform(high =10, size = (N,1))\n",
        "ε = rng.normal(0, 7, size=(N,1))\n",
        "y = 2 - 100*x + ε"
      ],
      "metadata": {
        "id": "3_dGuVs5c-ps"
      },
      "execution_count": 79,
      "outputs": []
    },
    {
      "cell_type": "code",
      "source": [
        "import statsmodels.api as sm"
      ],
      "metadata": {
        "id": "WFQ0lWssWs8O"
      },
      "execution_count": 58,
      "outputs": []
    },
    {
      "cell_type": "code",
      "source": [
        "X = sm.add_constant(x)\n",
        "X[:5]\n",
        "# Still confused as to why we create the array and use it in the OLS \n",
        "# Does it have to do with the weighting for y"
      ],
      "metadata": {
        "colab": {
          "base_uri": "https://localhost:8080/"
        },
        "id": "2JbIVkbyWwyt",
        "outputId": "e14dc2d0-146a-4cfa-b5bb-fb469e1e85ef"
      },
      "execution_count": 59,
      "outputs": [
        {
          "output_type": "execute_result",
          "data": {
            "text/plain": [
              "array([[1.        , 2.94279156],\n",
              "       [1.        , 5.14007812],\n",
              "       [1.        , 2.33930366],\n",
              "       [1.        , 8.75040193],\n",
              "       [1.        , 5.97454906]])"
            ]
          },
          "metadata": {},
          "execution_count": 59
        }
      ]
    },
    {
      "cell_type": "code",
      "source": [
        "model = sm.OLS(y,X)\n",
        "results = model.fit()"
      ],
      "metadata": {
        "id": "PxfAKoyZXX1A"
      },
      "execution_count": 60,
      "outputs": []
    },
    {
      "cell_type": "code",
      "source": [
        "print(results.summary())"
      ],
      "metadata": {
        "colab": {
          "base_uri": "https://localhost:8080/"
        },
        "id": "vXiAVvg2eAEk",
        "outputId": "8e8aae90-5649-4aab-a38c-2e4a92eb082d"
      },
      "execution_count": 61,
      "outputs": [
        {
          "output_type": "stream",
          "name": "stdout",
          "text": [
            "                            OLS Regression Results                            \n",
            "==============================================================================\n",
            "Dep. Variable:                      y   R-squared:                       1.000\n",
            "Model:                            OLS   Adj. R-squared:                  1.000\n",
            "Method:                 Least Squares   F-statistic:                 2.203e+05\n",
            "Date:                Thu, 16 Feb 2023   Prob (F-statistic):          4.54e-166\n",
            "Time:                        13:54:42   Log-Likelihood:                -324.21\n",
            "No. Observations:                 100   AIC:                             652.4\n",
            "Df Residuals:                      98   BIC:                             657.6\n",
            "Df Model:                           1                                         \n",
            "Covariance Type:            nonrobust                                         \n",
            "==============================================================================\n",
            "                 coef    std err          t      P>|t|      [0.025      0.975]\n",
            "------------------------------------------------------------------------------\n",
            "const          2.9599      1.212      2.442      0.016       0.554       5.366\n",
            "x1          -100.0116      0.213   -469.371      0.000    -100.434     -99.589\n",
            "==============================================================================\n",
            "Omnibus:                        1.859   Durbin-Watson:                   1.920\n",
            "Prob(Omnibus):                  0.395   Jarque-Bera (JB):                1.310\n",
            "Skew:                           0.148   Prob(JB):                        0.519\n",
            "Kurtosis:                       3.476   Cond. No.                         11.3\n",
            "==============================================================================\n",
            "\n",
            "Notes:\n",
            "[1] Standard Errors assume that the covariance matrix of the errors is correctly specified.\n"
          ]
        }
      ]
    },
    {
      "cell_type": "code",
      "source": [
        "model_2 = sm.OLS(y,x)\n",
        "results_2 = model.fit()"
      ],
      "metadata": {
        "id": "qTeH_Xscd5Ky"
      },
      "execution_count": 62,
      "outputs": []
    },
    {
      "cell_type": "code",
      "source": [
        "print(results_2.summary())"
      ],
      "metadata": {
        "colab": {
          "base_uri": "https://localhost:8080/"
        },
        "id": "5vBYzwxOXmcp",
        "outputId": "0d0933d3-78b3-4843-f1e0-dc154d238cd8"
      },
      "execution_count": 63,
      "outputs": [
        {
          "output_type": "stream",
          "name": "stdout",
          "text": [
            "                            OLS Regression Results                            \n",
            "==============================================================================\n",
            "Dep. Variable:                      y   R-squared:                       1.000\n",
            "Model:                            OLS   Adj. R-squared:                  1.000\n",
            "Method:                 Least Squares   F-statistic:                 2.203e+05\n",
            "Date:                Thu, 16 Feb 2023   Prob (F-statistic):          4.54e-166\n",
            "Time:                        13:54:47   Log-Likelihood:                -324.21\n",
            "No. Observations:                 100   AIC:                             652.4\n",
            "Df Residuals:                      98   BIC:                             657.6\n",
            "Df Model:                           1                                         \n",
            "Covariance Type:            nonrobust                                         \n",
            "==============================================================================\n",
            "                 coef    std err          t      P>|t|      [0.025      0.975]\n",
            "------------------------------------------------------------------------------\n",
            "const          2.9599      1.212      2.442      0.016       0.554       5.366\n",
            "x1          -100.0116      0.213   -469.371      0.000    -100.434     -99.589\n",
            "==============================================================================\n",
            "Omnibus:                        1.859   Durbin-Watson:                   1.920\n",
            "Prob(Omnibus):                  0.395   Jarque-Bera (JB):                1.310\n",
            "Skew:                           0.148   Prob(JB):                        0.519\n",
            "Kurtosis:                       3.476   Cond. No.                         11.3\n",
            "==============================================================================\n",
            "\n",
            "Notes:\n",
            "[1] Standard Errors assume that the covariance matrix of the errors is correctly specified.\n"
          ]
        }
      ]
    },
    {
      "cell_type": "markdown",
      "source": [
        "Results 2 looks better due to a higher absolute value t-score and higher R-squared"
      ],
      "metadata": {
        "id": "lPmFWkhAeUVR"
      }
    },
    {
      "cell_type": "code",
      "source": [
        "results.params,results.bse, results.tvalues, results.pvalues"
      ],
      "metadata": {
        "colab": {
          "base_uri": "https://localhost:8080/"
        },
        "id": "4aGm-5IpbrDp",
        "outputId": "30d0f3e2-ac4e-4fe1-d462-5adf1a03aaab"
      },
      "execution_count": 16,
      "outputs": [
        {
          "output_type": "execute_result",
          "data": {
            "text/plain": [
              "(array([ 2.25006151, -3.21306049]),\n",
              " array([1.39446419, 0.22687479]),\n",
              " array([  1.61356708, -14.16226327]),\n",
              " array([1.09836933e-01, 1.91579434e-25]))"
            ]
          },
          "metadata": {},
          "execution_count": 16
        }
      ]
    },
    {
      "cell_type": "code",
      "source": [
        "results.resid\n",
        "sum(results.resid)"
      ],
      "metadata": {
        "colab": {
          "base_uri": "https://localhost:8080/"
        },
        "id": "43VWIkMkcGKq",
        "outputId": "d39dd9d4-800d-4bdc-8122-cc991bc53818"
      },
      "execution_count": 18,
      "outputs": [
        {
          "output_type": "execute_result",
          "data": {
            "text/plain": [
              "2.1671553440683056e-13"
            ]
          },
          "metadata": {},
          "execution_count": 18
        }
      ]
    },
    {
      "cell_type": "code",
      "source": [
        "import scipy.stats as scs\n",
        "scs.skew(results.resid)"
      ],
      "metadata": {
        "colab": {
          "base_uri": "https://localhost:8080/"
        },
        "id": "mIFKo_hPcZZa",
        "outputId": "c359fdba-a704-4aaf-aeef-edc441439196"
      },
      "execution_count": 19,
      "outputs": [
        {
          "output_type": "execute_result",
          "data": {
            "text/plain": [
              "-0.24898612136624354"
            ]
          },
          "metadata": {},
          "execution_count": 19
        }
      ]
    },
    {
      "cell_type": "code",
      "source": [
        "fig, ax = plt.subplots(figsize=(12,9))\n",
        "\n",
        "ax.plot(x, y, 'o')\n",
        "\n",
        "# calculate predicted values\n",
        "xvals = np.arange(-3,13)\n",
        "y_hat = results.predict(sm.add_constant(xvals))\n",
        "\n",
        "ax.plot(xvals, y_hat, lw=3)\n",
        "\n",
        "ax.set_xlabel('X')\n",
        "ax.set_ylabel('Y')\n",
        "plt.show()"
      ],
      "metadata": {
        "colab": {
          "base_uri": "https://localhost:8080/",
          "height": 551
        },
        "id": "X3pmGdThct6X",
        "outputId": "6b02ed08-67df-4291-c40e-4a551c0ef979"
      },
      "execution_count": 23,
      "outputs": [
        {
          "output_type": "display_data",
          "data": {
            "text/plain": [
              "<Figure size 864x648 with 1 Axes>"
            ],
            "image/png": "[encoded data removed]"
          },
          "metadata": {
            "needs_background": "light"
          }
        }
      ]
    },
    {
      "cell_type": "markdown",
      "source": [
        "sklearn part of the module"
      ],
      "metadata": {
        "id": "0uCWjO3MhVNJ"
      }
    },
    {
      "cell_type": "code",
      "source": [
        "from sklearn.linear_model import LinearRegression"
      ],
      "metadata": {
        "id": "fmNLOxA4hZ5f"
      },
      "execution_count": 64,
      "outputs": []
    },
    {
      "cell_type": "code",
      "source": [
        "lin_reg = LinearRegression()\n",
        "lin_reg.fit(x,y)"
      ],
      "metadata": {
        "colab": {
          "base_uri": "https://localhost:8080/"
        },
        "id": "BAHwjtWDhezL",
        "outputId": "7a50b417-da78-47fc-dead-b32821d56285"
      },
      "execution_count": 77,
      "outputs": [
        {
          "output_type": "execute_result",
          "data": {
            "text/plain": [
              "LinearRegression()"
            ]
          },
          "metadata": {},
          "execution_count": 77
        }
      ]
    },
    {
      "cell_type": "code",
      "source": [
        "lin_reg.intercept_ "
      ],
      "metadata": {
        "colab": {
          "base_uri": "https://localhost:8080/"
        },
        "id": "N54DVojghlO5",
        "outputId": "02154533-f555-4127-c258-369db9d160d1"
      },
      "execution_count": 76,
      "outputs": [
        {
          "output_type": "execute_result",
          "data": {
            "text/plain": [
              "array([2.95990617])"
            ]
          },
          "metadata": {},
          "execution_count": 76
        }
      ]
    },
    {
      "cell_type": "code",
      "source": [
        "lin_reg.coef_"
      ],
      "metadata": {
        "colab": {
          "base_uri": "https://localhost:8080/"
        },
        "id": "TlmJ3_oFhtmb",
        "outputId": "9dd1f81a-2495-4a75-b504-ac502be4a0a9"
      },
      "execution_count": 75,
      "outputs": [
        {
          "output_type": "execute_result",
          "data": {
            "text/plain": [
              "array([[-100.01155978]])"
            ]
          },
          "metadata": {},
          "execution_count": 75
        }
      ]
    },
    {
      "cell_type": "code",
      "source": [
        "lin_reg.score(x,y)"
      ],
      "metadata": {
        "colab": {
          "base_uri": "https://localhost:8080/"
        },
        "id": "2-hc2rUihwrW",
        "outputId": "018a3aba-a8e0-4bfb-d4f4-58d3479ee872"
      },
      "execution_count": 83,
      "outputs": [
        {
          "output_type": "execute_result",
          "data": {
            "text/plain": [
              "-2.5733042847181244"
            ]
          },
          "metadata": {},
          "execution_count": 83
        }
      ]
    },
    {
      "cell_type": "markdown",
      "source": [
        "Non linear model"
      ],
      "metadata": {
        "id": "oH2AuP5hiFxk"
      }
    },
    {
      "cell_type": "code",
      "source": [],
      "metadata": {
        "id": "jAGbFUh8iI7z"
      },
      "execution_count": null,
      "outputs": []
    }
  ]
}