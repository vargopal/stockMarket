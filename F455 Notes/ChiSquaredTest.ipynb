{
  "cells": [
    {
      "cell_type": "code",
      "execution_count": null,
      "metadata": {},
      "outputs": [],
      "source": []
    },
    {
      "cell_type": "markdown",
      "metadata": {
        "colab_type": "text",
        "id": "view-in-github"
      },
      "source": [
        "<a href=\"https://colab.research.google.com/github/vargopal/stockMarket/blob/F455--Quant-Finance/ChiSquaredTest.ipynb\" target=\"_parent\"><img src=\"https://colab.research.google.com/assets/colab-badge.svg\" alt=\"Open In Colab\"/></a>"
      ]
    },
    {
      "cell_type": "code",
      "execution_count": 1,
      "metadata": {
        "id": "Ma1b-GVUtXDO"
      },
      "outputs": [],
      "source": [
        "import numpy as np\n",
        "import scipy.stats as scs\n"
      ]
    },
    {
      "cell_type": "markdown",
      "metadata": {
        "id": "rRr_YK747sZf"
      },
      "source": [
        "Chi-Squared Test"
      ]
    },
    {
      "cell_type": "code",
      "execution_count": 13,
      "metadata": {
        "colab": {
          "base_uri": "https://localhost:8080/"
        },
        "id": "gq4_1-eR_VAa",
        "outputId": "4631ee81-14c3-4fcb-d78b-ff64d099fc04"
      },
      "outputs": [
        {
          "data": {
            "text/plain": [
              "5007.432526151193"
            ]
          },
          "execution_count": 13,
          "metadata": {},
          "output_type": "execute_result"
        }
      ],
      "source": [
        "rng = np.random.default_rng(1)\n",
        "n = 500\n",
        "k = 10\n",
        "\n",
        "\n",
        "draws = rng.standard_normal((n,k))\n",
        "\n",
        "(draws**2).sum()"
      ]
    },
    {
      "cell_type": "code",
      "execution_count": 15,
      "metadata": {
        "colab": {
          "base_uri": "https://localhost:8080/"
        },
        "id": "5T3QmTUVB6ND",
        "outputId": "146b9934-e223-4be5-9bed-72fc1c3b58f7"
      },
      "outputs": [
        {
          "data": {
            "text/plain": [
              "(10.014865052302389, 20.79719890790139)"
            ]
          },
          "execution_count": 15,
          "metadata": {},
          "output_type": "execute_result"
        }
      ],
      "source": [
        "x = (draws**2).sum(axis= 1)\n",
        "x.mean(), x.var()"
      ]
    },
    {
      "cell_type": "code",
      "execution_count": 17,
      "metadata": {
        "id": "GSfFOcLzDVQ4"
      },
      "outputs": [],
      "source": [
        "import pandas as pd"
      ]
    },
    {
      "cell_type": "code",
      "execution_count": 18,
      "metadata": {
        "colab": {
          "base_uri": "https://localhost:8080/",
          "height": 283
        },
        "id": "6fxwcrFwDZHx",
        "outputId": "2849e130-84a1-4242-8a58-e07dbb365973"
      },
      "outputs": [
        {
          "data": {
            "text/plain": [
              "<matplotlib.axes._subplots.AxesSubplot at 0x7fa6ee16fc10>"
            ]
          },
          "execution_count": 18,
          "metadata": {},
          "output_type": "execute_result"
        },
        {
          "data": {
            "image/png": "[encoded data removed]",
            "text/plain": [
              "<Figure size 432x288 with 1 Axes>"
            ]
          },
          "metadata": {
            "needs_background": "light"
          },
          "output_type": "display_data"
        }
      ],
      "source": [
        "pd.Series(x).plot.hist(bins =  25)"
      ]
    },
    {
      "cell_type": "markdown",
      "metadata": {
        "id": "IX_8pQJo7v53"
      },
      "source": [
        "F-Test Version"
      ]
    },
    {
      "cell_type": "code",
      "execution_count": 19,
      "metadata": {
        "colab": {
          "base_uri": "https://localhost:8080/"
        },
        "id": "eqyzJ57XCUpb",
        "outputId": "691fb8f4-5e2d-40b0-b480-f63c1db23427"
      },
      "outputs": [
        {
          "data": {
            "text/plain": [
              "7438.226190196676"
            ]
          },
          "execution_count": 19,
          "metadata": {},
          "output_type": "execute_result"
        }
      ],
      "source": [
        "rng = np.random.default_rng(1)\n",
        "rng = np.random.default_rng(1)\n",
        "n = 500\n",
        "k = 15\n",
        "\n",
        "draws = rng.standard_normal((n,k))\n",
        "\n",
        "(draws**2).sum()"
      ]
    }
  ],
  "metadata": {
    "colab": {
      "authorship_tag": "ABX9TyOsecgZcLalyXhHSnMWCNcC",
      "include_colab_link": true,
      "provenance": []
    },
    "kernelspec": {
      "display_name": "Python 3",
      "name": "python3"
    },
    "language_info": {
      "name": "python"
    }
  },
  "nbformat": 4,
  "nbformat_minor": 0
}
