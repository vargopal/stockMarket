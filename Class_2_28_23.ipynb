{
  "nbformat": 4,
  "nbformat_minor": 0,
  "metadata": {
    "colab": {
      "provenance": [],
      "authorship_tag": "ABX9TyMVDd9vCHYHTY21rtQbcx5o",
      "include_colab_link": true
    },
    "kernelspec": {
      "name": "python3",
      "display_name": "Python 3"
    },
    "language_info": {
      "name": "python"
    }
  },
  "cells": [
    {
      "cell_type": "markdown",
      "metadata": {
        "id": "view-in-github",
        "colab_type": "text"
      },
      "source": [
        "<a href=\"https://colab.research.google.com/github/vargopal/stockMarket/blob/F455--Quant-Finance/Class_2_28_23.ipynb\" target=\"_parent\"><img src=\"https://colab.research.google.com/assets/colab-badge.svg\" alt=\"Open In Colab\"/></a>"
      ]
    },
    {
      "cell_type": "code",
      "execution_count": 1,
      "metadata": {
        "id": "Xl6fhGO5M_hc"
      },
      "outputs": [],
      "source": [
        "import numpy as np\n",
        "\n",
        "rng = np.random.default_rng(8675309)\n",
        "\n",
        "import matplotlib.pyplot as plt\n",
        "import seaborn as sns"
      ]
    },
    {
      "cell_type": "markdown",
      "source": [
        "For a large portfolio (enough assets), the variance of individual assets tells us nothing. It tells us that the covariance of the different asset.\n",
        "\n",
        "Volatility of S&P 500 represents the average covariance of the index.\n"
      ],
      "metadata": {
        "id": "yk0NcCq8N2_y"
      }
    },
    {
      "cell_type": "code",
      "source": [
        "# Expected return vector\n",
        "μ = np.array([0.1, 0.2])\n",
        "\n",
        "# Volatilities and correlation\n",
        "σ1 = 0.2\n",
        "σ2 = 0.3\n",
        "ρ = 0.2\n",
        "\n",
        "# Calculate Σ matrix\n",
        "σ12 = ρ * σ1 * σ2\n",
        "Σ = np.array([[σ1**2, σ12],\n",
        "              [σ12,   σ2**2]])\n",
        "\n",
        "Σ"
      ],
      "metadata": {
        "colab": {
          "base_uri": "https://localhost:8080/"
        },
        "id": "ODExNHwMRFaD",
        "outputId": "ea1ea704-8d56-4184-a2ca-b581e5bef817"
      },
      "execution_count": 3,
      "outputs": [
        {
          "output_type": "execute_result",
          "data": {
            "text/plain": [
              "array([[0.04 , 0.012],\n",
              "       [0.012, 0.09 ]])"
            ]
          },
          "metadata": {},
          "execution_count": 3
        }
      ]
    },
    {
      "cell_type": "markdown",
      "source": [
        "Most stocks in the market have a correlation of 0.3. Rare to find a correlation with 0.\n",
        "\n",
        "Hedging is a tool to reduce volatility and raise expected return.\n",
        "\n",
        "Looking at the Ρ = -1 situation, why is the portfolio weighting 60% 40%\n"
      ],
      "metadata": {
        "id": "Tb94gFwOSfBz"
      }
    },
    {
      "cell_type": "markdown",
      "source": [
        "For exam:\n",
        "Focus a little bit on the Math Background\n",
        "Study key fact\n",
        "- Remind about model of prices\n",
        "- Probability and distribution\n",
        "- Spend two classes talking about something\n",
        "- Understand what the code does"
      ],
      "metadata": {
        "id": "UvNPyHQ_X4n7"
      }
    }
  ]
}