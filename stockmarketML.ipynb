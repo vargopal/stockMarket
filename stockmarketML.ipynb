{
  "nbformat": 4,
  "nbformat_minor": 0,
  "metadata": {
    "colab": {
      "provenance": [],
      "authorship_tag": "ABX9TyP86kzQBAyjDKNUt9QmjQxt",
      "include_colab_link": true
    },
    "kernelspec": {
      "name": "python3",
      "display_name": "Python 3"
    },
    "language_info": {
      "name": "python"
    }
  },
  "cells": [
    {
      "cell_type": "markdown",
      "metadata": {
        "id": "view-in-github",
        "colab_type": "text"
      },
      "source": [
        "<a href=\"https://colab.research.google.com/github/vargopal/stockMarket/blob/F455--Quant-Finance/stockmarketML.ipynb\" target=\"_parent\"><img src=\"https://colab.research.google.com/assets/colab-badge.svg\" alt=\"Open In Colab\"/></a>"
      ]
    },
    {
      "cell_type": "code",
      "execution_count": 4,
      "metadata": {
        "colab": {
          "base_uri": "https://localhost:8080/"
        },
        "id": "LdaGuhalA7ic",
        "outputId": "053b2137-fc0a-45e0-e9a8-06b3aa2a67b5"
      },
      "outputs": [
        {
          "output_type": "stream",
          "name": "stdout",
          "text": [
            "2.11.0\n"
          ]
        }
      ],
      "source": [
        "#pip install --upgrade tensorflow\n",
        "import tensorflow as tf\n",
        "print(tf.__version__)"
      ]
    },
    {
      "cell_type": "code",
      "source": [
        "from google.colab import drive\n",
        "drive.mount('/gdrive')"
      ],
      "metadata": {
        "colab": {
          "base_uri": "https://localhost:8080/"
        },
        "id": "Os_lbI23EhxQ",
        "outputId": "5892b691-a99d-4bc0-b5fd-d08b10dc0a62"
      },
      "execution_count": 5,
      "outputs": [
        {
          "output_type": "stream",
          "name": "stdout",
          "text": [
            "Mounted at /gdrive\n"
          ]
        }
      ]
    },
    {
      "cell_type": "code",
      "source": [
        "import pandas as pd\n",
        "import numpy as np\n",
        "\n",
        "# import dataset\n",
        "fb_complete_data = pd.read_csv(\"/gdrive/My Drive/Colab Notebooks/META_Training.csv\")"
      ],
      "metadata": {
        "id": "9XaRZI6zLlDh"
      },
      "execution_count": 8,
      "outputs": []
    },
    {
      "cell_type": "code",
      "source": [
        "fb_complete_data.head()\n",
        "\n",
        "#filtering open column\n",
        "fb_training_processed = fb_complete_data[['Open']].values"
      ],
      "metadata": {
        "id": "UJODzkuBNBU6"
      },
      "execution_count": 17,
      "outputs": []
    },
    {
      "cell_type": "code",
      "source": [
        "# scaling features\n",
        "from sklearn.preprocessing import MinMaxScaler\n",
        "scaler = MinMaxScaler(feature_range = (0,1))\n",
        "# still not entirely sure what the MinMaxScaler does but it essentially is placing the value as a decimal on a range between 0 and 1 representing where it is in comparison to other values\n",
        "fb_training_scaled = scaler.fit_transform(fb_training_processed)\n",
        "\n",
        "len(fb_training_scaled)"
      ],
      "metadata": {
        "colab": {
          "base_uri": "https://localhost:8080/"
        },
        "id": "4WdwIAZQO96F",
        "outputId": "60b773d5-5093-4722-a381-8cdb1916aedf"
      },
      "execution_count": 22,
      "outputs": [
        {
          "output_type": "execute_result",
          "data": {
            "text/plain": [
              "251"
            ]
          },
          "metadata": {},
          "execution_count": 22
        }
      ]
    },
    {
      "cell_type": "code",
      "source": [
        "fb_training_features = []\n",
        "fb_training_labels = []\n",
        "\n",
        "# I tweaked the training features containing data of the last 30 days as opposed to 60 in the book\n",
        "# Training labels should contain data of the 31st day\n",
        "\n",
        "# This for loop essentially takes a value i and essentially gets the 30 values prior to it so it can predict that i value in the model\n",
        "for i in range(30,len(fb_training_scaled)):\n",
        "  fb_training_features.append(fb_training_scaled[i-30:i,0])\n",
        "  fb_training_labels.append(fb_training_scaled[i,0])\n"
      ],
      "metadata": {
        "id": "WO3OinI0RMrX"
      },
      "execution_count": 27,
      "outputs": []
    },
    {
      "cell_type": "code",
      "source": [
        "# Converting data into numpy arrays\n",
        "X_train = np.array(fb_training_features)\n",
        "y_train = np.array(fb_training_labels)\n",
        "\n",
        "print(X_train.shape, y_train.shape)\n",
        "\n",
        "# Converting data into 3D shape\n",
        "X_train = np.reshape(X_train, (X_train.shape[0], X_train.shape[1],1))\n"
      ],
      "metadata": {
        "colab": {
          "base_uri": "https://localhost:8080/"
        },
        "id": "zp3kHjO9T7NH",
        "outputId": "2c4afe87-0f51-4762-f957-81f320e77b24"
      },
      "execution_count": 38,
      "outputs": [
        {
          "output_type": "stream",
          "name": "stdout",
          "text": [
            "(221, 30) (221,)\n"
          ]
        }
      ]
    },
    {
      "cell_type": "code",
      "source": [
        "# importing packages, need to learn what some of them mean\n",
        "import matplotlib.pyplot as plt\n",
        "from tensorflow.keras.layers import Input, Activation, Dense, Flatten, Dropout, Flatten, LSTM\n",
        "from tensorflow.keras.models import Model"
      ],
      "metadata": {
        "id": "otJpaxtBVdm3"
      },
      "execution_count": 40,
      "outputs": []
    },
    {
      "cell_type": "code",
      "source": [
        "# defining the LSTM network\n",
        "\n",
        "input_layer = Input(shape = (X_train.shape[1],1))\n",
        "lstm1 = LSTM(100, activation = 'relu', return_sequences=True)(input_layer)"
      ],
      "metadata": {
        "id": "ElG4lwslV1UL"
      },
      "execution_count": 41,
      "outputs": []
    }
  ]
}