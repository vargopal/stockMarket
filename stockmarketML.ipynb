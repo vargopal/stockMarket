{
  "nbformat": 4,
  "nbformat_minor": 0,
  "metadata": {
    "colab": {
      "provenance": [],
      "mount_file_id": "1dDBTymydpZleATaqNC4nknDE2BGXa9Jc",
      "authorship_tag": "ABX9TyMa2HN/KSD5WjqYcZ+CI3Jn",
      "include_colab_link": true
    },
    "kernelspec": {
      "name": "python3",
      "display_name": "Python 3"
    },
    "language_info": {
      "name": "python"
    }
  },
  "cells": [
    {
      "cell_type": "markdown",
      "metadata": {
        "id": "view-in-github",
        "colab_type": "text"
      },
      "source": [
        "<a href=\"https://colab.research.google.com/github/vargopal/stockMarket/blob/F455--Quant-Finance/stockmarketML.ipynb\" target=\"_parent\"><img src=\"https://colab.research.google.com/assets/colab-badge.svg\" alt=\"Open In Colab\"/></a>"
      ]
    },
    {
      "cell_type": "code",
      "execution_count": 74,
      "metadata": {
        "colab": {
          "base_uri": "https://localhost:8080/"
        },
        "id": "LdaGuhalA7ic",
        "outputId": "46924369-1bea-4755-c63e-bbc53898989a"
      },
      "outputs": [
        {
          "output_type": "stream",
          "name": "stdout",
          "text": [
            "2.12.0\n"
          ]
        }
      ],
      "source": [
        "#pip install --upgrade tensorflow\n",
        "import tensorflow as tf\n",
        "print(tf.__version__)"
      ]
    },
    {
      "cell_type": "code",
      "source": [
        "from google.colab import drive\n",
        "drive.mount('/gdrive')"
      ],
      "metadata": {
        "colab": {
          "base_uri": "https://localhost:8080/"
        },
        "id": "Os_lbI23EhxQ",
        "outputId": "67bcabc3-b540-468f-e37c-cb91467da339"
      },
      "execution_count": 75,
      "outputs": [
        {
          "output_type": "stream",
          "name": "stdout",
          "text": [
            "Mounted at /gdrive\n"
          ]
        }
      ]
    },
    {
      "cell_type": "code",
      "source": [
        "import pandas as pd\n",
        "import numpy as np\n",
        "\n",
        "# import dataset\n",
        "fb_complete_data = pd.read_csv(\"/gdrive/My Drive/Colab Notebooks/META_data.csv\")"
      ],
      "metadata": {
        "id": "9XaRZI6zLlDh"
      },
      "execution_count": 76,
      "outputs": []
    },
    {
      "cell_type": "code",
      "source": [
        "fb_complete_data.head()"
      ],
      "metadata": {
        "colab": {
          "base_uri": "https://localhost:8080/",
          "height": 206
        },
        "id": "JhsY0XKm_exf",
        "outputId": "f2f0bd03-91b7-4354-dc54-7ef5b277dd1c"
      },
      "execution_count": 98,
      "outputs": [
        {
          "output_type": "execute_result",
          "data": {
            "text/plain": [
              "         Date       Open       High        Low      Close  Adj Close    Volume\n",
              "0  2015-01-02  78.580002  78.930000  77.699997  78.449997  78.449997  18177500\n",
              "1  2015-01-05  77.980003  79.250000  76.860001  77.190002  77.190002  26452200\n",
              "2  2015-01-06  77.230003  77.589996  75.360001  76.150002  76.150002  27399300\n",
              "3  2015-01-07  76.760002  77.360001  75.820000  76.150002  76.150002  22045300\n",
              "4  2015-01-08  76.739998  78.230003  76.080002  78.180000  78.180000  23961000"
            ],
            "text/html": [
              "\n",
              "  <div id=\"df-0dd426bb-53cd-49b8-8f11-1c66320999ba\">\n",
              "    <div class=\"colab-df-container\">\n",
              "      <div>\n",
              "<style scoped>\n",
              "    .dataframe tbody tr th:only-of-type {\n",
              "        vertical-align: middle;\n",
              "    }\n",
              "\n",
              "    .dataframe tbody tr th {\n",
              "        vertical-align: top;\n",
              "    }\n",
              "\n",
              "    .dataframe thead th {\n",
              "        text-align: right;\n",
              "    }\n",
              "</style>\n",
              "<table border=\"1\" class=\"dataframe\">\n",
              "  <thead>\n",
              "    <tr style=\"text-align: right;\">\n",
              "      <th></th>\n",
              "      <th>Date</th>\n",
              "      <th>Open</th>\n",
              "      <th>High</th>\n",
              "      <th>Low</th>\n",
              "      <th>Close</th>\n",
              "      <th>Adj Close</th>\n",
              "      <th>Volume</th>\n",
              "    </tr>\n",
              "  </thead>\n",
              "  <tbody>\n",
              "    <tr>\n",
              "      <th>0</th>\n",
              "      <td>2015-01-02</td>\n",
              "      <td>78.580002</td>\n",
              "      <td>78.930000</td>\n",
              "      <td>77.699997</td>\n",
              "      <td>78.449997</td>\n",
              "      <td>78.449997</td>\n",
              "      <td>18177500</td>\n",
              "    </tr>\n",
              "    <tr>\n",
              "      <th>1</th>\n",
              "      <td>2015-01-05</td>\n",
              "      <td>77.980003</td>\n",
              "      <td>79.250000</td>\n",
              "      <td>76.860001</td>\n",
              "      <td>77.190002</td>\n",
              "      <td>77.190002</td>\n",
              "      <td>26452200</td>\n",
              "    </tr>\n",
              "    <tr>\n",
              "      <th>2</th>\n",
              "      <td>2015-01-06</td>\n",
              "      <td>77.230003</td>\n",
              "      <td>77.589996</td>\n",
              "      <td>75.360001</td>\n",
              "      <td>76.150002</td>\n",
              "      <td>76.150002</td>\n",
              "      <td>27399300</td>\n",
              "    </tr>\n",
              "    <tr>\n",
              "      <th>3</th>\n",
              "      <td>2015-01-07</td>\n",
              "      <td>76.760002</td>\n",
              "      <td>77.360001</td>\n",
              "      <td>75.820000</td>\n",
              "      <td>76.150002</td>\n",
              "      <td>76.150002</td>\n",
              "      <td>22045300</td>\n",
              "    </tr>\n",
              "    <tr>\n",
              "      <th>4</th>\n",
              "      <td>2015-01-08</td>\n",
              "      <td>76.739998</td>\n",
              "      <td>78.230003</td>\n",
              "      <td>76.080002</td>\n",
              "      <td>78.180000</td>\n",
              "      <td>78.180000</td>\n",
              "      <td>23961000</td>\n",
              "    </tr>\n",
              "  </tbody>\n",
              "</table>\n",
              "</div>\n",
              "      <button class=\"colab-df-convert\" onclick=\"convertToInteractive('df-0dd426bb-53cd-49b8-8f11-1c66320999ba')\"\n",
              "              title=\"Convert this dataframe to an interactive table.\"\n",
              "              style=\"display:none;\">\n",
              "        \n",
              "  <svg xmlns=\"http://www.w3.org/2000/svg\" height=\"24px\"viewBox=\"0 0 24 24\"\n",
              "       width=\"24px\">\n",
              "    <path d=\"M0 0h24v24H0V0z\" fill=\"none\"/>\n",
              "    <path d=\"M18.56 5.44l.94 2.06.94-2.06 2.06-.94-2.06-.94-.94-2.06-.94 2.06-2.06.94zm-11 1L8.5 8.5l.94-2.06 2.06-.94-2.06-.94L8.5 2.5l-.94 2.06-2.06.94zm10 10l.94 2.06.94-2.06 2.06-.94-2.06-.94-.94-2.06-.94 2.06-2.06.94z\"/><path d=\"M17.41 7.96l-1.37-1.37c-.4-.4-.92-.59-1.43-.59-.52 0-1.04.2-1.43.59L10.3 9.45l-7.72 7.72c-.78.78-.78 2.05 0 2.83L4 21.41c.39.39.9.59 1.41.59.51 0 1.02-.2 1.41-.59l7.78-7.78 2.81-2.81c.8-.78.8-2.07 0-2.86zM5.41 20L4 18.59l7.72-7.72 1.47 1.35L5.41 20z\"/>\n",
              "  </svg>\n",
              "      </button>\n",
              "      \n",
              "  <style>\n",
              "    .colab-df-container {\n",
              "      display:flex;\n",
              "      flex-wrap:wrap;\n",
              "      gap: 12px;\n",
              "    }\n",
              "\n",
              "    .colab-df-convert {\n",
              "      background-color: #E8F0FE;\n",
              "      border: none;\n",
              "      border-radius: 50%;\n",
              "      cursor: pointer;\n",
              "      display: none;\n",
              "      fill: #1967D2;\n",
              "      height: 32px;\n",
              "      padding: 0 0 0 0;\n",
              "      width: 32px;\n",
              "    }\n",
              "\n",
              "    .colab-df-convert:hover {\n",
              "      background-color: #E2EBFA;\n",
              "      box-shadow: 0px 1px 2px rgba(60, 64, 67, 0.3), 0px 1px 3px 1px rgba(60, 64, 67, 0.15);\n",
              "      fill: #174EA6;\n",
              "    }\n",
              "\n",
              "    [theme=dark] .colab-df-convert {\n",
              "      background-color: #3B4455;\n",
              "      fill: #D2E3FC;\n",
              "    }\n",
              "\n",
              "    [theme=dark] .colab-df-convert:hover {\n",
              "      background-color: #434B5C;\n",
              "      box-shadow: 0px 1px 3px 1px rgba(0, 0, 0, 0.15);\n",
              "      filter: drop-shadow(0px 1px 2px rgba(0, 0, 0, 0.3));\n",
              "      fill: #FFFFFF;\n",
              "    }\n",
              "  </style>\n",
              "\n",
              "      <script>\n",
              "        const buttonEl =\n",
              "          document.querySelector('#df-0dd426bb-53cd-49b8-8f11-1c66320999ba button.colab-df-convert');\n",
              "        buttonEl.style.display =\n",
              "          google.colab.kernel.accessAllowed ? 'block' : 'none';\n",
              "\n",
              "        async function convertToInteractive(key) {\n",
              "          const element = document.querySelector('#df-0dd426bb-53cd-49b8-8f11-1c66320999ba');\n",
              "          const dataTable =\n",
              "            await google.colab.kernel.invokeFunction('convertToInteractive',\n",
              "                                                     [key], {});\n",
              "          if (!dataTable) return;\n",
              "\n",
              "          const docLinkHtml = 'Like what you see? Visit the ' +\n",
              "            '<a target=\"_blank\" href=https://colab.research.google.com/notebooks/data_table.ipynb>data table notebook</a>'\n",
              "            + ' to learn more about interactive tables.';\n",
              "          element.innerHTML = '';\n",
              "          dataTable['output_type'] = 'display_data';\n",
              "          await google.colab.output.renderOutput(dataTable, element);\n",
              "          const docLink = document.createElement('div');\n",
              "          docLink.innerHTML = docLinkHtml;\n",
              "          element.appendChild(docLink);\n",
              "        }\n",
              "      </script>\n",
              "    </div>\n",
              "  </div>\n",
              "  "
            ]
          },
          "metadata": {},
          "execution_count": 98
        }
      ]
    },
    {
      "cell_type": "code",
      "source": [
        "#filtering open column\n",
        "fb_training_processed = fb_complete_data[['Open']].values\n",
        "\n",
        "len(fb_training_processed)"
      ],
      "metadata": {
        "id": "UJODzkuBNBU6",
        "colab": {
          "base_uri": "https://localhost:8080/"
        },
        "outputId": "28f17bf0-12f1-47b1-ce3a-10b7344caa27"
      },
      "execution_count": 78,
      "outputs": [
        {
          "output_type": "execute_result",
          "data": {
            "text/plain": [
              "1257"
            ]
          },
          "metadata": {},
          "execution_count": 78
        }
      ]
    },
    {
      "cell_type": "code",
      "source": [
        "# scaling features\n",
        "from sklearn.preprocessing import MinMaxScaler\n",
        "scaler = MinMaxScaler(feature_range = (0,1))\n",
        "# still not entirely sure what the MinMaxScaler does but it essentially is placing the value as a decimal on a range between 0 and 1 representing where it is in comparison to other values\n",
        "fb_training_scaled = scaler.fit_transform(fb_training_processed)\n",
        "\n",
        "len(fb_training_scaled)"
      ],
      "metadata": {
        "colab": {
          "base_uri": "https://localhost:8080/"
        },
        "id": "4WdwIAZQO96F",
        "outputId": "7ec71c98-ec9a-4c4e-ef86-043fbd53afaa"
      },
      "execution_count": 79,
      "outputs": [
        {
          "output_type": "execute_result",
          "data": {
            "text/plain": [
              "1257"
            ]
          },
          "metadata": {},
          "execution_count": 79
        }
      ]
    },
    {
      "cell_type": "code",
      "source": [
        "fb_training_features = []\n",
        "fb_training_labels = []\n",
        "\n",
        "\n",
        "for i in range(60,len(fb_training_scaled)):\n",
        "  fb_training_features.append(fb_training_scaled[i-60:i,0])\n",
        "  fb_training_labels.append(fb_training_scaled[i,0])"
      ],
      "metadata": {
        "id": "WO3OinI0RMrX"
      },
      "execution_count": 80,
      "outputs": []
    },
    {
      "cell_type": "code",
      "source": [
        "# Converting data into numpy arrays\n",
        "X_train = np.array(fb_training_features)\n",
        "y_train = np.array(fb_training_labels)\n",
        "\n",
        "print(X_train.shape, y_train.shape)\n",
        "\n",
        "\n"
      ],
      "metadata": {
        "colab": {
          "base_uri": "https://localhost:8080/"
        },
        "id": "zp3kHjO9T7NH",
        "outputId": "7dddc0c2-e72d-4fa3-a55b-b2424ea581f1"
      },
      "execution_count": 104,
      "outputs": [
        {
          "output_type": "stream",
          "name": "stdout",
          "text": [
            "(1197, 60) (1197,)\n"
          ]
        }
      ]
    },
    {
      "cell_type": "code",
      "source": [
        "# Converting data into 3D shape\n",
        "X_train = np.reshape(X_train, (X_train.shape[0], X_train.shape[1],1))"
      ],
      "metadata": {
        "id": "ybTDrQXWGKMZ"
      },
      "execution_count": 105,
      "outputs": []
    },
    {
      "cell_type": "code",
      "source": [
        "# importing packages, need to learn what some of them mean\n",
        "import matplotlib.pyplot as plt\n",
        "from tensorflow.keras.layers import Input, Activation, Dense, Flatten, Dropout, Flatten, LSTM\n",
        "from tensorflow.keras.models import Model"
      ],
      "metadata": {
        "id": "otJpaxtBVdm3"
      },
      "execution_count": 83,
      "outputs": []
    },
    {
      "cell_type": "code",
      "source": [
        "# defining the LSTM network\n",
        "# 4 LSTM layers with 100 nnodes each\n",
        "# There is a dropout layer to avoid overfitting\n",
        "input_layer = Input(shape = (X_train.shape[1],1))\n",
        "lstm1 = LSTM(100, activation = 'relu', return_sequences=True)(input_layer)\n",
        "\n",
        "do1 = Dropout(0.2)(lstm1)\n",
        "lstm2 = LSTM(100, activation = 'relu', return_sequences= True)(do1)\n",
        "\n",
        "do2 = Dropout(0.2)(lstm2)\n",
        "lstm3 = LSTM(100, activation = 'relu', return_sequences = True)(do2)\n",
        "\n",
        "do3 = Dropout(0.2)(lstm3)\n",
        "lstm4 = LSTM(100, activation = 'relu')(do3)\n",
        "\n",
        "do4 = Dropout(0.2)(lstm4)\n",
        "\n",
        "\n",
        "output_layer = Dense(1)(do4)\n",
        "model = Model(input_layer,output_layer)\n",
        "model.compile(optimizer = 'adam', loss=  'mse')"
      ],
      "metadata": {
        "id": "ElG4lwslV1UL"
      },
      "execution_count": 84,
      "outputs": []
    },
    {
      "cell_type": "code",
      "source": [
        "# Converting the output y into a column vector\n",
        "\n",
        "print(X_train.shape)\n",
        "print(y_train.shape)\n",
        "y_train = y_train.reshape(-1,1)\n",
        "print(y_train.shape)"
      ],
      "metadata": {
        "colab": {
          "base_uri": "https://localhost:8080/"
        },
        "id": "LQvohWGKXVDo",
        "outputId": "b28fbc56-b759-45f5-d435-a75fca568665"
      },
      "execution_count": 106,
      "outputs": [
        {
          "output_type": "stream",
          "name": "stdout",
          "text": [
            "(1197, 60, 1)\n",
            "(1197,)\n",
            "(1197, 1)\n"
          ]
        }
      ]
    },
    {
      "cell_type": "code",
      "source": [
        "# Training the model... this should train the stock prediction on what is in the training shape\n",
        "\n",
        "model_history = model.fit(X_train, y_train, epochs = 100, verbose = 1, batch_size = 32)"
      ],
      "metadata": {
        "colab": {
          "base_uri": "https://localhost:8080/"
        },
        "id": "t2qQ7C9VXpsE",
        "outputId": "2118d196-d450-406b-e70a-9540602f2760"
      },
      "execution_count": 107,
      "outputs": [
        {
          "output_type": "stream",
          "name": "stdout",
          "text": [
            "Epoch 1/100\n",
            "38/38 [==============================] - 5s 131ms/step - loss: 0.0037\n",
            "Epoch 2/100\n",
            "38/38 [==============================] - 6s 163ms/step - loss: 0.0036\n",
            "Epoch 3/100\n",
            "38/38 [==============================] - 5s 130ms/step - loss: 0.0036\n",
            "Epoch 4/100\n",
            "38/38 [==============================] - 6s 160ms/step - loss: 0.0037\n",
            "Epoch 5/100\n",
            "38/38 [==============================] - 6s 147ms/step - loss: 0.0035\n",
            "Epoch 6/100\n",
            "38/38 [==============================] - 5s 142ms/step - loss: 0.0036\n",
            "Epoch 7/100\n",
            "38/38 [==============================] - 6s 153ms/step - loss: 0.0035\n",
            "Epoch 8/100\n",
            "38/38 [==============================] - 5s 132ms/step - loss: 0.0036\n",
            "Epoch 9/100\n",
            "38/38 [==============================] - 6s 161ms/step - loss: 0.0037\n",
            "Epoch 10/100\n",
            "38/38 [==============================] - 5s 131ms/step - loss: 0.0036\n",
            "Epoch 11/100\n",
            "38/38 [==============================] - 6s 161ms/step - loss: 0.0038\n",
            "Epoch 12/100\n",
            "38/38 [==============================] - 5s 129ms/step - loss: 0.0037\n",
            "Epoch 13/100\n",
            "38/38 [==============================] - 5s 130ms/step - loss: 0.0036\n",
            "Epoch 14/100\n",
            "38/38 [==============================] - 6s 161ms/step - loss: 0.0037\n",
            "Epoch 15/100\n",
            "38/38 [==============================] - 5s 130ms/step - loss: 0.0035\n",
            "Epoch 16/100\n",
            "38/38 [==============================] - 6s 163ms/step - loss: 0.0037\n",
            "Epoch 17/100\n",
            "38/38 [==============================] - 5s 132ms/step - loss: 0.0035\n",
            "Epoch 18/100\n",
            "38/38 [==============================] - 5s 145ms/step - loss: 0.0033\n",
            "Epoch 19/100\n",
            "38/38 [==============================] - 6s 146ms/step - loss: 0.0035\n",
            "Epoch 20/100\n",
            "38/38 [==============================] - 5s 132ms/step - loss: 0.0032\n",
            "Epoch 21/100\n",
            "38/38 [==============================] - 6s 163ms/step - loss: 0.0036\n",
            "Epoch 22/100\n",
            "38/38 [==============================] - 5s 131ms/step - loss: 0.0031\n",
            "Epoch 23/100\n",
            "38/38 [==============================] - 6s 161ms/step - loss: 0.0034\n",
            "Epoch 24/100\n",
            "38/38 [==============================] - 5s 131ms/step - loss: 0.0034\n",
            "Epoch 25/100\n",
            "38/38 [==============================] - 5s 133ms/step - loss: 0.0033\n",
            "Epoch 26/100\n",
            "38/38 [==============================] - 6s 157ms/step - loss: 0.0035\n",
            "Epoch 27/100\n",
            "38/38 [==============================] - 5s 129ms/step - loss: 0.0033\n",
            "Epoch 28/100\n",
            "38/38 [==============================] - 6s 161ms/step - loss: 0.0033\n",
            "Epoch 29/100\n",
            "38/38 [==============================] - 5s 131ms/step - loss: 0.0032\n",
            "Epoch 30/100\n",
            "38/38 [==============================] - 6s 150ms/step - loss: 0.0035\n",
            "Epoch 31/100\n",
            "38/38 [==============================] - 5s 140ms/step - loss: 0.0032\n",
            "Epoch 32/100\n",
            "38/38 [==============================] - 5s 131ms/step - loss: 0.0033\n",
            "Epoch 33/100\n",
            "38/38 [==============================] - 6s 160ms/step - loss: 0.0035\n",
            "Epoch 34/100\n",
            "38/38 [==============================] - 5s 130ms/step - loss: 0.0032\n",
            "Epoch 35/100\n",
            "38/38 [==============================] - 6s 162ms/step - loss: 0.0032\n",
            "Epoch 36/100\n",
            "38/38 [==============================] - 5s 129ms/step - loss: 0.0032\n",
            "Epoch 37/100\n",
            "38/38 [==============================] - 5s 132ms/step - loss: 0.0033\n",
            "Epoch 38/100\n",
            "38/38 [==============================] - 6s 157ms/step - loss: 0.0036\n",
            "Epoch 39/100\n",
            "38/38 [==============================] - 5s 130ms/step - loss: 0.0033\n",
            "Epoch 40/100\n",
            "38/38 [==============================] - 6s 161ms/step - loss: 0.0031\n",
            "Epoch 41/100\n",
            "38/38 [==============================] - 5s 130ms/step - loss: 0.0032\n",
            "Epoch 42/100\n",
            "38/38 [==============================] - 6s 146ms/step - loss: 0.0032\n",
            "Epoch 43/100\n",
            "38/38 [==============================] - 6s 143ms/step - loss: 0.0032\n",
            "Epoch 44/100\n",
            "38/38 [==============================] - 5s 130ms/step - loss: 0.0034\n",
            "Epoch 45/100\n",
            "38/38 [==============================] - 6s 161ms/step - loss: 0.0034\n",
            "Epoch 46/100\n",
            "38/38 [==============================] - 5s 130ms/step - loss: 0.0032\n",
            "Epoch 47/100\n",
            "38/38 [==============================] - 6s 162ms/step - loss: 0.0031\n",
            "Epoch 48/100\n",
            "38/38 [==============================] - 5s 130ms/step - loss: 0.0032\n",
            "Epoch 49/100\n",
            "38/38 [==============================] - 5s 129ms/step - loss: 0.0032\n",
            "Epoch 50/100\n",
            "38/38 [==============================] - 6s 159ms/step - loss: 0.0032\n",
            "Epoch 51/100\n",
            "38/38 [==============================] - 5s 131ms/step - loss: 0.0030\n",
            "Epoch 52/100\n",
            "38/38 [==============================] - 6s 162ms/step - loss: 0.0032\n",
            "Epoch 53/100\n",
            "38/38 [==============================] - 5s 131ms/step - loss: 0.0032\n",
            "Epoch 54/100\n",
            "38/38 [==============================] - 6s 148ms/step - loss: 0.0030\n",
            "Epoch 55/100\n",
            "38/38 [==============================] - 5s 139ms/step - loss: 0.0031\n",
            "Epoch 56/100\n",
            "38/38 [==============================] - 5s 128ms/step - loss: 0.0032\n",
            "Epoch 57/100\n",
            "38/38 [==============================] - 6s 162ms/step - loss: 0.0033\n",
            "Epoch 58/100\n",
            "38/38 [==============================] - 5s 130ms/step - loss: 0.0034\n",
            "Epoch 59/100\n",
            "38/38 [==============================] - 6s 162ms/step - loss: 0.0030\n",
            "Epoch 60/100\n",
            "38/38 [==============================] - 5s 130ms/step - loss: 0.0031\n",
            "Epoch 61/100\n",
            "38/38 [==============================] - 5s 128ms/step - loss: 0.0030\n",
            "Epoch 62/100\n",
            "38/38 [==============================] - 6s 158ms/step - loss: 0.0031\n",
            "Epoch 63/100\n",
            "38/38 [==============================] - 5s 131ms/step - loss: 0.0033\n",
            "Epoch 64/100\n",
            "38/38 [==============================] - 6s 161ms/step - loss: 0.0032\n",
            "Epoch 65/100\n",
            "38/38 [==============================] - 5s 131ms/step - loss: 0.0031\n",
            "Epoch 66/100\n",
            "38/38 [==============================] - 6s 145ms/step - loss: 0.0031\n",
            "Epoch 67/100\n",
            "38/38 [==============================] - 6s 144ms/step - loss: 0.0031\n",
            "Epoch 68/100\n",
            "38/38 [==============================] - 5s 131ms/step - loss: 0.0034\n",
            "Epoch 69/100\n",
            "38/38 [==============================] - 6s 161ms/step - loss: 0.0030\n",
            "Epoch 70/100\n",
            "38/38 [==============================] - 5s 130ms/step - loss: 0.0031\n",
            "Epoch 71/100\n",
            "38/38 [==============================] - 6s 161ms/step - loss: 0.0030\n",
            "Epoch 72/100\n",
            "38/38 [==============================] - 5s 130ms/step - loss: 0.0027\n",
            "Epoch 73/100\n",
            "38/38 [==============================] - 5s 130ms/step - loss: 0.0031\n",
            "Epoch 74/100\n",
            "38/38 [==============================] - 6s 159ms/step - loss: 0.0030\n",
            "Epoch 75/100\n",
            "38/38 [==============================] - 5s 130ms/step - loss: 0.0029\n",
            "Epoch 76/100\n",
            "38/38 [==============================] - 6s 162ms/step - loss: 0.0028\n",
            "Epoch 77/100\n",
            "38/38 [==============================] - 5s 129ms/step - loss: 0.0028\n",
            "Epoch 78/100\n",
            "38/38 [==============================] - 5s 144ms/step - loss: 0.0029\n",
            "Epoch 79/100\n",
            "38/38 [==============================] - 6s 145ms/step - loss: 0.0027\n",
            "Epoch 80/100\n",
            "38/38 [==============================] - 5s 130ms/step - loss: 0.0031\n",
            "Epoch 81/100\n",
            "38/38 [==============================] - 6s 161ms/step - loss: 0.0030\n",
            "Epoch 82/100\n",
            "38/38 [==============================] - 5s 129ms/step - loss: 0.0029\n",
            "Epoch 83/100\n",
            "38/38 [==============================] - 6s 157ms/step - loss: 0.0030\n",
            "Epoch 84/100\n",
            "38/38 [==============================] - 5s 131ms/step - loss: 0.0027\n",
            "Epoch 85/100\n",
            "38/38 [==============================] - 5s 128ms/step - loss: 0.0030\n",
            "Epoch 86/100\n",
            "38/38 [==============================] - 6s 163ms/step - loss: 0.0028\n",
            "Epoch 87/100\n",
            "38/38 [==============================] - 5s 130ms/step - loss: 0.0027\n",
            "Epoch 88/100\n",
            "38/38 [==============================] - 6s 160ms/step - loss: 0.0031\n",
            "Epoch 89/100\n",
            "38/38 [==============================] - 5s 129ms/step - loss: 0.0030\n",
            "Epoch 90/100\n",
            "38/38 [==============================] - 5s 138ms/step - loss: 0.0026\n",
            "Epoch 91/100\n",
            "38/38 [==============================] - 6s 152ms/step - loss: 0.0027\n",
            "Epoch 92/100\n",
            "38/38 [==============================] - 5s 132ms/step - loss: 0.0027\n",
            "Epoch 93/100\n",
            "38/38 [==============================] - 6s 162ms/step - loss: 0.0028\n",
            "Epoch 94/100\n",
            "38/38 [==============================] - 5s 130ms/step - loss: 0.0026\n",
            "Epoch 95/100\n",
            "38/38 [==============================] - 6s 156ms/step - loss: 0.0030\n",
            "Epoch 96/100\n",
            "38/38 [==============================] - 5s 134ms/step - loss: 0.0027\n",
            "Epoch 97/100\n",
            "38/38 [==============================] - 5s 132ms/step - loss: 0.0028\n",
            "Epoch 98/100\n",
            "38/38 [==============================] - 6s 161ms/step - loss: 0.0027\n",
            "Epoch 99/100\n",
            "38/38 [==============================] - 5s 129ms/step - loss: 0.0029\n",
            "Epoch 100/100\n",
            "38/38 [==============================] - 6s 161ms/step - loss: 0.0028\n"
          ]
        }
      ]
    },
    {
      "cell_type": "code",
      "source": [
        "# Testing the model\n",
        "fb_testing_complete_data = pd.read_csv(\"/gdrive/My Drive/Colab Notebooks/META_test.csv\")\n",
        "fb_testing_processed = fb_testing_complete_data[['Open']].values"
      ],
      "metadata": {
        "id": "y8xn_3-WYnBX"
      },
      "execution_count": 108,
      "outputs": []
    },
    {
      "cell_type": "code",
      "source": [
        "fb_all_data = pd.concat((fb_complete_data['Open'], fb_testing_complete_data['Open']), axis = 0)"
      ],
      "metadata": {
        "id": "Kpxje5rDZE74"
      },
      "execution_count": 109,
      "outputs": []
    },
    {
      "cell_type": "code",
      "source": [
        "test_inputs = fb_all_data[len(fb_all_data)- len(fb_testing_complete_data) - 60: ].values\n",
        "print(test_inputs.shape)"
      ],
      "metadata": {
        "colab": {
          "base_uri": "https://localhost:8080/"
        },
        "id": "mNCU-1vKZivH",
        "outputId": "119250b9-be18-43d5-bcb7-8c7ba89b4453"
      },
      "execution_count": 110,
      "outputs": [
        {
          "output_type": "stream",
          "name": "stdout",
          "text": [
            "(80,)\n"
          ]
        }
      ]
    },
    {
      "cell_type": "code",
      "source": [
        "test_inputs = test_inputs.reshape(-1,1)\n",
        "test_inputs = scaler.transform(test_inputs)\n",
        "print(test_inputs.shape)"
      ],
      "metadata": {
        "colab": {
          "base_uri": "https://localhost:8080/"
        },
        "id": "mge1fpMfZ1RL",
        "outputId": "5026d8b3-2bf7-410b-aca0-186d07ffeaa1"
      },
      "execution_count": 111,
      "outputs": [
        {
          "output_type": "stream",
          "name": "stdout",
          "text": [
            "(80, 1)\n"
          ]
        }
      ]
    },
    {
      "cell_type": "code",
      "source": [
        "# Divide testing data into labels and features\n",
        "fb_test_features = []\n",
        "for i in range(60,80):\n",
        "  fb_test_features.append(fb_training_scaled[i-60:i,0])\n"
      ],
      "metadata": {
        "id": "t4PSXrs2aItu"
      },
      "execution_count": 112,
      "outputs": []
    },
    {
      "cell_type": "code",
      "source": [
        "X_test = np.array(fb_test_features)\n",
        "print(X_test.shape)"
      ],
      "metadata": {
        "colab": {
          "base_uri": "https://localhost:8080/"
        },
        "id": "Zd2CjaT4bACx",
        "outputId": "88197f88-fb8e-4ef4-d80e-2def4c382d56"
      },
      "execution_count": 113,
      "outputs": [
        {
          "output_type": "stream",
          "name": "stdout",
          "text": [
            "(20, 60)\n"
          ]
        }
      ]
    },
    {
      "cell_type": "code",
      "source": [
        "X_test = np.reshape(X_test, (X_test.shape[0], X_test.shape[1],1))\n",
        "print(X_test.shape)"
      ],
      "metadata": {
        "colab": {
          "base_uri": "https://localhost:8080/"
        },
        "id": "Sf_AYZjDbJgl",
        "outputId": "e8d0b303-3d5b-4416-d963-d26ceb5045d4"
      },
      "execution_count": 114,
      "outputs": [
        {
          "output_type": "stream",
          "name": "stdout",
          "text": [
            "(20, 60, 1)\n"
          ]
        }
      ]
    },
    {
      "cell_type": "code",
      "source": [
        "y_pred = model.predict(X_test)"
      ],
      "metadata": {
        "colab": {
          "base_uri": "https://localhost:8080/"
        },
        "id": "mZoyB1bwbaH1",
        "outputId": "c3da279d-a07b-41da-d423-f8e18c5e4567"
      },
      "execution_count": 115,
      "outputs": [
        {
          "output_type": "stream",
          "name": "stdout",
          "text": [
            "1/1 [==============================] - 0s 38ms/step\n"
          ]
        }
      ]
    },
    {
      "cell_type": "code",
      "source": [
        "y_pred = scaler.inverse_transform(y_pred)"
      ],
      "metadata": {
        "id": "HjM1nF8ZbeZv"
      },
      "execution_count": 116,
      "outputs": []
    },
    {
      "cell_type": "code",
      "source": [
        "#plotting original and predicted stock values\n",
        "plt.figure(figsize=(8,6))\n",
        "plt.plot(fb_testing_processed, color='red', label='Actual Facebook Stock Price')\n",
        "plt.plot(y_pred , color='green', label='Predicted Facebook Stock Price')\n",
        "plt.title('Facebook Stock Prices')\n",
        "plt.xlabel('Date')\n",
        "plt.ylabel('Stock Price')\n",
        "plt.legend()\n",
        "plt.show()"
      ],
      "metadata": {
        "colab": {
          "base_uri": "https://localhost:8080/",
          "height": 564
        },
        "id": "iIhwnBPpbtqy",
        "outputId": "c9eaba8a-2f2b-45a2-8924-8325af686c30"
      },
      "execution_count": 117,
      "outputs": [
        {
          "output_type": "display_data",
          "data": {
            "text/plain": [
              "<Figure size 800x600 with 1 Axes>"
            ],
            "image/png": "[encoded data removed]"
          },
          "metadata": {}
        }
      ]
    }
  ]
}