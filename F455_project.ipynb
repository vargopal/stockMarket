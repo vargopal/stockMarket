{
 "cells": [
  {
   "attachments": {},
   "cell_type": "markdown",
   "metadata": {},
   "source": [
    "Quantitative Finance Project\n",
    "By: Varun Gopal, Tyler Dixon, and Abhinav Kakumanu"
   ]
  },
  {
   "attachments": {},
   "cell_type": "markdown",
   "metadata": {},
   "source": [
    "Objective of this project is to highlight the methods learned in class and apply them with market data.\n",
    "\n",
    "Our project revolves around examining economic data and building a predictive model that can help guide returns."
   ]
  },
  {
   "cell_type": "code",
   "execution_count": 11,
   "metadata": {},
   "outputs": [],
   "source": [
    "# Importing basic files\n",
    "\n",
    "import numpy as np\n",
    "import pandas as pd\n",
    "import matplotlib as mpl\n",
    "import matplotlib.pyplot as plt\n",
    "\n",
    "import pandas_datareader as pdr\n",
    "import pandas_datareader.famafrench"
   ]
  },
  {
   "cell_type": "code",
   "execution_count": 13,
   "metadata": {},
   "outputs": [],
   "source": [
    "# Get all the datasets \n",
    "pandas_datareader.famafrench.get_available_datasets()"
   ]
  },
  {
   "cell_type": "code",
   "execution_count": 5,
   "metadata": {},
   "outputs": [
    {
     "data": {
      "text/plain": [
       "{0:          Mkt-RF   SMB    HML    RF\n",
       " Date                              \n",
       " 2018-04    0.28  1.14   0.54  0.14\n",
       " 2018-05    2.65  5.26  -3.18  0.14\n",
       " 2018-06    0.48  1.15  -2.33  0.14\n",
       " 2018-07    3.19 -2.23   0.47  0.16\n",
       " 2018-08    3.44  1.13  -3.98  0.16\n",
       " 2018-09    0.06 -2.28  -1.69  0.15\n",
       " 2018-10   -7.68 -4.77   3.44  0.19\n",
       " 2018-11    1.69 -0.68   0.28  0.18\n",
       " 2018-12   -9.57 -2.37  -1.85  0.20\n",
       " 2019-01    8.40  2.89  -0.46  0.21\n",
       " 2019-02    3.40  2.05  -2.67  0.18\n",
       " 2019-03    1.10 -3.03  -4.10  0.19\n",
       " 2019-04    3.97 -1.74   2.14  0.21\n",
       " 2019-05   -6.94 -1.31  -2.35  0.21\n",
       " 2019-06    6.93  0.27  -0.72  0.18\n",
       " 2019-07    1.19 -1.93   0.47  0.19\n",
       " 2019-08   -2.58 -2.37  -4.77  0.16\n",
       " 2019-09    1.43 -0.97   6.74  0.18\n",
       " 2019-10    2.06  0.29  -1.92  0.16\n",
       " 2019-11    3.87  0.79  -2.00  0.12\n",
       " 2019-12    2.77  0.73   1.77  0.14\n",
       " 2020-01   -0.11 -3.11  -6.23  0.13\n",
       " 2020-02   -8.13  1.07  -3.79  0.12\n",
       " 2020-03  -13.39 -4.86 -13.95  0.13\n",
       " 2020-04   13.65  2.47  -1.26  0.00\n",
       " 2020-05    5.58  2.47  -4.89  0.01\n",
       " 2020-06    2.46  2.70  -2.17  0.01\n",
       " 2020-07    5.77 -2.32  -1.37  0.01\n",
       " 2020-08    7.63 -0.22  -2.96  0.01\n",
       " 2020-09   -3.63  0.04  -2.68  0.01\n",
       " 2020-10   -2.10  4.37   4.22  0.01\n",
       " 2020-11   12.47  5.81   2.13  0.01\n",
       " 2020-12    4.63  4.89  -1.50  0.01\n",
       " 2021-01   -0.03  7.34   2.97  0.01\n",
       " 2021-02    2.78  2.06   7.17  0.00\n",
       " 2021-03    3.08 -2.37   7.39  0.00\n",
       " 2021-04    4.93 -3.20  -0.95  0.00\n",
       " 2021-05    0.29 -0.25   7.09  0.00\n",
       " 2021-06    2.75  1.70  -7.83  0.00\n",
       " 2021-07    1.27 -3.99  -1.78  0.00\n",
       " 2021-08    2.91 -0.43  -0.15  0.00\n",
       " 2021-09   -4.37  0.72   5.09  0.00\n",
       " 2021-10    6.65 -2.34  -0.49  0.00\n",
       " 2021-11   -1.55 -1.32  -0.45  0.00\n",
       " 2021-12    3.10 -1.65   3.26  0.01\n",
       " 2022-01   -6.25 -5.93  12.75  0.00\n",
       " 2022-02   -2.29  2.21   3.08  0.00\n",
       " 2022-03    3.05 -1.60  -1.80  0.01\n",
       " 2022-04   -9.46 -1.40   6.17  0.01\n",
       " 2022-05   -0.34 -1.83   8.39  0.03\n",
       " 2022-06   -8.43  2.10  -5.98  0.06\n",
       " 2022-07    9.57  2.80  -4.10  0.08\n",
       " 2022-08   -3.77  1.37   0.30  0.19\n",
       " 2022-09   -9.35 -0.79   0.06  0.19\n",
       " 2022-10    7.83  0.09   8.05  0.23\n",
       " 2022-11    4.60 -3.40   1.38  0.29\n",
       " 2022-12   -6.41 -0.68   1.32  0.33\n",
       " 2023-01    6.65  5.02  -4.05  0.35\n",
       " 2023-02   -2.58  1.10  -0.80  0.34,\n",
       " 1:       Mkt-RF    SMB    HML    RF\n",
       " Date                            \n",
       " 2018   -6.95  -3.21  -9.73  1.83\n",
       " 2019   28.28  -6.11 -10.34  2.15\n",
       " 2020   23.66  13.18 -46.56  0.45\n",
       " 2021   23.56  -3.89  25.53  0.04\n",
       " 2022  -21.60  -6.82  25.80  1.43,\n",
       " 'DESCR': 'F-F Research Data Factors\\n-------------------------\\n\\nThis file was created by CMPT_ME_BEME_RETS using the 202302 CRSP database. The 1-month TBill return is from Ibbotson and Associates, Inc. Copyright 2023 Kenneth R. French\\n\\n  0 : (59 rows x 4 cols)\\n  1 : Annual Factors: January-December (5 rows x 4 cols)'}"
      ]
     },
     "execution_count": 5,
     "metadata": {},
     "output_type": "execute_result"
    }
   ],
   "source": [
    "ff"
   ]
  }
 ],
 "metadata": {
  "kernelspec": {
   "display_name": "Python 3",
   "language": "python",
   "name": "python3"
  },
  "language_info": {
   "codemirror_mode": {
    "name": "ipython",
    "version": 3
   },
   "file_extension": ".py",
   "mimetype": "text/x-python",
   "name": "python",
   "nbconvert_exporter": "python",
   "pygments_lexer": "ipython3",
   "version": "3.8.9"
  },
  "orig_nbformat": 4
 },
 "nbformat": 4,
 "nbformat_minor": 2
}
